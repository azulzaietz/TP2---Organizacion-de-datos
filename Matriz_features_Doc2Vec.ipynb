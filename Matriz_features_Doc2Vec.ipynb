{
  "nbformat": 4,
  "nbformat_minor": 0,
  "metadata": {
    "colab": {
      "name": "Matriz de features - Doc2Vec.ipynb",
      "provenance": [],
      "collapsed_sections": []
    },
    "kernelspec": {
      "name": "python3",
      "display_name": "Python 3"
    }
  },
  "cells": [
    {
      "cell_type": "code",
      "metadata": {
        "id": "20upOrYnr668",
        "colab_type": "code",
        "colab": {}
      },
      "source": [
        "import pandas as pd\n",
        "from gensim.models.doc2vec import Doc2Vec, TaggedDocument\n",
        "from collections import namedtuple\n",
        "from google.colab import files\n",
        "from sklearn import preprocessing"
      ],
      "execution_count": 63,
      "outputs": []
    },
    {
      "cell_type": "code",
      "metadata": {
        "id": "rsx53OsvqqtM",
        "colab_type": "code",
        "colab": {}
      },
      "source": [
        "train = pd.read_csv('train_features.csv')\n",
        "test = pd.read_csv('test_features.csv')\n",
        "\n",
        "text_train = pd.read_csv('train_limpio.csv')\n",
        "text_test = pd.read_csv('test_limpio.csv')"
      ],
      "execution_count": 33,
      "outputs": []
    },
    {
      "cell_type": "code",
      "metadata": {
        "id": "-uYZuMiarJdc",
        "colab_type": "code",
        "colab": {}
      },
      "source": [
        "train['text'] = text_train['text']\n",
        "test['text'] = text_test['text']"
      ],
      "execution_count": 34,
      "outputs": []
    },
    {
      "cell_type": "code",
      "metadata": {
        "id": "t48mZXcQs1Yl",
        "colab_type": "code",
        "colab": {}
      },
      "source": [
        "train['text'] = train['text'].fillna(' ')\n",
        "train_lista = list(train['text'])"
      ],
      "execution_count": 36,
      "outputs": []
    },
    {
      "cell_type": "code",
      "metadata": {
        "id": "yZwzxzx8x5aq",
        "colab_type": "code",
        "colab": {}
      },
      "source": [
        "test['text'] = test['text'].fillna(' ')\n",
        "test_lista = list(test['text'])"
      ],
      "execution_count": 64,
      "outputs": []
    },
    {
      "cell_type": "markdown",
      "metadata": {
        "id": "IwJMx28YsGYX",
        "colab_type": "text"
      },
      "source": [
        "##Doc2vec"
      ]
    },
    {
      "cell_type": "markdown",
      "metadata": {
        "id": "F55Adl1iusia",
        "colab_type": "text"
      },
      "source": [
        "Realizamos el encoding para el Train"
      ]
    },
    {
      "cell_type": "code",
      "metadata": {
        "id": "smK0e4fvr8st",
        "colab_type": "code",
        "colab": {
          "base_uri": "https://localhost:8080/",
          "height": 34
        },
        "outputId": "ced290c2-e56c-4d88-f200-83196b34aa71"
      },
      "source": [
        "docs_train = []\n",
        "analyzedDocument = namedtuple('AnalyzedDocument', 'words tags')\n",
        "\n",
        "for i, text in enumerate(train_lista):\n",
        "    words = text.lower().split()\n",
        "    tags = [i]\n",
        "    docs_train.append(analyzedDocument(words, tags))\n",
        "\n",
        "len(docs_train)"
      ],
      "execution_count": 37,
      "outputs": [
        {
          "output_type": "execute_result",
          "data": {
            "text/plain": [
              "7613"
            ]
          },
          "metadata": {
            "tags": []
          },
          "execution_count": 37
        }
      ]
    },
    {
      "cell_type": "code",
      "metadata": {
        "id": "LIYO8WYvsLF6",
        "colab_type": "code",
        "colab": {
          "base_uri": "https://localhost:8080/",
          "height": 104
        },
        "outputId": "c69f139d-74c5-46ff-fd61-79d8a388767c"
      },
      "source": [
        "max_epochs = 10\n",
        "vec_size = 100\n",
        "alpha = 0.025\n",
        "\n",
        "model = Doc2Vec(size=vec_size, alpha=alpha, min_alpha=0.00025, min_count=1, dm =1)\n",
        "  \n",
        "model.build_vocab(docs_train)\n",
        "\n",
        "for epoch in range(max_epochs):\n",
        "    model.train(docs_train, total_examples=model.corpus_count, epochs=model.iter)\n",
        "    model.alpha -= 0.0002\n",
        "    model.min_alpha = model.alpha"
      ],
      "execution_count": 38,
      "outputs": [
        {
          "output_type": "stream",
          "text": [
            "/usr/local/lib/python3.6/dist-packages/gensim/models/doc2vec.py:570: UserWarning: The parameter `size` is deprecated, will be removed in 4.0.0, use `vector_size` instead.\n",
            "  warnings.warn(\"The parameter `size` is deprecated, will be removed in 4.0.0, use `vector_size` instead.\")\n",
            "/usr/local/lib/python3.6/dist-packages/ipykernel_launcher.py:16: DeprecationWarning: Call to deprecated `iter` (Attribute will be removed in 4.0.0, use self.epochs instead).\n",
            "  app.launch_new_instance()\n"
          ],
          "name": "stderr"
        }
      ]
    },
    {
      "cell_type": "code",
      "metadata": {
        "id": "4jFH40-ysQND",
        "colab_type": "code",
        "colab": {}
      },
      "source": [
        "train_vectors = []\n",
        "for i in range(len(model.docvecs)):\n",
        "  train_vectors.append(list(model.docvecs[i]))"
      ],
      "execution_count": 39,
      "outputs": []
    },
    {
      "cell_type": "code",
      "metadata": {
        "id": "Y3h3fLO6u66g",
        "colab_type": "code",
        "colab": {}
      },
      "source": [
        "numeric_features = train[['cant_stop_words', 'prom_long_palabra', 'cant_puntuacion', 'cant_apariciones_keyword', 'cant_numeros', 'cant_mayusculas', 'cant_vocales']]"
      ],
      "execution_count": 44,
      "outputs": []
    },
    {
      "cell_type": "code",
      "metadata": {
        "id": "TAhYH2QowG5z",
        "colab_type": "code",
        "colab": {
          "base_uri": "https://localhost:8080/",
          "height": 118
        },
        "outputId": "569252b8-a916-4bb2-d42a-294cd870f205"
      },
      "source": [
        "keyword = list(train['keyword'])\n",
        "le = preprocessing.LabelEncoder()\n",
        "numeric_features['keyword'] = le.fit_transform(keyword)"
      ],
      "execution_count": null,
      "outputs": [
        {
          "output_type": "stream",
          "text": [
            "/usr/local/lib/python3.6/dist-packages/ipykernel_launcher.py:3: SettingWithCopyWarning: \n",
            "A value is trying to be set on a copy of a slice from a DataFrame.\n",
            "Try using .loc[row_indexer,col_indexer] = value instead\n",
            "\n",
            "See the caveats in the documentation: https://pandas.pydata.org/pandas-docs/stable/user_guide/indexing.html#returning-a-view-versus-a-copy\n",
            "  This is separate from the ipykernel package so we can avoid doing imports until\n"
          ],
          "name": "stderr"
        }
      ]
    },
    {
      "cell_type": "code",
      "metadata": {
        "id": "PczU37wRuROr",
        "colab_type": "code",
        "colab": {}
      },
      "source": [
        "matrix_features = np.hstack((train_vectors, numeric_features))"
      ],
      "execution_count": 59,
      "outputs": []
    },
    {
      "cell_type": "code",
      "metadata": {
        "id": "I609nAUQvGoE",
        "colab_type": "code",
        "colab": {}
      },
      "source": [
        "matriz_doc2vec_train = pd.DataFrame(matrix_features)\n",
        "matriz_doc2vec_train.to_csv('features_train_doc2vec.csv', index=False)"
      ],
      "execution_count": 61,
      "outputs": []
    },
    {
      "cell_type": "code",
      "metadata": {
        "id": "4kyC4dl5vUtc",
        "colab_type": "code",
        "colab": {
          "base_uri": "https://localhost:8080/",
          "height": 17
        },
        "outputId": "fa3fef17-f21c-4043-e3e9-e864f940446c"
      },
      "source": [
        "files.download('features_train_doc2vec.csv')"
      ],
      "execution_count": 62,
      "outputs": [
        {
          "output_type": "display_data",
          "data": {
            "application/javascript": [
              "\n",
              "    async function download(id, filename, size) {\n",
              "      if (!google.colab.kernel.accessAllowed) {\n",
              "        return;\n",
              "      }\n",
              "      const div = document.createElement('div');\n",
              "      const label = document.createElement('label');\n",
              "      label.textContent = `Downloading \"${filename}\": `;\n",
              "      div.appendChild(label);\n",
              "      const progress = document.createElement('progress');\n",
              "      progress.max = size;\n",
              "      div.appendChild(progress);\n",
              "      document.body.appendChild(div);\n",
              "\n",
              "      const buffers = [];\n",
              "      let downloaded = 0;\n",
              "\n",
              "      const channel = await google.colab.kernel.comms.open(id);\n",
              "      // Send a message to notify the kernel that we're ready.\n",
              "      channel.send({})\n",
              "\n",
              "      for await (const message of channel.messages) {\n",
              "        // Send a message to notify the kernel that we're ready.\n",
              "        channel.send({})\n",
              "        if (message.buffers) {\n",
              "          for (const buffer of message.buffers) {\n",
              "            buffers.push(buffer);\n",
              "            downloaded += buffer.byteLength;\n",
              "            progress.value = downloaded;\n",
              "          }\n",
              "        }\n",
              "      }\n",
              "      const blob = new Blob(buffers, {type: 'application/binary'});\n",
              "      const a = document.createElement('a');\n",
              "      a.href = window.URL.createObjectURL(blob);\n",
              "      a.download = filename;\n",
              "      div.appendChild(a);\n",
              "      a.click();\n",
              "      div.remove();\n",
              "    }\n",
              "  "
            ],
            "text/plain": [
              "<IPython.core.display.Javascript object>"
            ]
          },
          "metadata": {
            "tags": []
          }
        },
        {
          "output_type": "display_data",
          "data": {
            "application/javascript": [
              "download(\"download_7df63f8f-cc8b-4e5b-939e-85a5069dde72\", \"features_train_doc2vec.csv\", 15723994)"
            ],
            "text/plain": [
              "<IPython.core.display.Javascript object>"
            ]
          },
          "metadata": {
            "tags": []
          }
        }
      ]
    },
    {
      "cell_type": "markdown",
      "metadata": {
        "id": "P-3RvAsbxRAf",
        "colab_type": "text"
      },
      "source": [
        "Realizamos el encoding para el Test"
      ]
    },
    {
      "cell_type": "code",
      "metadata": {
        "id": "py84UDsqvVyb",
        "colab_type": "code",
        "colab": {
          "base_uri": "https://localhost:8080/",
          "height": 34
        },
        "outputId": "76f25cf3-f70c-4595-f64f-05a6e2a6294e"
      },
      "source": [
        "docs_test = []\n",
        "analyzedDocument = namedtuple('AnalyzedDocument', 'words tags')\n",
        "\n",
        "for i, text in enumerate(test_lista):\n",
        "    words = text.lower().split()\n",
        "    tags = [i]\n",
        "    docs_test.append(analyzedDocument(words, tags))\n",
        "\n",
        "len(docs_test)"
      ],
      "execution_count": 68,
      "outputs": [
        {
          "output_type": "execute_result",
          "data": {
            "text/plain": [
              "3263"
            ]
          },
          "metadata": {
            "tags": []
          },
          "execution_count": 68
        }
      ]
    },
    {
      "cell_type": "code",
      "metadata": {
        "id": "cmRCY3fhyERU",
        "colab_type": "code",
        "colab": {
          "base_uri": "https://localhost:8080/",
          "height": 104
        },
        "outputId": "1dbff30e-d768-4070-ef02-e970b599e126"
      },
      "source": [
        "max_epochs = 10\n",
        "vec_size = 100\n",
        "alpha = 0.025\n",
        "\n",
        "model = Doc2Vec(size=vec_size, alpha=alpha, min_alpha=0.00025, min_count=1, dm =1)\n",
        "  \n",
        "model.build_vocab(docs_test)\n",
        "\n",
        "for epoch in range(max_epochs):\n",
        "    model.train(docs_train, total_examples=model.corpus_count, epochs=model.iter)\n",
        "    model.alpha -= 0.0002\n",
        "    model.min_alpha = model.alpha"
      ],
      "execution_count": 69,
      "outputs": [
        {
          "output_type": "stream",
          "text": [
            "/usr/local/lib/python3.6/dist-packages/gensim/models/doc2vec.py:570: UserWarning: The parameter `size` is deprecated, will be removed in 4.0.0, use `vector_size` instead.\n",
            "  warnings.warn(\"The parameter `size` is deprecated, will be removed in 4.0.0, use `vector_size` instead.\")\n",
            "/usr/local/lib/python3.6/dist-packages/ipykernel_launcher.py:10: DeprecationWarning: Call to deprecated `iter` (Attribute will be removed in 4.0.0, use self.epochs instead).\n",
            "  # Remove the CWD from sys.path while we load stuff.\n"
          ],
          "name": "stderr"
        }
      ]
    },
    {
      "cell_type": "code",
      "metadata": {
        "id": "J0xSamTPyGcO",
        "colab_type": "code",
        "colab": {}
      },
      "source": [
        "test_vectors = []\n",
        "for i in range(len(model.docvecs)):\n",
        "  test_vectors.append(list(model.docvecs[i]))"
      ],
      "execution_count": 70,
      "outputs": []
    },
    {
      "cell_type": "code",
      "metadata": {
        "id": "6n-c1TMlyeT2",
        "colab_type": "code",
        "colab": {}
      },
      "source": [
        "numeric_features_test = test[['cant_stop_words', 'prom_long_palabra', 'cant_puntuacion', 'cant_apariciones_keyword', 'cant_numeros', 'cant_mayusculas', 'cant_vocales']]"
      ],
      "execution_count": 72,
      "outputs": []
    },
    {
      "cell_type": "code",
      "metadata": {
        "id": "kjcEFNbHy3Yv",
        "colab_type": "code",
        "colab": {
          "base_uri": "https://localhost:8080/",
          "height": 118
        },
        "outputId": "fb14f44a-e45f-4851-afb4-7a17faca3722"
      },
      "source": [
        "keyword_test = list(test['keyword'])\n",
        "le = preprocessing.LabelEncoder()\n",
        "numeric_features_test['keyword'] = le.fit_transform(keyword_test)"
      ],
      "execution_count": 73,
      "outputs": [
        {
          "output_type": "stream",
          "text": [
            "/usr/local/lib/python3.6/dist-packages/ipykernel_launcher.py:3: SettingWithCopyWarning: \n",
            "A value is trying to be set on a copy of a slice from a DataFrame.\n",
            "Try using .loc[row_indexer,col_indexer] = value instead\n",
            "\n",
            "See the caveats in the documentation: https://pandas.pydata.org/pandas-docs/stable/user_guide/indexing.html#returning-a-view-versus-a-copy\n",
            "  This is separate from the ipykernel package so we can avoid doing imports until\n"
          ],
          "name": "stderr"
        }
      ]
    },
    {
      "cell_type": "code",
      "metadata": {
        "id": "fJ2jda61ykqb",
        "colab_type": "code",
        "colab": {}
      },
      "source": [
        "matrix_features_test = np.hstack((test_vectors, numeric_features_test))"
      ],
      "execution_count": 74,
      "outputs": []
    },
    {
      "cell_type": "code",
      "metadata": {
        "id": "Vkwicbg0y_Ss",
        "colab_type": "code",
        "colab": {}
      },
      "source": [
        "matriz_doc2vec_test = pd.DataFrame(matrix_features_test)\n",
        "matriz_doc2vec_test.to_csv('features_test_doc2vec.csv', index=False)"
      ],
      "execution_count": 75,
      "outputs": []
    },
    {
      "cell_type": "code",
      "metadata": {
        "id": "9QjXkPrVzIOA",
        "colab_type": "code",
        "colab": {
          "base_uri": "https://localhost:8080/",
          "height": 17
        },
        "outputId": "dd6ecb38-49b2-4323-eeaa-a4b627dcda95"
      },
      "source": [
        "files.download('features_test_doc2vec.csv')"
      ],
      "execution_count": 76,
      "outputs": [
        {
          "output_type": "display_data",
          "data": {
            "application/javascript": [
              "\n",
              "    async function download(id, filename, size) {\n",
              "      if (!google.colab.kernel.accessAllowed) {\n",
              "        return;\n",
              "      }\n",
              "      const div = document.createElement('div');\n",
              "      const label = document.createElement('label');\n",
              "      label.textContent = `Downloading \"${filename}\": `;\n",
              "      div.appendChild(label);\n",
              "      const progress = document.createElement('progress');\n",
              "      progress.max = size;\n",
              "      div.appendChild(progress);\n",
              "      document.body.appendChild(div);\n",
              "\n",
              "      const buffers = [];\n",
              "      let downloaded = 0;\n",
              "\n",
              "      const channel = await google.colab.kernel.comms.open(id);\n",
              "      // Send a message to notify the kernel that we're ready.\n",
              "      channel.send({})\n",
              "\n",
              "      for await (const message of channel.messages) {\n",
              "        // Send a message to notify the kernel that we're ready.\n",
              "        channel.send({})\n",
              "        if (message.buffers) {\n",
              "          for (const buffer of message.buffers) {\n",
              "            buffers.push(buffer);\n",
              "            downloaded += buffer.byteLength;\n",
              "            progress.value = downloaded;\n",
              "          }\n",
              "        }\n",
              "      }\n",
              "      const blob = new Blob(buffers, {type: 'application/binary'});\n",
              "      const a = document.createElement('a');\n",
              "      a.href = window.URL.createObjectURL(blob);\n",
              "      a.download = filename;\n",
              "      div.appendChild(a);\n",
              "      a.click();\n",
              "      div.remove();\n",
              "    }\n",
              "  "
            ],
            "text/plain": [
              "<IPython.core.display.Javascript object>"
            ]
          },
          "metadata": {
            "tags": []
          }
        },
        {
          "output_type": "display_data",
          "data": {
            "application/javascript": [
              "download(\"download_7bea493f-c694-45b5-90e8-cb0c65258653\", \"features_test_doc2vec.csv\", 6671779)"
            ],
            "text/plain": [
              "<IPython.core.display.Javascript object>"
            ]
          },
          "metadata": {
            "tags": []
          }
        }
      ]
    },
    {
      "cell_type": "code",
      "metadata": {
        "id": "y_5fkcDtzMMr",
        "colab_type": "code",
        "colab": {}
      },
      "source": [
        ""
      ],
      "execution_count": null,
      "outputs": []
    }
  ]
}
