{
  "nbformat": 4,
  "nbformat_minor": 0,
  "metadata": {
    "colab": {
      "name": "Best Submission.ipynb",
      "provenance": [],
      "collapsed_sections": [
        "2l5aTJ2DxWI6",
        "ZvZjErbF2o3N",
        "QDnbt2akcCjX",
        "wyHI9-fPeSe_",
        "hQmTcW2IoTTa"
      ],
      "toc_visible": true
    },
    "kernelspec": {
      "display_name": "Python 3",
      "name": "python3"
    }
  },
  "cells": [
    {
      "cell_type": "code",
      "metadata": {
        "colab_type": "code",
        "id": "4MabbfEF1lSL",
        "colab": {}
      },
      "source": [
        "import pandas as pd\n",
        "import numpy as np\n",
        "\n",
        "from sklearn.neighbors import KNeighborsClassifier\n",
        "from sklearn.naive_bayes import MultinomialNB\n",
        "from sklearn.model_selection import GridSearchCV, StratifiedKFold\n",
        "from sklearn.ensemble import RandomForestClassifier\n",
        "from sklearn.svm import SVC, LinearSVC, NuSVC\n",
        "from sklearn.ensemble import BaggingClassifier\n",
        "from sklearn.tree import DecisionTreeClassifier\n",
        "from xgboost import XGBClassifier\n",
        "\n",
        "from sklearn import metrics\n",
        "from sklearn.metrics import accuracy_score\n",
        "from sklearn.model_selection import train_test_split\n",
        "from sklearn import preprocessing\n",
        "from sklearn import model_selection\n",
        "\n",
        "from sklearn.datasets import fetch_20newsgroups\n",
        "from keras.layers import  Dropout, Dense\n",
        "from keras.models import Sequential"
      ],
      "execution_count": 1,
      "outputs": []
    },
    {
      "cell_type": "markdown",
      "metadata": {
        "colab_type": "text",
        "id": "MlZEb6_mlt2E"
      },
      "source": [
        "##Importamos las matrices a utilizar"
      ]
    },
    {
      "cell_type": "code",
      "metadata": {
        "colab_type": "code",
        "id": "-_dO2NXB1G1P",
        "colab": {}
      },
      "source": [
        "from pydrive.auth import GoogleAuth\n",
        "from pydrive.drive import GoogleDrive\n",
        "from google.colab import auth\n",
        "from oauth2client.client import GoogleCredentials\n",
        "from google.colab import files\n",
        "\n",
        "# Authenticate and create the PyDrive client\n",
        "auth.authenticate_user()\n",
        "gauth = GoogleAuth()\n",
        "gauth.credentials = GoogleCredentials.get_application_default()\n",
        "drive = GoogleDrive(gauth)"
      ],
      "execution_count": 2,
      "outputs": []
    },
    {
      "cell_type": "code",
      "metadata": {
        "colab_type": "code",
        "id": "ihBuAcOTnamE",
        "colab": {}
      },
      "source": [
        "id='1Pk5MK9Hs_kMUT9NotGnOKE0NPra-39YU'\n",
        "downloaded = drive.CreateFile({'id': id})\n",
        "downloaded.GetContentFile('train.csv')\n",
        "\n",
        "train = pd.read_csv('train.csv')\n",
        "\n",
        "id='1GsTM9oLtIV8-Da_fDOFWsQYMpgQ8GOYJ'\n",
        "downloaded = drive.CreateFile({'id': id})\n",
        "downloaded.GetContentFile('test.csv')\n",
        "\n",
        "train = pd.read_csv('train.csv')\n",
        "test = pd.read_csv('test.csv')"
      ],
      "execution_count": 3,
      "outputs": []
    },
    {
      "cell_type": "code",
      "metadata": {
        "id": "ddOvMMeYPMJK",
        "colab_type": "code",
        "colab": {}
      },
      "source": [
        "id= '1yFTqxomrfb9xZmOck780mcr7Fb9Y9R5S'\n",
        "downloaded = drive.CreateFile({'id': id})\n",
        "downloaded.GetContentFile('matriz_test_use_solo_text.csv')\n",
        "\n",
        "id= '1knojPsOX9jd1LewsNBPd9EYbqBPwVyFr'\n",
        "downloaded = drive.CreateFile({'id': id})\n",
        "downloaded.GetContentFile('matriz_train_use_solo_text.csv')"
      ],
      "execution_count": 4,
      "outputs": []
    },
    {
      "cell_type": "code",
      "metadata": {
        "id": "a_XCApD6QRDG",
        "colab_type": "code",
        "colab": {}
      },
      "source": [
        "matriz_test_use_solo_text = pd.read_csv('matriz_test_use_solo_text.csv')\n",
        "matriz_train_use_solo_text = pd.read_csv('matriz_train_use_solo_text.csv')"
      ],
      "execution_count": 5,
      "outputs": []
    },
    {
      "cell_type": "markdown",
      "metadata": {
        "colab_type": "text",
        "id": "2l5aTJ2DxWI6"
      },
      "source": [
        "##Split del set de datos\n"
      ]
    },
    {
      "cell_type": "code",
      "metadata": {
        "colab_type": "code",
        "id": "7B2rZ_WOuQEN",
        "colab": {}
      },
      "source": [
        "x_train_text, x_test_text, y_train_text, y_test_text = train_test_split(matriz_train_use_solo_text, train.target, test_size=0.2, random_state = 1)"
      ],
      "execution_count": 6,
      "outputs": []
    },
    {
      "cell_type": "code",
      "metadata": {
        "id": "dZd-YRqxWwhO",
        "colab_type": "code",
        "colab": {}
      },
      "source": [
        "def cross_val(model, x_train, y_train):\n",
        "  score_cross_val = model_selection.cross_val_score(model, x_train, y_train, cv=5)\n",
        "  print(score_cross_val.mean())"
      ],
      "execution_count": 7,
      "outputs": []
    },
    {
      "cell_type": "markdown",
      "metadata": {
        "colab_type": "text",
        "id": "dQ4oAPbuiZRs"
      },
      "source": [
        "#NuSVC"
      ]
    },
    {
      "cell_type": "code",
      "metadata": {
        "id": "OCkgIPlNq8s1",
        "colab_type": "code",
        "colab": {}
      },
      "source": [
        "def nusvc(x_train, y_train, x_validation, y_validation):\n",
        "\n",
        "  nusvc = NuSVC(probability=True)\n",
        "  grid_nusvc = GridSearchCV(nusvc, param_grid={'nu': [0.4, 0.5]}, cv=5)\n",
        "  grid_nusvc.fit(x_train, y_train)\n",
        "  grid_best = grid_nusvc.best_estimator_\n",
        "  \n",
        "  print(grid_nusvc.best_params_)\n",
        "  print('nusvc score: {}'.format(grid_best.score(x_validation, y_validation)))\n",
        "\n",
        "  return grid_best"
      ],
      "execution_count": 8,
      "outputs": []
    },
    {
      "cell_type": "code",
      "metadata": {
        "id": "R3pez5-qSoBC",
        "colab_type": "code",
        "colab": {
          "base_uri": "https://localhost:8080/",
          "height": 51
        },
        "outputId": "e4f55cf6-4f05-47dd-a2da-d901076d231a"
      },
      "source": [
        "nusvc_text = nusvc(x_train_text, y_train_text, x_test_text, y_test_text)"
      ],
      "execution_count": 9,
      "outputs": [
        {
          "output_type": "stream",
          "text": [
            "{'nu': 0.4}\n",
            "nusvc score: 0.8397898883782009\n"
          ],
          "name": "stdout"
        }
      ]
    },
    {
      "cell_type": "code",
      "metadata": {
        "colab_type": "code",
        "id": "IocFdaWlWYge",
        "colab": {}
      },
      "source": [
        "prediction_nuscv = nusvc_text.predict(matriz_test_use_solo_text)\n",
        "submission_nuscv = pd.DataFrame(data={'id':test['id'], 'target': prediction_nuscv})\n",
        "submission_nuscv.to_csv('hub_nuscv_text.csv', index=False)"
      ],
      "execution_count": 11,
      "outputs": []
    }
  ]
}