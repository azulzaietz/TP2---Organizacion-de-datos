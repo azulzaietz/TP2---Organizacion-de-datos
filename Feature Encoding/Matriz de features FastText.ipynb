{
  "nbformat": 4,
  "nbformat_minor": 0,
  "metadata": {
    "colab": {
      "name": "Matriz_de_features_FastText.ipynb",
      "provenance": [],
      "collapsed_sections": [
        "lr5rPyuoHo5C",
        "6oBeuzud7eZg"
      ]
    },
    "kernelspec": {
      "display_name": "Python 3",
      "language": "python",
      "name": "python3"
    },
    "language_info": {
      "codemirror_mode": {
        "name": "ipython",
        "version": 3
      },
      "file_extension": ".py",
      "mimetype": "text/x-python",
      "name": "python",
      "nbconvert_exporter": "python",
      "pygments_lexer": "ipython3",
      "version": "3.6.4"
    }
  },
  "cells": [
    {
      "cell_type": "code",
      "metadata": {
        "id": "XNaaVVwjHhcF",
        "colab_type": "code",
        "colab": {}
      },
      "source": [
        "import pandas as pd\n",
        "import numpy as np\n",
        "import string\n",
        "import re\n",
        "from sklearn.pipeline import Pipeline\n",
        "from sklearn.feature_extraction.text import CountVectorizer\n",
        "from sklearn.feature_extraction.text import TfidfVectorizer\n",
        "from sklearn.neighbors import KNeighborsClassifier\n",
        "from gensim.models import FastText \n",
        "from tqdm import tqdm"
      ],
      "execution_count": 1,
      "outputs": []
    },
    {
      "cell_type": "markdown",
      "metadata": {
        "id": "lr5rPyuoHo5C",
        "colab_type": "text"
      },
      "source": [
        "#Impotamos los csvs"
      ]
    },
    {
      "cell_type": "code",
      "metadata": {
        "colab_type": "code",
        "id": "XyEQS4PWtsMA",
        "colab": {}
      },
      "source": [
        "from pydrive.auth import GoogleAuth\n",
        "from pydrive.drive import GoogleDrive\n",
        "from google.colab import auth\n",
        "from oauth2client.client import GoogleCredentials\n",
        "from google.colab import files\n",
        "# Authenticate and create the PyDrive client\n",
        "auth.authenticate_user()\n",
        "gauth = GoogleAuth()\n",
        "gauth.credentials = GoogleCredentials.get_application_default()\n",
        "drive = GoogleDrive(gauth)"
      ],
      "execution_count": 2,
      "outputs": []
    },
    {
      "cell_type": "code",
      "metadata": {
        "id": "v0-fpqMZIBKN",
        "colab_type": "code",
        "colab": {}
      },
      "source": [
        "id='1slJiG-M_oawvkzaqWzZkSmVxxZor6mKQ'\n",
        "downloaded = drive.CreateFile({'id': id})\n",
        "downloaded.GetContentFile('train_features.csv')\n",
        "\n",
        "id='1TmL2AY_yymiV8zXVvmbqXsIZoexR9sLs'\n",
        "downloaded = drive.CreateFile({'id': id})\n",
        "downloaded.GetContentFile('test_features.csv')\n",
        "\n",
        "\n",
        "id='1J0GcaPrz3SDrfuRjJiSGapHjCTCy094x'\n",
        "downloaded = drive.CreateFile({'id': id})\n",
        "downloaded.GetContentFile('test_limpio.csv')\n",
        "\n",
        "id='1r9I2BE6oMDpSlQPS9OJIK_d0OW4G6yAG'\n",
        "downloaded = drive.CreateFile({'id': id})\n",
        "downloaded.GetContentFile('train_limpio.csv')\n",
        "\n",
        "id='1Pk5MK9Hs_kMUT9NotGnOKE0NPra-39YU'\n",
        "downloaded = drive.CreateFile({'id': id})\n",
        "downloaded.GetContentFile('train.csv')\n",
        "\n",
        "id='1GsTM9oLtIV8-Da_fDOFWsQYMpgQ8GOYJ'\n",
        "downloaded = drive.CreateFile({'id': id})\n",
        "downloaded.GetContentFile('test.csv')"
      ],
      "execution_count": 3,
      "outputs": []
    },
    {
      "cell_type": "code",
      "metadata": {
        "colab_type": "code",
        "id": "2eeIvuBAuCnI",
        "colab": {}
      },
      "source": [
        "train_features = pd.read_csv('train_features.csv')\n",
        "test_features = pd.read_csv('test_features.csv')\n",
        "test_limpio = pd.read_csv('test_limpio.csv')\n",
        "train_limpio = pd.read_csv('train_limpio.csv')\n",
        "train = pd.read_csv('train.csv')\n",
        "test = pd.read_csv('test.csv')"
      ],
      "execution_count": 4,
      "outputs": []
    },
    {
      "cell_type": "code",
      "metadata": {
        "colab_type": "code",
        "id": "HD2G1QyAuOs2",
        "colab": {}
      },
      "source": [
        "train['text'] = train_limpio['text']\n",
        "test['text'] = test_limpio['text']"
      ],
      "execution_count": 5,
      "outputs": []
    },
    {
      "cell_type": "code",
      "metadata": {
        "id": "qC7W8qBaIHF6",
        "colab_type": "code",
        "colab": {}
      },
      "source": [
        "train['text'] = train['text'].fillna(' ')\n",
        "test['text'] = test['text'].fillna(' ')\n",
        "train['keyword'] = train['keyword'].fillna(' ')\n",
        "test['keyword'] = test['keyword'].fillna(' ')"
      ],
      "execution_count": 6,
      "outputs": []
    },
    {
      "cell_type": "markdown",
      "metadata": {
        "colab_type": "text",
        "id": "6oBeuzud7eZg"
      },
      "source": [
        "#Encoding con FastText\n"
      ]
    },
    {
      "cell_type": "code",
      "metadata": {
        "id": "k6evCgSmdFvS",
        "colab_type": "code",
        "colab": {}
      },
      "source": [
        "id = '1eWJLOjsG04oOtYXJ6eta7VnudJPIlBh_'\n",
        "downloaded = drive.CreateFile({'id': id})\n",
        "downloaded.GetContentFile('wiki-news-300d-1M-subword.vec')"
      ],
      "execution_count": 7,
      "outputs": []
    },
    {
      "cell_type": "code",
      "metadata": {
        "id": "ugGtDbWFdYzI",
        "colab_type": "code",
        "colab": {
          "base_uri": "https://localhost:8080/",
          "height": 68
        },
        "outputId": "d4e2341e-ab60-4bb4-ba25-7deb126ff2cb"
      },
      "source": [
        "def load_fasttext():\n",
        "    \n",
        "    print('loading word embeddings...')\n",
        "    embeddings_index = {}\n",
        "    f = open('wiki-news-300d-1M-subword.vec',encoding='utf-8')\n",
        "    for line in tqdm(f):\n",
        "        values = line.strip().rsplit(' ')\n",
        "        word = values[0]\n",
        "        coefs = np.asarray(values[1:], dtype='float32')\n",
        "        embeddings_index[word] = coefs\n",
        "    f.close()\n",
        "    print('found %s word vectors' % len(embeddings_index))\n",
        "    \n",
        "    return embeddings_index\n",
        "\n",
        "embeddings_index = load_fasttext()"
      ],
      "execution_count": 9,
      "outputs": [
        {
          "output_type": "stream",
          "text": [
            "2398it [00:00, 11862.38it/s]"
          ],
          "name": "stderr"
        },
        {
          "output_type": "stream",
          "text": [
            "loading word embeddings...\n"
          ],
          "name": "stdout"
        },
        {
          "output_type": "stream",
          "text": [
            "999995it [01:25, 11729.93it/s]\n"
          ],
          "name": "stderr"
        },
        {
          "output_type": "stream",
          "text": [
            "found 999995 word vectors\n"
          ],
          "name": "stdout"
        }
      ]
    },
    {
      "cell_type": "code",
      "metadata": {
        "id": "ffknvt45eNAu",
        "colab_type": "code",
        "colab": {}
      },
      "source": [
        "def get_average(text):\n",
        "  counter = np.zeros(300)\n",
        "  words = text.split(\" \")\n",
        "  for word in words:\n",
        "    if word in embeddings_index.keys():\n",
        "      counter += embeddings_index[word]\n",
        "  return counter/len(words)"
      ],
      "execution_count": 10,
      "outputs": []
    },
    {
      "cell_type": "code",
      "metadata": {
        "id": "TH4IrPNAeO6F",
        "colab_type": "code",
        "colab": {}
      },
      "source": [
        "train['average_words'] = train['text'].apply(lambda x: get_average(x))\n",
        "test['average_words'] = test['text'].apply(lambda x: get_average(x))"
      ],
      "execution_count": 11,
      "outputs": []
    },
    {
      "cell_type": "code",
      "metadata": {
        "id": "rK_TfDtzQBuV",
        "colab_type": "code",
        "colab": {}
      },
      "source": [
        "train['encoded_keyword'] = train['keyword'].apply(lambda x: np.mean(get_average(x)))\n",
        "test['encoded_keyword'] = test['keyword'].apply(lambda x: np.mean(get_average(x)))"
      ],
      "execution_count": 27,
      "outputs": []
    },
    {
      "cell_type": "markdown",
      "metadata": {
        "id": "8LSvNjJVM-M9",
        "colab_type": "text"
      },
      "source": [
        "#Matriz solamente con el texto codificado"
      ]
    },
    {
      "cell_type": "code",
      "metadata": {
        "id": "pbVp3ukXe4Lb",
        "colab_type": "code",
        "colab": {}
      },
      "source": [
        "matrix_ft_text_train = pd.DataFrame(np.matrix(list(train['average_words'])))\n",
        "matrix_ft_text_test = pd.DataFrame(np.matrix(list(test['average_words'])))"
      ],
      "execution_count": 13,
      "outputs": []
    },
    {
      "cell_type": "code",
      "metadata": {
        "id": "_X-tUjF_OiBs",
        "colab_type": "code",
        "colab": {}
      },
      "source": [
        "matrix_ft_text_train.to_csv('matriz_train_ft_solo_text.csv', index=False)\n",
        "files.download('matriz_train_ft_solo_text.csv')"
      ],
      "execution_count": 14,
      "outputs": []
    },
    {
      "cell_type": "code",
      "metadata": {
        "id": "bMojTMqlOyeH",
        "colab_type": "code",
        "colab": {}
      },
      "source": [
        "matrix_ft_text_test.to_csv('matriz_test_ft_solo_text.csv', index=False)\n",
        "files.download('matriz_test_ft_solo_text.csv')"
      ],
      "execution_count": 15,
      "outputs": []
    },
    {
      "cell_type": "markdown",
      "metadata": {
        "id": "EndxfxUwPqrX",
        "colab_type": "text"
      },
      "source": [
        "#Matriz con el texto y keyword"
      ]
    },
    {
      "cell_type": "code",
      "metadata": {
        "id": "6mY9ySt2P16r",
        "colab_type": "code",
        "colab": {}
      },
      "source": [
        "matrix_ft_keyword_train = matrix_ft_text_train.copy()\n",
        "matrix_ft_keyword_train[300] = train['encoded_keyword']\n",
        "matrix_ft_keyword_test = matrix_ft_text_test.copy()\n",
        "matrix_ft_keyword_test[300] = test['encoded_keyword']"
      ],
      "execution_count": 31,
      "outputs": []
    },
    {
      "cell_type": "code",
      "metadata": {
        "id": "6J40M7NFnGXr",
        "colab_type": "code",
        "colab": {
          "base_uri": "https://localhost:8080/",
          "height": 17
        },
        "outputId": "bea8144d-6f32-4cca-f45f-9597e5ee8c56"
      },
      "source": [
        "matrix_ft_keyword_train.to_csv('matriz_train_ft_text_keyword.csv', index=False)\n",
        "files.download('matriz_train_ft_text_keyword.csv')"
      ],
      "execution_count": 32,
      "outputs": [
        {
          "output_type": "display_data",
          "data": {
            "application/javascript": [
              "\n",
              "    async function download(id, filename, size) {\n",
              "      if (!google.colab.kernel.accessAllowed) {\n",
              "        return;\n",
              "      }\n",
              "      const div = document.createElement('div');\n",
              "      const label = document.createElement('label');\n",
              "      label.textContent = `Downloading \"${filename}\": `;\n",
              "      div.appendChild(label);\n",
              "      const progress = document.createElement('progress');\n",
              "      progress.max = size;\n",
              "      div.appendChild(progress);\n",
              "      document.body.appendChild(div);\n",
              "\n",
              "      const buffers = [];\n",
              "      let downloaded = 0;\n",
              "\n",
              "      const channel = await google.colab.kernel.comms.open(id);\n",
              "      // Send a message to notify the kernel that we're ready.\n",
              "      channel.send({})\n",
              "\n",
              "      for await (const message of channel.messages) {\n",
              "        // Send a message to notify the kernel that we're ready.\n",
              "        channel.send({})\n",
              "        if (message.buffers) {\n",
              "          for (const buffer of message.buffers) {\n",
              "            buffers.push(buffer);\n",
              "            downloaded += buffer.byteLength;\n",
              "            progress.value = downloaded;\n",
              "          }\n",
              "        }\n",
              "      }\n",
              "      const blob = new Blob(buffers, {type: 'application/binary'});\n",
              "      const a = document.createElement('a');\n",
              "      a.href = window.URL.createObjectURL(blob);\n",
              "      a.download = filename;\n",
              "      div.appendChild(a);\n",
              "      a.click();\n",
              "      div.remove();\n",
              "    }\n",
              "  "
            ],
            "text/plain": [
              "<IPython.core.display.Javascript object>"
            ]
          },
          "metadata": {
            "tags": []
          }
        },
        {
          "output_type": "display_data",
          "data": {
            "application/javascript": [
              "download(\"download_4a9957ae-57f2-4785-8b7c-a07c9033759d\", \"matriz_train_ft_text_keyword.csv\", 48720509)"
            ],
            "text/plain": [
              "<IPython.core.display.Javascript object>"
            ]
          },
          "metadata": {
            "tags": []
          }
        }
      ]
    },
    {
      "cell_type": "code",
      "metadata": {
        "id": "8QsjAY7fnIfb",
        "colab_type": "code",
        "colab": {
          "base_uri": "https://localhost:8080/",
          "height": 17
        },
        "outputId": "d8c77899-c39b-41dd-98de-79debba29080"
      },
      "source": [
        "matrix_ft_keyword_test.to_csv('matriz_test_ft_text_keyword.csv', index=False)\n",
        "files.download('matriz_test_ft_text_keyword.csv')"
      ],
      "execution_count": 33,
      "outputs": [
        {
          "output_type": "display_data",
          "data": {
            "application/javascript": [
              "\n",
              "    async function download(id, filename, size) {\n",
              "      if (!google.colab.kernel.accessAllowed) {\n",
              "        return;\n",
              "      }\n",
              "      const div = document.createElement('div');\n",
              "      const label = document.createElement('label');\n",
              "      label.textContent = `Downloading \"${filename}\": `;\n",
              "      div.appendChild(label);\n",
              "      const progress = document.createElement('progress');\n",
              "      progress.max = size;\n",
              "      div.appendChild(progress);\n",
              "      document.body.appendChild(div);\n",
              "\n",
              "      const buffers = [];\n",
              "      let downloaded = 0;\n",
              "\n",
              "      const channel = await google.colab.kernel.comms.open(id);\n",
              "      // Send a message to notify the kernel that we're ready.\n",
              "      channel.send({})\n",
              "\n",
              "      for await (const message of channel.messages) {\n",
              "        // Send a message to notify the kernel that we're ready.\n",
              "        channel.send({})\n",
              "        if (message.buffers) {\n",
              "          for (const buffer of message.buffers) {\n",
              "            buffers.push(buffer);\n",
              "            downloaded += buffer.byteLength;\n",
              "            progress.value = downloaded;\n",
              "          }\n",
              "        }\n",
              "      }\n",
              "      const blob = new Blob(buffers, {type: 'application/binary'});\n",
              "      const a = document.createElement('a');\n",
              "      a.href = window.URL.createObjectURL(blob);\n",
              "      a.download = filename;\n",
              "      div.appendChild(a);\n",
              "      a.click();\n",
              "      div.remove();\n",
              "    }\n",
              "  "
            ],
            "text/plain": [
              "<IPython.core.display.Javascript object>"
            ]
          },
          "metadata": {
            "tags": []
          }
        },
        {
          "output_type": "display_data",
          "data": {
            "application/javascript": [
              "download(\"download_4170c109-3cb6-4158-bf0e-fa83639501e2\", \"matriz_test_ft_text_keyword.csv\", 20878146)"
            ],
            "text/plain": [
              "<IPython.core.display.Javascript object>"
            ]
          },
          "metadata": {
            "tags": []
          }
        }
      ]
    },
    {
      "cell_type": "markdown",
      "metadata": {
        "id": "1fIdUwcToWeB",
        "colab_type": "text"
      },
      "source": [
        "#Matriz con texto y keyword codificados + features numericos"
      ]
    },
    {
      "cell_type": "code",
      "metadata": {
        "id": "Br_nS1TVobpH",
        "colab_type": "code",
        "colab": {}
      },
      "source": [
        "numeric_features_test = test_features[['cant_stop_words', 'prom_long_palabra', 'cant_puntuacion', 'cant_apariciones_keyword', 'cant_numeros', 'cant_mayusculas', 'cant_vocales']]\n",
        "numeric_features_train = train_features[['cant_stop_words', 'prom_long_palabra', 'cant_puntuacion', 'cant_apariciones_keyword', 'cant_numeros', 'cant_mayusculas', 'cant_vocales']]"
      ],
      "execution_count": 34,
      "outputs": []
    },
    {
      "cell_type": "code",
      "metadata": {
        "id": "kS9ZCiJ8odIG",
        "colab_type": "code",
        "colab": {}
      },
      "source": [
        "ft_features_numericos_train = pd.concat([matrix_ft_keyword_train, numeric_features_train], axis=1, sort=False)\n",
        "ft_features_numericos_test = pd.concat([matrix_ft_keyword_test, numeric_features_test], axis=1, sort=False)"
      ],
      "execution_count": 35,
      "outputs": []
    },
    {
      "cell_type": "code",
      "metadata": {
        "id": "MFpSHSrmo63U",
        "colab_type": "code",
        "colab": {}
      },
      "source": [
        "ft_features_numericos_train.to_csv('ft_features_numericos_train.csv', index=False)\n",
        "ft_features_numericos_test.to_csv('ft_features_numericos_test.csv', index=False)"
      ],
      "execution_count": 38,
      "outputs": []
    },
    {
      "cell_type": "code",
      "metadata": {
        "id": "fTRxMyTyo-gM",
        "colab_type": "code",
        "colab": {
          "base_uri": "https://localhost:8080/",
          "height": 17
        },
        "outputId": "88f36d71-19d1-4da1-8343-a9d76110032d"
      },
      "source": [
        "files.download('ft_features_numericos_train.csv')\n",
        "files.download('ft_features_numericos_test.csv')"
      ],
      "execution_count": 39,
      "outputs": [
        {
          "output_type": "display_data",
          "data": {
            "application/javascript": [
              "\n",
              "    async function download(id, filename, size) {\n",
              "      if (!google.colab.kernel.accessAllowed) {\n",
              "        return;\n",
              "      }\n",
              "      const div = document.createElement('div');\n",
              "      const label = document.createElement('label');\n",
              "      label.textContent = `Downloading \"${filename}\": `;\n",
              "      div.appendChild(label);\n",
              "      const progress = document.createElement('progress');\n",
              "      progress.max = size;\n",
              "      div.appendChild(progress);\n",
              "      document.body.appendChild(div);\n",
              "\n",
              "      const buffers = [];\n",
              "      let downloaded = 0;\n",
              "\n",
              "      const channel = await google.colab.kernel.comms.open(id);\n",
              "      // Send a message to notify the kernel that we're ready.\n",
              "      channel.send({})\n",
              "\n",
              "      for await (const message of channel.messages) {\n",
              "        // Send a message to notify the kernel that we're ready.\n",
              "        channel.send({})\n",
              "        if (message.buffers) {\n",
              "          for (const buffer of message.buffers) {\n",
              "            buffers.push(buffer);\n",
              "            downloaded += buffer.byteLength;\n",
              "            progress.value = downloaded;\n",
              "          }\n",
              "        }\n",
              "      }\n",
              "      const blob = new Blob(buffers, {type: 'application/binary'});\n",
              "      const a = document.createElement('a');\n",
              "      a.href = window.URL.createObjectURL(blob);\n",
              "      a.download = filename;\n",
              "      div.appendChild(a);\n",
              "      a.click();\n",
              "      div.remove();\n",
              "    }\n",
              "  "
            ],
            "text/plain": [
              "<IPython.core.display.Javascript object>"
            ]
          },
          "metadata": {
            "tags": []
          }
        },
        {
          "output_type": "display_data",
          "data": {
            "application/javascript": [
              "download(\"download_30cbc9bd-d091-4e3b-a147-a5f6f84670a3\", \"ft_features_numericos_train.csv\", 48934181)"
            ],
            "text/plain": [
              "<IPython.core.display.Javascript object>"
            ]
          },
          "metadata": {
            "tags": []
          }
        },
        {
          "output_type": "display_data",
          "data": {
            "application/javascript": [
              "\n",
              "    async function download(id, filename, size) {\n",
              "      if (!google.colab.kernel.accessAllowed) {\n",
              "        return;\n",
              "      }\n",
              "      const div = document.createElement('div');\n",
              "      const label = document.createElement('label');\n",
              "      label.textContent = `Downloading \"${filename}\": `;\n",
              "      div.appendChild(label);\n",
              "      const progress = document.createElement('progress');\n",
              "      progress.max = size;\n",
              "      div.appendChild(progress);\n",
              "      document.body.appendChild(div);\n",
              "\n",
              "      const buffers = [];\n",
              "      let downloaded = 0;\n",
              "\n",
              "      const channel = await google.colab.kernel.comms.open(id);\n",
              "      // Send a message to notify the kernel that we're ready.\n",
              "      channel.send({})\n",
              "\n",
              "      for await (const message of channel.messages) {\n",
              "        // Send a message to notify the kernel that we're ready.\n",
              "        channel.send({})\n",
              "        if (message.buffers) {\n",
              "          for (const buffer of message.buffers) {\n",
              "            buffers.push(buffer);\n",
              "            downloaded += buffer.byteLength;\n",
              "            progress.value = downloaded;\n",
              "          }\n",
              "        }\n",
              "      }\n",
              "      const blob = new Blob(buffers, {type: 'application/binary'});\n",
              "      const a = document.createElement('a');\n",
              "      a.href = window.URL.createObjectURL(blob);\n",
              "      a.download = filename;\n",
              "      div.appendChild(a);\n",
              "      a.click();\n",
              "      div.remove();\n",
              "    }\n",
              "  "
            ],
            "text/plain": [
              "<IPython.core.display.Javascript object>"
            ]
          },
          "metadata": {
            "tags": []
          }
        },
        {
          "output_type": "display_data",
          "data": {
            "application/javascript": [
              "download(\"download_7d17f3e6-c9e8-46cb-8bd9-8a8ae2ab22f7\", \"ft_features_numericos_test.csv\", 20969317)"
            ],
            "text/plain": [
              "<IPython.core.display.Javascript object>"
            ]
          },
          "metadata": {
            "tags": []
          }
        }
      ]
    }
  ]
}