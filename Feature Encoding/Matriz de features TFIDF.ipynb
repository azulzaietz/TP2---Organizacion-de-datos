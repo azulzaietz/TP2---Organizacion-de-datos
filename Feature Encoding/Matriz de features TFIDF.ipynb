{
  "nbformat": 4,
  "nbformat_minor": 0,
  "metadata": {
    "colab": {
      "name": "Matriz de features - TFIDF.ipynb",
      "provenance": [],
      "collapsed_sections": []
    },
    "kernelspec": {
      "name": "python3",
      "display_name": "Python 3"
    }
  },
  "cells": [
    {
      "cell_type": "code",
      "metadata": {
        "id": "XyEQS4PWtsMA",
        "colab_type": "code",
        "colab": {}
      },
      "source": [
        "import pandas as pd\n",
        "import numpy as np\n",
        "import string\n",
        "import re\n",
        "from sklearn.pipeline import Pipeline\n",
        "from sklearn.feature_extraction.text import CountVectorizer\n",
        "from sklearn.feature_extraction.text import TfidfVectorizer\n",
        "from sklearn.neighbors import KNeighborsClassifier\n",
        "from sklearn.feature_extraction.text import TfidfTransformer"
      ],
      "execution_count": 1,
      "outputs": []
    },
    {
      "cell_type": "code",
      "metadata": {
        "id": "M5t74cYiy8RO",
        "colab_type": "code",
        "colab": {
          "base_uri": "https://localhost:8080/",
          "height": 557
        },
        "outputId": "0427485c-f810-4981-898b-e5cdc2b388c1"
      },
      "source": [
        "!pip install -U textblob\n",
        "!pip install nltk \n",
        "!pip install catboost\n",
        "\n",
        "import nltk\n",
        "nltk.download('stopwords')\n",
        "nltk.download('wordnet')\n",
        "nltk.download('punkt')"
      ],
      "execution_count": 2,
      "outputs": [
        {
          "output_type": "stream",
          "text": [
            "Requirement already up-to-date: textblob in /usr/local/lib/python3.6/dist-packages (0.15.3)\n",
            "Requirement already satisfied, skipping upgrade: nltk>=3.1 in /usr/local/lib/python3.6/dist-packages (from textblob) (3.2.5)\n",
            "Requirement already satisfied, skipping upgrade: six in /usr/local/lib/python3.6/dist-packages (from nltk>=3.1->textblob) (1.15.0)\n",
            "Requirement already satisfied: nltk in /usr/local/lib/python3.6/dist-packages (3.2.5)\n",
            "Requirement already satisfied: six in /usr/local/lib/python3.6/dist-packages (from nltk) (1.15.0)\n",
            "Collecting catboost\n",
            "\u001b[?25l  Downloading https://files.pythonhosted.org/packages/b2/aa/e61819d04ef2bbee778bf4b3a748db1f3ad23512377e43ecfdc3211437a0/catboost-0.23.2-cp36-none-manylinux1_x86_64.whl (64.8MB)\n",
            "\u001b[K     |████████████████████████████████| 64.8MB 60kB/s \n",
            "\u001b[?25hRequirement already satisfied: pandas>=0.24.0 in /usr/local/lib/python3.6/dist-packages (from catboost) (1.0.5)\n",
            "Requirement already satisfied: plotly in /usr/local/lib/python3.6/dist-packages (from catboost) (4.4.1)\n",
            "Requirement already satisfied: matplotlib in /usr/local/lib/python3.6/dist-packages (from catboost) (3.2.2)\n",
            "Requirement already satisfied: scipy in /usr/local/lib/python3.6/dist-packages (from catboost) (1.4.1)\n",
            "Requirement already satisfied: graphviz in /usr/local/lib/python3.6/dist-packages (from catboost) (0.10.1)\n",
            "Requirement already satisfied: six in /usr/local/lib/python3.6/dist-packages (from catboost) (1.15.0)\n",
            "Requirement already satisfied: numpy>=1.16.0 in /usr/local/lib/python3.6/dist-packages (from catboost) (1.18.5)\n",
            "Requirement already satisfied: pytz>=2017.2 in /usr/local/lib/python3.6/dist-packages (from pandas>=0.24.0->catboost) (2018.9)\n",
            "Requirement already satisfied: python-dateutil>=2.6.1 in /usr/local/lib/python3.6/dist-packages (from pandas>=0.24.0->catboost) (2.8.1)\n",
            "Requirement already satisfied: retrying>=1.3.3 in /usr/local/lib/python3.6/dist-packages (from plotly->catboost) (1.3.3)\n",
            "Requirement already satisfied: cycler>=0.10 in /usr/local/lib/python3.6/dist-packages (from matplotlib->catboost) (0.10.0)\n",
            "Requirement already satisfied: kiwisolver>=1.0.1 in /usr/local/lib/python3.6/dist-packages (from matplotlib->catboost) (1.2.0)\n",
            "Requirement already satisfied: pyparsing!=2.0.4,!=2.1.2,!=2.1.6,>=2.0.1 in /usr/local/lib/python3.6/dist-packages (from matplotlib->catboost) (2.4.7)\n",
            "Installing collected packages: catboost\n",
            "Successfully installed catboost-0.23.2\n",
            "[nltk_data] Downloading package stopwords to /root/nltk_data...\n",
            "[nltk_data]   Unzipping corpora/stopwords.zip.\n",
            "[nltk_data] Downloading package wordnet to /root/nltk_data...\n",
            "[nltk_data]   Unzipping corpora/wordnet.zip.\n",
            "[nltk_data] Downloading package punkt to /root/nltk_data...\n",
            "[nltk_data]   Unzipping tokenizers/punkt.zip.\n"
          ],
          "name": "stdout"
        },
        {
          "output_type": "execute_result",
          "data": {
            "text/plain": [
              "True"
            ]
          },
          "metadata": {
            "tags": []
          },
          "execution_count": 2
        }
      ]
    },
    {
      "cell_type": "code",
      "metadata": {
        "id": "lj_07uTylIsE",
        "colab_type": "code",
        "colab": {}
      },
      "source": [
        "from pydrive.auth import GoogleAuth\n",
        "from pydrive.drive import GoogleDrive\n",
        "from google.colab import auth\n",
        "from oauth2client.client import GoogleCredentials\n",
        "\n",
        "# Authenticate and create the PyDrive client\n",
        "auth.authenticate_user()\n",
        "gauth = GoogleAuth()\n",
        "gauth.credentials = GoogleCredentials.get_application_default()\n",
        "drive = GoogleDrive(gauth)"
      ],
      "execution_count": 3,
      "outputs": []
    },
    {
      "cell_type": "code",
      "metadata": {
        "id": "9p3zz8l5Bc3W",
        "colab_type": "code",
        "colab": {}
      },
      "source": [
        "id='1Pk5MK9Hs_kMUT9NotGnOKE0NPra-39YU'\n",
        "downloaded = drive.CreateFile({'id': id})\n",
        "downloaded.GetContentFile('train.csv')\n",
        "\n",
        "train = pd.read_csv('train.csv')"
      ],
      "execution_count": 4,
      "outputs": []
    },
    {
      "cell_type": "code",
      "metadata": {
        "id": "Dct00taijaXf",
        "colab_type": "code",
        "colab": {}
      },
      "source": [
        "id='1GsTM9oLtIV8-Da_fDOFWsQYMpgQ8GOYJ'\n",
        "downloaded = drive.CreateFile({'id': id})\n",
        "downloaded.GetContentFile('test.csv')\n",
        "\n",
        "test = pd.read_csv('test.csv')"
      ],
      "execution_count": 5,
      "outputs": []
    },
    {
      "cell_type": "code",
      "metadata": {
        "id": "mlNP6omJd55J",
        "colab_type": "code",
        "colab": {}
      },
      "source": [
        "id='1slJiG-M_oawvkzaqWzZkSmVxxZor6mKQ'\n",
        "downloaded = drive.CreateFile({'id': id})\n",
        "downloaded.GetContentFile('train_features.csv')\n",
        "\n",
        "id='1TmL2AY_yymiV8zXVvmbqXsIZoexR9sLs'\n",
        "downloaded = drive.CreateFile({'id': id})\n",
        "downloaded.GetContentFile('test_features.csv')\n",
        "train_features = pd.read_csv('train_features.csv')\n",
        "test_features = pd.read_csv('test_features.csv')"
      ],
      "execution_count": 15,
      "outputs": []
    },
    {
      "cell_type": "code",
      "metadata": {
        "id": "poy-ToRTygBy",
        "colab_type": "code",
        "colab": {}
      },
      "source": [
        "#Pasos NLP:\n",
        "#1: FILTRADO DE DATOS\n",
        "#2: TOKENIZACION\n",
        "#3: STOPWORDS\n",
        "#4: LEMATIZACION\n",
        "\n",
        "stopwords = nltk.corpus.stopwords.words('english')\n",
        "ps = nltk.PorterStemmer() \n",
        "\n",
        "def nlp_text(text):\n",
        "    #filtrado de signos de puntuacion\n",
        "    text = \"\".join([word.lower() for word in text if word not in string.punctuation])\n",
        "    #tokenizacion\n",
        "    tokens = re.split('\\W+', text)\n",
        "    #lematizacion\n",
        "    text = [ps.stem(word) for word in tokens if word not in stopwords]\n",
        "    return text"
      ],
      "execution_count": 16,
      "outputs": []
    },
    {
      "cell_type": "markdown",
      "metadata": {
        "id": "6oBeuzud7eZg",
        "colab_type": "text"
      },
      "source": [
        "PARA TRAIN"
      ]
    },
    {
      "cell_type": "code",
      "metadata": {
        "id": "XshDL9Ay2eaH",
        "colab_type": "code",
        "colab": {
          "base_uri": "https://localhost:8080/",
          "height": 35
        },
        "outputId": "daa0d87e-b8dd-45a4-8e7d-37de670a575a"
      },
      "source": [
        "tf_idf = TfidfVectorizer(analyzer=nlp_text, max_features=5000)\n",
        "tf_idf = tf_idf.fit_transform(train.text)\n",
        "matrix_tf_idf = tf_idf.todense()\n",
        "matrix_tf_idf.shape"
      ],
      "execution_count": 39,
      "outputs": [
        {
          "output_type": "execute_result",
          "data": {
            "text/plain": [
              "(7613, 5000)"
            ]
          },
          "metadata": {
            "tags": []
          },
          "execution_count": 39
        }
      ]
    },
    {
      "cell_type": "code",
      "metadata": {
        "id": "1VksGMtFhsht",
        "colab_type": "code",
        "colab": {}
      },
      "source": [
        "df_matrix_tf_idf = pd.DataFrame(matrix_tf_idf)"
      ],
      "execution_count": 27,
      "outputs": []
    },
    {
      "cell_type": "code",
      "metadata": {
        "id": "LuWiAJhM20eJ",
        "colab_type": "code",
        "colab": {
          "base_uri": "https://localhost:8080/",
          "height": 415
        },
        "outputId": "bc1d6d4d-f753-4ace-dc85-fa9ca1fb356c"
      },
      "source": [
        "numeric_features = train_features[['cant_stop_words', 'prom_long_palabra', 'cant_puntuacion', 'cant_apariciones_keyword', 'cant_numeros', 'cant_mayusculas', 'cant_vocales']]\n",
        "numeric_features"
      ],
      "execution_count": 18,
      "outputs": [
        {
          "output_type": "execute_result",
          "data": {
            "text/html": [
              "<div>\n",
              "<style scoped>\n",
              "    .dataframe tbody tr th:only-of-type {\n",
              "        vertical-align: middle;\n",
              "    }\n",
              "\n",
              "    .dataframe tbody tr th {\n",
              "        vertical-align: top;\n",
              "    }\n",
              "\n",
              "    .dataframe thead th {\n",
              "        text-align: right;\n",
              "    }\n",
              "</style>\n",
              "<table border=\"1\" class=\"dataframe\">\n",
              "  <thead>\n",
              "    <tr style=\"text-align: right;\">\n",
              "      <th></th>\n",
              "      <th>cant_stop_words</th>\n",
              "      <th>prom_long_palabra</th>\n",
              "      <th>cant_puntuacion</th>\n",
              "      <th>cant_apariciones_keyword</th>\n",
              "      <th>cant_numeros</th>\n",
              "      <th>cant_mayusculas</th>\n",
              "      <th>cant_vocales</th>\n",
              "    </tr>\n",
              "  </thead>\n",
              "  <tbody>\n",
              "    <tr>\n",
              "      <th>0</th>\n",
              "      <td>6</td>\n",
              "      <td>4.384615</td>\n",
              "      <td>1</td>\n",
              "      <td>61</td>\n",
              "      <td>0</td>\n",
              "      <td>10</td>\n",
              "      <td>25</td>\n",
              "    </tr>\n",
              "    <tr>\n",
              "      <th>1</th>\n",
              "      <td>0</td>\n",
              "      <td>4.571429</td>\n",
              "      <td>1</td>\n",
              "      <td>61</td>\n",
              "      <td>0</td>\n",
              "      <td>5</td>\n",
              "      <td>13</td>\n",
              "    </tr>\n",
              "    <tr>\n",
              "      <th>2</th>\n",
              "      <td>11</td>\n",
              "      <td>5.090909</td>\n",
              "      <td>3</td>\n",
              "      <td>61</td>\n",
              "      <td>0</td>\n",
              "      <td>2</td>\n",
              "      <td>45</td>\n",
              "    </tr>\n",
              "    <tr>\n",
              "      <th>3</th>\n",
              "      <td>1</td>\n",
              "      <td>7.125000</td>\n",
              "      <td>2</td>\n",
              "      <td>61</td>\n",
              "      <td>5</td>\n",
              "      <td>1</td>\n",
              "      <td>24</td>\n",
              "    </tr>\n",
              "    <tr>\n",
              "      <th>4</th>\n",
              "      <td>7</td>\n",
              "      <td>4.500000</td>\n",
              "      <td>2</td>\n",
              "      <td>61</td>\n",
              "      <td>0</td>\n",
              "      <td>3</td>\n",
              "      <td>25</td>\n",
              "    </tr>\n",
              "    <tr>\n",
              "      <th>...</th>\n",
              "      <td>...</td>\n",
              "      <td>...</td>\n",
              "      <td>...</td>\n",
              "      <td>...</td>\n",
              "      <td>...</td>\n",
              "      <td>...</td>\n",
              "      <td>...</td>\n",
              "    </tr>\n",
              "    <tr>\n",
              "      <th>7608</th>\n",
              "      <td>2</td>\n",
              "      <td>6.636364</td>\n",
              "      <td>5</td>\n",
              "      <td>61</td>\n",
              "      <td>1</td>\n",
              "      <td>7</td>\n",
              "      <td>20</td>\n",
              "    </tr>\n",
              "    <tr>\n",
              "      <th>7609</th>\n",
              "      <td>9</td>\n",
              "      <td>5.300000</td>\n",
              "      <td>5</td>\n",
              "      <td>61</td>\n",
              "      <td>0</td>\n",
              "      <td>6</td>\n",
              "      <td>39</td>\n",
              "    </tr>\n",
              "    <tr>\n",
              "      <th>7610</th>\n",
              "      <td>2</td>\n",
              "      <td>7.250000</td>\n",
              "      <td>11</td>\n",
              "      <td>61</td>\n",
              "      <td>9</td>\n",
              "      <td>10</td>\n",
              "      <td>12</td>\n",
              "    </tr>\n",
              "    <tr>\n",
              "      <th>7611</th>\n",
              "      <td>5</td>\n",
              "      <td>6.263158</td>\n",
              "      <td>5</td>\n",
              "      <td>61</td>\n",
              "      <td>0</td>\n",
              "      <td>4</td>\n",
              "      <td>49</td>\n",
              "    </tr>\n",
              "    <tr>\n",
              "      <th>7612</th>\n",
              "      <td>3</td>\n",
              "      <td>6.307692</td>\n",
              "      <td>7</td>\n",
              "      <td>61</td>\n",
              "      <td>2</td>\n",
              "      <td>16</td>\n",
              "      <td>22</td>\n",
              "    </tr>\n",
              "  </tbody>\n",
              "</table>\n",
              "<p>7613 rows × 7 columns</p>\n",
              "</div>"
            ],
            "text/plain": [
              "      cant_stop_words  prom_long_palabra  ...  cant_mayusculas  cant_vocales\n",
              "0                   6           4.384615  ...               10            25\n",
              "1                   0           4.571429  ...                5            13\n",
              "2                  11           5.090909  ...                2            45\n",
              "3                   1           7.125000  ...                1            24\n",
              "4                   7           4.500000  ...                3            25\n",
              "...               ...                ...  ...              ...           ...\n",
              "7608                2           6.636364  ...                7            20\n",
              "7609                9           5.300000  ...                6            39\n",
              "7610                2           7.250000  ...               10            12\n",
              "7611                5           6.263158  ...                4            49\n",
              "7612                3           6.307692  ...               16            22\n",
              "\n",
              "[7613 rows x 7 columns]"
            ]
          },
          "metadata": {
            "tags": []
          },
          "execution_count": 18
        }
      ]
    },
    {
      "cell_type": "code",
      "metadata": {
        "id": "ZfviVDuB1gV2",
        "colab_type": "code",
        "colab": {}
      },
      "source": [
        "matriz_tfidf_train = pd.concat([df_matrix_tf_idf, numeric_features], axis=1, sort=False)"
      ],
      "execution_count": 29,
      "outputs": []
    },
    {
      "cell_type": "code",
      "metadata": {
        "id": "PGrbTIjt5D4x",
        "colab_type": "code",
        "colab": {}
      },
      "source": [
        "matriz_tfidf_train.to_csv('features_train_tf_idf.csv', index=False)"
      ],
      "execution_count": 30,
      "outputs": []
    },
    {
      "cell_type": "code",
      "metadata": {
        "id": "ldCFmKRGG6Z_",
        "colab_type": "code",
        "colab": {
          "base_uri": "https://localhost:8080/",
          "height": 35
        },
        "outputId": "90c5da6c-1563-4091-b462-e97e92bfd142"
      },
      "source": [
        "matriz_tfidf_train.shape"
      ],
      "execution_count": 31,
      "outputs": [
        {
          "output_type": "execute_result",
          "data": {
            "text/plain": [
              "(7613, 5007)"
            ]
          },
          "metadata": {
            "tags": []
          },
          "execution_count": 31
        }
      ]
    },
    {
      "cell_type": "code",
      "metadata": {
        "id": "5F8u8F-XHKnc",
        "colab_type": "code",
        "colab": {
          "base_uri": "https://localhost:8080/",
          "height": 17
        },
        "outputId": "22ab9396-0f32-47e5-d544-7f2c337a4725"
      },
      "source": [
        "from google.colab import files\n",
        "files.download('features_train_tf_idf.csv')"
      ],
      "execution_count": 32,
      "outputs": [
        {
          "output_type": "display_data",
          "data": {
            "application/javascript": [
              "\n",
              "    async function download(id, filename, size) {\n",
              "      if (!google.colab.kernel.accessAllowed) {\n",
              "        return;\n",
              "      }\n",
              "      const div = document.createElement('div');\n",
              "      const label = document.createElement('label');\n",
              "      label.textContent = `Downloading \"${filename}\": `;\n",
              "      div.appendChild(label);\n",
              "      const progress = document.createElement('progress');\n",
              "      progress.max = size;\n",
              "      div.appendChild(progress);\n",
              "      document.body.appendChild(div);\n",
              "\n",
              "      const buffers = [];\n",
              "      let downloaded = 0;\n",
              "\n",
              "      const channel = await google.colab.kernel.comms.open(id);\n",
              "      // Send a message to notify the kernel that we're ready.\n",
              "      channel.send({})\n",
              "\n",
              "      for await (const message of channel.messages) {\n",
              "        // Send a message to notify the kernel that we're ready.\n",
              "        channel.send({})\n",
              "        if (message.buffers) {\n",
              "          for (const buffer of message.buffers) {\n",
              "            buffers.push(buffer);\n",
              "            downloaded += buffer.byteLength;\n",
              "            progress.value = downloaded;\n",
              "          }\n",
              "        }\n",
              "      }\n",
              "      const blob = new Blob(buffers, {type: 'application/binary'});\n",
              "      const a = document.createElement('a');\n",
              "      a.href = window.URL.createObjectURL(blob);\n",
              "      a.download = filename;\n",
              "      div.appendChild(a);\n",
              "      a.click();\n",
              "      div.remove();\n",
              "    }\n",
              "  "
            ],
            "text/plain": [
              "<IPython.core.display.Javascript object>"
            ]
          },
          "metadata": {
            "tags": []
          }
        },
        {
          "output_type": "display_data",
          "data": {
            "application/javascript": [
              "download(\"download_f6cf5c62-f405-4e07-ad7b-bf93367d2f44\", \"features_train_tf_idf.csv\", 153425031)"
            ],
            "text/plain": [
              "<IPython.core.display.Javascript object>"
            ]
          },
          "metadata": {
            "tags": []
          }
        }
      ]
    },
    {
      "cell_type": "markdown",
      "metadata": {
        "id": "77ZDFNCJ7gb2",
        "colab_type": "text"
      },
      "source": [
        "PARA TEST"
      ]
    },
    {
      "cell_type": "code",
      "metadata": {
        "id": "KjXwB9lE7jt5",
        "colab_type": "code",
        "colab": {}
      },
      "source": [
        "tf_idf = TfidfVectorizer(analyzer=nlp_text, max_features=5000)\n",
        "tf_idf_test = tf_idf.fit_transform(test.text)\n",
        "matrix_tf_idf_test = tf_idf_test.todense()\n",
        "\n",
        "df_matrix_tf_idf_test = pd.DataFrame(matrix_tf_idf_test)\n",
        "\n",
        "numeric_features_test = test_features[['cant_stop_words', 'prom_long_palabra', 'cant_puntuacion', 'cant_apariciones_keyword', 'cant_numeros', 'cant_mayusculas', 'cant_vocales']]\n",
        "\n",
        "matriz_tfidf_test = pd.concat([df_matrix_tf_idf_test, numeric_features_test], axis=1, sort=False)\n",
        "matriz_tfidf_test.to_csv('features_test_tf_idf.csv', index=False)"
      ],
      "execution_count": 34,
      "outputs": []
    },
    {
      "cell_type": "code",
      "metadata": {
        "id": "Nml_aqWzHmG1",
        "colab_type": "code",
        "colab": {
          "base_uri": "https://localhost:8080/",
          "height": 35
        },
        "outputId": "01ba9427-a289-493d-cf1f-5f81ff0ed999"
      },
      "source": [
        "matriz_tfidf_test.shape"
      ],
      "execution_count": 36,
      "outputs": [
        {
          "output_type": "execute_result",
          "data": {
            "text/plain": [
              "(3263, 5007)"
            ]
          },
          "metadata": {
            "tags": []
          },
          "execution_count": 36
        }
      ]
    },
    {
      "cell_type": "code",
      "metadata": {
        "id": "yvD7Hl39blzT",
        "colab_type": "code",
        "colab": {
          "base_uri": "https://localhost:8080/",
          "height": 17
        },
        "outputId": "d641bdd3-9dfd-4e38-caad-7cc8e9e33c1d"
      },
      "source": [
        "from google.colab import files\n",
        "files.download('features_test_tf_idf.csv')"
      ],
      "execution_count": 47,
      "outputs": [
        {
          "output_type": "display_data",
          "data": {
            "application/javascript": [
              "\n",
              "    async function download(id, filename, size) {\n",
              "      if (!google.colab.kernel.accessAllowed) {\n",
              "        return;\n",
              "      }\n",
              "      const div = document.createElement('div');\n",
              "      const label = document.createElement('label');\n",
              "      label.textContent = `Downloading \"${filename}\": `;\n",
              "      div.appendChild(label);\n",
              "      const progress = document.createElement('progress');\n",
              "      progress.max = size;\n",
              "      div.appendChild(progress);\n",
              "      document.body.appendChild(div);\n",
              "\n",
              "      const buffers = [];\n",
              "      let downloaded = 0;\n",
              "\n",
              "      const channel = await google.colab.kernel.comms.open(id);\n",
              "      // Send a message to notify the kernel that we're ready.\n",
              "      channel.send({})\n",
              "\n",
              "      for await (const message of channel.messages) {\n",
              "        // Send a message to notify the kernel that we're ready.\n",
              "        channel.send({})\n",
              "        if (message.buffers) {\n",
              "          for (const buffer of message.buffers) {\n",
              "            buffers.push(buffer);\n",
              "            downloaded += buffer.byteLength;\n",
              "            progress.value = downloaded;\n",
              "          }\n",
              "        }\n",
              "      }\n",
              "      const blob = new Blob(buffers, {type: 'application/binary'});\n",
              "      const a = document.createElement('a');\n",
              "      a.href = window.URL.createObjectURL(blob);\n",
              "      a.download = filename;\n",
              "      div.appendChild(a);\n",
              "      a.click();\n",
              "      div.remove();\n",
              "    }\n",
              "  "
            ],
            "text/plain": [
              "<IPython.core.display.Javascript object>"
            ]
          },
          "metadata": {
            "tags": []
          }
        },
        {
          "output_type": "display_data",
          "data": {
            "application/javascript": [
              "download(\"download_6651335f-8950-4b2a-9ce7-fa7c99c8a794\", \"features_test_tf_idf.csv\", 65786941)"
            ],
            "text/plain": [
              "<IPython.core.display.Javascript object>"
            ]
          },
          "metadata": {
            "tags": []
          }
        }
      ]
    }
  ]
}