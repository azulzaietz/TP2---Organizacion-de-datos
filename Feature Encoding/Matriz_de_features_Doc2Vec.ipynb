{
  "nbformat": 4,
  "nbformat_minor": 0,
  "metadata": {
    "colab": {
      "name": "Matriz de features - Doc2Vec.ipynb",
      "provenance": [],
      "collapsed_sections": [
        "zGivZWErl6Z0",
        "IwJMx28YsGYX"
      ]
    },
    "kernelspec": {
      "name": "python3",
      "display_name": "Python 3"
    }
  },
  "cells": [
    {
      "cell_type": "code",
      "metadata": {
        "id": "20upOrYnr668",
        "colab_type": "code",
        "colab": {}
      },
      "source": [
        "import pandas as pd\n",
        "from gensim.models.doc2vec import Doc2Vec, TaggedDocument\n",
        "from collections import namedtuple\n",
        "from google.colab import files\n",
        "from sklearn import preprocessing\n",
        "from sklearn.model_selection import train_test_split"
      ],
      "execution_count": 53,
      "outputs": []
    },
    {
      "cell_type": "markdown",
      "metadata": {
        "id": "zGivZWErl6Z0",
        "colab_type": "text"
      },
      "source": [
        "##Importamos los CSV a utilizar para armar las matrices"
      ]
    },
    {
      "cell_type": "code",
      "metadata": {
        "id": "F_w-ZxyyX7bC",
        "colab_type": "code",
        "colab": {}
      },
      "source": [
        "from pydrive.auth import GoogleAuth\n",
        "from pydrive.drive import GoogleDrive\n",
        "from google.colab import auth\n",
        "from oauth2client.client import GoogleCredentials\n",
        "\n",
        "# Authenticate and create the PyDrive client\n",
        "auth.authenticate_user()\n",
        "gauth = GoogleAuth()\n",
        "gauth.credentials = GoogleCredentials.get_application_default()\n",
        "drive = GoogleDrive(gauth)"
      ],
      "execution_count": 54,
      "outputs": []
    },
    {
      "cell_type": "code",
      "metadata": {
        "id": "rsx53OsvqqtM",
        "colab_type": "code",
        "colab": {}
      },
      "source": [
        "id='1slJiG-M_oawvkzaqWzZkSmVxxZor6mKQ'\n",
        "downloaded = drive.CreateFile({'id': id})\n",
        "downloaded.GetContentFile('train_features.csv')\n",
        "\n",
        "id='1TmL2AY_yymiV8zXVvmbqXsIZoexR9sLs'\n",
        "downloaded = drive.CreateFile({'id': id})\n",
        "downloaded.GetContentFile('test_features.csv')\n",
        "\n",
        "\n",
        "id='1J0GcaPrz3SDrfuRjJiSGapHjCTCy094x'\n",
        "downloaded = drive.CreateFile({'id': id})\n",
        "downloaded.GetContentFile('test_limpio.csv')\n",
        "\n",
        "id='1r9I2BE6oMDpSlQPS9OJIK_d0OW4G6yAG'\n",
        "downloaded = drive.CreateFile({'id': id})\n",
        "downloaded.GetContentFile('train_limpio.csv')\n",
        "\n",
        "id='1Pk5MK9Hs_kMUT9NotGnOKE0NPra-39YU'\n",
        "downloaded = drive.CreateFile({'id': id})\n",
        "downloaded.GetContentFile('train.csv')\n",
        "\n",
        "id='1GsTM9oLtIV8-Da_fDOFWsQYMpgQ8GOYJ'\n",
        "downloaded = drive.CreateFile({'id': id})\n",
        "downloaded.GetContentFile('test.csv')"
      ],
      "execution_count": 55,
      "outputs": []
    },
    {
      "cell_type": "code",
      "metadata": {
        "id": "4E9cDef_YNS7",
        "colab_type": "code",
        "colab": {}
      },
      "source": [
        "train_features = pd.read_csv('train_features.csv')\n",
        "test_features = pd.read_csv('test_features.csv')\n",
        "test_limpio = pd.read_csv('test_limpio.csv')\n",
        "train_limpio = pd.read_csv('train_limpio.csv')\n",
        "train = pd.read_csv('train.csv')\n",
        "test = pd.read_csv('test.csv')"
      ],
      "execution_count": 56,
      "outputs": []
    },
    {
      "cell_type": "code",
      "metadata": {
        "id": "-uYZuMiarJdc",
        "colab_type": "code",
        "colab": {}
      },
      "source": [
        "train['text'] = train_limpio['text']\n",
        "test['text'] = test_limpio['text']"
      ],
      "execution_count": 57,
      "outputs": []
    },
    {
      "cell_type": "code",
      "metadata": {
        "id": "LWGwOBIwa9TP",
        "colab_type": "code",
        "colab": {}
      },
      "source": [
        "train['text'] = train['text'].fillna(' ')\n",
        "test['text'] = test['text'].fillna(' ')\n",
        "train['keyword'] = train['keyword'].fillna(' ')\n",
        "test['keyword'] = test['keyword'].fillna(' ')"
      ],
      "execution_count": 76,
      "outputs": []
    },
    {
      "cell_type": "markdown",
      "metadata": {
        "id": "kN-mYzRMaLAb",
        "colab_type": "text"
      },
      "source": [
        "##Funciones para realizar el encoding con Doc2Vec"
      ]
    },
    {
      "cell_type": "code",
      "metadata": {
        "id": "smK0e4fvr8st",
        "colab_type": "code",
        "colab": {}
      },
      "source": [
        "def tag(lista_texto):\n",
        "  text_tag = []\n",
        "  analyzedDocument = namedtuple('AnalyzedDocument', 'words tags')\n",
        "  for i, text in enumerate(lista_texto):\n",
        "      words = text.lower().split()\n",
        "      tags = [i]\n",
        "      text_tag.append(analyzedDocument(words, tags))\n",
        "  return text_tag"
      ],
      "execution_count": 63,
      "outputs": []
    },
    {
      "cell_type": "code",
      "metadata": {
        "id": "LIYO8WYvsLF6",
        "colab_type": "code",
        "colab": {}
      },
      "source": [
        "def doc2vec(lista_taggeada):\n",
        "  max_epochs = 10\n",
        "  vec_size = 100\n",
        "  alpha = 0.025\n",
        "\n",
        "  model = Doc2Vec(size=vec_size, alpha=alpha, min_alpha=0.00025, min_count=1, dm =1)\n",
        "    \n",
        "  model.build_vocab(lista_taggeada)\n",
        "\n",
        "  for epoch in range(max_epochs):\n",
        "      model.train(lista_taggeada, total_examples=model.corpus_count, epochs=model.iter)\n",
        "      model.alpha -= 0.0002\n",
        "      model.min_alpha = model.alpha\n",
        "      \n",
        "  return model"
      ],
      "execution_count": 51,
      "outputs": []
    },
    {
      "cell_type": "code",
      "metadata": {
        "id": "4jFH40-ysQND",
        "colab_type": "code",
        "colab": {}
      },
      "source": [
        "def get_vectors_doc2vec(modelo):\n",
        "  vectors = []\n",
        "  for i in range(len(modelo.docvecs)):\n",
        "    vectors.append(list(modelo.docvecs[i]))\n",
        "  return vectors"
      ],
      "execution_count": 52,
      "outputs": []
    },
    {
      "cell_type": "markdown",
      "metadata": {
        "id": "IwJMx28YsGYX",
        "colab_type": "text"
      },
      "source": [
        "##Doc2vec, para text solo"
      ]
    },
    {
      "cell_type": "code",
      "metadata": {
        "id": "t48mZXcQs1Yl",
        "colab_type": "code",
        "colab": {}
      },
      "source": [
        "train_lista_texto = list(train['text'])"
      ],
      "execution_count": null,
      "outputs": []
    },
    {
      "cell_type": "code",
      "metadata": {
        "id": "yZwzxzx8x5aq",
        "colab_type": "code",
        "colab": {}
      },
      "source": [
        "test_lista_texto = list(test['text'])"
      ],
      "execution_count": null,
      "outputs": []
    },
    {
      "cell_type": "markdown",
      "metadata": {
        "id": "F55Adl1iusia",
        "colab_type": "text"
      },
      "source": [
        "\n",
        "Realizamos el encoding para el Train"
      ]
    },
    {
      "cell_type": "code",
      "metadata": {
        "id": "vM7TGHMaX1HH",
        "colab_type": "code",
        "colab": {
          "base_uri": "https://localhost:8080/",
          "height": 104
        },
        "outputId": "ac3beb98-e884-42b0-8661-ded2e9152076"
      },
      "source": [
        "tex_taggeado = tag(train_lista_texto)\n",
        "modelo = doc2vec(tex_taggeado)\n",
        "train_vectors = get_vectors_doc2vec(modelo)"
      ],
      "execution_count": 64,
      "outputs": [
        {
          "output_type": "stream",
          "text": [
            "/usr/local/lib/python3.6/dist-packages/gensim/models/doc2vec.py:570: UserWarning: The parameter `size` is deprecated, will be removed in 4.0.0, use `vector_size` instead.\n",
            "  warnings.warn(\"The parameter `size` is deprecated, will be removed in 4.0.0, use `vector_size` instead.\")\n",
            "/usr/local/lib/python3.6/dist-packages/ipykernel_launcher.py:11: DeprecationWarning: Call to deprecated `iter` (Attribute will be removed in 4.0.0, use self.epochs instead).\n",
            "  # This is added back by InteractiveShellApp.init_path()\n"
          ],
          "name": "stderr"
        }
      ]
    },
    {
      "cell_type": "code",
      "metadata": {
        "id": "I609nAUQvGoE",
        "colab_type": "code",
        "colab": {}
      },
      "source": [
        "matriz_doc2vec_train = pd.DataFrame(train_vectors)\n",
        "matriz_doc2vec_train.to_csv('matriz_train_doc2vec_solo_text.csv', index=False)"
      ],
      "execution_count": 66,
      "outputs": []
    },
    {
      "cell_type": "code",
      "metadata": {
        "id": "4kyC4dl5vUtc",
        "colab_type": "code",
        "colab": {
          "base_uri": "https://localhost:8080/",
          "height": 17
        },
        "outputId": "a9338e29-6063-4048-c10f-52768541dc50"
      },
      "source": [
        "files.download('matriz_train_doc2vec_solo_text.csv')"
      ],
      "execution_count": 67,
      "outputs": [
        {
          "output_type": "display_data",
          "data": {
            "application/javascript": [
              "\n",
              "    async function download(id, filename, size) {\n",
              "      if (!google.colab.kernel.accessAllowed) {\n",
              "        return;\n",
              "      }\n",
              "      const div = document.createElement('div');\n",
              "      const label = document.createElement('label');\n",
              "      label.textContent = `Downloading \"${filename}\": `;\n",
              "      div.appendChild(label);\n",
              "      const progress = document.createElement('progress');\n",
              "      progress.max = size;\n",
              "      div.appendChild(progress);\n",
              "      document.body.appendChild(div);\n",
              "\n",
              "      const buffers = [];\n",
              "      let downloaded = 0;\n",
              "\n",
              "      const channel = await google.colab.kernel.comms.open(id);\n",
              "      // Send a message to notify the kernel that we're ready.\n",
              "      channel.send({})\n",
              "\n",
              "      for await (const message of channel.messages) {\n",
              "        // Send a message to notify the kernel that we're ready.\n",
              "        channel.send({})\n",
              "        if (message.buffers) {\n",
              "          for (const buffer of message.buffers) {\n",
              "            buffers.push(buffer);\n",
              "            downloaded += buffer.byteLength;\n",
              "            progress.value = downloaded;\n",
              "          }\n",
              "        }\n",
              "      }\n",
              "      const blob = new Blob(buffers, {type: 'application/binary'});\n",
              "      const a = document.createElement('a');\n",
              "      a.href = window.URL.createObjectURL(blob);\n",
              "      a.download = filename;\n",
              "      div.appendChild(a);\n",
              "      a.click();\n",
              "      div.remove();\n",
              "    }\n",
              "  "
            ],
            "text/plain": [
              "<IPython.core.display.Javascript object>"
            ]
          },
          "metadata": {
            "tags": []
          }
        },
        {
          "output_type": "display_data",
          "data": {
            "application/javascript": [
              "download(\"download_de747830-0675-4e69-838e-8d90b624e5bf\", \"matriz_train_doc2vec_solo_text.csv\", 15400846)"
            ],
            "text/plain": [
              "<IPython.core.display.Javascript object>"
            ]
          },
          "metadata": {
            "tags": []
          }
        }
      ]
    },
    {
      "cell_type": "markdown",
      "metadata": {
        "id": "P-3RvAsbxRAf",
        "colab_type": "text"
      },
      "source": [
        "Realizamos el encoding para el Test"
      ]
    },
    {
      "cell_type": "code",
      "metadata": {
        "id": "ocFMqcp5aZmi",
        "colab_type": "code",
        "colab": {
          "base_uri": "https://localhost:8080/",
          "height": 104
        },
        "outputId": "26ccefff-6c7c-4d66-c455-626bb26e6dba"
      },
      "source": [
        "tex_taggeado = tag(test_lista_texto)\n",
        "modelo = doc2vec(tex_taggeado)\n",
        "test_vectors = get_vectors_doc2vec(modelo)"
      ],
      "execution_count": 68,
      "outputs": [
        {
          "output_type": "stream",
          "text": [
            "/usr/local/lib/python3.6/dist-packages/gensim/models/doc2vec.py:570: UserWarning: The parameter `size` is deprecated, will be removed in 4.0.0, use `vector_size` instead.\n",
            "  warnings.warn(\"The parameter `size` is deprecated, will be removed in 4.0.0, use `vector_size` instead.\")\n",
            "/usr/local/lib/python3.6/dist-packages/ipykernel_launcher.py:11: DeprecationWarning: Call to deprecated `iter` (Attribute will be removed in 4.0.0, use self.epochs instead).\n",
            "  # This is added back by InteractiveShellApp.init_path()\n"
          ],
          "name": "stderr"
        }
      ]
    },
    {
      "cell_type": "code",
      "metadata": {
        "id": "Vkwicbg0y_Ss",
        "colab_type": "code",
        "colab": {}
      },
      "source": [
        "matriz_doc2vec_test = pd.DataFrame(test_vectors)\n",
        "matriz_doc2vec_test.to_csv('matriz_test_doc2vec_solo_text.csv', index=False)"
      ],
      "execution_count": 69,
      "outputs": []
    },
    {
      "cell_type": "code",
      "metadata": {
        "id": "9QjXkPrVzIOA",
        "colab_type": "code",
        "colab": {
          "base_uri": "https://localhost:8080/",
          "height": 17
        },
        "outputId": "9c2ae0b7-9eaa-4dbe-988a-33c055c924c0"
      },
      "source": [
        "files.download('matriz_test_doc2vec_solo_text.csv')"
      ],
      "execution_count": 70,
      "outputs": [
        {
          "output_type": "display_data",
          "data": {
            "application/javascript": [
              "\n",
              "    async function download(id, filename, size) {\n",
              "      if (!google.colab.kernel.accessAllowed) {\n",
              "        return;\n",
              "      }\n",
              "      const div = document.createElement('div');\n",
              "      const label = document.createElement('label');\n",
              "      label.textContent = `Downloading \"${filename}\": `;\n",
              "      div.appendChild(label);\n",
              "      const progress = document.createElement('progress');\n",
              "      progress.max = size;\n",
              "      div.appendChild(progress);\n",
              "      document.body.appendChild(div);\n",
              "\n",
              "      const buffers = [];\n",
              "      let downloaded = 0;\n",
              "\n",
              "      const channel = await google.colab.kernel.comms.open(id);\n",
              "      // Send a message to notify the kernel that we're ready.\n",
              "      channel.send({})\n",
              "\n",
              "      for await (const message of channel.messages) {\n",
              "        // Send a message to notify the kernel that we're ready.\n",
              "        channel.send({})\n",
              "        if (message.buffers) {\n",
              "          for (const buffer of message.buffers) {\n",
              "            buffers.push(buffer);\n",
              "            downloaded += buffer.byteLength;\n",
              "            progress.value = downloaded;\n",
              "          }\n",
              "        }\n",
              "      }\n",
              "      const blob = new Blob(buffers, {type: 'application/binary'});\n",
              "      const a = document.createElement('a');\n",
              "      a.href = window.URL.createObjectURL(blob);\n",
              "      a.download = filename;\n",
              "      div.appendChild(a);\n",
              "      a.click();\n",
              "      div.remove();\n",
              "    }\n",
              "  "
            ],
            "text/plain": [
              "<IPython.core.display.Javascript object>"
            ]
          },
          "metadata": {
            "tags": []
          }
        },
        {
          "output_type": "display_data",
          "data": {
            "application/javascript": [
              "download(\"download_3ea576b9-80a5-4430-b9ac-62eaace4cda7\", \"matriz_test_doc2vec_solo_text.csv\", 6614262)"
            ],
            "text/plain": [
              "<IPython.core.display.Javascript object>"
            ]
          },
          "metadata": {
            "tags": []
          }
        }
      ]
    },
    {
      "cell_type": "markdown",
      "metadata": {
        "id": "xknKNyUvWzJm",
        "colab_type": "text"
      },
      "source": [
        "##DOC2VEC, para text y keyword"
      ]
    },
    {
      "cell_type": "code",
      "metadata": {
        "id": "8oa2RCaTW4jE",
        "colab_type": "code",
        "colab": {}
      },
      "source": [
        "train_lista_texto_keyword = list(train['text'] + ' ' + train['keyword'])\n",
        "test_lista_texto_keyword = list(test['text'] + ' ' + test['keyword'])"
      ],
      "execution_count": 95,
      "outputs": []
    },
    {
      "cell_type": "markdown",
      "metadata": {
        "id": "V43foHgFdD8M",
        "colab_type": "text"
      },
      "source": [
        "Realizamos el encoding para el Train"
      ]
    },
    {
      "cell_type": "code",
      "metadata": {
        "id": "S1zsibbJbgo3",
        "colab_type": "code",
        "colab": {
          "base_uri": "https://localhost:8080/",
          "height": 104
        },
        "outputId": "7c82a081-e916-4367-812e-73546f30cca1"
      },
      "source": [
        "tex_taggeado = tag(train_lista_texto_keyword)\n",
        "modelo = doc2vec(tex_taggeado)\n",
        "train_vectors_tk = get_vectors_doc2vec(modelo)"
      ],
      "execution_count": 99,
      "outputs": [
        {
          "output_type": "stream",
          "text": [
            "/usr/local/lib/python3.6/dist-packages/gensim/models/doc2vec.py:570: UserWarning: The parameter `size` is deprecated, will be removed in 4.0.0, use `vector_size` instead.\n",
            "  warnings.warn(\"The parameter `size` is deprecated, will be removed in 4.0.0, use `vector_size` instead.\")\n",
            "/usr/local/lib/python3.6/dist-packages/ipykernel_launcher.py:11: DeprecationWarning: Call to deprecated `iter` (Attribute will be removed in 4.0.0, use self.epochs instead).\n",
            "  # This is added back by InteractiveShellApp.init_path()\n"
          ],
          "name": "stderr"
        }
      ]
    },
    {
      "cell_type": "code",
      "metadata": {
        "id": "gEDB709vbip7",
        "colab_type": "code",
        "colab": {}
      },
      "source": [
        "matriz_doc2vec_train2 = pd.DataFrame(train_vectors_tk)\n",
        "matriz_doc2vec_train2.to_csv('matriz_train_doc2vec_text_keyword.csv', index=False)"
      ],
      "execution_count": 111,
      "outputs": []
    },
    {
      "cell_type": "code",
      "metadata": {
        "id": "u7NvFxB2dmSR",
        "colab_type": "code",
        "colab": {
          "base_uri": "https://localhost:8080/",
          "height": 17
        },
        "outputId": "bef2b015-ef20-4bf5-890e-bfd5306442ac"
      },
      "source": [
        "files.download('matriz_train_doc2vec_text_keyword.csv')"
      ],
      "execution_count": 102,
      "outputs": [
        {
          "output_type": "display_data",
          "data": {
            "application/javascript": [
              "\n",
              "    async function download(id, filename, size) {\n",
              "      if (!google.colab.kernel.accessAllowed) {\n",
              "        return;\n",
              "      }\n",
              "      const div = document.createElement('div');\n",
              "      const label = document.createElement('label');\n",
              "      label.textContent = `Downloading \"${filename}\": `;\n",
              "      div.appendChild(label);\n",
              "      const progress = document.createElement('progress');\n",
              "      progress.max = size;\n",
              "      div.appendChild(progress);\n",
              "      document.body.appendChild(div);\n",
              "\n",
              "      const buffers = [];\n",
              "      let downloaded = 0;\n",
              "\n",
              "      const channel = await google.colab.kernel.comms.open(id);\n",
              "      // Send a message to notify the kernel that we're ready.\n",
              "      channel.send({})\n",
              "\n",
              "      for await (const message of channel.messages) {\n",
              "        // Send a message to notify the kernel that we're ready.\n",
              "        channel.send({})\n",
              "        if (message.buffers) {\n",
              "          for (const buffer of message.buffers) {\n",
              "            buffers.push(buffer);\n",
              "            downloaded += buffer.byteLength;\n",
              "            progress.value = downloaded;\n",
              "          }\n",
              "        }\n",
              "      }\n",
              "      const blob = new Blob(buffers, {type: 'application/binary'});\n",
              "      const a = document.createElement('a');\n",
              "      a.href = window.URL.createObjectURL(blob);\n",
              "      a.download = filename;\n",
              "      div.appendChild(a);\n",
              "      a.click();\n",
              "      div.remove();\n",
              "    }\n",
              "  "
            ],
            "text/plain": [
              "<IPython.core.display.Javascript object>"
            ]
          },
          "metadata": {
            "tags": []
          }
        },
        {
          "output_type": "display_data",
          "data": {
            "application/javascript": [
              "download(\"download_1f05e1a8-8297-4bea-b62b-73565f36e318\", \"matriz_train_doc2vec_text_keyword.csv\", 15359469)"
            ],
            "text/plain": [
              "<IPython.core.display.Javascript object>"
            ]
          },
          "metadata": {
            "tags": []
          }
        }
      ]
    },
    {
      "cell_type": "markdown",
      "metadata": {
        "id": "-GqGDHbOd-Rx",
        "colab_type": "text"
      },
      "source": [
        "Realizamos el encoding para el Test"
      ]
    },
    {
      "cell_type": "code",
      "metadata": {
        "id": "euO_3M3hd8_2",
        "colab_type": "code",
        "colab": {
          "base_uri": "https://localhost:8080/",
          "height": 104
        },
        "outputId": "c84a0f08-3d1a-47a7-dca1-59b596efaba5"
      },
      "source": [
        "tex_taggeado = tag(test_lista_texto_keyword)\n",
        "modelo = doc2vec(tex_taggeado)\n",
        "test_vectors_tk = get_vectors_doc2vec(modelo)"
      ],
      "execution_count": 103,
      "outputs": [
        {
          "output_type": "stream",
          "text": [
            "/usr/local/lib/python3.6/dist-packages/gensim/models/doc2vec.py:570: UserWarning: The parameter `size` is deprecated, will be removed in 4.0.0, use `vector_size` instead.\n",
            "  warnings.warn(\"The parameter `size` is deprecated, will be removed in 4.0.0, use `vector_size` instead.\")\n",
            "/usr/local/lib/python3.6/dist-packages/ipykernel_launcher.py:11: DeprecationWarning: Call to deprecated `iter` (Attribute will be removed in 4.0.0, use self.epochs instead).\n",
            "  # This is added back by InteractiveShellApp.init_path()\n"
          ],
          "name": "stderr"
        }
      ]
    },
    {
      "cell_type": "code",
      "metadata": {
        "id": "dc7Yb_SUe2Ux",
        "colab_type": "code",
        "colab": {}
      },
      "source": [
        "matriz_doc2vec_test2 = pd.DataFrame(test_vectors_tk)\n",
        "matriz_doc2vec_test2.to_csv('matriz_test_doc2vec_text_keyword.csv', index=False)"
      ],
      "execution_count": 106,
      "outputs": []
    },
    {
      "cell_type": "code",
      "metadata": {
        "id": "Xn7aCBg_e5Nh",
        "colab_type": "code",
        "colab": {
          "base_uri": "https://localhost:8080/",
          "height": 17
        },
        "outputId": "99b88bd1-909e-4523-c8c6-31f7fc36fe16"
      },
      "source": [
        "files.download('matriz_test_doc2vec_text_keyword.csv')"
      ],
      "execution_count": 108,
      "outputs": [
        {
          "output_type": "display_data",
          "data": {
            "application/javascript": [
              "\n",
              "    async function download(id, filename, size) {\n",
              "      if (!google.colab.kernel.accessAllowed) {\n",
              "        return;\n",
              "      }\n",
              "      const div = document.createElement('div');\n",
              "      const label = document.createElement('label');\n",
              "      label.textContent = `Downloading \"${filename}\": `;\n",
              "      div.appendChild(label);\n",
              "      const progress = document.createElement('progress');\n",
              "      progress.max = size;\n",
              "      div.appendChild(progress);\n",
              "      document.body.appendChild(div);\n",
              "\n",
              "      const buffers = [];\n",
              "      let downloaded = 0;\n",
              "\n",
              "      const channel = await google.colab.kernel.comms.open(id);\n",
              "      // Send a message to notify the kernel that we're ready.\n",
              "      channel.send({})\n",
              "\n",
              "      for await (const message of channel.messages) {\n",
              "        // Send a message to notify the kernel that we're ready.\n",
              "        channel.send({})\n",
              "        if (message.buffers) {\n",
              "          for (const buffer of message.buffers) {\n",
              "            buffers.push(buffer);\n",
              "            downloaded += buffer.byteLength;\n",
              "            progress.value = downloaded;\n",
              "          }\n",
              "        }\n",
              "      }\n",
              "      const blob = new Blob(buffers, {type: 'application/binary'});\n",
              "      const a = document.createElement('a');\n",
              "      a.href = window.URL.createObjectURL(blob);\n",
              "      a.download = filename;\n",
              "      div.appendChild(a);\n",
              "      a.click();\n",
              "      div.remove();\n",
              "    }\n",
              "  "
            ],
            "text/plain": [
              "<IPython.core.display.Javascript object>"
            ]
          },
          "metadata": {
            "tags": []
          }
        },
        {
          "output_type": "display_data",
          "data": {
            "application/javascript": [
              "download(\"download_56d27c32-0f31-4c7e-b456-c5359e027401\", \"matriz_test_doc2vec_text_keyword.csv\", 6593433)"
            ],
            "text/plain": [
              "<IPython.core.display.Javascript object>"
            ]
          },
          "metadata": {
            "tags": []
          }
        }
      ]
    },
    {
      "cell_type": "markdown",
      "metadata": {
        "id": "3z7goQTmfftA",
        "colab_type": "text"
      },
      "source": [
        "##Matriz doc2vec para text keyword mas agregado de features numericos"
      ]
    },
    {
      "cell_type": "code",
      "metadata": {
        "id": "59jLvkF1fOAP",
        "colab_type": "code",
        "colab": {}
      },
      "source": [
        "numeric_features_test = test_features[['cant_stop_words', 'prom_long_palabra', 'cant_puntuacion', 'cant_apariciones_keyword', 'cant_numeros', 'cant_mayusculas', 'cant_vocales']]\n",
        "numeric_features_train = train_features[['cant_stop_words', 'prom_long_palabra', 'cant_puntuacion', 'cant_apariciones_keyword', 'cant_numeros', 'cant_mayusculas', 'cant_vocales']]"
      ],
      "execution_count": 109,
      "outputs": []
    },
    {
      "cell_type": "code",
      "metadata": {
        "id": "IqOUJdTagFn0",
        "colab_type": "code",
        "colab": {}
      },
      "source": [
        "doc2vec_features_numericos_train = pd.concat([matriz_doc2vec_train2, numeric_features_train], axis=1, sort=False)\n",
        "doc2vec_features_numericos_test = pd.concat([matriz_doc2vec_test2, numeric_features_test], axis=1, sort=False)"
      ],
      "execution_count": 112,
      "outputs": []
    },
    {
      "cell_type": "code",
      "metadata": {
        "id": "LXq6DP5MgSua",
        "colab_type": "code",
        "colab": {}
      },
      "source": [
        "doc2vec_features_numericos_train.to_csv('doc2vec_features_numericos_train.csv', index=False)\n",
        "doc2vec_features_numericos_test.to_csv('doc2vec_features_numericos_test.csv', index=False)"
      ],
      "execution_count": 115,
      "outputs": []
    },
    {
      "cell_type": "code",
      "metadata": {
        "id": "KNk-wmN5g-Yn",
        "colab_type": "code",
        "colab": {
          "base_uri": "https://localhost:8080/",
          "height": 17
        },
        "outputId": "3910424f-639e-4183-e028-706454a52b98"
      },
      "source": [
        "files.download('doc2vec_features_numericos_train.csv')\n",
        "files.download('doc2vec_features_numericos_test.csv')"
      ],
      "execution_count": 116,
      "outputs": [
        {
          "output_type": "display_data",
          "data": {
            "application/javascript": [
              "\n",
              "    async function download(id, filename, size) {\n",
              "      if (!google.colab.kernel.accessAllowed) {\n",
              "        return;\n",
              "      }\n",
              "      const div = document.createElement('div');\n",
              "      const label = document.createElement('label');\n",
              "      label.textContent = `Downloading \"${filename}\": `;\n",
              "      div.appendChild(label);\n",
              "      const progress = document.createElement('progress');\n",
              "      progress.max = size;\n",
              "      div.appendChild(progress);\n",
              "      document.body.appendChild(div);\n",
              "\n",
              "      const buffers = [];\n",
              "      let downloaded = 0;\n",
              "\n",
              "      const channel = await google.colab.kernel.comms.open(id);\n",
              "      // Send a message to notify the kernel that we're ready.\n",
              "      channel.send({})\n",
              "\n",
              "      for await (const message of channel.messages) {\n",
              "        // Send a message to notify the kernel that we're ready.\n",
              "        channel.send({})\n",
              "        if (message.buffers) {\n",
              "          for (const buffer of message.buffers) {\n",
              "            buffers.push(buffer);\n",
              "            downloaded += buffer.byteLength;\n",
              "            progress.value = downloaded;\n",
              "          }\n",
              "        }\n",
              "      }\n",
              "      const blob = new Blob(buffers, {type: 'application/binary'});\n",
              "      const a = document.createElement('a');\n",
              "      a.href = window.URL.createObjectURL(blob);\n",
              "      a.download = filename;\n",
              "      div.appendChild(a);\n",
              "      a.click();\n",
              "      div.remove();\n",
              "    }\n",
              "  "
            ],
            "text/plain": [
              "<IPython.core.display.Javascript object>"
            ]
          },
          "metadata": {
            "tags": []
          }
        },
        {
          "output_type": "display_data",
          "data": {
            "application/javascript": [
              "download(\"download_414b2da5-6788-4f23-b74b-cc856d760698\", \"doc2vec_features_numericos_train.csv\", 15573141)"
            ],
            "text/plain": [
              "<IPython.core.display.Javascript object>"
            ]
          },
          "metadata": {
            "tags": []
          }
        },
        {
          "output_type": "display_data",
          "data": {
            "application/javascript": [
              "\n",
              "    async function download(id, filename, size) {\n",
              "      if (!google.colab.kernel.accessAllowed) {\n",
              "        return;\n",
              "      }\n",
              "      const div = document.createElement('div');\n",
              "      const label = document.createElement('label');\n",
              "      label.textContent = `Downloading \"${filename}\": `;\n",
              "      div.appendChild(label);\n",
              "      const progress = document.createElement('progress');\n",
              "      progress.max = size;\n",
              "      div.appendChild(progress);\n",
              "      document.body.appendChild(div);\n",
              "\n",
              "      const buffers = [];\n",
              "      let downloaded = 0;\n",
              "\n",
              "      const channel = await google.colab.kernel.comms.open(id);\n",
              "      // Send a message to notify the kernel that we're ready.\n",
              "      channel.send({})\n",
              "\n",
              "      for await (const message of channel.messages) {\n",
              "        // Send a message to notify the kernel that we're ready.\n",
              "        channel.send({})\n",
              "        if (message.buffers) {\n",
              "          for (const buffer of message.buffers) {\n",
              "            buffers.push(buffer);\n",
              "            downloaded += buffer.byteLength;\n",
              "            progress.value = downloaded;\n",
              "          }\n",
              "        }\n",
              "      }\n",
              "      const blob = new Blob(buffers, {type: 'application/binary'});\n",
              "      const a = document.createElement('a');\n",
              "      a.href = window.URL.createObjectURL(blob);\n",
              "      a.download = filename;\n",
              "      div.appendChild(a);\n",
              "      a.click();\n",
              "      div.remove();\n",
              "    }\n",
              "  "
            ],
            "text/plain": [
              "<IPython.core.display.Javascript object>"
            ]
          },
          "metadata": {
            "tags": []
          }
        },
        {
          "output_type": "display_data",
          "data": {
            "application/javascript": [
              "download(\"download_bf844635-c61c-4a6f-9bfc-50ffa8273d01\", \"doc2vec_features_numericos_test.csv\", 6684604)"
            ],
            "text/plain": [
              "<IPython.core.display.Javascript object>"
            ]
          },
          "metadata": {
            "tags": []
          }
        }
      ]
    }
  ]
}