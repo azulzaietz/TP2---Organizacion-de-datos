{
  "nbformat": 4,
  "nbformat_minor": 0,
  "metadata": {
    "colab": {
      "name": "ML - Nuevos features.ipynb",
      "provenance": [],
      "collapsed_sections": []
    },
    "kernelspec": {
      "name": "python3",
      "display_name": "Python 3"
    }
  },
  "cells": [
    {
      "cell_type": "code",
      "metadata": {
        "id": "4MabbfEF1lSL",
        "colab_type": "code",
        "colab": {
          "base_uri": "https://localhost:8080/",
          "height": 34
        },
        "outputId": "e26644d0-bc09-49c0-c59c-a62b18c9d7d1"
      },
      "source": [
        "import pandas as pd\n",
        "import numpy as np\n",
        "\n",
        "from sklearn.neighbors import KNeighborsClassifier\n",
        "from sklearn.naive_bayes import MultinomialNB\n",
        "from sklearn.model_selection import GridSearchCV\n",
        "from sklearn.ensemble import RandomForestClassifier\n",
        "from sklearn.svm import SVC, LinearSVC, NuSVC\n",
        "from sklearn.ensemble import BaggingClassifier\n",
        "from sklearn.tree import DecisionTreeClassifier\n",
        "from xgboost import XGBClassifier\n",
        "\n",
        "from sklearn import metrics\n",
        "from sklearn.metrics import accuracy_score\n",
        "from sklearn.model_selection import train_test_split\n",
        "from sklearn import preprocessing\n",
        "from sklearn import model_selection\n",
        "\n",
        "from sklearn.datasets import fetch_20newsgroups\n",
        "from keras.layers import  Dropout, Dense\n",
        "from keras.models import Sequential"
      ],
      "execution_count": 1,
      "outputs": [
        {
          "output_type": "stream",
          "text": [
            "Using TensorFlow backend.\n"
          ],
          "name": "stderr"
        }
      ]
    },
    {
      "cell_type": "code",
      "metadata": {
        "id": "-_dO2NXB1G1P",
        "colab_type": "code",
        "colab": {}
      },
      "source": [
        "from pydrive.auth import GoogleAuth\n",
        "from pydrive.drive import GoogleDrive\n",
        "from google.colab import auth\n",
        "from oauth2client.client import GoogleCredentials\n",
        "\n",
        "# Authenticate and create the PyDrive client\n",
        "auth.authenticate_user()\n",
        "gauth = GoogleAuth()\n",
        "gauth.credentials = GoogleCredentials.get_application_default()\n",
        "drive = GoogleDrive(gauth)"
      ],
      "execution_count": 2,
      "outputs": []
    },
    {
      "cell_type": "code",
      "metadata": {
        "id": "9p3zz8l5Bc3W",
        "colab_type": "code",
        "colab": {}
      },
      "source": [
        "id='1Pk5MK9Hs_kMUT9NotGnOKE0NPra-39YU'\n",
        "downloaded = drive.CreateFile({'id': id})\n",
        "downloaded.GetContentFile('train.csv')"
      ],
      "execution_count": 3,
      "outputs": []
    },
    {
      "cell_type": "code",
      "metadata": {
        "id": "hMIzVuosBfwi",
        "colab_type": "code",
        "colab": {}
      },
      "source": [
        "train = pd.read_csv('train.csv')"
      ],
      "execution_count": 4,
      "outputs": []
    },
    {
      "cell_type": "code",
      "metadata": {
        "id": "Dct00taijaXf",
        "colab_type": "code",
        "colab": {}
      },
      "source": [
        "id='1GsTM9oLtIV8-Da_fDOFWsQYMpgQ8GOYJ'\n",
        "downloaded = drive.CreateFile({'id': id})\n",
        "downloaded.GetContentFile('test.csv')"
      ],
      "execution_count": 5,
      "outputs": []
    },
    {
      "cell_type": "code",
      "metadata": {
        "id": "iHAG-FzajbUn",
        "colab_type": "code",
        "colab": {}
      },
      "source": [
        "test = pd.read_csv('test.csv')"
      ],
      "execution_count": 6,
      "outputs": []
    },
    {
      "cell_type": "code",
      "metadata": {
        "id": "eJP40Ci4Br5i",
        "colab_type": "code",
        "colab": {}
      },
      "source": [
        "id='1TmL2AY_yymiV8zXVvmbqXsIZoexR9sLs'\n",
        "downloaded = drive.CreateFile({'id': id})\n",
        "downloaded.GetContentFile('test_features.csv')"
      ],
      "execution_count": 7,
      "outputs": []
    },
    {
      "cell_type": "code",
      "metadata": {
        "id": "ELz9Rzd4CCOP",
        "colab_type": "code",
        "colab": {}
      },
      "source": [
        "features_test = pd.read_csv('test_features.csv')"
      ],
      "execution_count": 76,
      "outputs": []
    },
    {
      "cell_type": "code",
      "metadata": {
        "id": "NmhrFFH7f4VH",
        "colab_type": "code",
        "colab": {
          "base_uri": "https://localhost:8080/",
          "height": 34
        },
        "outputId": "1b2e9b43-9026-4272-b526-cc5fe5011770"
      },
      "source": [
        "features_test.shape"
      ],
      "execution_count": 54,
      "outputs": [
        {
          "output_type": "execute_result",
          "data": {
            "text/plain": [
              "(3263, 23)"
            ]
          },
          "metadata": {
            "tags": []
          },
          "execution_count": 54
        }
      ]
    },
    {
      "cell_type": "code",
      "metadata": {
        "id": "KCEL8TaTCPiz",
        "colab_type": "code",
        "colab": {}
      },
      "source": [
        "id='1slJiG-M_oawvkzaqWzZkSmVxxZor6mKQ'\n",
        "downloaded = drive.CreateFile({'id': id})\n",
        "downloaded.GetContentFile('train_features.csv')"
      ],
      "execution_count": 55,
      "outputs": []
    },
    {
      "cell_type": "code",
      "metadata": {
        "id": "ttwzZYD6CQuX",
        "colab_type": "code",
        "colab": {}
      },
      "source": [
        "features_train = pd.read_csv('train_features.csv')"
      ],
      "execution_count": 77,
      "outputs": []
    },
    {
      "cell_type": "code",
      "metadata": {
        "id": "0MkkpfyQOoe8",
        "colab_type": "code",
        "colab": {}
      },
      "source": [
        "features_train.drop(columns=['id', 'keyword', 'location','text', 'target', 'longitud tweets', 'cant_palabras','cant_url', 'cant_hashtag', 'cant_mencion', 'cant_signos_pregunta', 'cant_signos_exclamacion', 'subjetividad', 'cant_oraciones', 'cant_minusculas', 'cant_consonant', 'palabras_unicas'], inplace = True)\n",
        "features_test.drop(columns=['id', 'keyword', 'location','text', 'longitud tweets', 'cant_palabras','cant_url', 'cant_hashtag', 'cant_mencion', 'cant_signos_pregunta', 'cant_signos_exclamacion', 'subjetividad', 'cant_oraciones', 'cant_minusculas', 'cant_consonant', \t'palabras_unicas'], inplace = True)"
      ],
      "execution_count": 78,
      "outputs": []
    },
    {
      "cell_type": "code",
      "metadata": {
        "id": "TEiflAjrJOkA",
        "colab_type": "code",
        "colab": {
          "base_uri": "https://localhost:8080/",
          "height": 34
        },
        "outputId": "4e7b096a-7caf-4b0b-af44-fc8a6e291397"
      },
      "source": [
        "features_test.shape"
      ],
      "execution_count": 81,
      "outputs": [
        {
          "output_type": "execute_result",
          "data": {
            "text/plain": [
              "(3263, 7)"
            ]
          },
          "metadata": {
            "tags": []
          },
          "execution_count": 81
        }
      ]
    },
    {
      "cell_type": "code",
      "metadata": {
        "id": "0wEyJtPQCwV5",
        "colab_type": "code",
        "colab": {}
      },
      "source": [
        "y = train.target\n",
        "x_train, x_validation, y_train, y_validation = train_test_split(features_train, y, test_size=0.3, stratify=y)"
      ],
      "execution_count": 80,
      "outputs": []
    },
    {
      "cell_type": "markdown",
      "metadata": {
        "id": "ZvZjErbF2o3N",
        "colab_type": "text"
      },
      "source": [
        "##KNN"
      ]
    },
    {
      "cell_type": "markdown",
      "metadata": {
        "id": "dxzd-0dAKvYH",
        "colab_type": "text"
      },
      "source": [
        "Buscamos los mejores hiperparametros"
      ]
    },
    {
      "cell_type": "code",
      "metadata": {
        "id": "BTkuwvH9EtSM",
        "colab_type": "code",
        "colab": {
          "base_uri": "https://localhost:8080/",
          "height": 50
        },
        "outputId": "0de5f417-c78d-4349-d555-79321ac86fe9"
      },
      "source": [
        "#BUSQUEDA DE HIPERPARAMETROS\n",
        "knn = KNeighborsClassifier()\n",
        "params_knn = {'n_neighbors': np.arange(1, 25)}\n",
        "knn_gs = GridSearchCV(knn, params_knn, cv=5)\n",
        "knn_gs.fit(x_train, y_train)\n",
        "\n",
        "knn_best = knn_gs.best_estimator_\n",
        "print(knn_gs.best_params_)\n",
        "\n",
        "print('knn score: {}'.format(knn_best.score(x_validation, y_validation)))"
      ],
      "execution_count": 82,
      "outputs": [
        {
          "output_type": "stream",
          "text": [
            "{'n_neighbors': 22}\n",
            "knn score: 0.6663747810858144\n"
          ],
          "name": "stdout"
        }
      ]
    },
    {
      "cell_type": "markdown",
      "metadata": {
        "id": "VxJG8avbLoxi",
        "colab_type": "text"
      },
      "source": [
        "Realizamos la prediccion con el modelo"
      ]
    },
    {
      "cell_type": "code",
      "metadata": {
        "id": "RU2nPooS95Da",
        "colab_type": "code",
        "colab": {}
      },
      "source": [
        "prediction_knn = knn_best.predict(features_test)\n",
        "submission_knn = pd.DataFrame(data={'id':test['id'], 'target': prediction_knn})\n",
        "submission_knn.to_csv('features_nuevos_knn.csv', index=False)"
      ],
      "execution_count": 83,
      "outputs": []
    },
    {
      "cell_type": "markdown",
      "metadata": {
        "id": "QDnbt2akcCjX",
        "colab_type": "text"
      },
      "source": [
        "#RED NEURONAL PROFUNDA"
      ]
    },
    {
      "cell_type": "code",
      "metadata": {
        "id": "i6VcjQlgcHOn",
        "colab_type": "code",
        "colab": {}
      },
      "source": [
        "def DNN_model(shape, nClasses, dropout=0.5):\n",
        "    model = Sequential()\n",
        "    node = 512\n",
        "    nLayers = 4\n",
        "    model.add(Dense(node,input_dim=shape,activation='relu'))\n",
        "    model.add(Dropout(dropout))\n",
        "    for i in range(0,nLayers):\n",
        "        model.add(Dense(node,input_dim=node,activation='relu'))\n",
        "        model.add(Dropout(dropout))\n",
        "    model.add(Dense(nClasses, activation='softmax'))\n",
        "    model.compile(loss='sparse_categorical_crossentropy', optimizer='adam', metrics=['accuracy'])\n",
        "    return model"
      ],
      "execution_count": 84,
      "outputs": []
    },
    {
      "cell_type": "code",
      "metadata": {
        "id": "UdFpzN-Ucc5s",
        "colab_type": "code",
        "colab": {
          "base_uri": "https://localhost:8080/",
          "height": 706
        },
        "outputId": "27ee4a35-2e55-474b-cef0-25a8d410dafe"
      },
      "source": [
        "model_DNN = DNN_model(features_train.shape[1], 2)\n",
        "model_DNN.fit(features_train, train.target, epochs=20, batch_size=128, verbose=2)"
      ],
      "execution_count": 85,
      "outputs": [
        {
          "output_type": "stream",
          "text": [
            "Epoch 1/20\n",
            " - 2s - loss: 1.0030 - accuracy: 0.5210\n",
            "Epoch 2/20\n",
            " - 2s - loss: 0.7023 - accuracy: 0.5395\n",
            "Epoch 3/20\n",
            " - 2s - loss: 0.6857 - accuracy: 0.5636\n",
            "Epoch 4/20\n",
            " - 2s - loss: 0.6768 - accuracy: 0.5815\n",
            "Epoch 5/20\n",
            " - 2s - loss: 0.6683 - accuracy: 0.5953\n",
            "Epoch 6/20\n",
            " - 2s - loss: 0.6684 - accuracy: 0.5861\n",
            "Epoch 7/20\n",
            " - 2s - loss: 0.6611 - accuracy: 0.6054\n",
            "Epoch 8/20\n",
            " - 2s - loss: 0.6550 - accuracy: 0.6134\n",
            "Epoch 9/20\n",
            " - 2s - loss: 0.6525 - accuracy: 0.6162\n",
            "Epoch 10/20\n",
            " - 2s - loss: 0.6481 - accuracy: 0.6271\n",
            "Epoch 11/20\n",
            " - 2s - loss: 0.6471 - accuracy: 0.6289\n",
            "Epoch 12/20\n",
            " - 2s - loss: 0.6489 - accuracy: 0.6310\n",
            "Epoch 13/20\n",
            " - 2s - loss: 0.6444 - accuracy: 0.6426\n",
            "Epoch 14/20\n",
            " - 2s - loss: 0.6412 - accuracy: 0.6461\n",
            "Epoch 15/20\n",
            " - 2s - loss: 0.6438 - accuracy: 0.6428\n",
            "Epoch 16/20\n",
            " - 2s - loss: 0.6360 - accuracy: 0.6451\n",
            "Epoch 17/20\n",
            " - 2s - loss: 0.6382 - accuracy: 0.6417\n",
            "Epoch 18/20\n",
            " - 2s - loss: 0.6371 - accuracy: 0.6447\n",
            "Epoch 19/20\n",
            " - 2s - loss: 0.6383 - accuracy: 0.6467\n",
            "Epoch 20/20\n",
            " - 2s - loss: 0.6339 - accuracy: 0.6520\n"
          ],
          "name": "stdout"
        },
        {
          "output_type": "execute_result",
          "data": {
            "text/plain": [
              "<keras.callbacks.callbacks.History at 0x7fcf44d0cc50>"
            ]
          },
          "metadata": {
            "tags": []
          },
          "execution_count": 85
        }
      ]
    },
    {
      "cell_type": "code",
      "metadata": {
        "id": "Wv2wcBTXcgT-",
        "colab_type": "code",
        "colab": {}
      },
      "source": [
        "prediction_dnn = model_DNN.predict_classes(features_test)"
      ],
      "execution_count": 86,
      "outputs": []
    },
    {
      "cell_type": "code",
      "metadata": {
        "id": "3AtiWZsDhrTO",
        "colab_type": "code",
        "colab": {}
      },
      "source": [
        "submission_dnn = pd.DataFrame(data={'id':test['id'], 'target': prediction_dnn})\n",
        "submission_dnn.to_csv('features_nuevos_dnn.csv', index=False)"
      ],
      "execution_count": null,
      "outputs": []
    },
    {
      "cell_type": "markdown",
      "metadata": {
        "id": "wyHI9-fPeSe_",
        "colab_type": "text"
      },
      "source": [
        "#RANDOM FOREST"
      ]
    },
    {
      "cell_type": "markdown",
      "metadata": {
        "id": "tn97xVuPkbi6",
        "colab_type": "text"
      },
      "source": [
        "GRID SEARCH"
      ]
    },
    {
      "cell_type": "code",
      "metadata": {
        "id": "AYky__5OeRd6",
        "colab_type": "code",
        "colab": {
          "base_uri": "https://localhost:8080/",
          "height": 353
        },
        "outputId": "6d348ef4-3cba-4cd4-eae5-1d3b14b48386"
      },
      "source": [
        "rf = RandomForestClassifier()\n",
        "params_rf = {'n_estimators': [50, 100, 200]}\n",
        "rf_gs = GridSearchCV(rf, params_rf, cv=5)\n",
        "rf_gs.fit(x_train, y_train)"
      ],
      "execution_count": 87,
      "outputs": [
        {
          "output_type": "execute_result",
          "data": {
            "text/plain": [
              "GridSearchCV(cv=5, error_score=nan,\n",
              "             estimator=RandomForestClassifier(bootstrap=True, ccp_alpha=0.0,\n",
              "                                              class_weight=None,\n",
              "                                              criterion='gini', max_depth=None,\n",
              "                                              max_features='auto',\n",
              "                                              max_leaf_nodes=None,\n",
              "                                              max_samples=None,\n",
              "                                              min_impurity_decrease=0.0,\n",
              "                                              min_impurity_split=None,\n",
              "                                              min_samples_leaf=1,\n",
              "                                              min_samples_split=2,\n",
              "                                              min_weight_fraction_leaf=0.0,\n",
              "                                              n_estimators=100, n_jobs=None,\n",
              "                                              oob_score=False,\n",
              "                                              random_state=None, verbose=0,\n",
              "                                              warm_start=False),\n",
              "             iid='deprecated', n_jobs=None,\n",
              "             param_grid={'n_estimators': [50, 100, 200]},\n",
              "             pre_dispatch='2*n_jobs', refit=True, return_train_score=False,\n",
              "             scoring=None, verbose=0)"
            ]
          },
          "metadata": {
            "tags": []
          },
          "execution_count": 87
        }
      ]
    },
    {
      "cell_type": "code",
      "metadata": {
        "id": "ZUIR3iv3eiUL",
        "colab_type": "code",
        "colab": {
          "base_uri": "https://localhost:8080/",
          "height": 34
        },
        "outputId": "f42c4e03-4e43-4bdd-f624-5b0e440878be"
      },
      "source": [
        "rf_best = rf_gs.best_estimator_\n",
        "print(rf_gs.best_params_)"
      ],
      "execution_count": 88,
      "outputs": [
        {
          "output_type": "stream",
          "text": [
            "{'n_estimators': 200}\n"
          ],
          "name": "stdout"
        }
      ]
    },
    {
      "cell_type": "code",
      "metadata": {
        "id": "kUsTQdvCekor",
        "colab_type": "code",
        "colab": {
          "base_uri": "https://localhost:8080/",
          "height": 34
        },
        "outputId": "ba610bcf-9cfb-4a2e-94db-d74dcf537fa6"
      },
      "source": [
        "print('rf: {}'.format(rf_best.score(x_validation, y_validation)))"
      ],
      "execution_count": 89,
      "outputs": [
        {
          "output_type": "stream",
          "text": [
            "rf: 0.6672504378283712\n"
          ],
          "name": "stdout"
        }
      ]
    },
    {
      "cell_type": "code",
      "metadata": {
        "id": "8q_ntXAse9lg",
        "colab_type": "code",
        "colab": {}
      },
      "source": [
        "prediction_rf = rf_best.predict(features_test)"
      ],
      "execution_count": 51,
      "outputs": []
    },
    {
      "cell_type": "code",
      "metadata": {
        "id": "ObKpzVDah7wM",
        "colab_type": "code",
        "colab": {}
      },
      "source": [
        "submission_rf = pd.DataFrame(data={'id':test['id'], 'target': prediction_rf})\n",
        "submission_rf.to_csv('doc2vec_rf.csv', index=False)"
      ],
      "execution_count": null,
      "outputs": []
    },
    {
      "cell_type": "markdown",
      "metadata": {
        "id": "q7DA1QKS5dKh",
        "colab_type": "text"
      },
      "source": [
        "BAGGING"
      ]
    },
    {
      "cell_type": "code",
      "metadata": {
        "colab_type": "code",
        "id": "t82eCIB95Q8S",
        "colab": {}
      },
      "source": [
        "seed = 7\n",
        "num_trees = 100"
      ],
      "execution_count": 90,
      "outputs": []
    },
    {
      "cell_type": "markdown",
      "metadata": {
        "colab_type": "text",
        "id": "BSn5i5nh5Q8t"
      },
      "source": [
        "BAGGING CLASSIFIER"
      ]
    },
    {
      "cell_type": "code",
      "metadata": {
        "colab_type": "code",
        "id": "DDquxz5K5Q86",
        "colab": {
          "base_uri": "https://localhost:8080/",
          "height": 34
        },
        "outputId": "33d8019d-61fa-4714-8a15-3aad82331ebb"
      },
      "source": [
        "kfold = model_selection.KFold(n_splits=10)\n",
        "cart = DecisionTreeClassifier()\n",
        "model = BaggingClassifier(base_estimator=cart, n_estimators=num_trees, random_state=seed)\n",
        "results = model_selection.cross_val_score(model, features_train, train.target, cv=kfold)\n",
        "print(results.mean())"
      ],
      "execution_count": 91,
      "outputs": [
        {
          "output_type": "stream",
          "text": [
            "0.6345687570919601\n"
          ],
          "name": "stdout"
        }
      ]
    },
    {
      "cell_type": "code",
      "metadata": {
        "colab_type": "code",
        "id": "BD5m8X9u5Q8_",
        "colab": {}
      },
      "source": [
        "prediction_bagg = model.predict(features_test)"
      ],
      "execution_count": null,
      "outputs": []
    },
    {
      "cell_type": "code",
      "metadata": {
        "colab_type": "code",
        "id": "2pwJw22y5Q9D",
        "colab": {}
      },
      "source": [
        "#submission_bagg = pd.DataFrame(data={'id':test['id'], 'target': prediction_bagg})\n",
        "#submission_bagg.to_csv('doc2vec_bagg.csv', index=False)"
      ],
      "execution_count": null,
      "outputs": []
    },
    {
      "cell_type": "markdown",
      "metadata": {
        "colab_type": "text",
        "id": "EJn6ybBk5Q9K"
      },
      "source": [
        "BAGGING CON RANDOM FOREST"
      ]
    },
    {
      "cell_type": "code",
      "metadata": {
        "colab_type": "code",
        "id": "4cE64W1g5Q9L",
        "colab": {
          "base_uri": "https://localhost:8080/",
          "height": 34
        },
        "outputId": "dc7bd87a-df46-4bfa-9918-be9f6b2ec5cd"
      },
      "source": [
        "max_features = 3\n",
        "kfold = model_selection.KFold(n_splits=10)\n",
        "model = RandomForestClassifier(n_estimators=num_trees, max_features=max_features)\n",
        "results = model_selection.cross_val_score(model, features_train, train.target, cv=kfold)\n",
        "print(results.mean())"
      ],
      "execution_count": 92,
      "outputs": [
        {
          "output_type": "stream",
          "text": [
            "0.6387706464418623\n"
          ],
          "name": "stdout"
        }
      ]
    },
    {
      "cell_type": "code",
      "metadata": {
        "colab_type": "code",
        "id": "aEGiHQ3T5Q9U",
        "colab": {}
      },
      "source": [
        "prediction_rf_bagg = model.predict(features_test)"
      ],
      "execution_count": null,
      "outputs": []
    },
    {
      "cell_type": "code",
      "metadata": {
        "colab_type": "code",
        "id": "m3MICW1o5Q9X",
        "colab": {}
      },
      "source": [
        "submission_rf_bagg = pd.DataFrame(data={'id':test['id'], 'target': prediction_rf_bagg})\n",
        "submission_rf_bagg.to_csv('doc2vec_rf_bagg.csv', index=False)"
      ],
      "execution_count": null,
      "outputs": []
    },
    {
      "cell_type": "markdown",
      "metadata": {
        "id": "dQ4oAPbuiZRs",
        "colab_type": "text"
      },
      "source": [
        "#NuSCV"
      ]
    },
    {
      "cell_type": "markdown",
      "metadata": {
        "id": "cUJccxFqmwwd",
        "colab_type": "text"
      },
      "source": [
        "TARDO NADA pero mala prediccion. MUY BUENA PREDICCION SOLO CON TFIDF SIN MAS FEATURES."
      ]
    },
    {
      "cell_type": "code",
      "metadata": {
        "id": "0JKU2lABmnvJ",
        "colab_type": "code",
        "colab": {
          "base_uri": "https://localhost:8080/",
          "height": 34
        },
        "outputId": "ab2b09e9-f145-41ef-bd6d-0d852479bfbc"
      },
      "source": [
        "nuscv = NuSVC(probability=True)\n",
        "nuscv.fit(x_train, y_train)\n",
        "\n",
        "print('rf: {}'.format(nuscv.score(x_validation, y_validation)))"
      ],
      "execution_count": 93,
      "outputs": [
        {
          "output_type": "stream",
          "text": [
            "rf: 0.5954465849387041\n"
          ],
          "name": "stdout"
        }
      ]
    },
    {
      "cell_type": "code",
      "metadata": {
        "id": "IocFdaWlWYge",
        "colab_type": "code",
        "colab": {}
      },
      "source": [
        "prediction_nuscv = nuscv.predict(features_test)\n",
        "\n",
        "submission_nuscv = pd.DataFrame(data={'id':test['id'], 'target': prediction_nuscv})\n",
        "submission_nuscv.to_csv('doc2vec_nuscv.csv', index=False)"
      ],
      "execution_count": null,
      "outputs": []
    },
    {
      "cell_type": "markdown",
      "metadata": {
        "id": "hQmTcW2IoTTa",
        "colab_type": "text"
      },
      "source": [
        "#XGBoost"
      ]
    },
    {
      "cell_type": "code",
      "metadata": {
        "id": "L6IO89ptoXG-",
        "colab_type": "code",
        "colab": {
          "base_uri": "https://localhost:8080/",
          "height": 134
        },
        "outputId": "aa8b1b48-9d89-47c3-bc8f-a77bb2d13c9f"
      },
      "source": [
        "model = XGBClassifier()\n",
        "model.fit(x_train, y_train)"
      ],
      "execution_count": 94,
      "outputs": [
        {
          "output_type": "execute_result",
          "data": {
            "text/plain": [
              "XGBClassifier(base_score=0.5, booster='gbtree', colsample_bylevel=1,\n",
              "              colsample_bynode=1, colsample_bytree=1, gamma=0,\n",
              "              learning_rate=0.1, max_delta_step=0, max_depth=3,\n",
              "              min_child_weight=1, missing=None, n_estimators=100, n_jobs=1,\n",
              "              nthread=None, objective='binary:logistic', random_state=0,\n",
              "              reg_alpha=0, reg_lambda=1, scale_pos_weight=1, seed=None,\n",
              "              silent=None, subsample=1, verbosity=1)"
            ]
          },
          "metadata": {
            "tags": []
          },
          "execution_count": 94
        }
      ]
    },
    {
      "cell_type": "code",
      "metadata": {
        "id": "22pYrTrxoUy7",
        "colab_type": "code",
        "colab": {
          "base_uri": "https://localhost:8080/",
          "height": 34
        },
        "outputId": "1395eeaa-aa1f-4439-9998-9e210346e933"
      },
      "source": [
        "y_pred = model.predict(x_validation)\n",
        "predictions = [round(value) for value in y_pred]\n",
        "accuracy = accuracy_score(y_validation, predictions)\n",
        "print(\"Accuracy: %.5f%%\" % (accuracy * 100.0))"
      ],
      "execution_count": 95,
      "outputs": [
        {
          "output_type": "stream",
          "text": [
            "Accuracy: 67.60070%\n"
          ],
          "name": "stdout"
        }
      ]
    },
    {
      "cell_type": "code",
      "metadata": {
        "id": "nV3naQTS0rNe",
        "colab_type": "code",
        "colab": {}
      },
      "source": [
        "submission_xgboost = pd.DataFrame(data={'id':test['id'], 'target': prediction_xgboost})\n",
        "submission_xgboost.to_csv('tf_idf_xgboost.csv', index=False)"
      ],
      "execution_count": null,
      "outputs": []
    }
  ]
}
