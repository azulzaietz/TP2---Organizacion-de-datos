{
  "nbformat": 4,
  "nbformat_minor": 0,
  "metadata": {
    "colab": {
      "name": "ML - Doc2Vec.ipynb",
      "provenance": [],
      "collapsed_sections": [
        "2l5aTJ2DxWI6",
        "ZvZjErbF2o3N",
        "QDnbt2akcCjX",
        "wyHI9-fPeSe_",
        "dQ4oAPbuiZRs"
      ]
    },
    "kernelspec": {
      "name": "python3",
      "display_name": "Python 3"
    }
  },
  "cells": [
    {
      "cell_type": "code",
      "metadata": {
        "id": "4MabbfEF1lSL",
        "colab_type": "code",
        "colab": {}
      },
      "source": [
        "import pandas as pd\n",
        "import numpy as np\n",
        "\n",
        "from sklearn.neighbors import KNeighborsClassifier\n",
        "from sklearn.naive_bayes import MultinomialNB\n",
        "from sklearn.model_selection import GridSearchCV, StratifiedKFold\n",
        "from sklearn.ensemble import RandomForestClassifier\n",
        "from sklearn.svm import SVC, LinearSVC, NuSVC\n",
        "from sklearn.ensemble import BaggingClassifier\n",
        "from sklearn.tree import DecisionTreeClassifier\n",
        "from xgboost import XGBClassifier\n",
        "\n",
        "from sklearn import metrics\n",
        "from sklearn.metrics import accuracy_score\n",
        "from sklearn.model_selection import train_test_split\n",
        "from sklearn import preprocessing\n",
        "from sklearn import model_selection\n",
        "\n",
        "from sklearn.datasets import fetch_20newsgroups\n",
        "from keras.layers import  Dropout, Dense\n",
        "from keras.models import Sequential"
      ],
      "execution_count": 2,
      "outputs": []
    },
    {
      "cell_type": "markdown",
      "metadata": {
        "id": "MlZEb6_mlt2E",
        "colab_type": "text"
      },
      "source": [
        "##Importamos las matrices a utilizar"
      ]
    },
    {
      "cell_type": "code",
      "metadata": {
        "id": "-_dO2NXB1G1P",
        "colab_type": "code",
        "colab": {}
      },
      "source": [
        "from pydrive.auth import GoogleAuth\n",
        "from pydrive.drive import GoogleDrive\n",
        "from google.colab import auth\n",
        "from oauth2client.client import GoogleCredentials\n",
        "\n",
        "# Authenticate and create the PyDrive client\n",
        "auth.authenticate_user()\n",
        "gauth = GoogleAuth()\n",
        "gauth.credentials = GoogleCredentials.get_application_default()\n",
        "drive = GoogleDrive(gauth)"
      ],
      "execution_count": 3,
      "outputs": []
    },
    {
      "cell_type": "code",
      "metadata": {
        "id": "V3wJsdDluWhU",
        "colab_type": "code",
        "colab": {}
      },
      "source": [
        "id='1Pk5MK9Hs_kMUT9NotGnOKE0NPra-39YU'\n",
        "downloaded = drive.CreateFile({'id': id})\n",
        "downloaded.GetContentFile('train.csv')\n",
        "\n",
        "train = pd.read_csv('train.csv')\n",
        "\n",
        "id='1GsTM9oLtIV8-Da_fDOFWsQYMpgQ8GOYJ'\n",
        "downloaded = drive.CreateFile({'id': id})\n",
        "downloaded.GetContentFile('test.csv')\n",
        "\n",
        "test = pd.read_csv('test.csv')"
      ],
      "execution_count": 4,
      "outputs": []
    },
    {
      "cell_type": "code",
      "metadata": {
        "id": "7_PEPby1ltJ8",
        "colab_type": "code",
        "colab": {}
      },
      "source": [
        "id= '1OrAkBep-bmOz-P-QR3P5csDejgiJG9bL'\n",
        "downloaded = drive.CreateFile({'id': id})\n",
        "downloaded.GetContentFile('doc2vec_features_numericos_test.csv')\n",
        "\n",
        "id= '17bNeSA9q59vTO6OW2lBTJPyw29QGQSxf'\n",
        "downloaded = drive.CreateFile({'id': id})\n",
        "downloaded.GetContentFile('doc2vec_features_numericos_train.csv')\n",
        "\n",
        "id= '1Ffgm1RoYdjqMuQgTap3o5bOSaNjIdO7l'\n",
        "downloaded = drive.CreateFile({'id': id})\n",
        "downloaded.GetContentFile('matriz_test_doc2vec_solo_text.csv')\n",
        "\n",
        "id= '1Q7m92Pbm08m0t9X8Q975IUkPWEoZQ--R'\n",
        "downloaded = drive.CreateFile({'id': id})\n",
        "downloaded.GetContentFile('matriz_train_doc2vec_solo_text.csv')\n",
        "\n",
        "id= '1qvK0vblQPKJSgE8dTphy7sactLSVp6xf'\n",
        "downloaded = drive.CreateFile({'id': id})\n",
        "downloaded.GetContentFile('matriz_test_doc2vec_text_keyword.csv')\n",
        "\n",
        "id= '1bQDT6HcEy46m2j2n92OLi5NmufCqaZ5Z'\n",
        "downloaded = drive.CreateFile({'id': id})\n",
        "downloaded.GetContentFile('matriz_train_doc2vec_text_keyword.csv')"
      ],
      "execution_count": 5,
      "outputs": []
    },
    {
      "cell_type": "code",
      "metadata": {
        "id": "ihBuAcOTnamE",
        "colab_type": "code",
        "colab": {}
      },
      "source": [
        "matriz_test_doc2vec_solo_text = pd.read_csv('matriz_test_doc2vec_solo_text.csv')\n",
        "matriz_train_doc2vec_solo_text = pd.read_csv('matriz_train_doc2vec_solo_text.csv')\n",
        "\n",
        "matriz_test_doc2vec_text_keyword = pd.read_csv('matriz_test_doc2vec_text_keyword.csv')\n",
        "matriz_train_doc2vec_text_keyword = pd.read_csv('matriz_train_doc2vec_text_keyword.csv')\n",
        "\n",
        "doc2vec_features_numericos_test = pd.read_csv('doc2vec_features_numericos_test.csv')\n",
        "doc2vec_features_numericos_train = pd.read_csv('doc2vec_features_numericos_train.csv')"
      ],
      "execution_count": 6,
      "outputs": []
    },
    {
      "cell_type": "code",
      "metadata": {
        "id": "_BTvQz0C2o9N",
        "colab_type": "code",
        "colab": {}
      },
      "source": [
        "def cross_val(model, x_train, y_train):\n",
        "  score_cross_val = model_selection.cross_val_score(model, x_train, y_train, cv=5)\n",
        "  print(score_cross_val.mean())"
      ],
      "execution_count": 19,
      "outputs": []
    },
    {
      "cell_type": "markdown",
      "metadata": {
        "id": "2l5aTJ2DxWI6",
        "colab_type": "text"
      },
      "source": [
        "##SPLIT DE LAS MATRICES"
      ]
    },
    {
      "cell_type": "code",
      "metadata": {
        "id": "7B2rZ_WOuQEN",
        "colab_type": "code",
        "colab": {}
      },
      "source": [
        "y = train.target"
      ],
      "execution_count": 7,
      "outputs": []
    },
    {
      "cell_type": "code",
      "metadata": {
        "id": "0wEyJtPQCwV5",
        "colab_type": "code",
        "colab": {}
      },
      "source": [
        "x_train_text, x_validation_text, y_train_text, y_validation_text = train_test_split(matriz_train_doc2vec_solo_text, y, test_size=0.3, stratify=y)\n",
        "x_train_text_keyword, x_validation_text_keyword, y_train_text_keyword, y_validation_text_keyword = train_test_split(matriz_train_doc2vec_text_keyword, y, test_size=0.3, stratify=y)\n",
        "x_train_numericos, x_validation_numericos, y_train_numericos, y_validation_numericos = train_test_split(doc2vec_features_numericos_train, y, test_size=0.3, stratify=y)"
      ],
      "execution_count": 8,
      "outputs": []
    },
    {
      "cell_type": "markdown",
      "metadata": {
        "id": "ZvZjErbF2o3N",
        "colab_type": "text"
      },
      "source": [
        "##KNN"
      ]
    },
    {
      "cell_type": "markdown",
      "metadata": {
        "id": "dxzd-0dAKvYH",
        "colab_type": "text"
      },
      "source": [
        "Funcion que aplica KNN con GridSearch y CV para encontrar los mejores hiperparametros para cada matriz probada."
      ]
    },
    {
      "cell_type": "code",
      "metadata": {
        "id": "BTkuwvH9EtSM",
        "colab_type": "code",
        "colab": {}
      },
      "source": [
        "def knn_con_gridsearch(x_train, y_train, x_validation, y_validation):\n",
        "\n",
        "  knn = KNeighborsClassifier()\n",
        "  params_knn = {'n_neighbors': np.arange(1, 25)}\n",
        "  knn_gs = GridSearchCV(knn, params_knn, cv=5)\n",
        "  knn_gs.fit(x_train, y_train)\n",
        "  knn_best = knn_gs.best_estimator_\n",
        "  \n",
        "  print(knn_gs.best_params_)\n",
        "  print('knn score: {}'.format(knn_best.score(x_validation, y_validation)))\n",
        "  \n",
        "  return knn_best"
      ],
      "execution_count": 9,
      "outputs": []
    },
    {
      "cell_type": "markdown",
      "metadata": {
        "id": "ViQPyKNIuDCP",
        "colab_type": "text"
      },
      "source": [
        "Corremos el algoritmo con cada matriz y comparamos los resultados."
      ]
    },
    {
      "cell_type": "code",
      "metadata": {
        "id": "Tm-p3-QkumGr",
        "colab_type": "code",
        "colab": {
          "base_uri": "https://localhost:8080/",
          "height": 50
        },
        "outputId": "1f1f8a14-b90e-40e3-a9db-d95d5a74b179"
      },
      "source": [
        "knn_text = knn_con_gridsearch(x_train_text, y_train_text, x_validation_text, y_validation_text)"
      ],
      "execution_count": 20,
      "outputs": [
        {
          "output_type": "stream",
          "text": [
            "{'n_neighbors': 20}\n",
            "knn score: 0.5652364273204904\n"
          ],
          "name": "stdout"
        }
      ]
    },
    {
      "cell_type": "code",
      "metadata": {
        "id": "Q63EuZuu3jzE",
        "colab_type": "code",
        "colab": {
          "base_uri": "https://localhost:8080/",
          "height": 34
        },
        "outputId": "871fccc1-917c-4fd5-df0c-218c0a57798d"
      },
      "source": [
        "cross_val(knn_text, x_train_text, y_train_text)"
      ],
      "execution_count": 21,
      "outputs": [
        {
          "output_type": "stream",
          "text": [
            "0.5697118797840199\n"
          ],
          "name": "stdout"
        }
      ]
    },
    {
      "cell_type": "code",
      "metadata": {
        "id": "efnYEi8fvVBy",
        "colab_type": "code",
        "colab": {
          "base_uri": "https://localhost:8080/",
          "height": 50
        },
        "outputId": "ffde0768-e5e2-463f-81a2-64d5c75721d2"
      },
      "source": [
        "knn_text_keyword = knn_con_gridsearch(x_train_text_keyword, y_train_text_keyword, x_validation_text_keyword, y_validation_text_keyword)"
      ],
      "execution_count": 27,
      "outputs": [
        {
          "output_type": "stream",
          "text": [
            "{'n_neighbors': 10}\n",
            "knn score: 0.6112084063047285\n"
          ],
          "name": "stdout"
        }
      ]
    },
    {
      "cell_type": "code",
      "metadata": {
        "id": "86VtthHI4T-0",
        "colab_type": "code",
        "colab": {
          "base_uri": "https://localhost:8080/",
          "height": 34
        },
        "outputId": "2415cb4d-7e70-4932-8ae7-1a84240ac6bd"
      },
      "source": [
        "cross_val(knn_text_keyword, x_train_text_keyword, y_train_text_keyword)"
      ],
      "execution_count": 28,
      "outputs": [
        {
          "output_type": "stream",
          "text": [
            "0.5978625725585534\n"
          ],
          "name": "stdout"
        }
      ]
    },
    {
      "cell_type": "code",
      "metadata": {
        "id": "t5Ebf8hdvVIt",
        "colab_type": "code",
        "colab": {
          "base_uri": "https://localhost:8080/",
          "height": 50
        },
        "outputId": "603caf91-ab49-41d6-9fc5-9a790ceaa151"
      },
      "source": [
        "knn_numericos = knn_con_gridsearch(x_train_numericos,y_train_numericos,  x_validation_numericos, y_validation_numericos)"
      ],
      "execution_count": 29,
      "outputs": [
        {
          "output_type": "stream",
          "text": [
            "{'n_neighbors': 24}\n",
            "knn score: 0.658493870402802\n"
          ],
          "name": "stdout"
        }
      ]
    },
    {
      "cell_type": "code",
      "metadata": {
        "id": "ZXhr6KKM4VJ6",
        "colab_type": "code",
        "colab": {
          "base_uri": "https://localhost:8080/",
          "height": 34
        },
        "outputId": "85dcd3a6-9e2e-4308-f8ee-bab71db06105"
      },
      "source": [
        "cross_val(knn_numericos, x_train_text, y_train_text)"
      ],
      "execution_count": 30,
      "outputs": [
        {
          "output_type": "stream",
          "text": [
            "0.5627661654731391\n"
          ],
          "name": "stdout"
        }
      ]
    },
    {
      "cell_type": "markdown",
      "metadata": {
        "id": "VxJG8avbLoxi",
        "colab_type": "text"
      },
      "source": [
        "Realizamos la prediccion con el modelo que haya dado mayor score"
      ]
    },
    {
      "cell_type": "code",
      "metadata": {
        "id": "RU2nPooS95Da",
        "colab_type": "code",
        "colab": {}
      },
      "source": [
        "#prediction_knn = knn_best.predict(doc2vec_features_numericos_test)\n",
        "#submission_knn = pd.DataFrame(data={'id':test['id'], 'target': prediction_knn})\n",
        "#submission_knn.to_csv('doc2vec_knn.csv', index=False)"
      ],
      "execution_count": null,
      "outputs": []
    },
    {
      "cell_type": "markdown",
      "metadata": {
        "id": "QDnbt2akcCjX",
        "colab_type": "text"
      },
      "source": [
        "#RED NEURONAL PROFUNDA"
      ]
    },
    {
      "cell_type": "code",
      "metadata": {
        "id": "i6VcjQlgcHOn",
        "colab_type": "code",
        "colab": {}
      },
      "source": [
        "def DNN_model(shape, nClasses, dropout=0.5):\n",
        "    model = Sequential()\n",
        "    node = 512\n",
        "    nLayers = 4\n",
        "    model.add(Dense(node,input_dim=shape,activation='relu'))\n",
        "    model.add(Dropout(dropout))\n",
        "    for i in range(0,nLayers):\n",
        "        model.add(Dense(node,input_dim=node,activation='relu'))\n",
        "        model.add(Dropout(dropout))\n",
        "    model.add(Dense(nClasses, activation='softmax'))\n",
        "    model.compile(loss='sparse_categorical_crossentropy', optimizer='adam', metrics=['accuracy'])\n",
        "    return model"
      ],
      "execution_count": 31,
      "outputs": []
    },
    {
      "cell_type": "markdown",
      "metadata": {
        "id": "5WsVnapnzPNT",
        "colab_type": "text"
      },
      "source": [
        "Corremos el algoritmo con cada matriz y comparamos los resultados."
      ]
    },
    {
      "cell_type": "code",
      "metadata": {
        "id": "UdFpzN-Ucc5s",
        "colab_type": "code",
        "colab": {
          "base_uri": "https://localhost:8080/",
          "height": 706
        },
        "outputId": "1820e261-f180-45ad-b054-fa758a55149e"
      },
      "source": [
        "model_DNN_text = DNN_model(matriz_train_doc2vec_solo_text.shape[1], 2)\n",
        "model_DNN_text.fit(matriz_train_doc2vec_solo_text, train.target, epochs=20, batch_size=128, verbose=2)"
      ],
      "execution_count": 32,
      "outputs": [
        {
          "output_type": "stream",
          "text": [
            "Epoch 1/20\n",
            "60/60 - 2s - loss: 0.6965 - accuracy: 0.5479\n",
            "Epoch 2/20\n",
            "60/60 - 2s - loss: 0.6860 - accuracy: 0.5627\n",
            "Epoch 3/20\n",
            "60/60 - 2s - loss: 0.6819 - accuracy: 0.5702\n",
            "Epoch 4/20\n",
            "60/60 - 2s - loss: 0.6817 - accuracy: 0.5672\n",
            "Epoch 5/20\n",
            "60/60 - 2s - loss: 0.6790 - accuracy: 0.5698\n",
            "Epoch 6/20\n",
            "60/60 - 2s - loss: 0.6764 - accuracy: 0.5812\n",
            "Epoch 7/20\n",
            "60/60 - 2s - loss: 0.6731 - accuracy: 0.5799\n",
            "Epoch 8/20\n",
            "60/60 - 2s - loss: 0.6704 - accuracy: 0.5801\n",
            "Epoch 9/20\n",
            "60/60 - 2s - loss: 0.6646 - accuracy: 0.5939\n",
            "Epoch 10/20\n",
            "60/60 - 2s - loss: 0.6576 - accuracy: 0.6042\n",
            "Epoch 11/20\n",
            "60/60 - 2s - loss: 0.6499 - accuracy: 0.6137\n",
            "Epoch 12/20\n",
            "60/60 - 2s - loss: 0.6425 - accuracy: 0.6226\n",
            "Epoch 13/20\n",
            "60/60 - 2s - loss: 0.6380 - accuracy: 0.6291\n",
            "Epoch 14/20\n",
            "60/60 - 2s - loss: 0.6269 - accuracy: 0.6495\n",
            "Epoch 15/20\n",
            "60/60 - 2s - loss: 0.6147 - accuracy: 0.6548\n",
            "Epoch 16/20\n",
            "60/60 - 2s - loss: 0.6053 - accuracy: 0.6707\n",
            "Epoch 17/20\n",
            "60/60 - 2s - loss: 0.6002 - accuracy: 0.6685\n",
            "Epoch 18/20\n",
            "60/60 - 2s - loss: 0.5876 - accuracy: 0.6735\n",
            "Epoch 19/20\n",
            "60/60 - 2s - loss: 0.5771 - accuracy: 0.6937\n",
            "Epoch 20/20\n",
            "60/60 - 2s - loss: 0.5609 - accuracy: 0.7046\n"
          ],
          "name": "stdout"
        },
        {
          "output_type": "execute_result",
          "data": {
            "text/plain": [
              "<tensorflow.python.keras.callbacks.History at 0x7f30422193c8>"
            ]
          },
          "metadata": {
            "tags": []
          },
          "execution_count": 32
        }
      ]
    },
    {
      "cell_type": "code",
      "metadata": {
        "id": "Wv2wcBTXcgT-",
        "colab_type": "code",
        "colab": {
          "base_uri": "https://localhost:8080/",
          "height": 706
        },
        "outputId": "0a969d1a-8d4e-4ee8-f678-fc53722fd19e"
      },
      "source": [
        "model_DNN_text_keyword = DNN_model(matriz_train_doc2vec_text_keyword.shape[1], 2)\n",
        "model_DNN_text_keyword.fit(matriz_train_doc2vec_text_keyword, train.target, epochs=20, batch_size=128, verbose=2)"
      ],
      "execution_count": 33,
      "outputs": [
        {
          "output_type": "stream",
          "text": [
            "Epoch 1/20\n",
            "60/60 - 2s - loss: 0.6945 - accuracy: 0.5462\n",
            "Epoch 2/20\n",
            "60/60 - 2s - loss: 0.6824 - accuracy: 0.5672\n",
            "Epoch 3/20\n",
            "60/60 - 2s - loss: 0.6767 - accuracy: 0.5738\n",
            "Epoch 4/20\n",
            "60/60 - 2s - loss: 0.6724 - accuracy: 0.5784\n",
            "Epoch 5/20\n",
            "60/60 - 2s - loss: 0.6698 - accuracy: 0.5835\n",
            "Epoch 6/20\n",
            "60/60 - 2s - loss: 0.6615 - accuracy: 0.5940\n",
            "Epoch 7/20\n",
            "60/60 - 2s - loss: 0.6568 - accuracy: 0.6099\n",
            "Epoch 8/20\n",
            "60/60 - 2s - loss: 0.6474 - accuracy: 0.6226\n",
            "Epoch 9/20\n",
            "60/60 - 2s - loss: 0.6413 - accuracy: 0.6386\n",
            "Epoch 10/20\n",
            "60/60 - 2s - loss: 0.6243 - accuracy: 0.6440\n",
            "Epoch 11/20\n",
            "60/60 - 2s - loss: 0.6154 - accuracy: 0.6643\n",
            "Epoch 12/20\n",
            "60/60 - 2s - loss: 0.6089 - accuracy: 0.6653\n",
            "Epoch 13/20\n",
            "60/60 - 2s - loss: 0.5966 - accuracy: 0.6824\n",
            "Epoch 14/20\n",
            "60/60 - 2s - loss: 0.5856 - accuracy: 0.6932\n",
            "Epoch 15/20\n",
            "60/60 - 2s - loss: 0.5756 - accuracy: 0.6991\n",
            "Epoch 16/20\n",
            "60/60 - 2s - loss: 0.5614 - accuracy: 0.7119\n",
            "Epoch 17/20\n",
            "60/60 - 2s - loss: 0.5508 - accuracy: 0.7167\n",
            "Epoch 18/20\n",
            "60/60 - 2s - loss: 0.5398 - accuracy: 0.7198\n",
            "Epoch 19/20\n",
            "60/60 - 2s - loss: 0.5333 - accuracy: 0.7260\n",
            "Epoch 20/20\n",
            "60/60 - 2s - loss: 0.5209 - accuracy: 0.7386\n"
          ],
          "name": "stdout"
        },
        {
          "output_type": "execute_result",
          "data": {
            "text/plain": [
              "<tensorflow.python.keras.callbacks.History at 0x7f303faed5c0>"
            ]
          },
          "metadata": {
            "tags": []
          },
          "execution_count": 33
        }
      ]
    },
    {
      "cell_type": "code",
      "metadata": {
        "id": "HGletdZCyWgS",
        "colab_type": "code",
        "colab": {
          "base_uri": "https://localhost:8080/",
          "height": 706
        },
        "outputId": "10ed592e-1270-4517-f63a-8ba60b967a17"
      },
      "source": [
        "model_DNN_text_keyword_numericos = DNN_model(doc2vec_features_numericos_train.shape[1], 2)\n",
        "model_DNN_text_keyword_numericos.fit(doc2vec_features_numericos_train, train.target, epochs=20, batch_size=128, verbose=2)"
      ],
      "execution_count": 34,
      "outputs": [
        {
          "output_type": "stream",
          "text": [
            "Epoch 1/20\n",
            "60/60 - 2s - loss: 0.9790 - accuracy: 0.5307\n",
            "Epoch 2/20\n",
            "60/60 - 2s - loss: 0.7077 - accuracy: 0.5392\n",
            "Epoch 3/20\n",
            "60/60 - 2s - loss: 0.6897 - accuracy: 0.5621\n",
            "Epoch 4/20\n",
            "60/60 - 2s - loss: 0.6791 - accuracy: 0.5667\n",
            "Epoch 5/20\n",
            "60/60 - 2s - loss: 0.6677 - accuracy: 0.5854\n",
            "Epoch 6/20\n",
            "60/60 - 2s - loss: 0.6638 - accuracy: 0.5986\n",
            "Epoch 7/20\n",
            "60/60 - 2s - loss: 0.6526 - accuracy: 0.6113\n",
            "Epoch 8/20\n",
            "60/60 - 2s - loss: 0.6527 - accuracy: 0.6187\n",
            "Epoch 9/20\n",
            "60/60 - 2s - loss: 0.6442 - accuracy: 0.6327\n",
            "Epoch 10/20\n",
            "60/60 - 2s - loss: 0.6375 - accuracy: 0.6419\n",
            "Epoch 11/20\n",
            "60/60 - 2s - loss: 0.6358 - accuracy: 0.6390\n",
            "Epoch 12/20\n",
            "60/60 - 2s - loss: 0.6338 - accuracy: 0.6471\n",
            "Epoch 13/20\n",
            "60/60 - 2s - loss: 0.6323 - accuracy: 0.6524\n",
            "Epoch 14/20\n",
            "60/60 - 2s - loss: 0.6306 - accuracy: 0.6447\n",
            "Epoch 15/20\n",
            "60/60 - 2s - loss: 0.6259 - accuracy: 0.6649\n",
            "Epoch 16/20\n",
            "60/60 - 2s - loss: 0.6286 - accuracy: 0.6522\n",
            "Epoch 17/20\n",
            "60/60 - 2s - loss: 0.6228 - accuracy: 0.6622\n",
            "Epoch 18/20\n",
            "60/60 - 2s - loss: 0.6245 - accuracy: 0.6591\n",
            "Epoch 19/20\n",
            "60/60 - 2s - loss: 0.6228 - accuracy: 0.6631\n",
            "Epoch 20/20\n",
            "60/60 - 2s - loss: 0.6175 - accuracy: 0.6727\n"
          ],
          "name": "stdout"
        },
        {
          "output_type": "execute_result",
          "data": {
            "text/plain": [
              "<tensorflow.python.keras.callbacks.History at 0x7f304184a0b8>"
            ]
          },
          "metadata": {
            "tags": []
          },
          "execution_count": 34
        }
      ]
    },
    {
      "cell_type": "code",
      "metadata": {
        "id": "3AtiWZsDhrTO",
        "colab_type": "code",
        "colab": {}
      },
      "source": [
        "#prediction_dnn = model_DNN_text_keyword.predict_classes(matriz_test_doc2vec_text_keyword)\n",
        "#submission_dnn = pd.DataFrame(data={'id':test['id'], 'target': prediction_dnn})\n",
        "#submission_dnn.to_csv('doc2vec_dnn.csv', index=False)"
      ],
      "execution_count": null,
      "outputs": []
    },
    {
      "cell_type": "markdown",
      "metadata": {
        "id": "wyHI9-fPeSe_",
        "colab_type": "text"
      },
      "source": [
        "#RANDOM FOREST"
      ]
    },
    {
      "cell_type": "markdown",
      "metadata": {
        "id": "tn97xVuPkbi6",
        "colab_type": "text"
      },
      "source": [
        "Funcion que aplica RANDOM FOREST con GridSearch y CV para encontrar los mejores hiperparametros para cada matriz probada."
      ]
    },
    {
      "cell_type": "code",
      "metadata": {
        "id": "AYky__5OeRd6",
        "colab_type": "code",
        "colab": {}
      },
      "source": [
        "def RandomForest_con_gridsearch(x_train, y_train, x_validation, y_validation):\n",
        "\n",
        "  rf = RandomForestClassifier()\n",
        "  params_rf = {'n_estimators': [50, 100, 200]}\n",
        "  rf_gs = GridSearchCV(rf, params_rf, cv=5)\n",
        "  rf_gs.fit(x_train, y_train)\n",
        "  rf_best = rf_gs.best_estimator_\n",
        "\n",
        "  print(rf_gs.best_params_)\n",
        "  print('rf: {}'.format(rf_best.score(x_validation, y_validation)))\n",
        "\n",
        "  return rf_best"
      ],
      "execution_count": 36,
      "outputs": []
    },
    {
      "cell_type": "markdown",
      "metadata": {
        "id": "Zxmilw_0zvE1",
        "colab_type": "text"
      },
      "source": [
        "Corremos el algoritmo con cada matriz y comparamos los resultados."
      ]
    },
    {
      "cell_type": "code",
      "metadata": {
        "colab_type": "code",
        "id": "kGx78s5EzzXj",
        "colab": {
          "base_uri": "https://localhost:8080/",
          "height": 50
        },
        "outputId": "33d9589b-ecec-4df7-a7ff-0b1399b8d49d"
      },
      "source": [
        "rf_text = RandomForest_con_gridsearch(x_train_text, y_train_text, x_validation_text, y_validation_text)"
      ],
      "execution_count": 37,
      "outputs": [
        {
          "output_type": "stream",
          "text": [
            "{'n_estimators': 200}\n",
            "rf: 0.5595446584938704\n"
          ],
          "name": "stdout"
        }
      ]
    },
    {
      "cell_type": "code",
      "metadata": {
        "id": "PEDeRMPY6ClZ",
        "colab_type": "code",
        "colab": {
          "base_uri": "https://localhost:8080/",
          "height": 34
        },
        "outputId": "302144dd-3ebe-425e-9658-a113ebcf4dc8"
      },
      "source": [
        "cross_val(rf_text, x_train_text, y_train_text)"
      ],
      "execution_count": 38,
      "outputs": [
        {
          "output_type": "stream",
          "text": [
            "0.5704623488271718\n"
          ],
          "name": "stdout"
        }
      ]
    },
    {
      "cell_type": "code",
      "metadata": {
        "colab_type": "code",
        "id": "k8SkP7i9zzX-",
        "colab": {
          "base_uri": "https://localhost:8080/",
          "height": 50
        },
        "outputId": "5fe19633-2dd5-47af-b1ee-ff5e9a57e12c"
      },
      "source": [
        "rf_text_keyword = RandomForest_con_gridsearch(x_train_text_keyword, y_train_text_keyword, x_validation_text_keyword, y_validation_text_keyword)"
      ],
      "execution_count": 39,
      "outputs": [
        {
          "output_type": "stream",
          "text": [
            "{'n_estimators': 200}\n",
            "rf: 0.6265323992994746\n"
          ],
          "name": "stdout"
        }
      ]
    },
    {
      "cell_type": "code",
      "metadata": {
        "id": "e-6A2EVR6IgP",
        "colab_type": "code",
        "colab": {
          "base_uri": "https://localhost:8080/",
          "height": 34
        },
        "outputId": "885d20fe-898c-4bcd-884e-70ea107b0995"
      },
      "source": [
        "cross_val(rf_text_keyword, x_train_text_keyword, y_train_text_keyword)"
      ],
      "execution_count": 40,
      "outputs": [
        {
          "output_type": "stream",
          "text": [
            "0.5926064705934166\n"
          ],
          "name": "stdout"
        }
      ]
    },
    {
      "cell_type": "code",
      "metadata": {
        "colab_type": "code",
        "id": "Kj9tNbiYzzYE",
        "colab": {
          "base_uri": "https://localhost:8080/",
          "height": 50
        },
        "outputId": "25796264-446a-472f-cbb2-8177a8d52ac7"
      },
      "source": [
        "rf_numericos = RandomForest_con_gridsearch(x_train_numericos,y_train_numericos,  x_validation_numericos, y_validation_numericos)"
      ],
      "execution_count": 41,
      "outputs": [
        {
          "output_type": "stream",
          "text": [
            "{'n_estimators': 200}\n",
            "rf: 0.6580560420315237\n"
          ],
          "name": "stdout"
        }
      ]
    },
    {
      "cell_type": "code",
      "metadata": {
        "id": "oRja8Rik6NCN",
        "colab_type": "code",
        "colab": {
          "base_uri": "https://localhost:8080/",
          "height": 34
        },
        "outputId": "1c0fe910-823d-4336-c6d3-fbeb6f484f65"
      },
      "source": [
        "cross_val(rf_numericos, x_train_numericos, y_train_numericos)"
      ],
      "execution_count": 43,
      "outputs": [
        {
          "output_type": "stream",
          "text": [
            "0.6701079019457583\n"
          ],
          "name": "stdout"
        }
      ]
    },
    {
      "cell_type": "code",
      "metadata": {
        "id": "ObKpzVDah7wM",
        "colab_type": "code",
        "colab": {}
      },
      "source": [
        "#prediction_rf_text = rf_text.predict(doc2vec_features_numericos_test)\n",
        "#submission_rf = pd.DataFrame(data={'id':test['id'], 'target': prediction_rf})\n",
        "#submission_rf.to_csv('doc2vec_rf.csv', index=False)"
      ],
      "execution_count": null,
      "outputs": []
    },
    {
      "cell_type": "markdown",
      "metadata": {
        "id": "dQ4oAPbuiZRs",
        "colab_type": "text"
      },
      "source": [
        "#NuSVC"
      ]
    },
    {
      "cell_type": "code",
      "metadata": {
        "id": "0JKU2lABmnvJ",
        "colab_type": "code",
        "colab": {}
      },
      "source": [
        "def nusvc(x_train, y_train):\n",
        "\n",
        "  nusvc = NuSVC(probability=True)\n",
        "  grid_nusvc = GridSearchCV(nusvc, param_grid={'nu': [0.4, 0.5]}, scoring=['f1_macro'], refit=False)\n",
        "  grid_nusvc.fit(x_train, y_train)\n",
        "\n",
        "  print('nusvc: {}'.format(grid_nusvc.cv_results_['mean_test_f1_macro'][0]))\n",
        "\n",
        "  return grid_nusvc"
      ],
      "execution_count": 49,
      "outputs": []
    },
    {
      "cell_type": "code",
      "metadata": {
        "colab_type": "code",
        "id": "KaZFmmGX3wrs",
        "colab": {
          "base_uri": "https://localhost:8080/",
          "height": 34
        },
        "outputId": "4c09da95-05a9-4383-d180-ac3abe21edba"
      },
      "source": [
        "nusvc_text = nusvc(x_train_text, y_train_text)"
      ],
      "execution_count": 50,
      "outputs": [
        {
          "output_type": "stream",
          "text": [
            "nusvc: 0.5399388147847999\n"
          ],
          "name": "stdout"
        }
      ]
    },
    {
      "cell_type": "code",
      "metadata": {
        "colab_type": "code",
        "id": "1kx0B6jJ3wsF",
        "colab": {
          "base_uri": "https://localhost:8080/",
          "height": 34
        },
        "outputId": "18a38371-b917-444b-c312-9f2d71213509"
      },
      "source": [
        "nusvc_text_keyword = nusvc(x_train_text_keyword, y_train_text_keyword)"
      ],
      "execution_count": 52,
      "outputs": [
        {
          "output_type": "stream",
          "text": [
            "nusvc: 0.5843175548937947\n"
          ],
          "name": "stdout"
        }
      ]
    },
    {
      "cell_type": "code",
      "metadata": {
        "colab_type": "code",
        "id": "916klxJW3wsV",
        "colab": {
          "base_uri": "https://localhost:8080/",
          "height": 34
        },
        "outputId": "2cd815a0-120d-4dda-a032-638fce77ce1d"
      },
      "source": [
        "nusvc_numericos = nusvc(x_train_numericos,y_train_numericos)"
      ],
      "execution_count": 53,
      "outputs": [
        {
          "output_type": "stream",
          "text": [
            "nusvc: 0.6185243425699021\n"
          ],
          "name": "stdout"
        }
      ]
    },
    {
      "cell_type": "code",
      "metadata": {
        "id": "IocFdaWlWYge",
        "colab_type": "code",
        "colab": {}
      },
      "source": [
        "#prediction_nuscv = nuscv.predict(doc2vec_features_numericos_test)\n",
        "#submission_nuscv = pd.DataFrame(data={'id':test['id'], 'target': prediction_nuscv})\n",
        "#submission_nuscv.to_csv('doc2vec_nuscv.csv', index=False)"
      ],
      "execution_count": null,
      "outputs": []
    },
    {
      "cell_type": "markdown",
      "metadata": {
        "id": "hQmTcW2IoTTa",
        "colab_type": "text"
      },
      "source": [
        "#XGBoost"
      ]
    },
    {
      "cell_type": "code",
      "metadata": {
        "id": "L6IO89ptoXG-",
        "colab_type": "code",
        "colab": {}
      },
      "source": [
        "def xgboost(x_train, y_train, x_validation, y_validation):\n",
        "\n",
        "  model = XGBClassifier()\n",
        "  model.fit(x_train, y_train)\n",
        "  y_pred = model.predict(x_validation)\n",
        "  predictions = [round(value) for value in y_pred]\n",
        "  accuracy = accuracy_score(y_validation, predictions)\n",
        "\n",
        "  print(\"Accuracy xgboost: %.5f%%\" % accuracy)\n",
        "\n",
        "  return model"
      ],
      "execution_count": 54,
      "outputs": []
    },
    {
      "cell_type": "code",
      "metadata": {
        "colab_type": "code",
        "id": "wQi63waZ4XRm",
        "colab": {
          "base_uri": "https://localhost:8080/",
          "height": 34
        },
        "outputId": "f05ceffc-2f24-460e-c116-b356d9885620"
      },
      "source": [
        "xgboost_text = xgboost(x_train_text, y_train_text, x_validation_text, y_validation_text)"
      ],
      "execution_count": 55,
      "outputs": [
        {
          "output_type": "stream",
          "text": [
            "Accuracy xgboost: 0.55298%\n"
          ],
          "name": "stdout"
        }
      ]
    },
    {
      "cell_type": "code",
      "metadata": {
        "id": "ZB1_oJ1ZA5Ye",
        "colab_type": "code",
        "colab": {
          "base_uri": "https://localhost:8080/",
          "height": 34
        },
        "outputId": "63b207ca-3377-4208-9e55-6181d661eccc"
      },
      "source": [
        "cross_val(xgboost_text, x_train_text, y_train_text)"
      ],
      "execution_count": 56,
      "outputs": [
        {
          "output_type": "stream",
          "text": [
            "0.5661482088277004\n"
          ],
          "name": "stdout"
        }
      ]
    },
    {
      "cell_type": "code",
      "metadata": {
        "colab_type": "code",
        "id": "x-KFVv-j4XRu",
        "colab": {
          "base_uri": "https://localhost:8080/",
          "height": 34
        },
        "outputId": "26b04231-d823-423b-8425-810deb046787"
      },
      "source": [
        "xgboost_text_keyword = xgboost(x_train_text_keyword, y_train_text_keyword, x_validation_text_keyword, y_validation_text_keyword)"
      ],
      "execution_count": 57,
      "outputs": [
        {
          "output_type": "stream",
          "text": [
            "Accuracy xgboost: 0.60114%\n"
          ],
          "name": "stdout"
        }
      ]
    },
    {
      "cell_type": "code",
      "metadata": {
        "id": "DFyJtDrzA-mJ",
        "colab_type": "code",
        "colab": {
          "base_uri": "https://localhost:8080/",
          "height": 34
        },
        "outputId": "1c326f3a-b543-4979-c76d-2c1f5133fa1b"
      },
      "source": [
        "cross_val(xgboost_text_keyword, x_train_text_keyword, y_train_text_keyword)"
      ],
      "execution_count": 58,
      "outputs": [
        {
          "output_type": "stream",
          "text": [
            "0.587725603149856\n"
          ],
          "name": "stdout"
        }
      ]
    },
    {
      "cell_type": "code",
      "metadata": {
        "colab_type": "code",
        "id": "BvbaBOuP4XR0",
        "colab": {
          "base_uri": "https://localhost:8080/",
          "height": 34
        },
        "outputId": "425c5937-67a0-4c22-fe11-356618e71b61"
      },
      "source": [
        "xgboost_numericos = xgboost(x_train_numericos,y_train_numericos,  x_validation_numericos, y_validation_numericos)"
      ],
      "execution_count": 59,
      "outputs": [
        {
          "output_type": "stream",
          "text": [
            "Accuracy xgboost: 0.66243%\n"
          ],
          "name": "stdout"
        }
      ]
    },
    {
      "cell_type": "code",
      "metadata": {
        "id": "VEcLYk5NBH84",
        "colab_type": "code",
        "colab": {
          "base_uri": "https://localhost:8080/",
          "height": 34
        },
        "outputId": "c024c0ca-694d-449b-808c-3ed1bc752670"
      },
      "source": [
        "cross_val(xgboost_numericos, x_train_numericos,y_train_numericos)"
      ],
      "execution_count": 60,
      "outputs": [
        {
          "output_type": "stream",
          "text": [
            "0.6734828986426374\n"
          ],
          "name": "stdout"
        }
      ]
    },
    {
      "cell_type": "code",
      "metadata": {
        "id": "nV3naQTS0rNe",
        "colab_type": "code",
        "colab": {}
      },
      "source": [
        "#submission_xgboost = pd.DataFrame(data={'id':test['id'], 'target': prediction_xgboost})\n",
        "#submission_xgboost.to_csv('tf_idf_xgboost.csv', index=False)"
      ],
      "execution_count": null,
      "outputs": []
    }
  ]
}