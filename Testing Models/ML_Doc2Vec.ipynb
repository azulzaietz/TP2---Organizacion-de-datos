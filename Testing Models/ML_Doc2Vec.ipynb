{
  "nbformat": 4,
  "nbformat_minor": 0,
  "metadata": {
    "colab": {
      "name": "ML - Doc2Vec.ipynb",
      "provenance": [],
      "collapsed_sections": [
        "2l5aTJ2DxWI6",
        "ZvZjErbF2o3N",
        "QDnbt2akcCjX",
        "wyHI9-fPeSe_",
        "q7DA1QKS5dKh",
        "dQ4oAPbuiZRs"
      ]
    },
    "kernelspec": {
      "name": "python3",
      "display_name": "Python 3"
    }
  },
  "cells": [
    {
      "cell_type": "code",
      "metadata": {
        "id": "4MabbfEF1lSL",
        "colab_type": "code",
        "colab": {}
      },
      "source": [
        "import pandas as pd\n",
        "import numpy as np\n",
        "\n",
        "from sklearn.neighbors import KNeighborsClassifier\n",
        "from sklearn.naive_bayes import MultinomialNB\n",
        "from sklearn.model_selection import GridSearchCV, StratifiedKFold\n",
        "from sklearn.ensemble import RandomForestClassifier\n",
        "from sklearn.svm import SVC, LinearSVC, NuSVC\n",
        "from sklearn.ensemble import BaggingClassifier\n",
        "from sklearn.tree import DecisionTreeClassifier\n",
        "from xgboost import XGBClassifier\n",
        "\n",
        "from sklearn import metrics\n",
        "from sklearn.metrics import accuracy_score\n",
        "from sklearn.model_selection import train_test_split\n",
        "from sklearn import preprocessing\n",
        "from sklearn import model_selection\n",
        "\n",
        "from sklearn.datasets import fetch_20newsgroups\n",
        "from keras.layers import  Dropout, Dense\n",
        "from keras.models import Sequential"
      ],
      "execution_count": 126,
      "outputs": []
    },
    {
      "cell_type": "markdown",
      "metadata": {
        "id": "MlZEb6_mlt2E",
        "colab_type": "text"
      },
      "source": [
        "##Importamos las matrices a utilizar"
      ]
    },
    {
      "cell_type": "code",
      "metadata": {
        "id": "-_dO2NXB1G1P",
        "colab_type": "code",
        "colab": {}
      },
      "source": [
        "from pydrive.auth import GoogleAuth\n",
        "from pydrive.drive import GoogleDrive\n",
        "from google.colab import auth\n",
        "from oauth2client.client import GoogleCredentials\n",
        "\n",
        "# Authenticate and create the PyDrive client\n",
        "auth.authenticate_user()\n",
        "gauth = GoogleAuth()\n",
        "gauth.credentials = GoogleCredentials.get_application_default()\n",
        "drive = GoogleDrive(gauth)"
      ],
      "execution_count": 41,
      "outputs": []
    },
    {
      "cell_type": "code",
      "metadata": {
        "id": "V3wJsdDluWhU",
        "colab_type": "code",
        "colab": {}
      },
      "source": [
        "id='1Pk5MK9Hs_kMUT9NotGnOKE0NPra-39YU'\n",
        "downloaded = drive.CreateFile({'id': id})\n",
        "downloaded.GetContentFile('train.csv')\n",
        "\n",
        "train = pd.read_csv('train.csv')"
      ],
      "execution_count": 62,
      "outputs": []
    },
    {
      "cell_type": "code",
      "metadata": {
        "id": "7_PEPby1ltJ8",
        "colab_type": "code",
        "colab": {}
      },
      "source": [
        "id= '1OrAkBep-bmOz-P-QR3P5csDejgiJG9bL'\n",
        "downloaded = drive.CreateFile({'id': id})\n",
        "downloaded.GetContentFile('doc2vec_features_numericos_test.csv')\n",
        "\n",
        "id= '17bNeSA9q59vTO6OW2lBTJPyw29QGQSxf'\n",
        "downloaded = drive.CreateFile({'id': id})\n",
        "downloaded.GetContentFile('doc2vec_features_numericos_train.csv')\n",
        "\n",
        "id= '1Ffgm1RoYdjqMuQgTap3o5bOSaNjIdO7l'\n",
        "downloaded = drive.CreateFile({'id': id})\n",
        "downloaded.GetContentFile('matriz_test_doc2vec_solo_text.csv')\n",
        "\n",
        "id= '1Q7m92Pbm08m0t9X8Q975IUkPWEoZQ--R'\n",
        "downloaded = drive.CreateFile({'id': id})\n",
        "downloaded.GetContentFile('matriz_train_doc2vec_solo_text.csv')\n",
        "\n",
        "id= '1qvK0vblQPKJSgE8dTphy7sactLSVp6xf'\n",
        "downloaded = drive.CreateFile({'id': id})\n",
        "downloaded.GetContentFile('matriz_test_doc2vec_text_keyword.csv')\n",
        "\n",
        "id= '1bQDT6HcEy46m2j2n92OLi5NmufCqaZ5Z'\n",
        "downloaded = drive.CreateFile({'id': id})\n",
        "downloaded.GetContentFile('matriz_train_doc2vec_text_keyword.csv')"
      ],
      "execution_count": 55,
      "outputs": []
    },
    {
      "cell_type": "code",
      "metadata": {
        "id": "ihBuAcOTnamE",
        "colab_type": "code",
        "colab": {}
      },
      "source": [
        "matriz_test_doc2vec_solo_text = pd.read_csv('matriz_test_doc2vec_solo_text.csv')\n",
        "matriz_train_doc2vec_solo_text = pd.read_csv('matriz_train_doc2vec_solo_text.csv')\n",
        "\n",
        "matriz_test_doc2vec_text_keyword = pd.read_csv('matriz_test_doc2vec_text_keyword.csv')\n",
        "matriz_train_doc2vec_text_keyword = pd.read_csv('matriz_train_doc2vec_text_keyword.csv')\n",
        "\n",
        "doc2vec_features_numericos_test = pd.read_csv('doc2vec_features_numericos_test.csv')\n",
        "doc2vec_features_numericos_train = pd.read_csv('doc2vec_features_numericos_train.csv')"
      ],
      "execution_count": 56,
      "outputs": []
    },
    {
      "cell_type": "markdown",
      "metadata": {
        "id": "2l5aTJ2DxWI6",
        "colab_type": "text"
      },
      "source": [
        "##SPLIT DE LAS MATRICES"
      ]
    },
    {
      "cell_type": "code",
      "metadata": {
        "id": "7B2rZ_WOuQEN",
        "colab_type": "code",
        "colab": {}
      },
      "source": [
        "y = train.target"
      ],
      "execution_count": 64,
      "outputs": []
    },
    {
      "cell_type": "code",
      "metadata": {
        "id": "0wEyJtPQCwV5",
        "colab_type": "code",
        "colab": {}
      },
      "source": [
        "x_train_text, x_validation_text, y_train_text, y_validation_text = train_test_split(matriz_train_doc2vec_solo_text, y, test_size=0.3, stratify=y)\n",
        "x_train_text_keyword, x_validation_text_keyword, y_train_text_keyword, y_validation_text_keyword = train_test_split(matriz_train_doc2vec_text_keyword, y, test_size=0.3, stratify=y)\n",
        "x_train_numericos, x_validation_numericos, y_train_numericos, y_validation_numericos = train_test_split(doc2vec_features_numericos_train, y, test_size=0.3, stratify=y)"
      ],
      "execution_count": 72,
      "outputs": []
    },
    {
      "cell_type": "markdown",
      "metadata": {
        "id": "ZvZjErbF2o3N",
        "colab_type": "text"
      },
      "source": [
        "##KNN"
      ]
    },
    {
      "cell_type": "markdown",
      "metadata": {
        "id": "dxzd-0dAKvYH",
        "colab_type": "text"
      },
      "source": [
        "Funcion que aplica KNN con GridSearch y CV para encontrar los mejores hiperparametros para cada matriz probada."
      ]
    },
    {
      "cell_type": "code",
      "metadata": {
        "id": "BTkuwvH9EtSM",
        "colab_type": "code",
        "colab": {}
      },
      "source": [
        "def knn_con_gridsearch(x_train, y_train, x_validation, y_validation):\n",
        "\n",
        "  knn = KNeighborsClassifier()\n",
        "  params_knn = {'n_neighbors': np.arange(1, 25)}\n",
        "  knn_gs = GridSearchCV(knn, params_knn, cv=5)\n",
        "  knn_gs.fit(x_train, y_train)\n",
        "  knn_best = knn_gs.best_estimator_\n",
        "  \n",
        "  print(knn_gs.best_params_)\n",
        "  print('knn score: {}'.format(knn_best.score(x_validation, y_validation)))\n",
        "  \n",
        "  return knn_best"
      ],
      "execution_count": 66,
      "outputs": []
    },
    {
      "cell_type": "markdown",
      "metadata": {
        "id": "ViQPyKNIuDCP",
        "colab_type": "text"
      },
      "source": [
        "Corremos el algoritmo con cada matriz y comparamos los resultados."
      ]
    },
    {
      "cell_type": "code",
      "metadata": {
        "id": "Tm-p3-QkumGr",
        "colab_type": "code",
        "colab": {
          "base_uri": "https://localhost:8080/",
          "height": 50
        },
        "outputId": "f04d491f-0c02-43d5-f169-f53b192e8a5b"
      },
      "source": [
        "knn_text = knn_con_gridsearch(x_train_text, y_train_text, x_validation_text, y_validation_text)"
      ],
      "execution_count": 67,
      "outputs": [
        {
          "output_type": "stream",
          "text": [
            "{'n_neighbors': 4}\n",
            "knn score: 0.5586690017513135\n"
          ],
          "name": "stdout"
        }
      ]
    },
    {
      "cell_type": "code",
      "metadata": {
        "id": "efnYEi8fvVBy",
        "colab_type": "code",
        "colab": {
          "base_uri": "https://localhost:8080/",
          "height": 50
        },
        "outputId": "f16fced6-6282-40ac-a9d7-926ea098df9c"
      },
      "source": [
        "knn_text_keyword = knn_con_gridsearch(idsearch(x_train_text_keyword, y_train_text_keyword, x_validation_text_keyword, y_validation_text_keyword)x_train_text_keyword, y_train_text_keyword, x_validation_text_keyword, y_validation_text_keyword)"
      ],
      "execution_count": 68,
      "outputs": [
        {
          "output_type": "stream",
          "text": [
            "{'n_neighbors': 10}\n",
            "knn score: 0.6055166374781086\n"
          ],
          "name": "stdout"
        }
      ]
    },
    {
      "cell_type": "code",
      "metadata": {
        "id": "t5Ebf8hdvVIt",
        "colab_type": "code",
        "colab": {
          "base_uri": "https://localhost:8080/",
          "height": 50
        },
        "outputId": "9f6ee3fe-c4d1-479e-db16-78a84dadadfa"
      },
      "source": [
        "knn_numericos = knn_con_gridsearch(x_train_numericos,y_train_numericos,  x_validation_numericos, y_validation_numericos)"
      ],
      "execution_count": 69,
      "outputs": [
        {
          "output_type": "stream",
          "text": [
            "{'n_neighbors': 24}\n",
            "knn score: 0.6663747810858144\n"
          ],
          "name": "stdout"
        }
      ]
    },
    {
      "cell_type": "markdown",
      "metadata": {
        "id": "VxJG8avbLoxi",
        "colab_type": "text"
      },
      "source": [
        "Realizamos la prediccion con el modelo que haya dado mayor score"
      ]
    },
    {
      "cell_type": "code",
      "metadata": {
        "id": "RU2nPooS95Da",
        "colab_type": "code",
        "colab": {}
      },
      "source": [
        "#prediction_knn = knn_best.predict(doc2vec_features_numericos_test)\n",
        "#submission_knn = pd.DataFrame(data={'id':test['id'], 'target': prediction_knn})\n",
        "#submission_knn.to_csv('doc2vec_knn.csv', index=False)"
      ],
      "execution_count": null,
      "outputs": []
    },
    {
      "cell_type": "markdown",
      "metadata": {
        "id": "QDnbt2akcCjX",
        "colab_type": "text"
      },
      "source": [
        "#RED NEURONAL PROFUNDA"
      ]
    },
    {
      "cell_type": "code",
      "metadata": {
        "id": "i6VcjQlgcHOn",
        "colab_type": "code",
        "colab": {}
      },
      "source": [
        "def DNN_model(shape, nClasses, dropout=0.5):\n",
        "    model = Sequential()\n",
        "    node = 512\n",
        "    nLayers = 4\n",
        "    model.add(Dense(node,input_dim=shape,activation='relu'))\n",
        "    model.add(Dropout(dropout))\n",
        "    for i in range(0,nLayers):\n",
        "        model.add(Dense(node,input_dim=node,activation='relu'))\n",
        "        model.add(Dropout(dropout))\n",
        "    model.add(Dense(nClasses, activation='softmax'))\n",
        "    model.compile(loss='sparse_categorical_crossentropy', optimizer='adam', metrics=['accuracy'])\n",
        "    return model"
      ],
      "execution_count": 70,
      "outputs": []
    },
    {
      "cell_type": "markdown",
      "metadata": {
        "id": "5WsVnapnzPNT",
        "colab_type": "text"
      },
      "source": [
        "Corremos el algoritmo con cada matriz y comparamos los resultados."
      ]
    },
    {
      "cell_type": "code",
      "metadata": {
        "id": "UdFpzN-Ucc5s",
        "colab_type": "code",
        "colab": {
          "base_uri": "https://localhost:8080/",
          "height": 706
        },
        "outputId": "2ace0976-ad35-4c3f-9ee2-71fd3dcd244c"
      },
      "source": [
        "model_DNN_text = DNN_model(matriz_train_doc2vec_solo_text.shape[1], 2)\n",
        "model_DNN_text.fit(matriz_train_doc2vec_solo_text, train.target, epochs=20, batch_size=128, verbose=2)"
      ],
      "execution_count": 75,
      "outputs": [
        {
          "output_type": "stream",
          "text": [
            "Epoch 1/20\n",
            " - 2s - loss: 0.6957 - accuracy: 0.5497\n",
            "Epoch 2/20\n",
            " - 2s - loss: 0.6872 - accuracy: 0.5622\n",
            "Epoch 3/20\n",
            " - 2s - loss: 0.6842 - accuracy: 0.5602\n",
            "Epoch 4/20\n",
            " - 2s - loss: 0.6818 - accuracy: 0.5647\n",
            "Epoch 5/20\n",
            " - 2s - loss: 0.6775 - accuracy: 0.5774\n",
            "Epoch 6/20\n",
            " - 2s - loss: 0.6769 - accuracy: 0.5749\n",
            "Epoch 7/20\n",
            " - 2s - loss: 0.6755 - accuracy: 0.5638\n",
            "Epoch 8/20\n",
            " - 2s - loss: 0.6711 - accuracy: 0.5848\n",
            "Epoch 9/20\n",
            " - 2s - loss: 0.6669 - accuracy: 0.5870\n",
            "Epoch 10/20\n",
            " - 2s - loss: 0.6577 - accuracy: 0.5970\n",
            "Epoch 11/20\n",
            " - 2s - loss: 0.6535 - accuracy: 0.6116\n",
            "Epoch 12/20\n",
            " - 2s - loss: 0.6493 - accuracy: 0.6164\n",
            "Epoch 13/20\n",
            " - 2s - loss: 0.6376 - accuracy: 0.6344\n",
            "Epoch 14/20\n",
            " - 2s - loss: 0.6335 - accuracy: 0.6394\n",
            "Epoch 15/20\n",
            " - 2s - loss: 0.6228 - accuracy: 0.6540\n",
            "Epoch 16/20\n",
            " - 2s - loss: 0.6132 - accuracy: 0.6536\n",
            "Epoch 17/20\n",
            " - 2s - loss: 0.6093 - accuracy: 0.6649\n",
            "Epoch 18/20\n",
            " - 2s - loss: 0.5932 - accuracy: 0.6737\n",
            "Epoch 19/20\n",
            " - 2s - loss: 0.5846 - accuracy: 0.6867\n",
            "Epoch 20/20\n",
            " - 2s - loss: 0.5827 - accuracy: 0.6828\n"
          ],
          "name": "stdout"
        },
        {
          "output_type": "execute_result",
          "data": {
            "text/plain": [
              "<keras.callbacks.callbacks.History at 0x7f1a8d4c7128>"
            ]
          },
          "metadata": {
            "tags": []
          },
          "execution_count": 75
        }
      ]
    },
    {
      "cell_type": "code",
      "metadata": {
        "id": "Wv2wcBTXcgT-",
        "colab_type": "code",
        "colab": {
          "base_uri": "https://localhost:8080/",
          "height": 706
        },
        "outputId": "0564e653-142d-4c2a-b465-b0597e0875bf"
      },
      "source": [
        "model_DNN_text_keyword = DNN_model(matriz_train_doc2vec_text_keyword.shape[1], 2)\n",
        "model_DNN_text_keyword.fit(matriz_train_doc2vec_text_keyword, train.target, epochs=20, batch_size=128, verbose=2)"
      ],
      "execution_count": 77,
      "outputs": [
        {
          "output_type": "stream",
          "text": [
            "Epoch 1/20\n",
            " - 2s - loss: 0.6958 - accuracy: 0.5455\n",
            "Epoch 2/20\n",
            " - 2s - loss: 0.6811 - accuracy: 0.5697\n",
            "Epoch 3/20\n",
            " - 2s - loss: 0.6790 - accuracy: 0.5744\n",
            "Epoch 4/20\n",
            " - 2s - loss: 0.6697 - accuracy: 0.5866\n",
            "Epoch 5/20\n",
            " - 2s - loss: 0.6710 - accuracy: 0.5908\n",
            "Epoch 6/20\n",
            " - 2s - loss: 0.6598 - accuracy: 0.6070\n",
            "Epoch 7/20\n",
            " - 2s - loss: 0.6511 - accuracy: 0.6197\n",
            "Epoch 8/20\n",
            " - 2s - loss: 0.6481 - accuracy: 0.6343\n",
            "Epoch 9/20\n",
            " - 2s - loss: 0.6316 - accuracy: 0.6432\n",
            "Epoch 10/20\n",
            " - 2s - loss: 0.6251 - accuracy: 0.6564\n",
            "Epoch 11/20\n",
            " - 2s - loss: 0.6149 - accuracy: 0.6639\n",
            "Epoch 12/20\n",
            " - 2s - loss: 0.5999 - accuracy: 0.6817\n",
            "Epoch 13/20\n",
            " - 2s - loss: 0.5943 - accuracy: 0.6815\n",
            "Epoch 14/20\n",
            " - 2s - loss: 0.5756 - accuracy: 0.7006\n",
            "Epoch 15/20\n",
            " - 2s - loss: 0.5663 - accuracy: 0.7075\n",
            "Epoch 16/20\n",
            " - 2s - loss: 0.5609 - accuracy: 0.7098\n",
            "Epoch 17/20\n",
            " - 2s - loss: 0.5427 - accuracy: 0.7259\n",
            "Epoch 18/20\n",
            " - 2s - loss: 0.5372 - accuracy: 0.7303\n",
            "Epoch 19/20\n",
            " - 2s - loss: 0.5217 - accuracy: 0.7381\n",
            "Epoch 20/20\n",
            " - 2s - loss: 0.5215 - accuracy: 0.7432\n"
          ],
          "name": "stdout"
        },
        {
          "output_type": "execute_result",
          "data": {
            "text/plain": [
              "<keras.callbacks.callbacks.History at 0x7f1a8d186780>"
            ]
          },
          "metadata": {
            "tags": []
          },
          "execution_count": 77
        }
      ]
    },
    {
      "cell_type": "code",
      "metadata": {
        "id": "HGletdZCyWgS",
        "colab_type": "code",
        "colab": {
          "base_uri": "https://localhost:8080/",
          "height": 706
        },
        "outputId": "69d3ae59-0fae-400e-e502-f698ccbc300e"
      },
      "source": [
        "model_DNN_text_keyword = DNN_model(doc2vec_features_numericos_train.shape[1], 2)\n",
        "model_DNN_text_keyword.fit(doc2vec_features_numericos_train, train.target, epochs=20, batch_size=128, verbose=2)"
      ],
      "execution_count": 78,
      "outputs": [
        {
          "output_type": "stream",
          "text": [
            "Epoch 1/20\n",
            " - 2s - loss: 0.9726 - accuracy: 0.5273\n",
            "Epoch 2/20\n",
            " - 2s - loss: 0.7036 - accuracy: 0.5366\n",
            "Epoch 3/20\n",
            " - 2s - loss: 0.6893 - accuracy: 0.5577\n",
            "Epoch 4/20\n",
            " - 2s - loss: 0.6757 - accuracy: 0.5749\n",
            "Epoch 5/20\n",
            " - 2s - loss: 0.6631 - accuracy: 0.5914\n",
            "Epoch 6/20\n",
            " - 2s - loss: 0.6603 - accuracy: 0.6058\n",
            "Epoch 7/20\n",
            " - 2s - loss: 0.6497 - accuracy: 0.6233\n",
            "Epoch 8/20\n",
            " - 2s - loss: 0.6434 - accuracy: 0.6291\n",
            "Epoch 9/20\n",
            " - 2s - loss: 0.6449 - accuracy: 0.6251\n",
            "Epoch 10/20\n",
            " - 2s - loss: 0.6411 - accuracy: 0.6368\n",
            "Epoch 11/20\n",
            " - 2s - loss: 0.6363 - accuracy: 0.6438\n",
            "Epoch 12/20\n",
            " - 2s - loss: 0.6312 - accuracy: 0.6461\n",
            "Epoch 13/20\n",
            " - 2s - loss: 0.6286 - accuracy: 0.6607\n",
            "Epoch 14/20\n",
            " - 2s - loss: 0.6278 - accuracy: 0.6538\n",
            "Epoch 15/20\n",
            " - 2s - loss: 0.6264 - accuracy: 0.6578\n",
            "Epoch 16/20\n",
            " - 2s - loss: 0.6268 - accuracy: 0.6624\n",
            "Epoch 17/20\n",
            " - 2s - loss: 0.6236 - accuracy: 0.6603\n",
            "Epoch 18/20\n",
            " - 2s - loss: 0.6221 - accuracy: 0.6654\n",
            "Epoch 19/20\n",
            " - 2s - loss: 0.6214 - accuracy: 0.6635\n",
            "Epoch 20/20\n",
            " - 2s - loss: 0.6215 - accuracy: 0.6690\n"
          ],
          "name": "stdout"
        },
        {
          "output_type": "execute_result",
          "data": {
            "text/plain": [
              "<keras.callbacks.callbacks.History at 0x7f1a8ce9bf98>"
            ]
          },
          "metadata": {
            "tags": []
          },
          "execution_count": 78
        }
      ]
    },
    {
      "cell_type": "code",
      "metadata": {
        "id": "3AtiWZsDhrTO",
        "colab_type": "code",
        "colab": {}
      },
      "source": [
        "#prediction_dnn = model_DNN.predict_classes(matriz_test_doc2vec_text_keyword)\n",
        "#submission_dnn = pd.DataFrame(data={'id':test['id'], 'target': prediction_dnn})\n",
        "#submission_dnn.to_csv('doc2vec_dnn.csv', index=False)"
      ],
      "execution_count": null,
      "outputs": []
    },
    {
      "cell_type": "markdown",
      "metadata": {
        "id": "wyHI9-fPeSe_",
        "colab_type": "text"
      },
      "source": [
        "#RANDOM FOREST"
      ]
    },
    {
      "cell_type": "markdown",
      "metadata": {
        "id": "tn97xVuPkbi6",
        "colab_type": "text"
      },
      "source": [
        "Funcion que aplica RANDOM FOREST con GridSearch y CV para encontrar los mejores hiperparametros para cada matriz probada."
      ]
    },
    {
      "cell_type": "code",
      "metadata": {
        "id": "AYky__5OeRd6",
        "colab_type": "code",
        "colab": {}
      },
      "source": [
        "def RandomForest_con_gridsearch(x_train, y_train, x_validation, y_validation):\n",
        "\n",
        "  rf = RandomForestClassifier()\n",
        "  params_rf = {'n_estimators': [50, 100, 200]}\n",
        "  rf_gs = GridSearchCV(rf, params_rf, cv=5)\n",
        "  rf_gs.fit(x_train, y_train)\n",
        "  rf_best = rf_gs.best_estimator_\n",
        "\n",
        "  print(rf_gs.best_params_)\n",
        "  print('rf: {}'.format(rf_best.score(x_validation, y_validation)))\n",
        "\n",
        "  return rf_best"
      ],
      "execution_count": 79,
      "outputs": []
    },
    {
      "cell_type": "markdown",
      "metadata": {
        "id": "Zxmilw_0zvE1",
        "colab_type": "text"
      },
      "source": [
        "Corremos el algoritmo con cada matriz y comparamos los resultados."
      ]
    },
    {
      "cell_type": "code",
      "metadata": {
        "colab_type": "code",
        "id": "kGx78s5EzzXj",
        "colab": {
          "base_uri": "https://localhost:8080/",
          "height": 50
        },
        "outputId": "5ffc028d-ad55-48e9-b781-dc4ed477139c"
      },
      "source": [
        "rf_text = RandomForest_con_gridsearch(x_train_text, y_train_text, x_validation_text, y_validation_text)"
      ],
      "execution_count": 80,
      "outputs": [
        {
          "output_type": "stream",
          "text": [
            "{'n_estimators': 100}\n",
            "rf: 0.5547285464098074\n"
          ],
          "name": "stdout"
        }
      ]
    },
    {
      "cell_type": "code",
      "metadata": {
        "colab_type": "code",
        "id": "k8SkP7i9zzX-",
        "colab": {
          "base_uri": "https://localhost:8080/",
          "height": 50
        },
        "outputId": "9c761158-bfdb-431f-bd34-3192e049e16b"
      },
      "source": [
        "rf_text_keyword = RandomForest_con_gridsearch(x_train_text_keyword, y_train_text_keyword, x_validation_text_keyword, y_validation_text_keyword)"
      ],
      "execution_count": 81,
      "outputs": [
        {
          "output_type": "stream",
          "text": [
            "{'n_estimators': 200}\n",
            "rf: 0.5998248686514887\n"
          ],
          "name": "stdout"
        }
      ]
    },
    {
      "cell_type": "code",
      "metadata": {
        "colab_type": "code",
        "id": "Kj9tNbiYzzYE",
        "colab": {
          "base_uri": "https://localhost:8080/",
          "height": 50
        },
        "outputId": "66ef504c-b2f0-4bd7-9090-093ed1c83e9b"
      },
      "source": [
        "rf_numericos = RandomForest_con_gridsearch(x_train_numericos,y_train_numericos,  x_validation_numericos, y_validation_numericos)"
      ],
      "execution_count": 82,
      "outputs": [
        {
          "output_type": "stream",
          "text": [
            "{'n_estimators': 200}\n",
            "rf: 0.6549912434325744\n"
          ],
          "name": "stdout"
        }
      ]
    },
    {
      "cell_type": "code",
      "metadata": {
        "id": "ObKpzVDah7wM",
        "colab_type": "code",
        "colab": {}
      },
      "source": [
        "#prediction_rf_text = rf_text.predict(doc2vec_features_numericos_test)\n",
        "#submission_rf = pd.DataFrame(data={'id':test['id'], 'target': prediction_rf})\n",
        "#submission_rf.to_csv('doc2vec_rf.csv', index=False)"
      ],
      "execution_count": null,
      "outputs": []
    },
    {
      "cell_type": "markdown",
      "metadata": {
        "id": "q7DA1QKS5dKh",
        "colab_type": "text"
      },
      "source": [
        "###BAGGING"
      ]
    },
    {
      "cell_type": "code",
      "metadata": {
        "colab_type": "code",
        "id": "t82eCIB95Q8S",
        "colab": {}
      },
      "source": [
        "seed = 7\n",
        "num_trees = 100"
      ],
      "execution_count": 108,
      "outputs": []
    },
    {
      "cell_type": "markdown",
      "metadata": {
        "colab_type": "text",
        "id": "BSn5i5nh5Q8t"
      },
      "source": [
        "BAGGING CLASSIFIER"
      ]
    },
    {
      "cell_type": "code",
      "metadata": {
        "colab_type": "code",
        "id": "DDquxz5K5Q86",
        "colab": {}
      },
      "source": [
        "def baggingClassifier(x_train, y_train, x_validation, y_validation):\n",
        "\n",
        "  kfold = model_selection.KFold(n_splits=10)\n",
        "  cart = DecisionTreeClassifier()\n",
        "  model = BaggingClassifier(base_estimator=cart, n_estimators=num_trees, random_state=seed)\n",
        "  results = model_selection.cross_val_score(model, features_train, train.target, cv=kfold)\n",
        "\n",
        "  print('Bagging classifier: {}'.format(results.mean()))\n",
        "\n",
        "  return model"
      ],
      "execution_count": 109,
      "outputs": []
    },
    {
      "cell_type": "code",
      "metadata": {
        "colab_type": "code",
        "id": "SZORI1FW1TzL",
        "colab": {
          "base_uri": "https://localhost:8080/",
          "height": 34
        },
        "outputId": "bb0bab59-34c5-4eae-8866-4b2c878c47b0"
      },
      "source": [
        "bagging_text = baggingClassifier(x_train_text, y_train_text, x_validation_text, y_validation_text)"
      ],
      "execution_count": 111,
      "outputs": [
        {
          "output_type": "stream",
          "text": [
            "Bagging classifier: 0.5554824947144418\n"
          ],
          "name": "stdout"
        }
      ]
    },
    {
      "cell_type": "code",
      "metadata": {
        "colab_type": "code",
        "id": "Tvio6Kci1Tzg",
        "colab": {
          "base_uri": "https://localhost:8080/",
          "height": 34
        },
        "outputId": "1e0dead6-93da-4a8b-94c3-c1c8fa8da20f"
      },
      "source": [
        "bagging_text_keyword = baggingClassifier(x_train_text_keyword, y_train_text_keyword, x_validation_text_keyword, y_validation_text_keyword)"
      ],
      "execution_count": 112,
      "outputs": [
        {
          "output_type": "stream",
          "text": [
            "Bagging classifier: 0.5554824947144418\n"
          ],
          "name": "stdout"
        }
      ]
    },
    {
      "cell_type": "code",
      "metadata": {
        "colab_type": "code",
        "id": "BiC6dgjz1Tzq",
        "colab": {
          "base_uri": "https://localhost:8080/",
          "height": 34
        },
        "outputId": "e063e08d-e3eb-4f88-a553-ac8932b7dadf"
      },
      "source": [
        "bagging_numericos = baggingClassifier(x_train_numericos,y_train_numericos,  x_validation_numericos, y_validation_numericos)"
      ],
      "execution_count": 113,
      "outputs": [
        {
          "output_type": "stream",
          "text": [
            "Bagging classifier: 0.5554824947144418\n"
          ],
          "name": "stdout"
        }
      ]
    },
    {
      "cell_type": "code",
      "metadata": {
        "colab_type": "code",
        "id": "2pwJw22y5Q9D",
        "colab": {}
      },
      "source": [
        "#prediction_bagg = model.predict(doc2vec_features_numericos_test)\n",
        "#submission_bagg = pd.DataFrame(data={'id':test['id'], 'target': prediction_bagg})\n",
        "#submission_bagg.to_csv('doc2vec_bagg.csv', index=False)"
      ],
      "execution_count": null,
      "outputs": []
    },
    {
      "cell_type": "markdown",
      "metadata": {
        "colab_type": "text",
        "id": "EJn6ybBk5Q9K"
      },
      "source": [
        "BAGGING CON RANDOM FOREST"
      ]
    },
    {
      "cell_type": "code",
      "metadata": {
        "colab_type": "code",
        "id": "4cE64W1g5Q9L",
        "colab": {}
      },
      "source": [
        "def baggingRandomForest(x_train, y_train, x_validation, y_validation):\n",
        "\n",
        "  max_features = 3\n",
        "  kfold = model_selection.KFold(n_splits=10)\n",
        "  model = RandomForestClassifier(n_estimators=num_trees, max_features=max_features)\n",
        "  results = model_selection.cross_val_score(model, features_train, train.target, cv=kfold)\n",
        "\n",
        "  print('Bagging Random Forest: {}'.format(results.mean()))\n",
        "\n",
        "  return model"
      ],
      "execution_count": 114,
      "outputs": []
    },
    {
      "cell_type": "code",
      "metadata": {
        "colab_type": "code",
        "id": "7DtH98Vl3OW2",
        "colab": {
          "base_uri": "https://localhost:8080/",
          "height": 34
        },
        "outputId": "3ec668c2-2041-4912-d28b-e494deccf691"
      },
      "source": [
        "baggin_rf_text = baggingRandomForest(x_train_text, y_train_text, x_validation_text, y_validation_text)"
      ],
      "execution_count": 116,
      "outputs": [
        {
          "output_type": "stream",
          "text": [
            "Bagging Random Forest: 0.5532482470571598\n"
          ],
          "name": "stdout"
        }
      ]
    },
    {
      "cell_type": "code",
      "metadata": {
        "colab_type": "code",
        "id": "YXC6_f4l3OXH",
        "colab": {
          "base_uri": "https://localhost:8080/",
          "height": 34
        },
        "outputId": "8c9319f6-28fa-4ee4-8b6e-42abe421bb98"
      },
      "source": [
        "baggin_rf_text_keyword = baggingRandomForest(x_train_text_keyword, y_train_text_keyword, x_validation_text_keyword, y_validation_text_keyword)"
      ],
      "execution_count": 117,
      "outputs": [
        {
          "output_type": "stream",
          "text": [
            "Bagging Random Forest: 0.5632332095150394\n"
          ],
          "name": "stdout"
        }
      ]
    },
    {
      "cell_type": "code",
      "metadata": {
        "colab_type": "code",
        "id": "MOVEeFB63OXQ",
        "colab": {
          "base_uri": "https://localhost:8080/",
          "height": 34
        },
        "outputId": "061d360b-2570-4e01-9476-8ceae6cc5256"
      },
      "source": [
        "baggin_rf_numericos = baggingRandomForest(x_train_numericos,y_train_numericos, x_validation_numericos, y_validation_numericos)"
      ],
      "execution_count": 118,
      "outputs": [
        {
          "output_type": "stream",
          "text": [
            "Bagging Random Forest: 0.5570581601084358\n"
          ],
          "name": "stdout"
        }
      ]
    },
    {
      "cell_type": "code",
      "metadata": {
        "colab_type": "code",
        "id": "m3MICW1o5Q9X",
        "colab": {}
      },
      "source": [
        "#prediction_rf_bagg = model.predict(matriz_test_doc2vec_text_keyword)\n",
        "#submission_rf_bagg = pd.DataFrame(data={'id':test['id'], 'target': prediction_rf_bagg})\n",
        "#submission_rf_bagg.to_csv('doc2vec_rf_bagg.csv', index=False)"
      ],
      "execution_count": null,
      "outputs": []
    },
    {
      "cell_type": "markdown",
      "metadata": {
        "id": "dQ4oAPbuiZRs",
        "colab_type": "text"
      },
      "source": [
        "#NuSVC"
      ]
    },
    {
      "cell_type": "code",
      "metadata": {
        "id": "0JKU2lABmnvJ",
        "colab_type": "code",
        "colab": {}
      },
      "source": [
        "def nusvc(x_train, y_train):\n",
        "\n",
        "  nusvc = NuSVC(probability=True)\n",
        "  grid_nusvc = GridSearchCV(nusvc, cv=StratifiedKFold(n_splits=5), param_grid={'nu': [0.4, 0.5]}, scoring=['f1_macro'], refit=False)\n",
        "  grid_nusvc.fit(x_train, y_train)\n",
        "\n",
        "  print('nusvc: {}'.format(grid_nusvc.cv_results_['mean_test_f1_macro'][0]))\n",
        "\n",
        "  return grid_nusvc"
      ],
      "execution_count": 136,
      "outputs": []
    },
    {
      "cell_type": "code",
      "metadata": {
        "colab_type": "code",
        "id": "KaZFmmGX3wrs",
        "colab": {
          "base_uri": "https://localhost:8080/",
          "height": 34
        },
        "outputId": "a481d070-4f73-4d1b-b786-54cee3238097"
      },
      "source": [
        "nusvc_text = nusvc(x_train_text, y_train_text)"
      ],
      "execution_count": 142,
      "outputs": [
        {
          "output_type": "stream",
          "text": [
            "nusvc: 0.5476285040781657\n"
          ],
          "name": "stdout"
        }
      ]
    },
    {
      "cell_type": "code",
      "metadata": {
        "colab_type": "code",
        "id": "1kx0B6jJ3wsF",
        "colab": {
          "base_uri": "https://localhost:8080/",
          "height": 34
        },
        "outputId": "19182cdb-b851-4ff1-cf95-fc585c07775d"
      },
      "source": [
        "nusvc_text_keyword = nusvc(x_train_text_keyword, y_train_text_keyword)"
      ],
      "execution_count": 138,
      "outputs": [
        {
          "output_type": "stream",
          "text": [
            "nusvc: 0.5845603562957474\n"
          ],
          "name": "stdout"
        }
      ]
    },
    {
      "cell_type": "code",
      "metadata": {
        "colab_type": "code",
        "id": "916klxJW3wsV",
        "colab": {
          "base_uri": "https://localhost:8080/",
          "height": 34
        },
        "outputId": "4ca16880-e3e4-4626-db07-ec89da65a977"
      },
      "source": [
        "nusvc_numericos = nusvc(x_train_numericos,y_train_numericos)"
      ],
      "execution_count": 140,
      "outputs": [
        {
          "output_type": "stream",
          "text": [
            "nusvc: 0.6094480831000061\n"
          ],
          "name": "stdout"
        }
      ]
    },
    {
      "cell_type": "code",
      "metadata": {
        "id": "IocFdaWlWYge",
        "colab_type": "code",
        "colab": {}
      },
      "source": [
        "#prediction_nuscv = nuscv.predict(doc2vec_features_numericos_test)\n",
        "#submission_nuscv = pd.DataFrame(data={'id':test['id'], 'target': prediction_nuscv})\n",
        "#submission_nuscv.to_csv('doc2vec_nuscv.csv', index=False)"
      ],
      "execution_count": null,
      "outputs": []
    },
    {
      "cell_type": "markdown",
      "metadata": {
        "id": "hQmTcW2IoTTa",
        "colab_type": "text"
      },
      "source": [
        "#XGBoost"
      ]
    },
    {
      "cell_type": "code",
      "metadata": {
        "id": "L6IO89ptoXG-",
        "colab_type": "code",
        "colab": {}
      },
      "source": [
        "def xgboost(x_train, y_train, x_validation, y_validation):\n",
        "\n",
        "  model = XGBClassifier()\n",
        "  model.fit(x_train, y_train)\n",
        "  y_pred = model.predict(x_validation)\n",
        "  predictions = [round(value) for value in y_pred]\n",
        "  accuracy = accuracy_score(y_validation, predictions)\n",
        "\n",
        "  print(\"Accuracy xgboost: %.5f%%\" % accuracy)\n",
        "\n",
        "  return model"
      ],
      "execution_count": 104,
      "outputs": []
    },
    {
      "cell_type": "code",
      "metadata": {
        "colab_type": "code",
        "id": "wQi63waZ4XRm",
        "colab": {
          "base_uri": "https://localhost:8080/",
          "height": 34
        },
        "outputId": "7f0bb9a9-e12c-40a5-a500-73cb712fb9c7"
      },
      "source": [
        "xgboost_text = xgboost(x_train_text, y_train_text, x_validation_text, y_validation_text)"
      ],
      "execution_count": 105,
      "outputs": [
        {
          "output_type": "stream",
          "text": [
            "Accuracy xgboost: 0.56305%\n"
          ],
          "name": "stdout"
        }
      ]
    },
    {
      "cell_type": "code",
      "metadata": {
        "colab_type": "code",
        "id": "x-KFVv-j4XRu",
        "colab": {
          "base_uri": "https://localhost:8080/",
          "height": 34
        },
        "outputId": "ee65fc3c-ddef-4a9d-dd17-4a708d216bb9"
      },
      "source": [
        "xgboost_text_keyword = xgboost(x_train_text_keyword, y_train_text_keyword, x_validation_text_keyword, y_validation_text_keyword)"
      ],
      "execution_count": 106,
      "outputs": [
        {
          "output_type": "stream",
          "text": [
            "Accuracy xgboost: 0.59238%\n"
          ],
          "name": "stdout"
        }
      ]
    },
    {
      "cell_type": "code",
      "metadata": {
        "colab_type": "code",
        "id": "BvbaBOuP4XR0",
        "colab": {
          "base_uri": "https://localhost:8080/",
          "height": 34
        },
        "outputId": "a26deca9-237d-49d9-b11c-67650798a139"
      },
      "source": [
        "xgboost_numericos = xgboost(x_train_numericos,y_train_numericos,  x_validation_numericos, y_validation_numericos)"
      ],
      "execution_count": 107,
      "outputs": [
        {
          "output_type": "stream",
          "text": [
            "Accuracy xgboost: 0.66200%\n"
          ],
          "name": "stdout"
        }
      ]
    },
    {
      "cell_type": "code",
      "metadata": {
        "id": "nV3naQTS0rNe",
        "colab_type": "code",
        "colab": {}
      },
      "source": [
        "#submission_xgboost = pd.DataFrame(data={'id':test['id'], 'target': prediction_xgboost})\n",
        "#submission_xgboost.to_csv('tf_idf_xgboost.csv', index=False)"
      ],
      "execution_count": null,
      "outputs": []
    }
  ]
}