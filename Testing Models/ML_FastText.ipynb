{
  "nbformat": 4,
  "nbformat_minor": 0,
  "metadata": {
    "colab": {
      "name": "ML FastText.ipynb",
      "provenance": [],
      "collapsed_sections": [
        "2l5aTJ2DxWI6",
        "QDnbt2akcCjX",
        "wyHI9-fPeSe_",
        "dQ4oAPbuiZRs"
      ]
    },
    "kernelspec": {
      "display_name": "Python 3",
      "name": "python3"
    }
  },
  "cells": [
    {
      "cell_type": "code",
      "metadata": {
        "colab_type": "code",
        "id": "4MabbfEF1lSL",
        "colab": {}
      },
      "source": [
        "import pandas as pd\n",
        "import numpy as np\n",
        "\n",
        "from sklearn.neighbors import KNeighborsClassifier\n",
        "from sklearn.naive_bayes import MultinomialNB\n",
        "from sklearn.model_selection import GridSearchCV, StratifiedKFold\n",
        "from sklearn.ensemble import RandomForestClassifier\n",
        "from sklearn.svm import SVC, LinearSVC, NuSVC\n",
        "from sklearn.ensemble import BaggingClassifier\n",
        "from sklearn.tree import DecisionTreeClassifier\n",
        "from xgboost import XGBClassifier\n",
        "\n",
        "from sklearn import metrics\n",
        "from sklearn.metrics import accuracy_score\n",
        "from sklearn.model_selection import train_test_split\n",
        "from sklearn import preprocessing\n",
        "from sklearn import model_selection\n",
        "\n",
        "from sklearn.datasets import fetch_20newsgroups\n",
        "from keras.layers import  Dropout, Dense\n",
        "from keras.models import Sequential"
      ],
      "execution_count": 1,
      "outputs": []
    },
    {
      "cell_type": "markdown",
      "metadata": {
        "colab_type": "text",
        "id": "MlZEb6_mlt2E"
      },
      "source": [
        "##Importamos las matrices a utilizar"
      ]
    },
    {
      "cell_type": "code",
      "metadata": {
        "colab_type": "code",
        "id": "-_dO2NXB1G1P",
        "colab": {}
      },
      "source": [
        "from pydrive.auth import GoogleAuth\n",
        "from pydrive.drive import GoogleDrive\n",
        "from google.colab import auth\n",
        "from oauth2client.client import GoogleCredentials\n",
        "\n",
        "# Authenticate and create the PyDrive client\n",
        "auth.authenticate_user()\n",
        "gauth = GoogleAuth()\n",
        "gauth.credentials = GoogleCredentials.get_application_default()\n",
        "drive = GoogleDrive(gauth)"
      ],
      "execution_count": 2,
      "outputs": []
    },
    {
      "cell_type": "code",
      "metadata": {
        "colab_type": "code",
        "id": "V3wJsdDluWhU",
        "colab": {}
      },
      "source": [
        "id='1Pk5MK9Hs_kMUT9NotGnOKE0NPra-39YU'\n",
        "downloaded = drive.CreateFile({'id': id})\n",
        "downloaded.GetContentFile('train.csv')\n",
        "\n",
        "train = pd.read_csv('train.csv')\n",
        "\n",
        "id='1GsTM9oLtIV8-Da_fDOFWsQYMpgQ8GOYJ'\n",
        "downloaded = drive.CreateFile({'id': id})\n",
        "downloaded.GetContentFile('test.csv')\n",
        "\n",
        "test = pd.read_csv('test.csv')"
      ],
      "execution_count": 3,
      "outputs": []
    },
    {
      "cell_type": "code",
      "metadata": {
        "colab_type": "code",
        "id": "7_PEPby1ltJ8",
        "colab": {}
      },
      "source": [
        "id= '1XRy8Za6o-AmIgqMtORWpNvAb_AjTRYIG'\n",
        "downloaded = drive.CreateFile({'id': id})\n",
        "downloaded.GetContentFile('ft_features_numericos_test.csv')\n",
        "\n",
        "id= '1exec3rpRy8Y2tWC8OmK4OKQ901v5-Ckv'\n",
        "downloaded = drive.CreateFile({'id': id})\n",
        "downloaded.GetContentFile('ft_features_numericos_train.csv')\n",
        "\n",
        "id= '1TA7fS4iqd9is7hjRS-BW8DmTyxy5gGKP'\n",
        "downloaded = drive.CreateFile({'id': id})\n",
        "downloaded.GetContentFile('matriz_test_ft_solo_text.csv')\n",
        "\n",
        "id= '1oYeJf5ffKhy-HnGpgVFO9uSoeUib-NBk'\n",
        "downloaded = drive.CreateFile({'id': id})\n",
        "downloaded.GetContentFile('matriz_train_ft_solo_text.csv')\n",
        "\n",
        "id= '1c3gKcyPMYG3I8Yt7YfN8nsYxkWOb_4fe'\n",
        "downloaded = drive.CreateFile({'id': id})\n",
        "downloaded.GetContentFile('matriz_test_ft_text_keyword.csv')\n",
        "\n",
        "id= '1qxjmYbeE69mIbZ_daSMMbOpNdWrLsh-I'\n",
        "downloaded = drive.CreateFile({'id': id})\n",
        "downloaded.GetContentFile('matriz_train_ft_text_keyword.csv')"
      ],
      "execution_count": 4,
      "outputs": []
    },
    {
      "cell_type": "code",
      "metadata": {
        "colab_type": "code",
        "id": "ihBuAcOTnamE",
        "colab": {}
      },
      "source": [
        "matriz_test_ft_solo_text = pd.read_csv('matriz_test_ft_solo_text.csv')\n",
        "matriz_train_ft_solo_text = pd.read_csv('matriz_train_ft_solo_text.csv')\n",
        "\n",
        "matriz_test_ft_text_keyword = pd.read_csv('matriz_test_ft_text_keyword.csv')\n",
        "matriz_train_ft_text_keyword = pd.read_csv('matriz_train_ft_text_keyword.csv')\n",
        "\n",
        "ft_features_numericos_test = pd.read_csv('ft_features_numericos_test.csv')\n",
        "ft_features_numericos_train = pd.read_csv('ft_features_numericos_train.csv')"
      ],
      "execution_count": 5,
      "outputs": []
    },
    {
      "cell_type": "code",
      "metadata": {
        "colab_type": "code",
        "id": "_BTvQz0C2o9N",
        "colab": {}
      },
      "source": [
        "def cross_val(model, x_train, y_train):\n",
        "  score_cross_val = model_selection.cross_val_score(model, x_train, y_train, cv=5)\n",
        "  print(score_cross_val.mean())"
      ],
      "execution_count": 6,
      "outputs": []
    },
    {
      "cell_type": "markdown",
      "metadata": {
        "colab_type": "text",
        "id": "2l5aTJ2DxWI6"
      },
      "source": [
        "##SPLIT DE LAS MATRICES"
      ]
    },
    {
      "cell_type": "code",
      "metadata": {
        "colab_type": "code",
        "id": "7B2rZ_WOuQEN",
        "colab": {}
      },
      "source": [
        "y = train.target"
      ],
      "execution_count": 7,
      "outputs": []
    },
    {
      "cell_type": "code",
      "metadata": {
        "colab_type": "code",
        "id": "0wEyJtPQCwV5",
        "colab": {}
      },
      "source": [
        "x_train_text, x_validation_text, y_train_text, y_validation_text = train_test_split(matriz_train_ft_solo_text, y, test_size=0.3, stratify=y)\n",
        "x_train_text_keyword, x_validation_text_keyword, y_train_text_keyword, y_validation_text_keyword = train_test_split(matriz_train_ft_text_keyword, y, test_size=0.3, stratify=y)\n",
        "x_train_numericos, x_validation_numericos, y_train_numericos, y_validation_numericos = train_test_split(ft_features_numericos_train, y, test_size=0.3, stratify=y)"
      ],
      "execution_count": 8,
      "outputs": []
    },
    {
      "cell_type": "markdown",
      "metadata": {
        "colab_type": "text",
        "id": "ZvZjErbF2o3N"
      },
      "source": [
        "##KNN"
      ]
    },
    {
      "cell_type": "markdown",
      "metadata": {
        "colab_type": "text",
        "id": "dxzd-0dAKvYH"
      },
      "source": [
        "Funcion que aplica KNN con GridSearch y CV para encontrar los mejores hiperparametros para cada matriz probada."
      ]
    },
    {
      "cell_type": "code",
      "metadata": {
        "colab_type": "code",
        "id": "BTkuwvH9EtSM",
        "colab": {}
      },
      "source": [
        "def knn_con_gridsearch(x_train, y_train, x_validation, y_validation):\n",
        "\n",
        "  knn = KNeighborsClassifier()\n",
        "  params_knn = {'n_neighbors': np.arange(1, 25), 'weights' : ['uniform', 'distance'], 'metric': ['euclidean', 'manhattan', 'minkowski']}\n",
        "  knn_gs = GridSearchCV(knn, params_knn, cv=5)\n",
        "  knn_gs.fit(x_train, y_train)\n",
        "  knn_best = knn_gs.best_estimator_\n",
        "  \n",
        "  print(knn_gs.best_params_)\n",
        "  print('knn score: {}'.format(knn_best.score(x_validation, y_validation)))\n",
        "  \n",
        "  return knn_best"
      ],
      "execution_count": 30,
      "outputs": []
    },
    {
      "cell_type": "markdown",
      "metadata": {
        "colab_type": "text",
        "id": "ViQPyKNIuDCP"
      },
      "source": [
        "Corremos el algoritmo con cada matriz y comparamos los resultados."
      ]
    },
    {
      "cell_type": "code",
      "metadata": {
        "colab_type": "code",
        "id": "Tm-p3-QkumGr",
        "colab": {
          "base_uri": "https://localhost:8080/",
          "height": 51
        },
        "outputId": "715a0314-2ac1-4766-a8e9-cd5117917837"
      },
      "source": [
        "knn_text = knn_con_gridsearch(x_train_text, y_train_text, x_validation_text, y_validation_text)"
      ],
      "execution_count": 31,
      "outputs": [
        {
          "output_type": "stream",
          "text": [
            "{'metric': 'euclidean', 'n_neighbors': 2, 'weights': 'uniform'}\n",
            "knn score: 0.553415061295972\n"
          ],
          "name": "stdout"
        }
      ]
    },
    {
      "cell_type": "code",
      "metadata": {
        "colab_type": "code",
        "id": "OKm4qkAT2Ult",
        "colab": {}
      },
      "source": [
        "#CON GRIDSEARCH: params_knn = {'n_neighbors': np.arange(1, 25)}\n",
        "#{'n_neighbors': 20}\n",
        "#knn score: 0.5652364273204904"
      ],
      "execution_count": null,
      "outputs": []
    },
    {
      "cell_type": "code",
      "metadata": {
        "colab_type": "code",
        "id": "Q63EuZuu3jzE",
        "colab": {
          "base_uri": "https://localhost:8080/",
          "height": 34
        },
        "outputId": "ad394c8b-b693-4e5e-948d-23dcb19a0da4"
      },
      "source": [
        "cross_val(knn_text, x_train_text, y_train_text)"
      ],
      "execution_count": 32,
      "outputs": [
        {
          "output_type": "stream",
          "text": [
            "0.5635192770129218\n"
          ],
          "name": "stdout"
        }
      ]
    },
    {
      "cell_type": "code",
      "metadata": {
        "colab_type": "code",
        "id": "efnYEi8fvVBy",
        "colab": {
          "base_uri": "https://localhost:8080/",
          "height": 51
        },
        "outputId": "f93a6332-f0a5-4c5b-8e90-19c6d9efab52"
      },
      "source": [
        "knn_text_keyword = knn_con_gridsearch(x_train_text_keyword, y_train_text_keyword, x_validation_text_keyword, y_validation_text_keyword)"
      ],
      "execution_count": 33,
      "outputs": [
        {
          "output_type": "stream",
          "text": [
            "{'metric': 'manhattan', 'n_neighbors': 23, 'weights': 'distance'}\n",
            "knn score: 0.5564798598949212\n"
          ],
          "name": "stdout"
        }
      ]
    },
    {
      "cell_type": "code",
      "metadata": {
        "colab_type": "code",
        "id": "WZaOZYGs2kWX",
        "colab": {}
      },
      "source": [
        "#CON GRIDSEARCH: params_knn = {'n_neighbors': np.arange(1, 25)}\n",
        "#{'n_neighbors': 10}\n",
        "#knn score: 0.6112084063047285"
      ],
      "execution_count": null,
      "outputs": []
    },
    {
      "cell_type": "code",
      "metadata": {
        "colab_type": "code",
        "id": "86VtthHI4T-0",
        "colab": {
          "base_uri": "https://localhost:8080/",
          "height": 34
        },
        "outputId": "d705109d-b89f-4ac5-acee-2342ea1229c2"
      },
      "source": [
        "cross_val(knn_text_keyword, x_train_text_keyword, y_train_text_keyword)"
      ],
      "execution_count": 34,
      "outputs": [
        {
          "output_type": "stream",
          "text": [
            "0.5637063657743837\n"
          ],
          "name": "stdout"
        }
      ]
    },
    {
      "cell_type": "code",
      "metadata": {
        "colab_type": "code",
        "id": "t5Ebf8hdvVIt",
        "colab": {
          "base_uri": "https://localhost:8080/",
          "height": 51
        },
        "outputId": "57036959-1fbf-4a6f-89f0-029a6cfc4c5d"
      },
      "source": [
        "knn_numericos = knn_con_gridsearch(x_train_numericos,y_train_numericos,  x_validation_numericos, y_validation_numericos)"
      ],
      "execution_count": 35,
      "outputs": [
        {
          "output_type": "stream",
          "text": [
            "{'metric': 'manhattan', 'n_neighbors': 19, 'weights': 'distance'}\n",
            "knn score: 0.6624343257443083\n"
          ],
          "name": "stdout"
        }
      ]
    },
    {
      "cell_type": "code",
      "metadata": {
        "colab_type": "code",
        "id": "DeK6mYOb2l6_",
        "colab": {}
      },
      "source": [
        "#CON GRIDSEARCH: params_knn = {'n_neighbors': np.arange(1, 25)}\n",
        "#{'n_neighbors': 24}\n",
        "#knn score: 0.658493870402802"
      ],
      "execution_count": null,
      "outputs": []
    },
    {
      "cell_type": "code",
      "metadata": {
        "colab_type": "code",
        "id": "ZXhr6KKM4VJ6",
        "colab": {
          "base_uri": "https://localhost:8080/",
          "height": 34
        },
        "outputId": "4fa196b1-f803-4d61-80fb-aba7fe78dfeb"
      },
      "source": [
        "cross_val(knn_numericos, x_train_text, y_train_text)"
      ],
      "execution_count": 36,
      "outputs": [
        {
          "output_type": "stream",
          "text": [
            "0.542128619119344\n"
          ],
          "name": "stdout"
        }
      ]
    },
    {
      "cell_type": "markdown",
      "metadata": {
        "colab_type": "text",
        "id": "VxJG8avbLoxi"
      },
      "source": [
        "Realizamos la prediccion con el modelo que haya dado mayor score"
      ]
    },
    {
      "cell_type": "code",
      "metadata": {
        "colab_type": "code",
        "id": "RU2nPooS95Da",
        "colab": {}
      },
      "source": [
        "prediction_knn = knn_numericos.predict(ft_features_numericos_test)\n",
        "submission_knn = pd.DataFrame(data={'id':test['id'], 'target': prediction_knn})\n",
        "submission_knn.to_csv('ft_knn.csv', index=False)"
      ],
      "execution_count": 38,
      "outputs": []
    },
    {
      "cell_type": "markdown",
      "metadata": {
        "colab_type": "text",
        "id": "QDnbt2akcCjX"
      },
      "source": [
        "#RED NEURONAL PROFUNDA"
      ]
    },
    {
      "cell_type": "code",
      "metadata": {
        "colab_type": "code",
        "id": "i6VcjQlgcHOn",
        "colab": {}
      },
      "source": [
        "def DNN_model(shape, nClasses, dropout=0.5):\n",
        "    model = Sequential()\n",
        "    node = 512\n",
        "    nLayers = 4\n",
        "    model.add(Dense(node,input_dim=shape,activation='relu'))\n",
        "    model.add(Dropout(dropout))\n",
        "    for i in range(0,nLayers):\n",
        "        model.add(Dense(node,input_dim=node,activation='relu'))\n",
        "        model.add(Dropout(dropout))\n",
        "    model.add(Dense(nClasses, activation='softmax'))\n",
        "    model.compile(loss='sparse_categorical_crossentropy', optimizer='adam', metrics=['accuracy'])\n",
        "    return model"
      ],
      "execution_count": 39,
      "outputs": []
    },
    {
      "cell_type": "markdown",
      "metadata": {
        "colab_type": "text",
        "id": "5WsVnapnzPNT"
      },
      "source": [
        "Corremos el algoritmo con cada matriz y comparamos los resultados."
      ]
    },
    {
      "cell_type": "code",
      "metadata": {
        "colab_type": "code",
        "id": "UdFpzN-Ucc5s",
        "colab": {
          "base_uri": "https://localhost:8080/",
          "height": 714
        },
        "outputId": "713db301-59e7-47f8-9da6-625b75dbc03d"
      },
      "source": [
        "model_DNN_text = DNN_model(matriz_train_ft_solo_text.shape[1], 2)\n",
        "model_DNN_text.fit(matriz_train_ft_solo_text, train.target, epochs=20, batch_size=128, verbose=2)"
      ],
      "execution_count": 40,
      "outputs": [
        {
          "output_type": "stream",
          "text": [
            "Epoch 1/20\n",
            "60/60 - 2s - loss: 0.6859 - accuracy: 0.5651\n",
            "Epoch 2/20\n",
            "60/60 - 2s - loss: 0.6853 - accuracy: 0.5663\n",
            "Epoch 3/20\n",
            "60/60 - 2s - loss: 0.6842 - accuracy: 0.5702\n",
            "Epoch 4/20\n",
            "60/60 - 2s - loss: 0.6823 - accuracy: 0.5703\n",
            "Epoch 5/20\n",
            "60/60 - 2s - loss: 0.6827 - accuracy: 0.5702\n",
            "Epoch 6/20\n",
            "60/60 - 2s - loss: 0.6821 - accuracy: 0.5705\n",
            "Epoch 7/20\n",
            "60/60 - 2s - loss: 0.6806 - accuracy: 0.5703\n",
            "Epoch 8/20\n",
            "60/60 - 2s - loss: 0.6812 - accuracy: 0.5703\n",
            "Epoch 9/20\n",
            "60/60 - 2s - loss: 0.6779 - accuracy: 0.5694\n",
            "Epoch 10/20\n",
            "60/60 - 2s - loss: 0.6793 - accuracy: 0.5703\n",
            "Epoch 11/20\n",
            "60/60 - 2s - loss: 0.6770 - accuracy: 0.5706\n",
            "Epoch 12/20\n",
            "60/60 - 2s - loss: 0.6773 - accuracy: 0.5717\n",
            "Epoch 13/20\n",
            "60/60 - 2s - loss: 0.6785 - accuracy: 0.5715\n",
            "Epoch 14/20\n",
            "60/60 - 2s - loss: 0.6751 - accuracy: 0.5730\n",
            "Epoch 15/20\n",
            "60/60 - 2s - loss: 0.6715 - accuracy: 0.5723\n",
            "Epoch 16/20\n",
            "60/60 - 2s - loss: 0.6726 - accuracy: 0.5826\n",
            "Epoch 17/20\n",
            "60/60 - 2s - loss: 0.6706 - accuracy: 0.5793\n",
            "Epoch 18/20\n",
            "60/60 - 2s - loss: 0.6686 - accuracy: 0.5840\n",
            "Epoch 19/20\n",
            "60/60 - 2s - loss: 0.6655 - accuracy: 0.5844\n",
            "Epoch 20/20\n",
            "60/60 - 2s - loss: 0.6646 - accuracy: 0.5940\n"
          ],
          "name": "stdout"
        },
        {
          "output_type": "execute_result",
          "data": {
            "text/plain": [
              "<tensorflow.python.keras.callbacks.History at 0x7fbb8b1b2f28>"
            ]
          },
          "metadata": {
            "tags": []
          },
          "execution_count": 40
        }
      ]
    },
    {
      "cell_type": "code",
      "metadata": {
        "colab_type": "code",
        "id": "Wv2wcBTXcgT-",
        "colab": {
          "base_uri": "https://localhost:8080/",
          "height": 714
        },
        "outputId": "6d3de866-7ef0-4204-b99f-b7104b11f632"
      },
      "source": [
        "model_DNN_text_keyword = DNN_model(matriz_train_ft_text_keyword.shape[1], 2)\n",
        "model_DNN_text_keyword.fit(matriz_train_ft_text_keyword, train.target, epochs=20, batch_size=128, verbose=2)"
      ],
      "execution_count": 43,
      "outputs": [
        {
          "output_type": "stream",
          "text": [
            "Epoch 1/20\n",
            "60/60 - 2s - loss: 0.6859 - accuracy: 0.5669\n",
            "Epoch 2/20\n",
            "60/60 - 2s - loss: 0.6842 - accuracy: 0.5698\n",
            "Epoch 3/20\n",
            "60/60 - 2s - loss: 0.6832 - accuracy: 0.5685\n",
            "Epoch 4/20\n",
            "60/60 - 2s - loss: 0.6832 - accuracy: 0.5698\n",
            "Epoch 5/20\n",
            "60/60 - 2s - loss: 0.6804 - accuracy: 0.5699\n",
            "Epoch 6/20\n",
            "60/60 - 2s - loss: 0.6821 - accuracy: 0.5692\n",
            "Epoch 7/20\n",
            "60/60 - 2s - loss: 0.6813 - accuracy: 0.5703\n",
            "Epoch 8/20\n",
            "60/60 - 2s - loss: 0.6793 - accuracy: 0.5703\n",
            "Epoch 9/20\n",
            "60/60 - 2s - loss: 0.6784 - accuracy: 0.5703\n",
            "Epoch 10/20\n",
            "60/60 - 2s - loss: 0.6780 - accuracy: 0.5698\n",
            "Epoch 11/20\n",
            "60/60 - 2s - loss: 0.6766 - accuracy: 0.5702\n",
            "Epoch 12/20\n",
            "60/60 - 2s - loss: 0.6754 - accuracy: 0.5706\n",
            "Epoch 13/20\n",
            "60/60 - 2s - loss: 0.6752 - accuracy: 0.5694\n",
            "Epoch 14/20\n",
            "60/60 - 2s - loss: 0.6720 - accuracy: 0.5728\n",
            "Epoch 15/20\n",
            "60/60 - 2s - loss: 0.6711 - accuracy: 0.5777\n",
            "Epoch 16/20\n",
            "60/60 - 2s - loss: 0.6699 - accuracy: 0.5782\n",
            "Epoch 17/20\n",
            "60/60 - 2s - loss: 0.6677 - accuracy: 0.5873\n",
            "Epoch 18/20\n",
            "60/60 - 2s - loss: 0.6678 - accuracy: 0.5832\n",
            "Epoch 19/20\n",
            "60/60 - 2s - loss: 0.6633 - accuracy: 0.5949\n",
            "Epoch 20/20\n",
            "60/60 - 2s - loss: 0.6646 - accuracy: 0.5910\n"
          ],
          "name": "stdout"
        },
        {
          "output_type": "execute_result",
          "data": {
            "text/plain": [
              "<tensorflow.python.keras.callbacks.History at 0x7fbb881e3ef0>"
            ]
          },
          "metadata": {
            "tags": []
          },
          "execution_count": 43
        }
      ]
    },
    {
      "cell_type": "code",
      "metadata": {
        "colab_type": "code",
        "id": "HGletdZCyWgS",
        "colab": {
          "base_uri": "https://localhost:8080/",
          "height": 714
        },
        "outputId": "d928ff77-0a60-4890-f08a-7bc07e759752"
      },
      "source": [
        "model_DNN_text_keyword_numericos = DNN_model(ft_features_numericos_train.shape[1], 2)\n",
        "model_DNN_text_keyword_numericos.fit(ft_features_numericos_train, train.target, epochs=20, batch_size=128, verbose=2)"
      ],
      "execution_count": 41,
      "outputs": [
        {
          "output_type": "stream",
          "text": [
            "Epoch 1/20\n",
            "60/60 - 2s - loss: 0.9137 - accuracy: 0.5161\n",
            "Epoch 2/20\n",
            "60/60 - 2s - loss: 0.6998 - accuracy: 0.5475\n",
            "Epoch 3/20\n",
            "60/60 - 2s - loss: 0.6838 - accuracy: 0.5678\n",
            "Epoch 4/20\n",
            "60/60 - 2s - loss: 0.6694 - accuracy: 0.5812\n",
            "Epoch 5/20\n",
            "60/60 - 2s - loss: 0.6632 - accuracy: 0.5918\n",
            "Epoch 6/20\n",
            "60/60 - 2s - loss: 0.6599 - accuracy: 0.6008\n",
            "Epoch 7/20\n",
            "60/60 - 2s - loss: 0.6579 - accuracy: 0.6116\n",
            "Epoch 8/20\n",
            "60/60 - 2s - loss: 0.6518 - accuracy: 0.6247\n",
            "Epoch 9/20\n",
            "60/60 - 2s - loss: 0.6431 - accuracy: 0.6330\n",
            "Epoch 10/20\n",
            "60/60 - 2s - loss: 0.6431 - accuracy: 0.6319\n",
            "Epoch 11/20\n",
            "60/60 - 2s - loss: 0.6452 - accuracy: 0.6397\n",
            "Epoch 12/20\n",
            "60/60 - 2s - loss: 0.6405 - accuracy: 0.6413\n",
            "Epoch 13/20\n",
            "60/60 - 2s - loss: 0.6440 - accuracy: 0.6351\n",
            "Epoch 14/20\n",
            "60/60 - 2s - loss: 0.6379 - accuracy: 0.6459\n",
            "Epoch 15/20\n",
            "60/60 - 2s - loss: 0.6354 - accuracy: 0.6469\n",
            "Epoch 16/20\n",
            "60/60 - 2s - loss: 0.6389 - accuracy: 0.6432\n",
            "Epoch 17/20\n",
            "60/60 - 2s - loss: 0.6383 - accuracy: 0.6460\n",
            "Epoch 18/20\n",
            "60/60 - 2s - loss: 0.6378 - accuracy: 0.6474\n",
            "Epoch 19/20\n",
            "60/60 - 2s - loss: 0.6357 - accuracy: 0.6481\n",
            "Epoch 20/20\n",
            "60/60 - 2s - loss: 0.6340 - accuracy: 0.6514\n"
          ],
          "name": "stdout"
        },
        {
          "output_type": "execute_result",
          "data": {
            "text/plain": [
              "<tensorflow.python.keras.callbacks.History at 0x7fbb8b1fcda0>"
            ]
          },
          "metadata": {
            "tags": []
          },
          "execution_count": 41
        }
      ]
    },
    {
      "cell_type": "code",
      "metadata": {
        "colab_type": "code",
        "id": "3AtiWZsDhrTO",
        "colab": {}
      },
      "source": [
        "prediction_dnn = model_DNN_text_keyword.predict_classes(matriz_test_ft_text_keyword)\n",
        "submission_dnn = pd.DataFrame(data={'id':test['id'], 'target': prediction_dnn})\n",
        "submission_dnn.to_csv('ft_dnn.csv', index=False)"
      ],
      "execution_count": 45,
      "outputs": []
    },
    {
      "cell_type": "markdown",
      "metadata": {
        "colab_type": "text",
        "id": "wyHI9-fPeSe_"
      },
      "source": [
        "#RANDOM FOREST"
      ]
    },
    {
      "cell_type": "markdown",
      "metadata": {
        "colab_type": "text",
        "id": "tn97xVuPkbi6"
      },
      "source": [
        "Funcion que aplica RANDOM FOREST con GridSearch y CV para encontrar los mejores hiperparametros para cada matriz probada."
      ]
    },
    {
      "cell_type": "code",
      "metadata": {
        "colab_type": "code",
        "id": "7sqFl7FQ7I59",
        "colab": {}
      },
      "source": [
        "\"\"\"#Numero de arboles a usar\n",
        "n_estimators = [int(x) for x in np.linspace(start = 200, stop = 2000, num = 10)]\n",
        "#Cantidad de features a considerar en cada split\n",
        "max_features = ['auto', 'sqrt']\n",
        "#Profundidad de cada arbol\n",
        "max_depth = [int(x) for x in np.linspace(10, 110, num = 11)]\n",
        "max_depth.append(None)\n",
        "#Cantidad minima de muestras requeridas para realizar un split\n",
        "min_samples_split = [2, 5, 10]\n",
        "#Cantidad minima de muestras por cada hoja del arbol\n",
        "min_samples_leaf = [1, 2, 4]\n",
        "#Método de seleccion de muestras para el entrenamiento de cada árbol\n",
        "bootstrap = [True, False]\n",
        "\n",
        "params_rf = {'n_estimators': n_estimators,\n",
        "               'max_features': max_features,\n",
        "               'max_depth': max_depth,\n",
        "               'min_samples_split': min_samples_split,\n",
        "               'min_samples_leaf': min_samples_leaf,\n",
        "               'bootstrap': bootstrap}\"\"\""
      ],
      "execution_count": null,
      "outputs": []
    },
    {
      "cell_type": "code",
      "metadata": {
        "colab_type": "code",
        "id": "AYky__5OeRd6",
        "colab": {}
      },
      "source": [
        "def RandomForest_con_gridsearch(x_train, y_train, x_validation, y_validation):\n",
        "\n",
        "  rf = RandomForestClassifier()\n",
        "  params_rf = {'n_estimators': [50, 100, 200]}\n",
        "  rf_gs = GridSearchCV(rf, params_rf, cv=5)\n",
        "  rf_gs.fit(x_train, y_train)\n",
        "  rf_best = rf_gs.best_estimator_\n",
        "\n",
        "  print(rf_gs.best_params_)\n",
        "  print('rf: {}'.format(rf_best.score(x_validation, y_validation)))\n",
        "\n",
        "  return rf_best"
      ],
      "execution_count": 46,
      "outputs": []
    },
    {
      "cell_type": "markdown",
      "metadata": {
        "colab_type": "text",
        "id": "Zxmilw_0zvE1"
      },
      "source": [
        "Corremos el algoritmo con cada matriz y comparamos los resultados."
      ]
    },
    {
      "cell_type": "code",
      "metadata": {
        "colab_type": "code",
        "id": "kGx78s5EzzXj",
        "colab": {
          "base_uri": "https://localhost:8080/",
          "height": 51
        },
        "outputId": "caa25298-6a67-4e73-dc28-4064e33a383b"
      },
      "source": [
        "rf_text = RandomForest_con_gridsearch(x_train_text, y_train_text, x_validation_text, y_validation_text)"
      ],
      "execution_count": 47,
      "outputs": [
        {
          "output_type": "stream",
          "text": [
            "{'n_estimators': 200}\n",
            "rf: 0.5748686514886164\n"
          ],
          "name": "stdout"
        }
      ]
    },
    {
      "cell_type": "code",
      "metadata": {
        "colab_type": "code",
        "id": "oiXqE439734U",
        "colab": {}
      },
      "source": [
        "#GRIDSEARCH CON: params_rf = {'n_estimators': [50, 100, 200]}\n",
        "#{'n_estimators': 200}\n",
        "#rf: 0.5595446584938704"
      ],
      "execution_count": null,
      "outputs": []
    },
    {
      "cell_type": "code",
      "metadata": {
        "colab_type": "code",
        "id": "PEDeRMPY6ClZ",
        "colab": {
          "base_uri": "https://localhost:8080/",
          "height": 34
        },
        "outputId": "d0868ba3-18be-42b7-f0de-162134a5cc37"
      },
      "source": [
        "cross_val(rf_text, x_train_text, y_train_text)"
      ],
      "execution_count": 48,
      "outputs": [
        {
          "output_type": "stream",
          "text": [
            "0.5699019633749967\n"
          ],
          "name": "stdout"
        }
      ]
    },
    {
      "cell_type": "code",
      "metadata": {
        "colab_type": "code",
        "id": "k8SkP7i9zzX-",
        "colab": {
          "base_uri": "https://localhost:8080/",
          "height": 51
        },
        "outputId": "154123c4-0521-4d15-82f3-3ce01dc0403c"
      },
      "source": [
        "rf_text_keyword = RandomForest_con_gridsearch(x_train_text_keyword, y_train_text_keyword, x_validation_text_keyword, y_validation_text_keyword)"
      ],
      "execution_count": 49,
      "outputs": [
        {
          "output_type": "stream",
          "text": [
            "{'n_estimators': 200}\n",
            "rf: 0.5718038528896673\n"
          ],
          "name": "stdout"
        }
      ]
    },
    {
      "cell_type": "code",
      "metadata": {
        "colab_type": "code",
        "id": "e-6A2EVR6IgP",
        "colab": {
          "base_uri": "https://localhost:8080/",
          "height": 34
        },
        "outputId": "76d17f4e-574d-41c0-bc16-9d134bd00f43"
      },
      "source": [
        "cross_val(rf_text_keyword, x_train_text_keyword, y_train_text_keyword)"
      ],
      "execution_count": 50,
      "outputs": [
        {
          "output_type": "stream",
          "text": [
            "0.5775967373974932\n"
          ],
          "name": "stdout"
        }
      ]
    },
    {
      "cell_type": "code",
      "metadata": {
        "colab_type": "code",
        "id": "Kj9tNbiYzzYE",
        "colab": {
          "base_uri": "https://localhost:8080/",
          "height": 51
        },
        "outputId": "33791a61-3ace-4f16-e7a2-15c12083e74a"
      },
      "source": [
        "rf_numericos = RandomForest_con_gridsearch(x_train_numericos,y_train_numericos,  x_validation_numericos, y_validation_numericos)"
      ],
      "execution_count": 51,
      "outputs": [
        {
          "output_type": "stream",
          "text": [
            "{'n_estimators': 200}\n",
            "rf: 0.648861646234676\n"
          ],
          "name": "stdout"
        }
      ]
    },
    {
      "cell_type": "code",
      "metadata": {
        "colab_type": "code",
        "id": "oRja8Rik6NCN",
        "colab": {
          "base_uri": "https://localhost:8080/",
          "height": 34
        },
        "outputId": "1c8f2a41-6e3e-495f-ae1c-83a64966da83"
      },
      "source": [
        "cross_val(rf_numericos, x_train_numericos, y_train_numericos)"
      ],
      "execution_count": 52,
      "outputs": [
        {
          "output_type": "stream",
          "text": [
            "0.6293859718662193\n"
          ],
          "name": "stdout"
        }
      ]
    },
    {
      "cell_type": "code",
      "metadata": {
        "colab_type": "code",
        "id": "ObKpzVDah7wM",
        "colab": {}
      },
      "source": [
        "prediction_rf_numericos = rf_numericos.predict(ft_features_numericos_test)\n",
        "submission_rf = pd.DataFrame(data={'id':test['id'], 'target': prediction_rf_numericos})\n",
        "submission_rf.to_csv('ft_rf.csv', index=False)"
      ],
      "execution_count": 54,
      "outputs": []
    },
    {
      "cell_type": "markdown",
      "metadata": {
        "colab_type": "text",
        "id": "dQ4oAPbuiZRs"
      },
      "source": [
        "#NuSVC"
      ]
    },
    {
      "cell_type": "code",
      "metadata": {
        "colab_type": "code",
        "id": "0JKU2lABmnvJ",
        "colab": {}
      },
      "source": [
        "def nusvc(x_train, y_train):\n",
        "\n",
        "  nusvc = NuSVC(probability=True)\n",
        "  grid_nusvc = GridSearchCV(nusvc, param_grid={'nu': [0.4, 0.5]}, scoring=['f1_macro'], refit=False)\n",
        "  grid_nusvc.fit(x_train, y_train)\n",
        "\n",
        "  print('nusvc: {}'.format(grid_nusvc.cv_results_['mean_test_f1_macro'][0]))\n",
        "\n",
        "  return grid_nusvc"
      ],
      "execution_count": 55,
      "outputs": []
    },
    {
      "cell_type": "code",
      "metadata": {
        "colab_type": "code",
        "id": "KaZFmmGX3wrs",
        "colab": {
          "base_uri": "https://localhost:8080/",
          "height": 34
        },
        "outputId": "6e01705d-21f1-47eb-a2f4-5f4418a9adf4"
      },
      "source": [
        "nusvc_text = nusvc(x_train_text, y_train_text)"
      ],
      "execution_count": 56,
      "outputs": [
        {
          "output_type": "stream",
          "text": [
            "nusvc: 0.5157041731984793\n"
          ],
          "name": "stdout"
        }
      ]
    },
    {
      "cell_type": "code",
      "metadata": {
        "colab_type": "code",
        "id": "1kx0B6jJ3wsF",
        "colab": {
          "base_uri": "https://localhost:8080/",
          "height": 34
        },
        "outputId": "939dce8d-abac-436c-c8b0-530ea9ea6337"
      },
      "source": [
        "nusvc_text_keyword = nusvc(x_train_text_keyword, y_train_text_keyword)"
      ],
      "execution_count": 57,
      "outputs": [
        {
          "output_type": "stream",
          "text": [
            "nusvc: 0.5332814299320351\n"
          ],
          "name": "stdout"
        }
      ]
    },
    {
      "cell_type": "code",
      "metadata": {
        "colab_type": "code",
        "id": "916klxJW3wsV",
        "colab": {
          "base_uri": "https://localhost:8080/",
          "height": 34
        },
        "outputId": "15ec7a0d-c92a-4d62-aa42-42360a1e7c6f"
      },
      "source": [
        "nusvc_numericos = nusvc(x_train_numericos,y_train_numericos)"
      ],
      "execution_count": 58,
      "outputs": [
        {
          "output_type": "stream",
          "text": [
            "nusvc: 0.5640194893028262\n"
          ],
          "name": "stdout"
        }
      ]
    },
    {
      "cell_type": "code",
      "metadata": {
        "colab_type": "code",
        "id": "IocFdaWlWYge",
        "colab": {}
      },
      "source": [
        "# prediction_nuscv = nusvc.predict(ft_features_numericos_test)\n",
        "# submission_nuscv = pd.DataFrame(data={'id':test['id'], 'target': prediction_nuscv})\n",
        "# submission_nuscv.to_csv('ft_nuscv.csv', index=False)"
      ],
      "execution_count": 62,
      "outputs": []
    },
    {
      "cell_type": "markdown",
      "metadata": {
        "colab_type": "text",
        "id": "hQmTcW2IoTTa"
      },
      "source": [
        "#XGBoost"
      ]
    },
    {
      "cell_type": "code",
      "metadata": {
        "colab_type": "code",
        "id": "L6IO89ptoXG-",
        "colab": {}
      },
      "source": [
        "def xgboost(x_train, y_train, x_validation, y_validation):\n",
        "\n",
        "  xgb = XGBClassifier()\n",
        "  params_xgb = {'n_estimators': [50, 100, 200], 'learning_rate': [0.01, 0.05, 0.1], 'gamma': [0, 1, 5]}\n",
        "  xgb_gs = GridSearchCV(xgb, params_xgb, cv=5)\n",
        "  xgb_gs.fit(x_train, y_train)\n",
        "  xgb_best = xgb_gs.best_estimator_\n",
        "\n",
        "  print(xgb_gs.best_params_)\n",
        "  print('xgb: {}'.format(xgb_best.score(x_validation, y_validation)))\n",
        "\n",
        "  return xgb_best\n"
      ],
      "execution_count": 9,
      "outputs": []
    },
    {
      "cell_type": "code",
      "metadata": {
        "colab_type": "code",
        "id": "wQi63waZ4XRm",
        "colab": {
          "base_uri": "https://localhost:8080/",
          "height": 51
        },
        "outputId": "2c09ea73-9e3d-47c8-ded2-579c8977e99a"
      },
      "source": [
        "xgboost_text = xgboost(x_train_text, y_train_text, x_validation_text, y_validation_text)"
      ],
      "execution_count": 10,
      "outputs": [
        {
          "output_type": "stream",
          "text": [
            "{'gamma': 0, 'learning_rate': 0.05, 'n_estimators': 100}\n",
            "xgb: 0.5761821366024519\n"
          ],
          "name": "stdout"
        }
      ]
    },
    {
      "cell_type": "code",
      "metadata": {
        "colab_type": "code",
        "id": "ZB1_oJ1ZA5Ye",
        "colab": {
          "base_uri": "https://localhost:8080/",
          "height": 34
        },
        "outputId": "4eeafab4-84f4-4c76-b916-188a5f30eb98"
      },
      "source": [
        "cross_val(xgboost_text, x_train_text, y_train_text)"
      ],
      "execution_count": 11,
      "outputs": [
        {
          "output_type": "stream",
          "text": [
            "0.5841610513613261\n"
          ],
          "name": "stdout"
        }
      ]
    },
    {
      "cell_type": "code",
      "metadata": {
        "colab_type": "code",
        "id": "x-KFVv-j4XRu",
        "colab": {
          "base_uri": "https://localhost:8080/",
          "height": 51
        },
        "outputId": "aa5ca98f-8948-441e-c77e-88bbf035d6fb"
      },
      "source": [
        "xgboost_text_keyword = xgboost(x_train_text_keyword, y_train_text_keyword, x_validation_text_keyword, y_validation_text_keyword)"
      ],
      "execution_count": 12,
      "outputs": [
        {
          "output_type": "stream",
          "text": [
            "{'gamma': 1, 'learning_rate': 0.05, 'n_estimators': 100}\n",
            "xgb: 0.612521891418564\n"
          ],
          "name": "stdout"
        }
      ]
    },
    {
      "cell_type": "code",
      "metadata": {
        "colab_type": "code",
        "id": "DFyJtDrzA-mJ",
        "colab": {
          "base_uri": "https://localhost:8080/",
          "height": 34
        },
        "outputId": "6260b2c5-5eb6-4df4-a3c9-f914d6039087"
      },
      "source": [
        "cross_val(xgboost_text_keyword, x_train_text_keyword, y_train_text_keyword)"
      ],
      "execution_count": 13,
      "outputs": [
        {
          "output_type": "stream",
          "text": [
            "0.6089349857745597\n"
          ],
          "name": "stdout"
        }
      ]
    },
    {
      "cell_type": "code",
      "metadata": {
        "colab_type": "code",
        "id": "BvbaBOuP4XR0",
        "colab": {
          "base_uri": "https://localhost:8080/",
          "height": 51
        },
        "outputId": "b7361bcf-9606-4e6c-ffe5-705d15313b68"
      },
      "source": [
        "xgboost_numericos = xgboost(x_train_numericos,y_train_numericos,  x_validation_numericos, y_validation_numericos)"
      ],
      "execution_count": 14,
      "outputs": [
        {
          "output_type": "stream",
          "text": [
            "{'gamma': 1, 'learning_rate': 0.05, 'n_estimators': 200}\n",
            "xgb: 0.7149737302977233\n"
          ],
          "name": "stdout"
        }
      ]
    },
    {
      "cell_type": "code",
      "metadata": {
        "colab_type": "code",
        "id": "VEcLYk5NBH84",
        "colab": {
          "base_uri": "https://localhost:8080/",
          "height": 34
        },
        "outputId": "067c6f69-47ba-4ea3-8811-18bd40e167eb"
      },
      "source": [
        "cross_val(xgboost_numericos, x_train_numericos,y_train_numericos)"
      ],
      "execution_count": 15,
      "outputs": [
        {
          "output_type": "stream",
          "text": [
            "0.6772394718530068\n"
          ],
          "name": "stdout"
        }
      ]
    },
    {
      "cell_type": "code",
      "metadata": {
        "colab_type": "code",
        "id": "nV3naQTS0rNe",
        "colab": {}
      },
      "source": [
        "y_pred = xgboost_numericos.predict(ft_features_numericos_test)\n",
        "predictions = [round(value) for value in y_pred]\n",
        "submission_xgboost = pd.DataFrame(data={'id':test['id'], 'target': predictions})\n",
        "submission_xgboost.to_csv('ft_xgboost.csv', index=False)"
      ],
      "execution_count": 18,
      "outputs": []
    }
  ]
}