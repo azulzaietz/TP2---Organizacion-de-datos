{
  "nbformat": 4,
  "nbformat_minor": 0,
  "metadata": {
    "colab": {
      "name": "Modelos con TFIDF.ipynb",
      "provenance": [],
      "collapsed_sections": [
        "0Sghc-4G2rpU",
        "vHvwlZkSHihq",
        "IFqlfkf1Jnp4",
        "ljVkZcGhdBem",
        "sJ_TLlFCgJ4_",
        "rRtj8zN6lyDY",
        "FEaN_jVbmr6l",
        "GKLhlccsAPO2",
        "LrfFTvdZZ6py",
        "jJ1sNrLQMA8-",
        "vIUjG0lfNso3"
      ]
    },
    "kernelspec": {
      "name": "python3",
      "display_name": "Python 3"
    }
  },
  "cells": [
    {
      "cell_type": "code",
      "metadata": {
        "id": "bYDSNIGQJRP1",
        "colab_type": "code",
        "colab": {
          "base_uri": "https://localhost:8080/",
          "height": 557
        },
        "outputId": "310387f4-37e0-43aa-c105-2b0e2eddbd5d"
      },
      "source": [
        "!pip install -U textblob\n",
        "!pip install nltk \n",
        "!pip install catboost\n",
        "\n",
        "import nltk\n",
        "nltk.download('stopwords')\n",
        "nltk.download('wordnet')\n",
        "nltk.download('punkt')"
      ],
      "execution_count": 1,
      "outputs": [
        {
          "output_type": "stream",
          "text": [
            "Requirement already up-to-date: textblob in /usr/local/lib/python3.6/dist-packages (0.15.3)\n",
            "Requirement already satisfied, skipping upgrade: nltk>=3.1 in /usr/local/lib/python3.6/dist-packages (from textblob) (3.2.5)\n",
            "Requirement already satisfied, skipping upgrade: six in /usr/local/lib/python3.6/dist-packages (from nltk>=3.1->textblob) (1.15.0)\n",
            "Requirement already satisfied: nltk in /usr/local/lib/python3.6/dist-packages (3.2.5)\n",
            "Requirement already satisfied: six in /usr/local/lib/python3.6/dist-packages (from nltk) (1.15.0)\n",
            "Collecting catboost\n",
            "\u001b[?25l  Downloading https://files.pythonhosted.org/packages/b2/aa/e61819d04ef2bbee778bf4b3a748db1f3ad23512377e43ecfdc3211437a0/catboost-0.23.2-cp36-none-manylinux1_x86_64.whl (64.8MB)\n",
            "\u001b[K     |████████████████████████████████| 64.8MB 61kB/s \n",
            "\u001b[?25hRequirement already satisfied: pandas>=0.24.0 in /usr/local/lib/python3.6/dist-packages (from catboost) (1.0.5)\n",
            "Requirement already satisfied: matplotlib in /usr/local/lib/python3.6/dist-packages (from catboost) (3.2.2)\n",
            "Requirement already satisfied: numpy>=1.16.0 in /usr/local/lib/python3.6/dist-packages (from catboost) (1.18.5)\n",
            "Requirement already satisfied: plotly in /usr/local/lib/python3.6/dist-packages (from catboost) (4.4.1)\n",
            "Requirement already satisfied: scipy in /usr/local/lib/python3.6/dist-packages (from catboost) (1.4.1)\n",
            "Requirement already satisfied: graphviz in /usr/local/lib/python3.6/dist-packages (from catboost) (0.10.1)\n",
            "Requirement already satisfied: six in /usr/local/lib/python3.6/dist-packages (from catboost) (1.15.0)\n",
            "Requirement already satisfied: python-dateutil>=2.6.1 in /usr/local/lib/python3.6/dist-packages (from pandas>=0.24.0->catboost) (2.8.1)\n",
            "Requirement already satisfied: pytz>=2017.2 in /usr/local/lib/python3.6/dist-packages (from pandas>=0.24.0->catboost) (2018.9)\n",
            "Requirement already satisfied: pyparsing!=2.0.4,!=2.1.2,!=2.1.6,>=2.0.1 in /usr/local/lib/python3.6/dist-packages (from matplotlib->catboost) (2.4.7)\n",
            "Requirement already satisfied: kiwisolver>=1.0.1 in /usr/local/lib/python3.6/dist-packages (from matplotlib->catboost) (1.2.0)\n",
            "Requirement already satisfied: cycler>=0.10 in /usr/local/lib/python3.6/dist-packages (from matplotlib->catboost) (0.10.0)\n",
            "Requirement already satisfied: retrying>=1.3.3 in /usr/local/lib/python3.6/dist-packages (from plotly->catboost) (1.3.3)\n",
            "Installing collected packages: catboost\n",
            "Successfully installed catboost-0.23.2\n",
            "[nltk_data] Downloading package stopwords to /root/nltk_data...\n",
            "[nltk_data]   Unzipping corpora/stopwords.zip.\n",
            "[nltk_data] Downloading package wordnet to /root/nltk_data...\n",
            "[nltk_data]   Unzipping corpora/wordnet.zip.\n",
            "[nltk_data] Downloading package punkt to /root/nltk_data...\n",
            "[nltk_data]   Unzipping tokenizers/punkt.zip.\n"
          ],
          "name": "stdout"
        },
        {
          "output_type": "execute_result",
          "data": {
            "text/plain": [
              "True"
            ]
          },
          "metadata": {
            "tags": []
          },
          "execution_count": 1
        }
      ]
    },
    {
      "cell_type": "code",
      "metadata": {
        "id": "rG0_s7eYIzEQ",
        "colab_type": "code",
        "colab": {}
      },
      "source": [
        "import pandas as pd\n",
        "import numpy as np\n",
        "import string\n",
        "import re\n",
        "import xgboost as xgb\n",
        "\n",
        "from sklearn.pipeline import Pipeline\n",
        "from sklearn.feature_extraction.text import CountVectorizer\n",
        "from sklearn.feature_extraction.text import TfidfTransformer\n",
        "from sklearn.feature_extraction.text import TfidfVectorizer\n",
        "from sklearn.naive_bayes import MultinomialNB\n",
        "from sklearn.metrics import accuracy_score, log_loss\n",
        "from sklearn.neighbors import KNeighborsClassifier\n",
        "from sklearn.svm import SVC, LinearSVC, NuSVC\n",
        "from sklearn.tree import DecisionTreeClassifier\n",
        "from sklearn.ensemble import RandomForestClassifier, AdaBoostClassifier, GradientBoostingClassifier\n",
        "from sklearn.naive_bayes import GaussianNB\n",
        "from sklearn.discriminant_analysis import LinearDiscriminantAnalysis\n",
        "from sklearn.discriminant_analysis import QuadraticDiscriminantAnalysis\n",
        "from sklearn.model_selection import GridSearchCV\n",
        "from sklearn.linear_model import LogisticRegression\n",
        "from sklearn.ensemble import VotingClassifier\n",
        "from sklearn.ensemble import BaggingClassifier\n",
        "from sklearn.multiclass import OneVsRestClassifier\n",
        "from sklearn.svm import SVC\n",
        "\n",
        "from sklearn.model_selection import train_test_split\n",
        "import sklearn.metrics as metrics\n",
        "from sklearn import model_selection"
      ],
      "execution_count": 2,
      "outputs": []
    },
    {
      "cell_type": "code",
      "metadata": {
        "id": "lj_07uTylIsE",
        "colab_type": "code",
        "colab": {}
      },
      "source": [
        "from pydrive.auth import GoogleAuth\n",
        "from pydrive.drive import GoogleDrive\n",
        "from google.colab import auth\n",
        "from oauth2client.client import GoogleCredentials\n",
        "\n",
        "# Authenticate and create the PyDrive client\n",
        "auth.authenticate_user()\n",
        "gauth = GoogleAuth()\n",
        "gauth.credentials = GoogleCredentials.get_application_default()\n",
        "drive = GoogleDrive(gauth)"
      ],
      "execution_count": 3,
      "outputs": []
    },
    {
      "cell_type": "code",
      "metadata": {
        "id": "9p3zz8l5Bc3W",
        "colab_type": "code",
        "colab": {}
      },
      "source": [
        "id='1Pk5MK9Hs_kMUT9NotGnOKE0NPra-39YU'\n",
        "downloaded = drive.CreateFile({'id': id})\n",
        "downloaded.GetContentFile('train.csv')"
      ],
      "execution_count": 4,
      "outputs": []
    },
    {
      "cell_type": "code",
      "metadata": {
        "id": "hMIzVuosBfwi",
        "colab_type": "code",
        "colab": {}
      },
      "source": [
        "train = pd.read_csv('train.csv')"
      ],
      "execution_count": 5,
      "outputs": []
    },
    {
      "cell_type": "code",
      "metadata": {
        "id": "Dct00taijaXf",
        "colab_type": "code",
        "colab": {}
      },
      "source": [
        "id='1GsTM9oLtIV8-Da_fDOFWsQYMpgQ8GOYJ'\n",
        "downloaded = drive.CreateFile({'id': id})\n",
        "downloaded.GetContentFile('test.csv')"
      ],
      "execution_count": 6,
      "outputs": []
    },
    {
      "cell_type": "code",
      "metadata": {
        "id": "iHAG-FzajbUn",
        "colab_type": "code",
        "colab": {}
      },
      "source": [
        "test = pd.read_csv('test.csv')"
      ],
      "execution_count": 7,
      "outputs": []
    },
    {
      "cell_type": "code",
      "metadata": {
        "id": "VbunXyzXhxZq",
        "colab_type": "code",
        "colab": {}
      },
      "source": [
        "train = pd.read_csv('train.csv')\n",
        "test = pd.read_csv('test.csv')"
      ],
      "execution_count": 30,
      "outputs": []
    },
    {
      "cell_type": "code",
      "metadata": {
        "id": "OKlBQrFnsgya",
        "colab_type": "code",
        "colab": {}
      },
      "source": [
        "\"\"\"id='1J0GcaPrz3SDrfuRjJiSGapHjCTCy094x'\n",
        "downloaded = drive.CreateFile({'id': id})\n",
        "downloaded.GetContentFile('test_limpio.csv')\n",
        "\n",
        "id='1r9I2BE6oMDpSlQPS9OJIK_d0OW4G6yAG'\n",
        "downloaded = drive.CreateFile({'id': id})\n",
        "downloaded.GetContentFile('train_limpio.csv')\n",
        "\n",
        "text_train = pd.read_csv('train_limpio.csv')\n",
        "text_test = pd.read_csv('test_limpio.csv')\"\"\"\n",
        "#Los algoritmos tuvieron una mala performance usando el texto del tweet con la limpieza realizada en \"Limpieza de datos\""
      ],
      "execution_count": 9,
      "outputs": []
    },
    {
      "cell_type": "markdown",
      "metadata": {
        "id": "9GwPsjjEMLTS",
        "colab_type": "text"
      },
      "source": [
        "#NLP"
      ]
    },
    {
      "cell_type": "code",
      "metadata": {
        "id": "6CTuC-bPnWMl",
        "colab_type": "code",
        "colab": {}
      },
      "source": [
        "\"\"\"#Pasos NLP:\n",
        "#1: FILTRADO DE DATOS\n",
        "#2: TOKENIZACION\n",
        "#3: LEMATIZACION\n",
        "\n",
        "ps = nltk.PorterStemmer() \n",
        "\n",
        "def clean_text(text):\n",
        "    #filtrado de signos de puntuacion\n",
        "    text = \"\".join([word.lower() for word in text if word not in string.punctuation])\n",
        "    #tokenizacion\n",
        "    tokens = re.split('\\W+', text)\n",
        "    #lematizacion\n",
        "    text = [ps.stem(word) for word in tokens]\n",
        "    return text\"\"\"\n",
        "#sin eliminacion de stopwords para prueba con text limpio."
      ],
      "execution_count": 10,
      "outputs": []
    },
    {
      "cell_type": "code",
      "metadata": {
        "id": "uVdrT-P2zxM5",
        "colab_type": "code",
        "colab": {}
      },
      "source": [
        "#Pasos NLP:\n",
        "#1: FILTRADO DE DATOS\n",
        "#2: TOKENIZACION\n",
        "#3: ELIMINACION DE STOPWORDS\n",
        "#4: LEMATIZACION\n",
        "\n",
        "stopwords = nltk.corpus.stopwords.words('english')\n",
        "ps = nltk.PorterStemmer() \n",
        "\n",
        "def clean_text(text):\n",
        "    #filtrado de signos de puntuacion\n",
        "    text = \"\".join([word.lower() for word in text if word not in string.punctuation])\n",
        "    #tokenizacion\n",
        "    tokens = re.split('\\W+', text)\n",
        "    #lematizacion y eliminacion de stopwords\n",
        "    text = [ps.stem(word) for word in tokens if word not in stopwords]\n",
        "    return text\n"
      ],
      "execution_count": 31,
      "outputs": []
    },
    {
      "cell_type": "code",
      "metadata": {
        "id": "9GxNVmcm6Ou5",
        "colab_type": "code",
        "colab": {}
      },
      "source": [
        "#train['text'] = text_train['text']\n",
        "#test['text'] = text_test['text']"
      ],
      "execution_count": 11,
      "outputs": []
    },
    {
      "cell_type": "code",
      "metadata": {
        "id": "cI1Ffpgl6p_v",
        "colab_type": "code",
        "colab": {}
      },
      "source": [
        "#train.text.fillna(' ', inplace=True)\n",
        "#test.text.fillna(' ', inplace=True)"
      ],
      "execution_count": 12,
      "outputs": []
    },
    {
      "cell_type": "markdown",
      "metadata": {
        "id": "u6HTBh0ZNrqq",
        "colab_type": "text"
      },
      "source": [
        "Vector para busqueda de hiperparametros"
      ]
    },
    {
      "cell_type": "code",
      "metadata": {
        "id": "XfET0ww0NrAo",
        "colab_type": "code",
        "colab": {}
      },
      "source": [
        "tf_idf_vect = TfidfVectorizer(analyzer=clean_text)\n",
        "x_tf_idf = tf_idf_vect.fit_transform(train.text)"
      ],
      "execution_count": 32,
      "outputs": []
    },
    {
      "cell_type": "markdown",
      "metadata": {
        "id": "NyGvqbmOuPHw",
        "colab_type": "text"
      },
      "source": [
        "#Predicción usando NB classifier"
      ]
    },
    {
      "cell_type": "markdown",
      "metadata": {
        "id": "0zJrHhYAOZth",
        "colab_type": "text"
      },
      "source": [
        "Busqueda de hiperparametros"
      ]
    },
    {
      "cell_type": "code",
      "metadata": {
        "id": "S0XLr3lyObdd",
        "colab_type": "code",
        "colab": {
          "base_uri": "https://localhost:8080/",
          "height": 87
        },
        "outputId": "8acf09ba-05e3-49bf-ef3a-ec3465101d49"
      },
      "source": [
        "parameters = {'alpha': (1, 0.1, 0.01, 0.001, 0.0001, 0.00001)} \n",
        "model = MultinomialNB()\n",
        "nb = GridSearchCV(model, parameters, n_jobs=-1, verbose=2)\n",
        "\n",
        "nb.fit(x_tf_idf, train.target)\n",
        "nb_best = nb.best_estimator_\n",
        "print(nb.best_params_)"
      ],
      "execution_count": 33,
      "outputs": [
        {
          "output_type": "stream",
          "text": [
            "Fitting 5 folds for each of 6 candidates, totalling 30 fits\n"
          ],
          "name": "stdout"
        },
        {
          "output_type": "stream",
          "text": [
            "[Parallel(n_jobs=-1)]: Using backend LokyBackend with 2 concurrent workers.\n"
          ],
          "name": "stderr"
        },
        {
          "output_type": "stream",
          "text": [
            "{'alpha': 1}\n"
          ],
          "name": "stdout"
        },
        {
          "output_type": "stream",
          "text": [
            "[Parallel(n_jobs=-1)]: Done  30 out of  30 | elapsed:    0.2s finished\n"
          ],
          "name": "stderr"
        }
      ]
    },
    {
      "cell_type": "code",
      "metadata": {
        "id": "BuC-9YRqdBnd",
        "colab_type": "code",
        "colab": {}
      },
      "source": [
        "text_clf = Pipeline([('bof', CountVectorizer(analyzer=clean_text)), ('tfidf', TfidfTransformer()),('clf', nb_best)])\n",
        "text_clf = text_clf.fit(train.text, train.target)"
      ],
      "execution_count": 34,
      "outputs": []
    },
    {
      "cell_type": "code",
      "metadata": {
        "id": "Idx79CHgGuPU",
        "colab_type": "code",
        "colab": {
          "base_uri": "https://localhost:8080/",
          "height": 35
        },
        "outputId": "64ff7ddd-04f8-4ef1-c41e-18f11c30d34d"
      },
      "source": [
        "prediction_1 = text_clf.predict(test.text)\n",
        "prediction_1"
      ],
      "execution_count": 35,
      "outputs": [
        {
          "output_type": "execute_result",
          "data": {
            "text/plain": [
              "array([1, 0, 1, ..., 1, 1, 1])"
            ]
          },
          "metadata": {
            "tags": []
          },
          "execution_count": 35
        }
      ]
    },
    {
      "cell_type": "code",
      "metadata": {
        "id": "Kvki3RWWyNj0",
        "colab_type": "code",
        "colab": {}
      },
      "source": [
        "score_cross_val = model_selection.cross_val_score(text_clf, train.text, train.target, cv=5)"
      ],
      "execution_count": 36,
      "outputs": []
    },
    {
      "cell_type": "code",
      "metadata": {
        "id": "s3MEQp3TymO8",
        "colab_type": "code",
        "colab": {
          "base_uri": "https://localhost:8080/",
          "height": 35
        },
        "outputId": "8b2dffb6-f146-4ac6-c7a8-3c035bbd4e1f"
      },
      "source": [
        "print(score_cross_val.mean())"
      ],
      "execution_count": 37,
      "outputs": [
        {
          "output_type": "stream",
          "text": [
            "0.7175962443582976\n"
          ],
          "name": "stdout"
        }
      ]
    },
    {
      "cell_type": "code",
      "metadata": {
        "id": "OXeLiwhZZyuS",
        "colab_type": "code",
        "colab": {}
      },
      "source": [
        "prediction1 = pd.DataFrame({'id':test['id'], 'target':prediction_1})\n",
        "prediction1.to_csv('prueba_1_NLP.csv', index=False)"
      ],
      "execution_count": 20,
      "outputs": []
    },
    {
      "cell_type": "markdown",
      "metadata": {
        "id": "Vu0eWnrTGO0q",
        "colab_type": "text"
      },
      "source": [
        "#SVC"
      ]
    },
    {
      "cell_type": "code",
      "metadata": {
        "id": "FQV8qjyTGRUU",
        "colab_type": "code",
        "colab": {
          "base_uri": "https://localhost:8080/",
          "height": 451
        },
        "outputId": "f584eff0-6e83-48be-a6f7-1bb398f6e931"
      },
      "source": [
        "svc = Pipeline([('bof', CountVectorizer(analyzer=clean_text)), ('tfidf', TfidfTransformer()),('svc', OneVsRestClassifier(SVC(kernel='linear')))])\n",
        "svc.fit(train.text, train.target)"
      ],
      "execution_count": 38,
      "outputs": [
        {
          "output_type": "execute_result",
          "data": {
            "text/plain": [
              "Pipeline(memory=None,\n",
              "         steps=[('bof',\n",
              "                 CountVectorizer(analyzer=<function clean_text at 0x7f526fc2e840>,\n",
              "                                 binary=False, decode_error='strict',\n",
              "                                 dtype=<class 'numpy.int64'>, encoding='utf-8',\n",
              "                                 input='content', lowercase=True, max_df=1.0,\n",
              "                                 max_features=None, min_df=1,\n",
              "                                 ngram_range=(1, 1), preprocessor=None,\n",
              "                                 stop_words=None, strip_accents=None,\n",
              "                                 token_pattern='(?u)\\\\b\\\\w\\\\w+\\\\b',...\n",
              "                 TfidfTransformer(norm='l2', smooth_idf=True,\n",
              "                                  sublinear_tf=False, use_idf=True)),\n",
              "                ('svc',\n",
              "                 OneVsRestClassifier(estimator=SVC(C=1.0, break_ties=False,\n",
              "                                                   cache_size=200,\n",
              "                                                   class_weight=None, coef0=0.0,\n",
              "                                                   decision_function_shape='ovr',\n",
              "                                                   degree=3, gamma='scale',\n",
              "                                                   kernel='linear', max_iter=-1,\n",
              "                                                   probability=False,\n",
              "                                                   random_state=None,\n",
              "                                                   shrinking=True, tol=0.001,\n",
              "                                                   verbose=False),\n",
              "                                     n_jobs=None))],\n",
              "         verbose=False)"
            ]
          },
          "metadata": {
            "tags": []
          },
          "execution_count": 38
        }
      ]
    },
    {
      "cell_type": "code",
      "metadata": {
        "id": "mMB2kqDUG_6I",
        "colab_type": "code",
        "colab": {
          "base_uri": "https://localhost:8080/",
          "height": 35
        },
        "outputId": "a16bc704-2e45-49be-e682-371b88c31ca2"
      },
      "source": [
        "prediction_svc = svc.predict(test.text)\n",
        "prediction_svc"
      ],
      "execution_count": 39,
      "outputs": [
        {
          "output_type": "execute_result",
          "data": {
            "text/plain": [
              "array([1, 1, 1, ..., 1, 1, 0])"
            ]
          },
          "metadata": {
            "tags": []
          },
          "execution_count": 39
        }
      ]
    },
    {
      "cell_type": "code",
      "metadata": {
        "id": "w5dMnlih0v4f",
        "colab_type": "code",
        "colab": {
          "base_uri": "https://localhost:8080/",
          "height": 35
        },
        "outputId": "aefc9a10-eba5-4a95-b76f-b56bb1552258"
      },
      "source": [
        "score_cross_val = model_selection.cross_val_score(svc, train.text, train.target, cv=5)\n",
        "print(score_cross_val.mean())"
      ],
      "execution_count": 40,
      "outputs": [
        {
          "output_type": "stream",
          "text": [
            "0.6910624907787124\n"
          ],
          "name": "stdout"
        }
      ]
    },
    {
      "cell_type": "code",
      "metadata": {
        "id": "z0GqFk6THGGV",
        "colab_type": "code",
        "colab": {}
      },
      "source": [
        "prediction_svc = pd.DataFrame({'id':test['id'], 'target':prediction_svc})\n",
        "prediction_svc.to_csv('prueba_13.csv', index=False)"
      ],
      "execution_count": null,
      "outputs": []
    },
    {
      "cell_type": "markdown",
      "metadata": {
        "id": "cz2jOjtWKJoZ",
        "colab_type": "text"
      },
      "source": [
        "#Predicción con DecisionTreeClassifier()"
      ]
    },
    {
      "cell_type": "code",
      "metadata": {
        "id": "PjhysPBQKOKc",
        "colab_type": "code",
        "colab": {
          "base_uri": "https://localhost:8080/",
          "height": 399
        },
        "outputId": "3e7e14ba-f8d6-4bb0-f928-84a75bc237d9"
      },
      "source": [
        "dtc = Pipeline([('bof', CountVectorizer(analyzer=clean_text)), ('tfidf', TfidfTransformer()),('d_t_c', DecisionTreeClassifier())])\n",
        "dtc.fit(train.text, train.target)"
      ],
      "execution_count": 41,
      "outputs": [
        {
          "output_type": "execute_result",
          "data": {
            "text/plain": [
              "Pipeline(memory=None,\n",
              "         steps=[('bof',\n",
              "                 CountVectorizer(analyzer=<function clean_text at 0x7f526fc2e840>,\n",
              "                                 binary=False, decode_error='strict',\n",
              "                                 dtype=<class 'numpy.int64'>, encoding='utf-8',\n",
              "                                 input='content', lowercase=True, max_df=1.0,\n",
              "                                 max_features=None, min_df=1,\n",
              "                                 ngram_range=(1, 1), preprocessor=None,\n",
              "                                 stop_words=None, strip_accents=None,\n",
              "                                 token_pattern='(?u)\\\\b\\\\w\\\\w+\\\\b',...\n",
              "                                  sublinear_tf=False, use_idf=True)),\n",
              "                ('d_t_c',\n",
              "                 DecisionTreeClassifier(ccp_alpha=0.0, class_weight=None,\n",
              "                                        criterion='gini', max_depth=None,\n",
              "                                        max_features=None, max_leaf_nodes=None,\n",
              "                                        min_impurity_decrease=0.0,\n",
              "                                        min_impurity_split=None,\n",
              "                                        min_samples_leaf=1, min_samples_split=2,\n",
              "                                        min_weight_fraction_leaf=0.0,\n",
              "                                        presort='deprecated', random_state=None,\n",
              "                                        splitter='best'))],\n",
              "         verbose=False)"
            ]
          },
          "metadata": {
            "tags": []
          },
          "execution_count": 41
        }
      ]
    },
    {
      "cell_type": "code",
      "metadata": {
        "id": "xh_TsJpuHqKU",
        "colab_type": "code",
        "colab": {
          "base_uri": "https://localhost:8080/",
          "height": 35
        },
        "outputId": "df2cfd54-57e0-4099-c5e1-7bd330a8cd70"
      },
      "source": [
        "prediction_4 = dtc.predict(test.text)\n",
        "prediction_4 "
      ],
      "execution_count": 42,
      "outputs": [
        {
          "output_type": "execute_result",
          "data": {
            "text/plain": [
              "array([0, 1, 1, ..., 0, 1, 0])"
            ]
          },
          "metadata": {
            "tags": []
          },
          "execution_count": 42
        }
      ]
    },
    {
      "cell_type": "code",
      "metadata": {
        "id": "DlMEQ2bH1Vnl",
        "colab_type": "code",
        "colab": {
          "base_uri": "https://localhost:8080/",
          "height": 35
        },
        "outputId": "17771386-f629-41d6-a6d1-1d8580ecb458"
      },
      "source": [
        "score_cross_val = model_selection.cross_val_score(dtc, train.text, train.target, cv=5)\n",
        "print(score_cross_val.mean())"
      ],
      "execution_count": 43,
      "outputs": [
        {
          "output_type": "stream",
          "text": [
            "0.5981898234948486\n"
          ],
          "name": "stdout"
        }
      ]
    },
    {
      "cell_type": "code",
      "metadata": {
        "id": "-gOsyaytaNWV",
        "colab_type": "code",
        "colab": {}
      },
      "source": [
        "prediction_4 = pd.DataFrame({'id':test['id'], 'target':prediction_4})\n",
        "prediction_4.to_csv('prueba_3.csv', index=False)"
      ],
      "execution_count": null,
      "outputs": []
    },
    {
      "cell_type": "markdown",
      "metadata": {
        "id": "ljVkZcGhdBem",
        "colab_type": "text"
      },
      "source": [
        "#Predicción usando RandomForestClassifier()"
      ]
    },
    {
      "cell_type": "markdown",
      "metadata": {
        "id": "wJFfRnpD1sVM",
        "colab_type": "text"
      },
      "source": [
        "Busqueda de hiperparametros"
      ]
    },
    {
      "cell_type": "code",
      "metadata": {
        "id": "pzykYlLlMYqy",
        "colab_type": "code",
        "colab": {
          "base_uri": "https://localhost:8080/",
          "height": 364
        },
        "outputId": "63996228-da86-42a5-bea0-a46a7a9cda41"
      },
      "source": [
        "rf = RandomForestClassifier()\n",
        "\n",
        "params_rf = {'n_estimators': [50, 100, 200]}\n",
        "rf_gs = GridSearchCV(rf, params_rf, cv=5)\n",
        "rf_gs.fit(x_tf_idf, train.target)"
      ],
      "execution_count": 45,
      "outputs": [
        {
          "output_type": "execute_result",
          "data": {
            "text/plain": [
              "GridSearchCV(cv=5, error_score=nan,\n",
              "             estimator=RandomForestClassifier(bootstrap=True, ccp_alpha=0.0,\n",
              "                                              class_weight=None,\n",
              "                                              criterion='gini', max_depth=None,\n",
              "                                              max_features='auto',\n",
              "                                              max_leaf_nodes=None,\n",
              "                                              max_samples=None,\n",
              "                                              min_impurity_decrease=0.0,\n",
              "                                              min_impurity_split=None,\n",
              "                                              min_samples_leaf=1,\n",
              "                                              min_samples_split=2,\n",
              "                                              min_weight_fraction_leaf=0.0,\n",
              "                                              n_estimators=100, n_jobs=None,\n",
              "                                              oob_score=False,\n",
              "                                              random_state=None, verbose=0,\n",
              "                                              warm_start=False),\n",
              "             iid='deprecated', n_jobs=None,\n",
              "             param_grid={'n_estimators': [50, 100, 200]},\n",
              "             pre_dispatch='2*n_jobs', refit=True, return_train_score=False,\n",
              "             scoring=None, verbose=0)"
            ]
          },
          "metadata": {
            "tags": []
          },
          "execution_count": 45
        }
      ]
    },
    {
      "cell_type": "code",
      "metadata": {
        "id": "lmNTPDyDMeek",
        "colab_type": "code",
        "colab": {
          "base_uri": "https://localhost:8080/",
          "height": 35
        },
        "outputId": "52df0c30-7672-497b-f17e-92cfe74bfda7"
      },
      "source": [
        "rf_best = rf_gs.best_estimator_\n",
        "print(rf_gs.best_params_)"
      ],
      "execution_count": 46,
      "outputs": [
        {
          "output_type": "stream",
          "text": [
            "{'n_estimators': 50}\n"
          ],
          "name": "stdout"
        }
      ]
    },
    {
      "cell_type": "code",
      "metadata": {
        "id": "rrRlkuLfdHcT",
        "colab_type": "code",
        "colab": {
          "base_uri": "https://localhost:8080/",
          "height": 399
        },
        "outputId": "059c62dc-a301-4013-ccdb-75aee74f70fc"
      },
      "source": [
        "rfc = Pipeline([('bof', CountVectorizer(analyzer=clean_text)), ('tfidf', TfidfTransformer()),('rf_c', rf_best)])\n",
        "rfc.fit(train.text, train.target)"
      ],
      "execution_count": 47,
      "outputs": [
        {
          "output_type": "execute_result",
          "data": {
            "text/plain": [
              "Pipeline(memory=None,\n",
              "         steps=[('bof',\n",
              "                 CountVectorizer(analyzer=<function clean_text at 0x7f526fc2e840>,\n",
              "                                 binary=False, decode_error='strict',\n",
              "                                 dtype=<class 'numpy.int64'>, encoding='utf-8',\n",
              "                                 input='content', lowercase=True, max_df=1.0,\n",
              "                                 max_features=None, min_df=1,\n",
              "                                 ngram_range=(1, 1), preprocessor=None,\n",
              "                                 stop_words=None, strip_accents=None,\n",
              "                                 token_pattern='(?u)\\\\b\\\\w\\\\w+\\\\b',...\n",
              "                 RandomForestClassifier(bootstrap=True, ccp_alpha=0.0,\n",
              "                                        class_weight=None, criterion='gini',\n",
              "                                        max_depth=None, max_features='auto',\n",
              "                                        max_leaf_nodes=None, max_samples=None,\n",
              "                                        min_impurity_decrease=0.0,\n",
              "                                        min_impurity_split=None,\n",
              "                                        min_samples_leaf=1, min_samples_split=2,\n",
              "                                        min_weight_fraction_leaf=0.0,\n",
              "                                        n_estimators=50, n_jobs=None,\n",
              "                                        oob_score=False, random_state=None,\n",
              "                                        verbose=0, warm_start=False))],\n",
              "         verbose=False)"
            ]
          },
          "metadata": {
            "tags": []
          },
          "execution_count": 47
        }
      ]
    },
    {
      "cell_type": "code",
      "metadata": {
        "id": "uRde_8TcH217",
        "colab_type": "code",
        "colab": {
          "base_uri": "https://localhost:8080/",
          "height": 35
        },
        "outputId": "afed793d-0e77-40ca-c1c0-7a2408f0d963"
      },
      "source": [
        "prediction_5 = rfc.predict(test.text)\n",
        "prediction_5"
      ],
      "execution_count": 48,
      "outputs": [
        {
          "output_type": "execute_result",
          "data": {
            "text/plain": [
              "array([0, 1, 1, ..., 1, 1, 0])"
            ]
          },
          "metadata": {
            "tags": []
          },
          "execution_count": 48
        }
      ]
    },
    {
      "cell_type": "code",
      "metadata": {
        "id": "qR2j7Otj4u8M",
        "colab_type": "code",
        "colab": {
          "base_uri": "https://localhost:8080/",
          "height": 35
        },
        "outputId": "6da77d16-bf63-4a39-f542-3b86f41478ae"
      },
      "source": [
        "score_cross_val = model_selection.cross_val_score(rfc, train.text, train.target, cv=5)\n",
        "print(score_cross_val.mean())"
      ],
      "execution_count": 50,
      "outputs": [
        {
          "output_type": "stream",
          "text": [
            "0.6548071057624527\n"
          ],
          "name": "stdout"
        }
      ]
    },
    {
      "cell_type": "code",
      "metadata": {
        "id": "g0Zj1jNydw19",
        "colab_type": "code",
        "colab": {}
      },
      "source": [
        "prediction5 = pd.DataFrame({'id':test['id'], 'target':prediction_5})\n",
        "prediction5.to_csv('prueba_4.csv', index=False)"
      ],
      "execution_count": null,
      "outputs": []
    },
    {
      "cell_type": "markdown",
      "metadata": {
        "id": "sJ_TLlFCgJ4_",
        "colab_type": "text"
      },
      "source": [
        "#Predicción usando KNeighborsClassifier()"
      ]
    },
    {
      "cell_type": "markdown",
      "metadata": {
        "id": "ejVx0omfLqJy",
        "colab_type": "text"
      },
      "source": [
        "Busqueda de hiperparametros"
      ]
    },
    {
      "cell_type": "code",
      "metadata": {
        "id": "D0XLFJb5Lo_a",
        "colab_type": "code",
        "colab": {
          "base_uri": "https://localhost:8080/",
          "height": 208
        },
        "outputId": "015f266e-cc2e-475a-bc7a-c76acbd2a3c8"
      },
      "source": [
        "knn = KNeighborsClassifier()\n",
        "\n",
        "params_knn = {'n_neighbors': np.arange(1, 25)}\n",
        "knn_gs = GridSearchCV(knn, params_knn, cv=5)\n",
        "knn_gs.fit(x_tf_idf, train.target)"
      ],
      "execution_count": 51,
      "outputs": [
        {
          "output_type": "execute_result",
          "data": {
            "text/plain": [
              "GridSearchCV(cv=5, error_score=nan,\n",
              "             estimator=KNeighborsClassifier(algorithm='auto', leaf_size=30,\n",
              "                                            metric='minkowski',\n",
              "                                            metric_params=None, n_jobs=None,\n",
              "                                            n_neighbors=5, p=2,\n",
              "                                            weights='uniform'),\n",
              "             iid='deprecated', n_jobs=None,\n",
              "             param_grid={'n_neighbors': array([ 1,  2,  3,  4,  5,  6,  7,  8,  9, 10, 11, 12, 13, 14, 15, 16, 17,\n",
              "       18, 19, 20, 21, 22, 23, 24])},\n",
              "             pre_dispatch='2*n_jobs', refit=True, return_train_score=False,\n",
              "             scoring=None, verbose=0)"
            ]
          },
          "metadata": {
            "tags": []
          },
          "execution_count": 51
        }
      ]
    },
    {
      "cell_type": "code",
      "metadata": {
        "id": "AL3-n550L4QO",
        "colab_type": "code",
        "colab": {
          "base_uri": "https://localhost:8080/",
          "height": 35
        },
        "outputId": "3b61bc57-26ea-41bc-b325-fb658cee71f4"
      },
      "source": [
        "knn_best = knn_gs.best_estimator_\n",
        "print(knn_gs.best_params_)"
      ],
      "execution_count": 52,
      "outputs": [
        {
          "output_type": "stream",
          "text": [
            "{'n_neighbors': 15}\n"
          ],
          "name": "stdout"
        }
      ]
    },
    {
      "cell_type": "markdown",
      "metadata": {
        "id": "HjrNRk-RdVrS",
        "colab_type": "text"
      },
      "source": [
        "Uso del modelo encontrado como mejor estimador"
      ]
    },
    {
      "cell_type": "code",
      "metadata": {
        "id": "QC-KBW_1dGDV",
        "colab_type": "code",
        "colab": {
          "base_uri": "https://localhost:8080/",
          "height": 364
        },
        "outputId": "fa7f3cf8-3432-4663-a973-56d6aded3f83"
      },
      "source": [
        "knc = Pipeline([('tfidf_vect', TfidfVectorizer(analyzer=clean_text)),('Knn_best', knn_best)])\n",
        "knc.fit(train.text, train.target)"
      ],
      "execution_count": 53,
      "outputs": [
        {
          "output_type": "execute_result",
          "data": {
            "text/plain": [
              "Pipeline(memory=None,\n",
              "         steps=[('tfidf_vect',\n",
              "                 TfidfVectorizer(analyzer=<function clean_text at 0x7f526fc2e840>,\n",
              "                                 binary=False, decode_error='strict',\n",
              "                                 dtype=<class 'numpy.float64'>,\n",
              "                                 encoding='utf-8', input='content',\n",
              "                                 lowercase=True, max_df=1.0, max_features=None,\n",
              "                                 min_df=1, ngram_range=(1, 1), norm='l2',\n",
              "                                 preprocessor=None, smooth_idf=True,\n",
              "                                 stop_words=None, strip_accents=None,\n",
              "                                 sublinear_tf=False,\n",
              "                                 token_pattern='(?u)\\\\b\\\\w\\\\w+\\\\b',\n",
              "                                 tokenizer=None, use_idf=True,\n",
              "                                 vocabulary=None)),\n",
              "                ('Knn_best',\n",
              "                 KNeighborsClassifier(algorithm='auto', leaf_size=30,\n",
              "                                      metric='minkowski', metric_params=None,\n",
              "                                      n_jobs=None, n_neighbors=15, p=2,\n",
              "                                      weights='uniform'))],\n",
              "         verbose=False)"
            ]
          },
          "metadata": {
            "tags": []
          },
          "execution_count": 53
        }
      ]
    },
    {
      "cell_type": "code",
      "metadata": {
        "id": "ODbRniMNIf2L",
        "colab_type": "code",
        "colab": {
          "base_uri": "https://localhost:8080/",
          "height": 35
        },
        "outputId": "749bfb8c-1f12-4c9f-fedb-5af4bc07a622"
      },
      "source": [
        "prediction_6_bis = knc.predict(test.text)\n",
        "prediction_6_bis"
      ],
      "execution_count": 54,
      "outputs": [
        {
          "output_type": "execute_result",
          "data": {
            "text/plain": [
              "array([1, 1, 1, ..., 1, 1, 1])"
            ]
          },
          "metadata": {
            "tags": []
          },
          "execution_count": 54
        }
      ]
    },
    {
      "cell_type": "code",
      "metadata": {
        "id": "vdt5TwJo5bqF",
        "colab_type": "code",
        "colab": {
          "base_uri": "https://localhost:8080/",
          "height": 35
        },
        "outputId": "43c5a904-f5c4-4a55-9d21-fafa97955f60"
      },
      "source": [
        "score_cross_val = model_selection.cross_val_score(knc, train.text, train.target, cv=5)\n",
        "print(score_cross_val.mean())"
      ],
      "execution_count": 55,
      "outputs": [
        {
          "output_type": "stream",
          "text": [
            "0.7106331044872187\n"
          ],
          "name": "stdout"
        }
      ]
    },
    {
      "cell_type": "code",
      "metadata": {
        "id": "CS4hGCvYdJY4",
        "colab_type": "code",
        "colab": {}
      },
      "source": [
        "prediction6 = pd.DataFrame({'id':test['id'], 'target':prediction_6_bis})\n",
        "prediction6.to_csv('prueba_5_bis.csv', index=False)"
      ],
      "execution_count": null,
      "outputs": []
    },
    {
      "cell_type": "markdown",
      "metadata": {
        "id": "l2gZ9xHkhBsl",
        "colab_type": "text"
      },
      "source": [
        "#Prediccion usando NuSVC(probability=True)"
      ]
    },
    {
      "cell_type": "code",
      "metadata": {
        "id": "FiymU-KbhY_X",
        "colab_type": "code",
        "colab": {
          "base_uri": "https://localhost:8080/",
          "height": 381
        },
        "outputId": "7a72f13d-1ef3-4f54-ac46-7243305dedd7"
      },
      "source": [
        "nuscv = Pipeline([('bof', CountVectorizer(analyzer=clean_text)), ('tfidf', TfidfTransformer()),('NuSCV', NuSVC(probability=True))])\n",
        "nuscv.fit(train.text, train.target)"
      ],
      "execution_count": 56,
      "outputs": [
        {
          "output_type": "execute_result",
          "data": {
            "text/plain": [
              "Pipeline(memory=None,\n",
              "         steps=[('bof',\n",
              "                 CountVectorizer(analyzer=<function clean_text at 0x7f526fc2e840>,\n",
              "                                 binary=False, decode_error='strict',\n",
              "                                 dtype=<class 'numpy.int64'>, encoding='utf-8',\n",
              "                                 input='content', lowercase=True, max_df=1.0,\n",
              "                                 max_features=None, min_df=1,\n",
              "                                 ngram_range=(1, 1), preprocessor=None,\n",
              "                                 stop_words=None, strip_accents=None,\n",
              "                                 token_pattern='(?u)\\\\b\\\\w\\\\w+\\\\b',\n",
              "                                 tokenizer=None, vocabulary=None)),\n",
              "                ('tfidf',\n",
              "                 TfidfTransformer(norm='l2', smooth_idf=True,\n",
              "                                  sublinear_tf=False, use_idf=True)),\n",
              "                ('NuSCV',\n",
              "                 NuSVC(break_ties=False, cache_size=200, class_weight=None,\n",
              "                       coef0=0.0, decision_function_shape='ovr', degree=3,\n",
              "                       gamma='scale', kernel='rbf', max_iter=-1, nu=0.5,\n",
              "                       probability=True, random_state=None, shrinking=True,\n",
              "                       tol=0.001, verbose=False))],\n",
              "         verbose=False)"
            ]
          },
          "metadata": {
            "tags": []
          },
          "execution_count": 56
        }
      ]
    },
    {
      "cell_type": "code",
      "metadata": {
        "id": "J33JK4OeI0ZJ",
        "colab_type": "code",
        "colab": {
          "base_uri": "https://localhost:8080/",
          "height": 35
        },
        "outputId": "eeb19ee1-3c43-474d-e083-a7c186d34f87"
      },
      "source": [
        "prediction_7 = nuscv.predict(test.text)\n",
        "prediction_7 "
      ],
      "execution_count": 57,
      "outputs": [
        {
          "output_type": "execute_result",
          "data": {
            "text/plain": [
              "array([1, 1, 1, ..., 1, 1, 1])"
            ]
          },
          "metadata": {
            "tags": []
          },
          "execution_count": 57
        }
      ]
    },
    {
      "cell_type": "code",
      "metadata": {
        "id": "CwBFpZQT54e2",
        "colab_type": "code",
        "colab": {
          "base_uri": "https://localhost:8080/",
          "height": 35
        },
        "outputId": "719b4c0a-6e59-46ba-ea8a-a43b0c8ec54c"
      },
      "source": [
        "score_cross_val = model_selection.cross_val_score(nuscv, train.text, train.target, cv=5)\n",
        "print(score_cross_val.mean())"
      ],
      "execution_count": 58,
      "outputs": [
        {
          "output_type": "stream",
          "text": [
            "0.7038034414061051\n"
          ],
          "name": "stdout"
        }
      ]
    },
    {
      "cell_type": "code",
      "metadata": {
        "id": "WUpKtabuhZIG",
        "colab_type": "code",
        "colab": {}
      },
      "source": [
        "prediction7 = pd.DataFrame({'id':test['id'], 'target':prediction_7})\n",
        "prediction7.to_csv('prueba_6.csv', index=False)"
      ],
      "execution_count": null,
      "outputs": []
    },
    {
      "cell_type": "markdown",
      "metadata": {
        "id": "rRtj8zN6lyDY",
        "colab_type": "text"
      },
      "source": [
        "#CON N-GRAMAS"
      ]
    },
    {
      "cell_type": "markdown",
      "metadata": {
        "id": "i9eoss4pmgFV",
        "colab_type": "text"
      },
      "source": [
        "#Naive Bayes Classifier + ngrams"
      ]
    },
    {
      "cell_type": "code",
      "metadata": {
        "id": "1Af6rzsAlz03",
        "colab_type": "code",
        "colab": {}
      },
      "source": [
        "text_clf_ngrams = Pipeline([('bof', CountVectorizer(analyzer=clean_text, ngram_range=(2,2))), ('tfidf', TfidfTransformer()),('clf', MultinomialNB())])\n",
        "text_clf_ngrams = text_clf_ngrams.fit(train.text, train.target)"
      ],
      "execution_count": 59,
      "outputs": []
    },
    {
      "cell_type": "code",
      "metadata": {
        "id": "kjRqUpLjmCQ5",
        "colab_type": "code",
        "colab": {
          "base_uri": "https://localhost:8080/",
          "height": 35
        },
        "outputId": "fb4b863a-6951-4463-cead-cad51e95b38f"
      },
      "source": [
        "prediction_8 = text_clf_ngrams.predict(test.text)\n",
        "prediction_8"
      ],
      "execution_count": 61,
      "outputs": [
        {
          "output_type": "execute_result",
          "data": {
            "text/plain": [
              "array([1, 0, 1, ..., 1, 1, 1])"
            ]
          },
          "metadata": {
            "tags": []
          },
          "execution_count": 61
        }
      ]
    },
    {
      "cell_type": "code",
      "metadata": {
        "id": "cjAnDRx_61Lh",
        "colab_type": "code",
        "colab": {
          "base_uri": "https://localhost:8080/",
          "height": 35
        },
        "outputId": "9adc0a75-a25c-4cdb-c14e-e0f55425d92b"
      },
      "source": [
        "score_cross_val = model_selection.cross_val_score(text_clf_ngrams, train.text, train.target, cv=5)\n",
        "print(score_cross_val.mean())"
      ],
      "execution_count": 62,
      "outputs": [
        {
          "output_type": "stream",
          "text": [
            "0.7175962443582976\n"
          ],
          "name": "stdout"
        }
      ]
    },
    {
      "cell_type": "code",
      "metadata": {
        "id": "t6U00OKxmIVt",
        "colab_type": "code",
        "colab": {}
      },
      "source": [
        "prediction8 = pd.DataFrame({'id':test['id'], 'target':prediction_8})\n",
        "prediction8.to_csv('prueba_8.csv', index=False)"
      ],
      "execution_count": null,
      "outputs": []
    },
    {
      "cell_type": "markdown",
      "metadata": {
        "id": "FEaN_jVbmr6l",
        "colab_type": "text"
      },
      "source": [
        "#DecisionTreeClassifier + ngrams"
      ]
    },
    {
      "cell_type": "code",
      "metadata": {
        "id": "mNa6lrDaPzlB",
        "colab_type": "code",
        "colab": {
          "base_uri": "https://localhost:8080/",
          "height": 399
        },
        "outputId": "efae2113-4d96-49db-8b2d-1ebe69cf4d2c"
      },
      "source": [
        "dtc_ngrams = Pipeline([('bof', CountVectorizer(analyzer=clean_text, ngram_range=(2,2))), ('tfidf', TfidfTransformer()),('d_t_c', DecisionTreeClassifier())])\n",
        "dtc_ngrams.fit(train.text, train.target)"
      ],
      "execution_count": 66,
      "outputs": [
        {
          "output_type": "execute_result",
          "data": {
            "text/plain": [
              "Pipeline(memory=None,\n",
              "         steps=[('bof',\n",
              "                 CountVectorizer(analyzer=<function clean_text at 0x7f526fc2e840>,\n",
              "                                 binary=False, decode_error='strict',\n",
              "                                 dtype=<class 'numpy.int64'>, encoding='utf-8',\n",
              "                                 input='content', lowercase=True, max_df=1.0,\n",
              "                                 max_features=None, min_df=1,\n",
              "                                 ngram_range=(2, 2), preprocessor=None,\n",
              "                                 stop_words=None, strip_accents=None,\n",
              "                                 token_pattern='(?u)\\\\b\\\\w\\\\w+\\\\b',...\n",
              "                                  sublinear_tf=False, use_idf=True)),\n",
              "                ('d_t_c',\n",
              "                 DecisionTreeClassifier(ccp_alpha=0.0, class_weight=None,\n",
              "                                        criterion='gini', max_depth=None,\n",
              "                                        max_features=None, max_leaf_nodes=None,\n",
              "                                        min_impurity_decrease=0.0,\n",
              "                                        min_impurity_split=None,\n",
              "                                        min_samples_leaf=1, min_samples_split=2,\n",
              "                                        min_weight_fraction_leaf=0.0,\n",
              "                                        presort='deprecated', random_state=None,\n",
              "                                        splitter='best'))],\n",
              "         verbose=False)"
            ]
          },
          "metadata": {
            "tags": []
          },
          "execution_count": 66
        }
      ]
    },
    {
      "cell_type": "code",
      "metadata": {
        "id": "B7tkNv5Zj9y0",
        "colab_type": "code",
        "colab": {
          "base_uri": "https://localhost:8080/",
          "height": 35
        },
        "outputId": "b3877d36-5779-438d-e7ae-f79c5aba0f41"
      },
      "source": [
        "prediction_9 = dtc_ngrams.predict(test.text)\n",
        "prediction_9"
      ],
      "execution_count": 67,
      "outputs": [
        {
          "output_type": "execute_result",
          "data": {
            "text/plain": [
              "array([0, 1, 1, ..., 0, 1, 0])"
            ]
          },
          "metadata": {
            "tags": []
          },
          "execution_count": 67
        }
      ]
    },
    {
      "cell_type": "code",
      "metadata": {
        "id": "lcc0z8pR7LuF",
        "colab_type": "code",
        "colab": {
          "base_uri": "https://localhost:8080/",
          "height": 35
        },
        "outputId": "92456815-930f-4a61-ac56-a8e408bfb52b"
      },
      "source": [
        "score_cross_val = model_selection.cross_val_score(dtc_ngrams, train.text, train.target, cv=5)\n",
        "print(score_cross_val.mean())"
      ],
      "execution_count": 68,
      "outputs": [
        {
          "output_type": "stream",
          "text": [
            "0.5993732544264339\n"
          ],
          "name": "stdout"
        }
      ]
    },
    {
      "cell_type": "code",
      "metadata": {
        "id": "O93gP6UnmsOJ",
        "colab_type": "code",
        "colab": {}
      },
      "source": [
        "prediction9 = pd.DataFrame({'id':test['id'], 'target':prediction_9})\n",
        "prediction9.to_csv('prueba_9.csv', index=False)"
      ],
      "execution_count": 69,
      "outputs": []
    },
    {
      "cell_type": "markdown",
      "metadata": {
        "id": "03qwhaspPrwJ",
        "colab_type": "text"
      },
      "source": [
        "#VOTING ENSEMBLE"
      ]
    },
    {
      "cell_type": "markdown",
      "metadata": {
        "id": "LrfFTvdZZ6py",
        "colab_type": "text"
      },
      "source": [
        "#KNN - RandomForest - NuSCV"
      ]
    },
    {
      "cell_type": "code",
      "metadata": {
        "id": "xVE9-8rhPujT",
        "colab_type": "code",
        "colab": {
          "base_uri": "https://localhost:8080/",
          "height": 35
        },
        "outputId": "05793d03-3f97-4151-ab0c-8450a52e69d5"
      },
      "source": [
        "#KNeighborsClassifier\n",
        "knc = Pipeline([('bof', CountVectorizer(analyzer=clean_text)), ('tfidf', TfidfTransformer()),('KN_c', knn_best)])\n",
        "knc.fit(train.text, train.target)\n",
        "\n",
        "#RandomForestClassfier\n",
        "rfc = Pipeline([('bof', CountVectorizer(analyzer=clean_text)), ('tfidf', TfidfTransformer()),('rf_c', rf_best)])\n",
        "rfc.fit(train.text, train.target)\n",
        "\n",
        "#NuSCV\n",
        "nuscv = Pipeline([('bof', CountVectorizer(analyzer=clean_text)), ('tfidf', TfidfTransformer()),('NuSCV', NuSVC(probability=True))])\n",
        "nuscv.fit(train.text, train.target)\n",
        "\n",
        "#ENSEMBLE\n",
        "estimators=[('knc', knc), ('rfc', rfc), ('nuscv', nuscv)]\n",
        "ensemble = VotingClassifier(estimators, voting='hard')\n",
        "\n",
        "ensemble.fit(train.text, train.target)\n",
        "prediction_ensemble_1 = ensemble.predict(test.text)\n",
        "\n",
        "prediction_ensemble_1"
      ],
      "execution_count": 71,
      "outputs": [
        {
          "output_type": "execute_result",
          "data": {
            "text/plain": [
              "array([1, 1, 1, ..., 1, 1, 1])"
            ]
          },
          "metadata": {
            "tags": []
          },
          "execution_count": 71
        }
      ]
    },
    {
      "cell_type": "code",
      "metadata": {
        "id": "TDwPL4zY7r1g",
        "colab_type": "code",
        "colab": {
          "base_uri": "https://localhost:8080/",
          "height": 35
        },
        "outputId": "68cc5004-02df-466c-8449-521aaaa651f3"
      },
      "source": [
        "score_cross_val = model_selection.cross_val_score(ensemble, train.text, train.target, cv=5)\n",
        "print(score_cross_val.mean())"
      ],
      "execution_count": 72,
      "outputs": [
        {
          "output_type": "stream",
          "text": [
            "0.7064318211428271\n"
          ],
          "name": "stdout"
        }
      ]
    },
    {
      "cell_type": "code",
      "metadata": {
        "id": "3cHWyDZaTUD0",
        "colab_type": "code",
        "colab": {}
      },
      "source": [
        "prediction11 = pd.DataFrame({'id':test['id'], 'target':prediction_ensemble_1})\n",
        "prediction11.to_csv('prueba_11.csv', index=False)"
      ],
      "execution_count": null,
      "outputs": []
    },
    {
      "cell_type": "markdown",
      "metadata": {
        "id": "CbV0-C5JJ_Mm",
        "colab_type": "text"
      },
      "source": [
        "# + NGRAMS"
      ]
    },
    {
      "cell_type": "code",
      "metadata": {
        "id": "q_cIrLC2ZVYH",
        "colab_type": "code",
        "colab": {}
      },
      "source": [
        "#KNeighborsClassifier\n",
        "knc = Pipeline([('bof', CountVectorizer(analyzer=clean_text, ngram_range=(2,2))), ('tfidf', TfidfTransformer()),('KN_c', knn_best)])\n",
        "knc.fit(train.text, train.target)\n",
        "\n",
        "#RandomForestClassfier\n",
        "rfc = Pipeline([('bof', CountVectorizer(analyzer=clean_text)), ('tfidf', TfidfTransformer()),('rf_c', rf_best)])\n",
        "rfc.fit(train.text, train.target)\n",
        "\n",
        "#NuSCV\n",
        "nuscv = Pipeline([('bof', CountVectorizer(analyzer=clean_text)), ('tfidf', TfidfTransformer()),('NuSCV', NuSVC(probability=True))])\n",
        "nuscv.fit(train.text, train.target)\n",
        "\n",
        "#ENSEMBLE\n",
        "estimators=[('knc', knc), ('rfc', rfc), ('nuscv', nuscv)]\n",
        "ensemble = VotingClassifier(estimators, voting='hard')\n",
        "\n",
        "ensemble.fit(train.text, train.target)\n",
        "scores = ensemble.predict(test.text)\n",
        "\n",
        "#predicted_labels\n",
        "prediction11 = pd.DataFrame({'id':test['id'], 'target':scores})\n",
        "prediction11.to_csv('prueba_11_bis.csv', index=False)"
      ],
      "execution_count": 73,
      "outputs": []
    },
    {
      "cell_type": "code",
      "metadata": {
        "id": "R1Xf9WW59p02",
        "colab_type": "code",
        "colab": {
          "base_uri": "https://localhost:8080/",
          "height": 35
        },
        "outputId": "1bf79acf-1307-4c8b-8cbc-7e65556d4c82"
      },
      "source": [
        "score_cross_val = model_selection.cross_val_score(ensemble, train.text, train.target, cv=5)\n",
        "print(score_cross_val.mean())"
      ],
      "execution_count": 74,
      "outputs": [
        {
          "output_type": "stream",
          "text": [
            "0.7040656495280859\n"
          ],
          "name": "stdout"
        }
      ]
    },
    {
      "cell_type": "markdown",
      "metadata": {
        "id": "yUAfuC_jaAJG",
        "colab_type": "text"
      },
      "source": [
        "#KNN - RandomForest - Logistic Regresion\n",
        "\n"
      ]
    },
    {
      "cell_type": "code",
      "metadata": {
        "id": "_eIkireXaDXC",
        "colab_type": "code",
        "colab": {}
      },
      "source": [
        "#KNeighborsClassifier\n",
        "knc = Pipeline([('bof', CountVectorizer(analyzer=clean_text)), ('tfidf', TfidfTransformer()),('KN_c', knn_best)])\n",
        "knc.fit(train.text, train.target)\n",
        "\n",
        "#RandomForestClassfier\n",
        "rfc = Pipeline([('bof', CountVectorizer(analyzer=clean_text)), ('tfidf', TfidfTransformer()),('rf_c', rf_best)])\n",
        "rfc.fit(train.text, train.target)\n",
        "\n",
        "\n",
        "#Logistic Regression\n",
        "log_reg = Pipeline([('bof', CountVectorizer(analyzer=clean_text)), ('tfidf', TfidfTransformer()),('log_reg', LogisticRegression())])\n",
        "log_reg.fit(train.text, train.target)\n",
        "\n",
        "#ENSEMBLE\n",
        "estimators=[('knc', knc), ('rfc', rfc), ('log_reg', log_reg)]\n",
        "ensemble = VotingClassifier(estimators, voting='hard')\n",
        "\n",
        "ensemble.fit(train.text, train.target)\n",
        "score2 = ensemble.predict(test.text)\n",
        "\n",
        "prediction12 = pd.DataFrame({'id':test['id'], 'target':score2})\n",
        "prediction12.to_csv('prueba_12.csv', index=False)"
      ],
      "execution_count": 75,
      "outputs": []
    },
    {
      "cell_type": "code",
      "metadata": {
        "id": "CgY2UsA9G_cv",
        "colab_type": "code",
        "colab": {
          "base_uri": "https://localhost:8080/",
          "height": 35
        },
        "outputId": "a48b4f63-7b64-4c7a-d68a-fda31889385c"
      },
      "source": [
        "score_cross_val = model_selection.cross_val_score(ensemble, train.text, train.target, cv=5)\n",
        "print(score_cross_val.mean())"
      ],
      "execution_count": 76,
      "outputs": [
        {
          "output_type": "stream",
          "text": [
            "0.7001245035603877\n"
          ],
          "name": "stdout"
        }
      ]
    },
    {
      "cell_type": "markdown",
      "metadata": {
        "id": "SBabC4W1I-YN",
        "colab_type": "text"
      },
      "source": [
        "#NuSCV y SCV"
      ]
    },
    {
      "cell_type": "code",
      "metadata": {
        "id": "8incVCsWJAR8",
        "colab_type": "code",
        "colab": {
          "base_uri": "https://localhost:8080/",
          "height": 35
        },
        "outputId": "7aee8f75-41ec-43ae-b2d1-251d2ab74508"
      },
      "source": [
        "#SVC\n",
        "svc = Pipeline([('bof', CountVectorizer(analyzer=clean_text)), ('tfidf', TfidfTransformer()),('svc', OneVsRestClassifier(SVC(kernel='linear')))])\n",
        "svc.fit(train.text, train.target)\n",
        "\n",
        "#NuSCV\n",
        "nuscv = Pipeline([('bof', CountVectorizer(analyzer=clean_text)), ('tfidf', TfidfTransformer()),('NuSCV', NuSVC(probability=True))])\n",
        "nuscv.fit(train.text, train.target)\n",
        "\n",
        "#ENSEMBLE\n",
        "estimators=[('svc', svc), ('nuscv', nuscv)]\n",
        "ensemble = VotingClassifier(estimators, voting='hard')\n",
        "\n",
        "ensemble.fit(train.text, train.target)\n",
        "prediction = ensemble.predict(test.text)\n",
        "prediction"
      ],
      "execution_count": 77,
      "outputs": [
        {
          "output_type": "execute_result",
          "data": {
            "text/plain": [
              "array([1, 1, 1, ..., 1, 1, 0])"
            ]
          },
          "metadata": {
            "tags": []
          },
          "execution_count": 77
        }
      ]
    },
    {
      "cell_type": "code",
      "metadata": {
        "id": "TsxTAERaKwDu",
        "colab_type": "code",
        "colab": {
          "base_uri": "https://localhost:8080/",
          "height": 35
        },
        "outputId": "398f83f1-91fe-46d2-a027-51976196f907"
      },
      "source": [
        "score_cross_val = model_selection.cross_val_score(ensemble, train.text, train.target, cv=5)\n",
        "print(score_cross_val.mean())"
      ],
      "execution_count": 78,
      "outputs": [
        {
          "output_type": "stream",
          "text": [
            "0.7017017212207388\n"
          ],
          "name": "stdout"
        }
      ]
    },
    {
      "cell_type": "code",
      "metadata": {
        "id": "DqMac8fzKs4J",
        "colab_type": "code",
        "colab": {}
      },
      "source": [
        "ensemble_svc_nuscv = pd.DataFrame({'id':test['id'], 'target':prediction})\n",
        "ensemble_svc_nuscv.to_csv('prueba_15.csv', index=False)"
      ],
      "execution_count": null,
      "outputs": []
    }
  ]
}