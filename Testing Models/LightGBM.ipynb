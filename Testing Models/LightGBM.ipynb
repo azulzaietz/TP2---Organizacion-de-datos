{
  "nbformat": 4,
  "nbformat_minor": 0,
  "metadata": {
    "colab": {
      "name": "LightGBM.ipynb",
      "provenance": [],
      "collapsed_sections": []
    },
    "kernelspec": {
      "name": "python3",
      "display_name": "Python 3"
    }
  },
  "cells": [
    {
      "cell_type": "code",
      "metadata": {
        "id": "-OF-Qu_n771q",
        "colab_type": "code",
        "colab": {}
      },
      "source": [
        "import lightgbm as lgb\n",
        "import pandas as pd\n",
        "from sklearn.metrics import confusion_matrix,accuracy_score, roc_curve, auc\n",
        "import numpy as np\n",
        "\n",
        "from sklearn.feature_extraction.text import TfidfVectorizer\n",
        "import string\n",
        "import re\n",
        "\n",
        "from time import time"
      ],
      "execution_count": 1,
      "outputs": []
    },
    {
      "cell_type": "code",
      "metadata": {
        "id": "6oXIbmn7ekpK",
        "colab_type": "code",
        "colab": {
          "base_uri": "https://localhost:8080/",
          "height": 139
        },
        "outputId": "9666e49e-ba12-4ac8-8ab9-0c0faf5506ff"
      },
      "source": [
        "import nltk\n",
        "nltk.download('stopwords')\n",
        "nltk.download('wordnet')\n",
        "nltk.download('punkt')"
      ],
      "execution_count": 2,
      "outputs": [
        {
          "output_type": "stream",
          "text": [
            "[nltk_data] Downloading package stopwords to /root/nltk_data...\n",
            "[nltk_data]   Package stopwords is already up-to-date!\n",
            "[nltk_data] Downloading package wordnet to /root/nltk_data...\n",
            "[nltk_data]   Package wordnet is already up-to-date!\n",
            "[nltk_data] Downloading package punkt to /root/nltk_data...\n",
            "[nltk_data]   Package punkt is already up-to-date!\n"
          ],
          "name": "stdout"
        },
        {
          "output_type": "execute_result",
          "data": {
            "text/plain": [
              "True"
            ]
          },
          "metadata": {
            "tags": []
          },
          "execution_count": 2
        }
      ]
    },
    {
      "cell_type": "code",
      "metadata": {
        "id": "KoZpCniv9lAd",
        "colab_type": "code",
        "colab": {}
      },
      "source": [
        "from pydrive.auth import GoogleAuth\n",
        "from pydrive.drive import GoogleDrive\n",
        "from google.colab import auth\n",
        "from oauth2client.client import GoogleCredentials\n",
        "\n",
        "# Authenticate and create the PyDrive client\n",
        "auth.authenticate_user()\n",
        "gauth = GoogleAuth()\n",
        "gauth.credentials = GoogleCredentials.get_application_default()\n",
        "drive = GoogleDrive(gauth)"
      ],
      "execution_count": 3,
      "outputs": []
    },
    {
      "cell_type": "code",
      "metadata": {
        "id": "ZFAVbd4RCjsp",
        "colab_type": "code",
        "colab": {}
      },
      "source": [
        "id='1Pk5MK9Hs_kMUT9NotGnOKE0NPra-39YU'\n",
        "downloaded = drive.CreateFile({'id': id})\n",
        "downloaded.GetContentFile('train.csv')\n",
        "\n",
        "train = pd.read_csv('train.csv')\n",
        "\n",
        "id='1GsTM9oLtIV8-Da_fDOFWsQYMpgQ8GOYJ'\n",
        "downloaded = drive.CreateFile({'id': id})\n",
        "downloaded.GetContentFile('test.csv')\n",
        "\n",
        "test = pd.read_csv('test.csv')"
      ],
      "execution_count": 85,
      "outputs": []
    },
    {
      "cell_type": "code",
      "metadata": {
        "id": "clRvADGVj0oS",
        "colab_type": "code",
        "colab": {}
      },
      "source": [
        "id='1slJiG-M_oawvkzaqWzZkSmVxxZor6mKQ'\n",
        "downloaded = drive.CreateFile({'id': id})\n",
        "downloaded.GetContentFile('train_features.csv')\n",
        "\n",
        "id='1TmL2AY_yymiV8zXVvmbqXsIZoexR9sLs'\n",
        "downloaded = drive.CreateFile({'id': id})\n",
        "downloaded.GetContentFile('test_features.csv')\n",
        "\n",
        "train_features = pd.read_csv('train_features.csv')\n",
        "test_features = pd.read_csv('test_features.csv')"
      ],
      "execution_count": 84,
      "outputs": []
    },
    {
      "cell_type": "code",
      "metadata": {
        "id": "oHAlTGSk9ne5",
        "colab_type": "code",
        "colab": {}
      },
      "source": [
        "id= '1Ffgm1RoYdjqMuQgTap3o5bOSaNjIdO7l'\n",
        "downloaded = drive.CreateFile({'id': id})\n",
        "downloaded.GetContentFile('matriz_test_doc2vec_solo_text.csv')\n",
        "\n",
        "id= '1Q7m92Pbm08m0t9X8Q975IUkPWEoZQ--R'\n",
        "downloaded = drive.CreateFile({'id': id})\n",
        "downloaded.GetContentFile('matriz_train_doc2vec_solo_text.csv')"
      ],
      "execution_count": 82,
      "outputs": []
    },
    {
      "cell_type": "code",
      "metadata": {
        "id": "enr0CrLd9p7X",
        "colab_type": "code",
        "colab": {}
      },
      "source": [
        "matriz_test_doc2vec_solo_text = pd.read_csv('matriz_test_doc2vec_solo_text.csv')\n",
        "matriz_train_doc2vec_solo_text = pd.read_csv('matriz_train_doc2vec_solo_text.csv')\n",
        "\n",
        "y_train = train['target']"
      ],
      "execution_count": 83,
      "outputs": []
    },
    {
      "cell_type": "markdown",
      "metadata": {
        "id": "jpdVGNL7nWi_",
        "colab_type": "text"
      },
      "source": [
        "Parametros LightGBM"
      ]
    },
    {
      "cell_type": "code",
      "metadata": {
        "id": "UYMww6venZ5r",
        "colab_type": "code",
        "colab": {}
      },
      "source": [
        "params = {\n",
        "    'application': 'binary',\n",
        "    'objective': 'binary',\n",
        "    'metric': 'auc',\n",
        "    'is_unbalance': 'false',\n",
        "    'boosting': 'gbdt',\n",
        "    'num_leaves': 31,\n",
        "    'feature_fraction': 0.5,\n",
        "    'bagging_fraction': 0.5,\n",
        "    'bagging_freq': 20,\n",
        "    'learning_rate': 0.05,\n",
        "    'verbose': 0\n",
        "}"
      ],
      "execution_count": null,
      "outputs": []
    },
    {
      "cell_type": "markdown",
      "metadata": {
        "id": "Zv_idEBzP8HE",
        "colab_type": "text"
      },
      "source": [
        "#DOC2VEC"
      ]
    },
    {
      "cell_type": "markdown",
      "metadata": {
        "id": "BsljFh6NEmxL",
        "colab_type": "text"
      },
      "source": [
        "###Solo con texto"
      ]
    },
    {
      "cell_type": "code",
      "metadata": {
        "id": "blVE8Orn-0_h",
        "colab_type": "code",
        "colab": {}
      },
      "source": [
        "lgb_train = lgb.Dataset(matriz_train_doc2vec_solo_text , y_train)"
      ],
      "execution_count": null,
      "outputs": []
    },
    {
      "cell_type": "code",
      "metadata": {
        "id": "XSdW-GEq_xPo",
        "colab_type": "code",
        "colab": {}
      },
      "source": [
        "gbm = lgb.train(params, lgb_train, num_boost_round=50)"
      ],
      "execution_count": null,
      "outputs": []
    },
    {
      "cell_type": "code",
      "metadata": {
        "id": "APCU3DjQ_0TV",
        "colab_type": "code",
        "colab": {
          "base_uri": "https://localhost:8080/",
          "height": 50
        },
        "outputId": "18665f86-6da1-4adc-8849-045e21f2d6c7"
      },
      "source": [
        "predictions = gbm.predict(matriz_test_doc2vec_solo_text)"
      ],
      "execution_count": null,
      "outputs": [
        {
          "output_type": "execute_result",
          "data": {
            "text/plain": [
              "array([0.49451934, 0.48024837, 0.55287008, ..., 0.40741218, 0.42201578,\n",
              "       0.42770756])"
            ]
          },
          "metadata": {
            "tags": []
          },
          "execution_count": 69
        }
      ]
    },
    {
      "cell_type": "code",
      "metadata": {
        "id": "BoSa0-EZDf6G",
        "colab_type": "code",
        "colab": {}
      },
      "source": [
        "predictions_classes = []\n",
        "for i in predictions:\n",
        "  predictions_classes.append(round(i))\n",
        " \n",
        "predictions_classes = np.array(predictions_classes)"
      ],
      "execution_count": null,
      "outputs": []
    },
    {
      "cell_type": "code",
      "metadata": {
        "id": "KqGeN2JeDtTz",
        "colab_type": "code",
        "colab": {
          "base_uri": "https://localhost:8080/",
          "height": 34
        },
        "outputId": "cc596b7f-2aea-408b-f938-e4752503dce6"
      },
      "source": [
        "predictions_classes"
      ],
      "execution_count": null,
      "outputs": [
        {
          "output_type": "execute_result",
          "data": {
            "text/plain": [
              "array([0., 0., 1., ..., 0., 0., 0.])"
            ]
          },
          "metadata": {
            "tags": []
          },
          "execution_count": 71
        }
      ]
    },
    {
      "cell_type": "markdown",
      "metadata": {
        "id": "XQnfxTScEqvB",
        "colab_type": "text"
      },
      "source": [
        "##Con todos los features"
      ]
    },
    {
      "cell_type": "code",
      "metadata": {
        "id": "whJ_wpTdElJd",
        "colab_type": "code",
        "colab": {}
      },
      "source": [
        "id= '1OrAkBep-bmOz-P-QR3P5csDejgiJG9bL'\n",
        "downloaded = drive.CreateFile({'id': id})\n",
        "downloaded.GetContentFile('doc2vec_features_numericos_test.csv')\n",
        "\n",
        "id= '17bNeSA9q59vTO6OW2lBTJPyw29QGQSxf'\n",
        "downloaded = drive.CreateFile({'id': id})\n",
        "downloaded.GetContentFile('doc2vec_features_numericos_train.csv')"
      ],
      "execution_count": null,
      "outputs": []
    },
    {
      "cell_type": "code",
      "metadata": {
        "id": "DQgfUi4xEtR3",
        "colab_type": "code",
        "colab": {}
      },
      "source": [
        "doc2vec_features_numericos_test = pd.read_csv('doc2vec_features_numericos_test.csv')\n",
        "doc2vec_features_numericos_train = pd.read_csv('doc2vec_features_numericos_train.csv')"
      ],
      "execution_count": null,
      "outputs": []
    },
    {
      "cell_type": "code",
      "metadata": {
        "colab_type": "code",
        "id": "t1IYk-9eEz6u",
        "colab": {}
      },
      "source": [
        "lgb_train = lgb.Dataset(doc2vec_features_numericos_train , y_train)"
      ],
      "execution_count": null,
      "outputs": []
    },
    {
      "cell_type": "code",
      "metadata": {
        "colab_type": "code",
        "id": "-Bo85gbJEz7A",
        "colab": {}
      },
      "source": [
        "gbm = lgb.train(params, lgb_train, num_boost_round=50)"
      ],
      "execution_count": null,
      "outputs": []
    },
    {
      "cell_type": "code",
      "metadata": {
        "colab_type": "code",
        "id": "FZr6E3igEz7I",
        "colab": {}
      },
      "source": [
        "predictions = gbm.predict(doc2vec_features_numericos_test)"
      ],
      "execution_count": null,
      "outputs": []
    },
    {
      "cell_type": "code",
      "metadata": {
        "colab_type": "code",
        "id": "A5_p0oxAEz7N",
        "colab": {}
      },
      "source": [
        "predictions_classes = []\n",
        "for i in predictions:\n",
        "  predictions_classes.append(round(i))\n",
        " \n",
        "predictions_classes = np.array(predictions_classes)"
      ],
      "execution_count": null,
      "outputs": []
    },
    {
      "cell_type": "code",
      "metadata": {
        "colab_type": "code",
        "id": "VSuqaJuCEz7R",
        "colab": {
          "base_uri": "https://localhost:8080/",
          "height": 34
        },
        "outputId": "29fd2273-9ecd-4f79-d849-abb458392215"
      },
      "source": [
        "predictions_classes"
      ],
      "execution_count": null,
      "outputs": [
        {
          "output_type": "execute_result",
          "data": {
            "text/plain": [
              "array([0., 0., 0., ..., 1., 1., 1.])"
            ]
          },
          "metadata": {
            "tags": []
          },
          "execution_count": 78
        }
      ]
    },
    {
      "cell_type": "code",
      "metadata": {
        "id": "V7gW_T5rEvWE",
        "colab_type": "code",
        "colab": {}
      },
      "source": [
        "#DIO 0.62!\n",
        "submission_lightGBM = pd.DataFrame(data={'id':test['id'], 'target': predictions_classes})\n",
        "submission_lightGBM['target'] = submission_lightGBM['target'].astype(int)\n",
        "submission_lightGBM.to_csv('lightGBM.csv', index=False)"
      ],
      "execution_count": null,
      "outputs": []
    },
    {
      "cell_type": "markdown",
      "metadata": {
        "id": "qP4FQEqOP-gP",
        "colab_type": "text"
      },
      "source": [
        "#Doc2Vec solo texto + keyword Categorical"
      ]
    },
    {
      "cell_type": "markdown",
      "metadata": {
        "id": "Ici5XTW4RG2l",
        "colab_type": "text"
      },
      "source": [
        "FEATURES: TEXT Y KEYWORD"
      ]
    },
    {
      "cell_type": "code",
      "metadata": {
        "id": "xqCkhSWxb3x0",
        "colab_type": "code",
        "colab": {
          "base_uri": "https://localhost:8080/",
          "height": 52
        },
        "outputId": "d425ac55-89c8-48f8-f2a3-0c12fa3f0835"
      },
      "source": [
        "x_train = train.drop(columns=['id', 'target', 'location', 'text'])\n",
        "x_train['keyword'].fillna(' ', inplace=True)\n",
        "x_train.dtypes"
      ],
      "execution_count": 59,
      "outputs": [
        {
          "output_type": "execute_result",
          "data": {
            "text/plain": [
              "keyword    object\n",
              "dtype: object"
            ]
          },
          "metadata": {
            "tags": []
          },
          "execution_count": 59
        }
      ]
    },
    {
      "cell_type": "code",
      "metadata": {
        "id": "YSgxaKsAcbhp",
        "colab_type": "code",
        "colab": {}
      },
      "source": [
        "x_train['keyword'] = x_train['keyword'].astype('category')\n",
        "x_train['keyword'] = pd.Categorical(x_train['keyword'].cat.codes+1)"
      ],
      "execution_count": 60,
      "outputs": []
    },
    {
      "cell_type": "code",
      "metadata": {
        "id": "9cB02s_MeZE3",
        "colab_type": "code",
        "colab": {}
      },
      "source": [
        "features_text_keyword = pd.concat([x_train, matriz_train_doc2vec_solo_text], axis=1)"
      ],
      "execution_count": 61,
      "outputs": []
    },
    {
      "cell_type": "code",
      "metadata": {
        "id": "GYLSceYBbZJV",
        "colab_type": "code",
        "colab": {}
      },
      "source": [
        "train_data = lgb.Dataset(features_text_keyword , label=y_train, categorical_feature=['keyword'])"
      ],
      "execution_count": 63,
      "outputs": []
    },
    {
      "cell_type": "code",
      "metadata": {
        "id": "bzt-fbyxficm",
        "colab_type": "code",
        "colab": {
          "base_uri": "https://localhost:8080/",
          "height": 52
        },
        "outputId": "08b7bffb-c711-4429-f48b-23ab9aa5375c"
      },
      "source": [
        "gbm = lgb.train(params, train_data, num_boost_round=50)"
      ],
      "execution_count": 64,
      "outputs": [
        {
          "output_type": "stream",
          "text": [
            "/usr/local/lib/python3.6/dist-packages/lightgbm/basic.py:1205: UserWarning: Using categorical_feature in Dataset.\n",
            "  warnings.warn('Using categorical_feature in Dataset.')\n"
          ],
          "name": "stderr"
        }
      ]
    },
    {
      "cell_type": "code",
      "metadata": {
        "colab_type": "code",
        "id": "ywqjB5w2gPtk",
        "colab": {
          "base_uri": "https://localhost:8080/",
          "height": 52
        },
        "outputId": "38f3d1ea-fde0-459a-cb83-caf0c573cd16"
      },
      "source": [
        "x_test = test.drop(columns=['id', 'location', 'text'])\n",
        "x_test['keyword'].fillna(' ', inplace=True)\n",
        "x_test.dtypes"
      ],
      "execution_count": 65,
      "outputs": [
        {
          "output_type": "execute_result",
          "data": {
            "text/plain": [
              "keyword    object\n",
              "dtype: object"
            ]
          },
          "metadata": {
            "tags": []
          },
          "execution_count": 65
        }
      ]
    },
    {
      "cell_type": "code",
      "metadata": {
        "colab_type": "code",
        "id": "MSQYe3LUgPtq",
        "colab": {}
      },
      "source": [
        "x_test['keyword'] = x_test['keyword'].astype('category')\n",
        "x_test['keyword'] = pd.Categorical(x_test['keyword'].cat.codes+1)"
      ],
      "execution_count": 66,
      "outputs": []
    },
    {
      "cell_type": "code",
      "metadata": {
        "colab_type": "code",
        "id": "HxZ6Fch0gPty",
        "colab": {}
      },
      "source": [
        "test_text_keyword = pd.concat([x_test, matriz_test_doc2vec_solo_text], axis=1)"
      ],
      "execution_count": 67,
      "outputs": []
    },
    {
      "cell_type": "code",
      "metadata": {
        "id": "WvWPUb4ef8jd",
        "colab_type": "code",
        "colab": {}
      },
      "source": [
        "predictions = gbm.predict(test_text_keyword)"
      ],
      "execution_count": 68,
      "outputs": []
    },
    {
      "cell_type": "code",
      "metadata": {
        "id": "os3Ebed3gfyp",
        "colab_type": "code",
        "colab": {}
      },
      "source": [
        "predictions_classes = []\n",
        "for i in predictions:\n",
        "  predictions_classes.append(round(i))\n",
        " \n",
        "predictions_classes = np.array(predictions_classes)"
      ],
      "execution_count": 69,
      "outputs": []
    },
    {
      "cell_type": "code",
      "metadata": {
        "id": "DxElO35ughk7",
        "colab_type": "code",
        "colab": {}
      },
      "source": [
        "#DIO 0.70977!\n",
        "submission_lightGBM_2 = pd.DataFrame(data={'id':test['id'], 'target': predictions_classes})\n",
        "submission_lightGBM_2['target'] = submission_lightGBM_2['target'].astype(int)\n",
        "submission_lightGBM_2.to_csv('lightGBM_2.csv', index=False)"
      ],
      "execution_count": 70,
      "outputs": []
    },
    {
      "cell_type": "markdown",
      "metadata": {
        "id": "1Zya42WXjYmg",
        "colab_type": "text"
      },
      "source": [
        "FEATURES: TEXT, KEYWORD Y NUMERICOS"
      ]
    },
    {
      "cell_type": "code",
      "metadata": {
        "id": "bA6A-fBCkhg1",
        "colab_type": "code",
        "colab": {}
      },
      "source": [
        "train_features = train_features.drop(columns=['id', 'location', 'text', 'keyword', 'target', 'longitud tweets', 'cant_palabras', 'palabras_unicas', 'cant_url', 'cant_hashtag', 'cant_mencion',\t'cant_signos_pregunta',\t'cant_signos_exclamacion', 'subjetividad', 'cant_oraciones', 'cant_minusculas', 'cant_consonant'])"
      ],
      "execution_count": 86,
      "outputs": []
    },
    {
      "cell_type": "code",
      "metadata": {
        "colab_type": "code",
        "id": "BGeqBm2ej-Ce",
        "colab": {}
      },
      "source": [
        "features_text_keyword_numeric = pd.concat([x_train, matriz_train_doc2vec_solo_text, train_features], axis=1)"
      ],
      "execution_count": 87,
      "outputs": []
    },
    {
      "cell_type": "code",
      "metadata": {
        "colab_type": "code",
        "id": "hGn3aL70j-Ch",
        "colab": {}
      },
      "source": [
        "train_data_2 = lgb.Dataset(features_text_keyword_numeric, label=y_train, categorical_feature=['keyword', 'cant_stop_words', 'prom_long_palabra', 'cant_puntuacion', 'cant_apariciones_keyword', 'cant_numeros', 'cant_mayusculas', 'cant_vocales'])"
      ],
      "execution_count": 88,
      "outputs": []
    },
    {
      "cell_type": "code",
      "metadata": {
        "colab_type": "code",
        "id": "qHHFyIrkj-Cl",
        "colab": {
          "base_uri": "https://localhost:8080/",
          "height": 52
        },
        "outputId": "cc503f45-c120-4a16-d720-6062105f554f"
      },
      "source": [
        "gbm = lgb.train(params, train_data_2, num_boost_round=50)"
      ],
      "execution_count": 90,
      "outputs": [
        {
          "output_type": "stream",
          "text": [
            "/usr/local/lib/python3.6/dist-packages/lightgbm/basic.py:1205: UserWarning: Using categorical_feature in Dataset.\n",
            "  warnings.warn('Using categorical_feature in Dataset.')\n"
          ],
          "name": "stderr"
        }
      ]
    },
    {
      "cell_type": "code",
      "metadata": {
        "id": "xvU6-1QnmQiz",
        "colab_type": "code",
        "colab": {}
      },
      "source": [
        "test_features = test_features.drop(columns=['id', 'location', 'text', 'keyword', 'longitud tweets', 'cant_palabras', 'palabras_unicas', 'cant_url', 'cant_hashtag', 'cant_mencion',\t'cant_signos_pregunta',\t'cant_signos_exclamacion', 'subjetividad', 'cant_oraciones', 'cant_minusculas', 'cant_consonant'])"
      ],
      "execution_count": 92,
      "outputs": []
    },
    {
      "cell_type": "code",
      "metadata": {
        "colab_type": "code",
        "id": "LoVuBBW0j-Cq",
        "colab": {}
      },
      "source": [
        "test_text_keyword_2 = pd.concat([x_test, matriz_test_doc2vec_solo_text, test_features], axis=1)"
      ],
      "execution_count": 97,
      "outputs": []
    },
    {
      "cell_type": "code",
      "metadata": {
        "colab_type": "code",
        "id": "HcdG0bNBj-Cs",
        "colab": {}
      },
      "source": [
        "predictions = gbm.predict(test_text_keyword_2)"
      ],
      "execution_count": 98,
      "outputs": []
    },
    {
      "cell_type": "code",
      "metadata": {
        "colab_type": "code",
        "id": "NCHMT8bWj-Cv",
        "colab": {}
      },
      "source": [
        "predictions_classes = []\n",
        "for i in predictions:\n",
        "  predictions_classes.append(round(i))\n",
        " \n",
        "predictions_classes = np.array(predictions_classes)"
      ],
      "execution_count": 99,
      "outputs": []
    },
    {
      "cell_type": "code",
      "metadata": {
        "colab_type": "code",
        "id": "1OFbE8VVj-Cw",
        "colab": {}
      },
      "source": [
        "#DIO 0.70977!\n",
        "submission_lightGBM_3 = pd.DataFrame(data={'id':test['id'], 'target': predictions_classes})\n",
        "submission_lightGBM_3['target'] = submission_lightGBM_3['target'].astype(int)\n",
        "submission_lightGBM_3.to_csv('lightGBM_3.csv', index=False)"
      ],
      "execution_count": 100,
      "outputs": []
    },
    {
      "cell_type": "code",
      "metadata": {
        "id": "dq5AUOWDjhk3",
        "colab_type": "code",
        "colab": {
          "base_uri": "https://localhost:8080/",
          "height": 35
        },
        "outputId": "bb9a8ab7-7e32-4e5c-fe11-3d82b3b481b5"
      },
      "source": [
        "accuracy_score(submission_lightGBM_2['target'], submission_lightGBM_3['target'])"
      ],
      "execution_count": 102,
      "outputs": [
        {
          "output_type": "execute_result",
          "data": {
            "text/plain": [
              "0.9010113392583512"
            ]
          },
          "metadata": {
            "tags": []
          },
          "execution_count": 102
        }
      ]
    }
  ]
}