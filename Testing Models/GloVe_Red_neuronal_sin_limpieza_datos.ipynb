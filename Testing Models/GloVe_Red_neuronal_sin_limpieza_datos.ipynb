{
  "nbformat": 4,
  "nbformat_minor": 0,
  "metadata": {
    "colab": {
      "name": "GloVe_Red_neuronal_sin_limpieza_datos.ipynb",
      "provenance": []
    },
    "kernelspec": {
      "name": "python3",
      "display_name": "Python 3"
    }
  },
  "cells": [
    {
      "cell_type": "code",
      "metadata": {
        "id": "VPI7GsB9P8u6",
        "colab_type": "code",
        "colab": {}
      },
      "source": [
        "import pandas as pd\n",
        "import numpy as np\n",
        "\n",
        "from numpy import array\n",
        "from keras.preprocessing.text import one_hot\n",
        "from keras.preprocessing.sequence import pad_sequences\n",
        "from keras.models import Sequential\n",
        "from keras.layers import Dense\n",
        "from keras.layers import Flatten\n",
        "from keras.layers.embeddings import Embedding\n",
        "\n",
        "from keras.preprocessing.text import Tokenizer\n",
        "from keras.preprocessing.sequence import pad_sequences\n",
        "\n",
        "import os\n",
        "import string\n",
        "import re\n",
        "\n",
        "from numpy import array\n",
        "from numpy import asarray\n",
        "from numpy import zeros\n",
        "\n",
        "from sklearn.model_selection import train_test_split"
      ],
      "execution_count": null,
      "outputs": []
    },
    {
      "cell_type": "code",
      "metadata": {
        "id": "5VdhF7rWR3Ce",
        "colab_type": "code",
        "colab": {
          "base_uri": "https://localhost:8080/",
          "height": 104
        },
        "outputId": "f0a10cdd-3ff3-4a6e-f0de-7463f68944e4"
      },
      "source": [
        "import nltk\n",
        "nltk.download('punkt')\n",
        "nltk.download('stopwords')"
      ],
      "execution_count": null,
      "outputs": [
        {
          "output_type": "stream",
          "text": [
            "[nltk_data] Downloading package punkt to /root/nltk_data...\n",
            "[nltk_data]   Unzipping tokenizers/punkt.zip.\n",
            "[nltk_data] Downloading package stopwords to /root/nltk_data...\n",
            "[nltk_data]   Unzipping corpora/stopwords.zip.\n"
          ],
          "name": "stdout"
        },
        {
          "output_type": "execute_result",
          "data": {
            "text/plain": [
              "True"
            ]
          },
          "metadata": {
            "tags": []
          },
          "execution_count": 2
        }
      ]
    },
    {
      "cell_type": "code",
      "metadata": {
        "id": "w1GzTRlnQWJp",
        "colab_type": "code",
        "colab": {}
      },
      "source": [
        "from pydrive.auth import GoogleAuth\n",
        "from pydrive.drive import GoogleDrive\n",
        "from google.colab import auth\n",
        "from oauth2client.client import GoogleCredentials\n",
        "\n",
        "# Authenticate and create the PyDrive client\n",
        "auth.authenticate_user()\n",
        "gauth = GoogleAuth()\n",
        "gauth.credentials = GoogleCredentials.get_application_default()\n",
        "drive = GoogleDrive(gauth)"
      ],
      "execution_count": null,
      "outputs": []
    },
    {
      "cell_type": "code",
      "metadata": {
        "id": "boZ-19rlQCxX",
        "colab_type": "code",
        "colab": {}
      },
      "source": [
        "id='1Pk5MK9Hs_kMUT9NotGnOKE0NPra-39YU'\n",
        "downloaded = drive.CreateFile({'id': id})\n",
        "downloaded.GetContentFile('train.csv')\n",
        "\n",
        "train = pd.read_csv('train.csv')\n",
        "\n",
        "id='1GsTM9oLtIV8-Da_fDOFWsQYMpgQ8GOYJ'\n",
        "downloaded = drive.CreateFile({'id': id})\n",
        "downloaded.GetContentFile('test.csv')\n",
        "\n",
        "id='1ko2_L5ugKZLaZgvfYvNcYqurtGR8FZ-p'\n",
        "downloaded = drive.CreateFile({'id': id})\n",
        "downloaded.GetContentFile('glove.6B.100d.txt')\n",
        "\n",
        "train = pd.read_csv('train.csv')\n",
        "test = pd.read_csv('test.csv')"
      ],
      "execution_count": null,
      "outputs": []
    },
    {
      "cell_type": "code",
      "metadata": {
        "id": "sRPQHNO3hbxm",
        "colab_type": "code",
        "colab": {}
      },
      "source": [
        "def remove_punct(text):\n",
        "    #filtrado de signos de puntuacion\n",
        "    text = \"\".join([word.lower() for word in text if word not in string.punctuation])\n",
        "    return text"
      ],
      "execution_count": null,
      "outputs": []
    },
    {
      "cell_type": "code",
      "metadata": {
        "id": "oKXEoBJVuqj9",
        "colab_type": "code",
        "colab": {}
      },
      "source": [
        "y = train.target\n",
        "#train['text'] = train['text'].apply(lambda x: remove_punct(x))\n",
        "x_corpus, x_validation, y_corpus, y_validation = train_test_split(train.text, y, test_size=0.3, stratify=y)"
      ],
      "execution_count": null,
      "outputs": []
    },
    {
      "cell_type": "code",
      "metadata": {
        "id": "b7bwroF5Qo0Z",
        "colab_type": "code",
        "colab": {}
      },
      "source": [
        "corpus = list(x_corpus)"
      ],
      "execution_count": null,
      "outputs": []
    },
    {
      "cell_type": "code",
      "metadata": {
        "id": "2SvrJIoFnD1g",
        "colab_type": "code",
        "colab": {
          "base_uri": "https://localhost:8080/",
          "height": 35
        },
        "outputId": "76717bb9-6a9a-4897-e1cd-b31c91171c77"
      },
      "source": [
        "len(corpus)"
      ],
      "execution_count": null,
      "outputs": [
        {
          "output_type": "execute_result",
          "data": {
            "text/plain": [
              "5329"
            ]
          },
          "metadata": {
            "tags": []
          },
          "execution_count": 21
        }
      ]
    },
    {
      "cell_type": "code",
      "metadata": {
        "id": "XjsQaouQQ0Vz",
        "colab_type": "code",
        "colab": {}
      },
      "source": [
        "#DEL TRAIN SPLITEADO\n",
        "\n",
        "#buscamos vocabulary (palabras unicas)\n",
        "word_tokenizer_train = Tokenizer()\n",
        "word_tokenizer_train.fit_on_texts(corpus)\n",
        "\n",
        "#cantidad de palabras unicas\n",
        "vocab_length = len(word_tokenizer_train.word_index) + 1\n",
        "\n",
        "#convertimos los tweets a numeros\n",
        "embedded_sentences_train = word_tokenizer_train.texts_to_sequences(corpus)\n",
        "\n",
        "#completamos con ceros en las oraciones mas cortas para dejar todos los vectores con la misma dimension (la dimension de la oracion mas larga)\n",
        "from nltk.tokenize import word_tokenize\n",
        "\n",
        "word_count_train = lambda sentence: len(word_tokenize(sentence))\n",
        "longest_sentence_train = max(corpus, key=word_count_train)\n",
        "length_long_sentence_train = len(word_tokenize(longest_sentence_train))\n",
        "padded_sentences_train = pad_sequences(embedded_sentences_train, length_long_sentence_train, padding='post')"
      ],
      "execution_count": null,
      "outputs": []
    },
    {
      "cell_type": "code",
      "metadata": {
        "id": "36icTpQZG9dV",
        "colab_type": "code",
        "colab": {
          "base_uri": "https://localhost:8080/",
          "height": 35
        },
        "outputId": "b893c472-1cfa-4657-e7a9-41cb5c6c873b"
      },
      "source": [
        "len(padded_sentences_train)"
      ],
      "execution_count": null,
      "outputs": [
        {
          "output_type": "execute_result",
          "data": {
            "text/plain": [
              "5329"
            ]
          },
          "metadata": {
            "tags": []
          },
          "execution_count": 24
        }
      ]
    },
    {
      "cell_type": "code",
      "metadata": {
        "id": "89XVHIVgxMnw",
        "colab_type": "code",
        "colab": {}
      },
      "source": [
        "#convertimos los tweets DE VALIDACION a numeros\n",
        "word_tokenizer_val = Tokenizer()\n",
        "word_tokenizer_val.fit_on_texts(list(x_validation))\n",
        "embedded_sentences_val = word_tokenizer_val.texts_to_sequences(list(x_validation))\n",
        "\n",
        "#completamos con ceros en las oraciones mas cortas para dejar todos los vectores con la misma dimension (la dimension de la oracion mas larga)\n",
        "word_count_val = lambda sentence: len(word_tokenize(sentence))\n",
        "longest_sentence_val = max(corpus, key=word_count_val)\n",
        "length_long_sentence_val = len(word_tokenize(longest_sentence_val))\n",
        "padded_sentences_val = pad_sequences(embedded_sentences_val, length_long_sentence_val, padding='post')"
      ],
      "execution_count": null,
      "outputs": []
    },
    {
      "cell_type": "code",
      "metadata": {
        "id": "sfMMDi5WY3JO",
        "colab_type": "code",
        "colab": {}
      },
      "source": [
        "#convertimos los tweets DEL TEST a numeros\n",
        "word_tokenizer_test = Tokenizer()\n",
        "word_tokenizer_test.fit_on_texts(list(test.text))\n",
        "embedded_sentences_test = word_tokenizer_test.texts_to_sequences(list(test.text))\n",
        "\n",
        "#completamos con ceros en las oraciones mas cortas para dejar todos los vectores con la misma dimension (la dimension de la oracion mas larga)\n",
        "word_count_test = lambda sentence: len(word_tokenize(sentence))\n",
        "longest_sentence_test = max(corpus, key=word_count_test)\n",
        "length_long_sentence_test = len(word_tokenize(longest_sentence_test))\n",
        "padded_sentences_test = pad_sequences(embedded_sentences_test, length_long_sentence_test, padding='post')"
      ],
      "execution_count": null,
      "outputs": []
    },
    {
      "cell_type": "code",
      "metadata": {
        "id": "vIvH2lKnblQl",
        "colab_type": "code",
        "colab": {}
      },
      "source": [
        "#convertimos los tweets DEL TRAIN COMPLETO a numeros\n",
        "word_tokenizer = Tokenizer()\n",
        "word_tokenizer.fit_on_texts(list(train.text))\n",
        "embedded_sentences = word_tokenizer.texts_to_sequences(list(train.text))\n",
        "\n",
        "#cantidad de palabras unicas\n",
        "vocab_length = len(word_tokenizer.word_index) + 1\n",
        "\n",
        "#completamos con ceros en las oraciones mas cortas para dejar todos los vectores con la misma dimension (la dimension de la oracion mas larga)\n",
        "word_count = lambda sentence: len(word_tokenize(sentence))\n",
        "longest_sentence = max(corpus, key=word_count)\n",
        "length_long_sentence = len(word_tokenize(longest_sentence))\n",
        "padded_sentences = pad_sequences(embedded_sentences, length_long_sentence, padding='post')"
      ],
      "execution_count": null,
      "outputs": []
    },
    {
      "cell_type": "code",
      "metadata": {
        "id": "lvu5cKqBcmoy",
        "colab_type": "code",
        "colab": {}
      },
      "source": [
        "#vinculamos nuestros valores a los de GloVe\n",
        "import json\n",
        "\n",
        "embeddings_dictionary = {}\n",
        "f = open('glove.6B.100d.txt', encoding=\"utf8\")\n",
        "for line in f:\n",
        "  values = line.split()\n",
        "  word = values[0]\n",
        "  vector_dimension = np.asarray(values[1:])\n",
        "  embeddings_dictionary[word] = vector_dimension\n",
        "f.close()"
      ],
      "execution_count": null,
      "outputs": []
    },
    {
      "cell_type": "code",
      "metadata": {
        "id": "7oVFoDv7gTcR",
        "colab_type": "code",
        "colab": {}
      },
      "source": [
        "embedding_matrix = zeros((vocab_length, 100))\n",
        "for word, index in word_tokenizer_train.word_index.items():\n",
        "    embedding_vector = embeddings_dictionary.get(word)\n",
        "    if embedding_vector is not None:\n",
        "        embedding_matrix[index] = embedding_vector"
      ],
      "execution_count": null,
      "outputs": []
    },
    {
      "cell_type": "markdown",
      "metadata": {
        "id": "UR9pzcRKQ2Lf",
        "colab_type": "text"
      },
      "source": [
        "Modelo 1"
      ]
    },
    {
      "cell_type": "code",
      "metadata": {
        "id": "SEtXytZTQ4h0",
        "colab_type": "code",
        "colab": {
          "base_uri": "https://localhost:8080/",
          "height": 53
        },
        "outputId": "75d47219-53b3-4a6c-f520-d4a92fbc2d41"
      },
      "source": [
        "\"\"\"model = Sequential()\n",
        "embedding_layer = Embedding(vocab_length, 100, weights=[embedding_matrix], input_length=length_long_sentence, trainable=False)\n",
        "model.add(embedding_layer)\n",
        "model.add(Flatten())\n",
        "model.add(Dense(1, activation='sigmoid'))\"\"\""
      ],
      "execution_count": null,
      "outputs": [
        {
          "output_type": "execute_result",
          "data": {
            "application/vnd.google.colaboratory.intrinsic+json": {
              "type": "string"
            },
            "text/plain": [
              "\"model = Sequential()\\nembedding_layer = Embedding(vocab_length, 100, weights=[embedding_matrix], input_length=length_long_sentence, trainable=False)\\nmodel.add(embedding_layer)\\nmodel.add(Flatten())\\nmodel.add(Dense(1, activation='sigmoid'))\""
            ]
          },
          "metadata": {
            "tags": []
          },
          "execution_count": 76
        }
      ]
    },
    {
      "cell_type": "markdown",
      "metadata": {
        "id": "7-YTZm1iQ5RC",
        "colab_type": "text"
      },
      "source": [
        "Modelo 2"
      ]
    },
    {
      "cell_type": "code",
      "metadata": {
        "id": "tPw6ZAPrjJ5p",
        "colab_type": "code",
        "colab": {}
      },
      "source": [
        "from keras.models import Input, Model\n",
        "from keras.layers import Bidirectional, GlobalAvgPool1D, GlobalAveragePooling1D\n",
        "from keras.layers import LSTM, Dense, Embedding, concatenate, Dropout, concatenate\n",
        "\n",
        "inp1 = Input(shape=(length_long_sentence,))\n",
        "x = Embedding(embedding_matrix.shape[0], 100, weights=[embedding_matrix])(inp1)\n",
        "x = Bidirectional(LSTM(256, return_sequences=True))(x)\n",
        "x = Bidirectional(LSTM(150))(x)\n",
        "x = Dense(128, activation=\"relu\")(x)\n",
        "x = Dropout(0.1)(x)\n",
        "x = Dense(64, activation=\"relu\")(x)\n",
        "x = Dense(1, activation=\"sigmoid\")(x)    \n",
        "model = Model(inputs=inp1, outputs=x)"
      ],
      "execution_count": null,
      "outputs": []
    },
    {
      "cell_type": "code",
      "metadata": {
        "id": "Jx_4ZCuRjfAE",
        "colab_type": "code",
        "colab": {
          "base_uri": "https://localhost:8080/",
          "height": 451
        },
        "outputId": "8912c295-7373-402a-bce5-934615ffe197"
      },
      "source": [
        "model.compile(optimizer='adam', loss='binary_crossentropy', metrics=['acc'])\n",
        "print(model.summary())"
      ],
      "execution_count": null,
      "outputs": [
        {
          "output_type": "stream",
          "text": [
            "Model: \"functional_1\"\n",
            "_________________________________________________________________\n",
            "Layer (type)                 Output Shape              Param #   \n",
            "=================================================================\n",
            "input_1 (InputLayer)         [(None, 31)]              0         \n",
            "_________________________________________________________________\n",
            "embedding (Embedding)        (None, 31, 100)           2269800   \n",
            "_________________________________________________________________\n",
            "bidirectional (Bidirectional (None, 31, 512)           731136    \n",
            "_________________________________________________________________\n",
            "bidirectional_1 (Bidirection (None, 300)               795600    \n",
            "_________________________________________________________________\n",
            "dense (Dense)                (None, 128)               38528     \n",
            "_________________________________________________________________\n",
            "dropout (Dropout)            (None, 128)               0         \n",
            "_________________________________________________________________\n",
            "dense_1 (Dense)              (None, 64)                8256      \n",
            "_________________________________________________________________\n",
            "dense_2 (Dense)              (None, 1)                 65        \n",
            "=================================================================\n",
            "Total params: 3,843,385\n",
            "Trainable params: 3,843,385\n",
            "Non-trainable params: 0\n",
            "_________________________________________________________________\n",
            "None\n"
          ],
          "name": "stdout"
        }
      ]
    },
    {
      "cell_type": "code",
      "metadata": {
        "id": "x72jg82Ijhol",
        "colab_type": "code",
        "colab": {
          "base_uri": "https://localhost:8080/",
          "height": 139
        },
        "outputId": "dea74db9-259f-4e71-ee4c-a5fac3827cde"
      },
      "source": [
        "model.fit(padded_sentences_train, y_corpus, epochs=3, verbose=1)"
      ],
      "execution_count": null,
      "outputs": [
        {
          "output_type": "stream",
          "text": [
            "Epoch 1/3\n",
            "167/167 [==============================] - 79s 473ms/step - loss: 0.4674 - acc: 0.7855\n",
            "Epoch 2/3\n",
            "167/167 [==============================] - 79s 472ms/step - loss: 0.3710 - acc: 0.8465\n",
            "Epoch 3/3\n",
            "167/167 [==============================] - 81s 483ms/step - loss: 0.2800 - acc: 0.8880\n"
          ],
          "name": "stdout"
        },
        {
          "output_type": "execute_result",
          "data": {
            "text/plain": [
              "<tensorflow.python.keras.callbacks.History at 0x7f1b9be215f8>"
            ]
          },
          "metadata": {
            "tags": []
          },
          "execution_count": 79
        }
      ]
    },
    {
      "cell_type": "code",
      "metadata": {
        "id": "giEqIY1fYgVq",
        "colab_type": "code",
        "colab": {}
      },
      "source": [
        "prediction = model.predict(padded_sentences_test)"
      ],
      "execution_count": null,
      "outputs": []
    },
    {
      "cell_type": "code",
      "metadata": {
        "id": "pGGdOA-daFLS",
        "colab_type": "code",
        "colab": {
          "base_uri": "https://localhost:8080/",
          "height": 139
        },
        "outputId": "94cddc3f-85df-4fc6-ebb5-0dea34c39b66"
      },
      "source": [
        "prediction = np.round(prediction)\n",
        "prediction"
      ],
      "execution_count": null,
      "outputs": [
        {
          "output_type": "execute_result",
          "data": {
            "text/plain": [
              "array([[0.],\n",
              "       [1.],\n",
              "       [0.],\n",
              "       ...,\n",
              "       [0.],\n",
              "       [0.],\n",
              "       [1.]], dtype=float32)"
            ]
          },
          "metadata": {
            "tags": []
          },
          "execution_count": 81
        }
      ]
    },
    {
      "cell_type": "code",
      "metadata": {
        "id": "_Kq9gCexZY3U",
        "colab_type": "code",
        "colab": {}
      },
      "source": [
        "prediction_final = pd.DataFrame({'id':test['id']})\n",
        "prediction_final['target'] = prediction\n",
        "prediction_final['target'] = prediction_final['target'].astype(int)\n",
        "prediction_final.to_csv('prueba_glove_text_completo.csv', index=False)"
      ],
      "execution_count": null,
      "outputs": []
    },
    {
      "cell_type": "code",
      "metadata": {
        "id": "TuiXU2R6ad67",
        "colab_type": "code",
        "colab": {
          "base_uri": "https://localhost:8080/",
          "height": 415
        },
        "outputId": "883261f5-909e-4c26-9be2-5ce963cbfb8c"
      },
      "source": [
        "prediction_final"
      ],
      "execution_count": null,
      "outputs": [
        {
          "output_type": "execute_result",
          "data": {
            "text/html": [
              "<div>\n",
              "<style scoped>\n",
              "    .dataframe tbody tr th:only-of-type {\n",
              "        vertical-align: middle;\n",
              "    }\n",
              "\n",
              "    .dataframe tbody tr th {\n",
              "        vertical-align: top;\n",
              "    }\n",
              "\n",
              "    .dataframe thead th {\n",
              "        text-align: right;\n",
              "    }\n",
              "</style>\n",
              "<table border=\"1\" class=\"dataframe\">\n",
              "  <thead>\n",
              "    <tr style=\"text-align: right;\">\n",
              "      <th></th>\n",
              "      <th>id</th>\n",
              "      <th>target</th>\n",
              "    </tr>\n",
              "  </thead>\n",
              "  <tbody>\n",
              "    <tr>\n",
              "      <th>0</th>\n",
              "      <td>0</td>\n",
              "      <td>0</td>\n",
              "    </tr>\n",
              "    <tr>\n",
              "      <th>1</th>\n",
              "      <td>2</td>\n",
              "      <td>1</td>\n",
              "    </tr>\n",
              "    <tr>\n",
              "      <th>2</th>\n",
              "      <td>3</td>\n",
              "      <td>0</td>\n",
              "    </tr>\n",
              "    <tr>\n",
              "      <th>3</th>\n",
              "      <td>9</td>\n",
              "      <td>0</td>\n",
              "    </tr>\n",
              "    <tr>\n",
              "      <th>4</th>\n",
              "      <td>11</td>\n",
              "      <td>0</td>\n",
              "    </tr>\n",
              "    <tr>\n",
              "      <th>...</th>\n",
              "      <td>...</td>\n",
              "      <td>...</td>\n",
              "    </tr>\n",
              "    <tr>\n",
              "      <th>3258</th>\n",
              "      <td>10861</td>\n",
              "      <td>1</td>\n",
              "    </tr>\n",
              "    <tr>\n",
              "      <th>3259</th>\n",
              "      <td>10865</td>\n",
              "      <td>1</td>\n",
              "    </tr>\n",
              "    <tr>\n",
              "      <th>3260</th>\n",
              "      <td>10868</td>\n",
              "      <td>0</td>\n",
              "    </tr>\n",
              "    <tr>\n",
              "      <th>3261</th>\n",
              "      <td>10874</td>\n",
              "      <td>0</td>\n",
              "    </tr>\n",
              "    <tr>\n",
              "      <th>3262</th>\n",
              "      <td>10875</td>\n",
              "      <td>1</td>\n",
              "    </tr>\n",
              "  </tbody>\n",
              "</table>\n",
              "<p>3263 rows × 2 columns</p>\n",
              "</div>"
            ],
            "text/plain": [
              "         id  target\n",
              "0         0       0\n",
              "1         2       1\n",
              "2         3       0\n",
              "3         9       0\n",
              "4        11       0\n",
              "...     ...     ...\n",
              "3258  10861       1\n",
              "3259  10865       1\n",
              "3260  10868       0\n",
              "3261  10874       0\n",
              "3262  10875       1\n",
              "\n",
              "[3263 rows x 2 columns]"
            ]
          },
          "metadata": {
            "tags": []
          },
          "execution_count": 85
        }
      ]
    },
    {
      "cell_type": "code",
      "metadata": {
        "id": "WzDyT-I7hPnS",
        "colab_type": "code",
        "colab": {}
      },
      "source": [
        ""
      ],
      "execution_count": null,
      "outputs": []
    },
    {
      "cell_type": "markdown",
      "metadata": {
        "id": "1rmAIlpftJi1",
        "colab_type": "text"
      },
      "source": [
        "#Otra red neuronal"
      ]
    },
    {
      "cell_type": "code",
      "metadata": {
        "id": "epT_hQIfVrkO",
        "colab_type": "code",
        "colab": {}
      },
      "source": [
        "import numpy as np\n",
        "import pandas as pd\n",
        "import os\n",
        "\n",
        "from keras.preprocessing.text import Tokenizer\n",
        "from keras.preprocessing.sequence import pad_sequences\n",
        "from keras.models import Sequential\n",
        "from keras.layers import Dense, Flatten, LSTM, Conv1D, MaxPooling1D, Dropout, Activation\n",
        "from keras.layers.embeddings import Embedding\n",
        "\n",
        "import nltk\n",
        "import string\n",
        "from nltk.corpus import stopwords\n",
        "import re\n",
        "from nltk.stem.snowball import SnowballStemmer"
      ],
      "execution_count": null,
      "outputs": []
    },
    {
      "cell_type": "code",
      "metadata": {
        "id": "tMnAPJF6WFaR",
        "colab_type": "code",
        "colab": {}
      },
      "source": [
        "tokenizer = Tokenizer()\n",
        "tokenizer.fit_on_texts(train['text_clean'])\n",
        "\n",
        "train_sequences = tokenizer.texts_to_sequences(train['text_clean'])\n",
        "train_data = pad_sequences(train_sequences, maxlen=100)"
      ],
      "execution_count": null,
      "outputs": []
    },
    {
      "cell_type": "code",
      "metadata": {
        "id": "NvmBTMGOWZj7",
        "colab_type": "code",
        "colab": {}
      },
      "source": [
        "EMBEDDING_FILE = 'glove.6B.300d.txt'\n",
        "def get_coefs(word,*arr): return word, np.asarray(arr, dtype='float32')\n",
        "embeddings_index = dict(get_coefs(*o.split(\" \")) for o in open(EMBEDDING_FILE))\n"
      ],
      "execution_count": null,
      "outputs": []
    },
    {
      "cell_type": "code",
      "metadata": {
        "id": "YqF6h6fOXKza",
        "colab_type": "code",
        "colab": {}
      },
      "source": [
        "embedding_matrix = np.zeros((50000, 300))\n",
        "for word, index in tokenizer.word_index.items():\n",
        "    if index > 50000 - 1:\n",
        "        break\n",
        "    else:\n",
        "        embedding_vector = embeddings_index.get(word)\n",
        "        if embedding_vector is not None:\n",
        "            embedding_matrix[index] = embedding_vector"
      ],
      "execution_count": null,
      "outputs": []
    },
    {
      "cell_type": "code",
      "metadata": {
        "id": "wUvtfYOIXTXG",
        "colab_type": "code",
        "colab": {}
      },
      "source": [
        "model_glove = Sequential()\n",
        "model_glove.add(Embedding(50000, 300, input_length=100, weights=[embedding_matrix], trainable=False))\n",
        "model_glove.add(Dropout(0.2))\n",
        "model_glove.add(Conv1D(64, 5, activation='relu'))\n",
        "model_glove.add(MaxPooling1D(pool_size=4))\n",
        "model_glove.add(LSTM(300))\n",
        "model_glove.add(Dense(1, activation='sigmoid'))\n",
        "model_glove.compile(loss='binary_crossentropy', optimizer='rmsprop', metrics=['accuracy'])\n"
      ],
      "execution_count": null,
      "outputs": []
    },
    {
      "cell_type": "code",
      "metadata": {
        "id": "nJHVEUt1Xaux",
        "colab_type": "code",
        "colab": {
          "base_uri": "https://localhost:8080/",
          "height": 208
        },
        "outputId": "5834cc4d-6922-4bb0-e5d2-34d01d77ef65"
      },
      "source": [
        "model_glove.fit(train_data, train['target'], epochs = 5)\n"
      ],
      "execution_count": null,
      "outputs": [
        {
          "output_type": "stream",
          "text": [
            "Epoch 1/5\n",
            "238/238 [==============================] - 31s 132ms/step - loss: 0.5172 - accuracy: 0.7609\n",
            "Epoch 2/5\n",
            "238/238 [==============================] - 31s 132ms/step - loss: 0.4343 - accuracy: 0.8086\n",
            "Epoch 3/5\n",
            "238/238 [==============================] - 31s 132ms/step - loss: 0.3728 - accuracy: 0.8426\n",
            "Epoch 4/5\n",
            "238/238 [==============================] - 32s 133ms/step - loss: 0.3073 - accuracy: 0.8747\n",
            "Epoch 5/5\n",
            "238/238 [==============================] - 31s 132ms/step - loss: 0.2494 - accuracy: 0.9011\n"
          ],
          "name": "stdout"
        },
        {
          "output_type": "execute_result",
          "data": {
            "text/plain": [
              "<tensorflow.python.keras.callbacks.History at 0x7f9645250d30>"
            ]
          },
          "metadata": {
            "tags": []
          },
          "execution_count": 18
        }
      ]
    },
    {
      "cell_type": "code",
      "metadata": {
        "id": "Aa5UVJKKZV92",
        "colab_type": "code",
        "colab": {}
      },
      "source": [
        "test_sequences = tokenizer.texts_to_sequences(test['text_clean'])\n",
        "test_data = pad_sequences(test_sequences, maxlen=100)"
      ],
      "execution_count": null,
      "outputs": []
    },
    {
      "cell_type": "code",
      "metadata": {
        "id": "et-fHIIcZa-d",
        "colab_type": "code",
        "colab": {}
      },
      "source": [
        "predictions= model_glove.predict_classes(test_data)"
      ],
      "execution_count": null,
      "outputs": []
    },
    {
      "cell_type": "code",
      "metadata": {
        "id": "eSilvhF3aZ24",
        "colab_type": "code",
        "colab": {
          "base_uri": "https://localhost:8080/",
          "height": 139
        },
        "outputId": "1798752a-a465-4b22-a1b2-969e30cb526b"
      },
      "source": [
        "predictions"
      ],
      "execution_count": null,
      "outputs": [
        {
          "output_type": "execute_result",
          "data": {
            "text/plain": [
              "array([[0],\n",
              "       [0],\n",
              "       [1],\n",
              "       ...,\n",
              "       [1],\n",
              "       [1],\n",
              "       [1]], dtype=int32)"
            ]
          },
          "metadata": {
            "tags": []
          },
          "execution_count": 21
        }
      ]
    },
    {
      "cell_type": "code",
      "metadata": {
        "id": "SXM1gb-wZiYV",
        "colab_type": "code",
        "colab": {
          "base_uri": "https://localhost:8080/",
          "height": 415
        },
        "outputId": "affa8126-1fbe-44e4-e7aa-dd1659657be0"
      },
      "source": [
        "pred_glove = pd.DataFrame({'id':test['id']})\n",
        "pred_glove['target'] = predictions\n",
        "pred_glove"
      ],
      "execution_count": null,
      "outputs": [
        {
          "output_type": "execute_result",
          "data": {
            "text/html": [
              "<div>\n",
              "<style scoped>\n",
              "    .dataframe tbody tr th:only-of-type {\n",
              "        vertical-align: middle;\n",
              "    }\n",
              "\n",
              "    .dataframe tbody tr th {\n",
              "        vertical-align: top;\n",
              "    }\n",
              "\n",
              "    .dataframe thead th {\n",
              "        text-align: right;\n",
              "    }\n",
              "</style>\n",
              "<table border=\"1\" class=\"dataframe\">\n",
              "  <thead>\n",
              "    <tr style=\"text-align: right;\">\n",
              "      <th></th>\n",
              "      <th>id</th>\n",
              "      <th>target</th>\n",
              "    </tr>\n",
              "  </thead>\n",
              "  <tbody>\n",
              "    <tr>\n",
              "      <th>0</th>\n",
              "      <td>0</td>\n",
              "      <td>0</td>\n",
              "    </tr>\n",
              "    <tr>\n",
              "      <th>1</th>\n",
              "      <td>2</td>\n",
              "      <td>0</td>\n",
              "    </tr>\n",
              "    <tr>\n",
              "      <th>2</th>\n",
              "      <td>3</td>\n",
              "      <td>1</td>\n",
              "    </tr>\n",
              "    <tr>\n",
              "      <th>3</th>\n",
              "      <td>9</td>\n",
              "      <td>0</td>\n",
              "    </tr>\n",
              "    <tr>\n",
              "      <th>4</th>\n",
              "      <td>11</td>\n",
              "      <td>1</td>\n",
              "    </tr>\n",
              "    <tr>\n",
              "      <th>...</th>\n",
              "      <td>...</td>\n",
              "      <td>...</td>\n",
              "    </tr>\n",
              "    <tr>\n",
              "      <th>3258</th>\n",
              "      <td>10861</td>\n",
              "      <td>0</td>\n",
              "    </tr>\n",
              "    <tr>\n",
              "      <th>3259</th>\n",
              "      <td>10865</td>\n",
              "      <td>1</td>\n",
              "    </tr>\n",
              "    <tr>\n",
              "      <th>3260</th>\n",
              "      <td>10868</td>\n",
              "      <td>1</td>\n",
              "    </tr>\n",
              "    <tr>\n",
              "      <th>3261</th>\n",
              "      <td>10874</td>\n",
              "      <td>1</td>\n",
              "    </tr>\n",
              "    <tr>\n",
              "      <th>3262</th>\n",
              "      <td>10875</td>\n",
              "      <td>1</td>\n",
              "    </tr>\n",
              "  </tbody>\n",
              "</table>\n",
              "<p>3263 rows × 2 columns</p>\n",
              "</div>"
            ],
            "text/plain": [
              "         id  target\n",
              "0         0       0\n",
              "1         2       0\n",
              "2         3       1\n",
              "3         9       0\n",
              "4        11       1\n",
              "...     ...     ...\n",
              "3258  10861       0\n",
              "3259  10865       1\n",
              "3260  10868       1\n",
              "3261  10874       1\n",
              "3262  10875       1\n",
              "\n",
              "[3263 rows x 2 columns]"
            ]
          },
          "metadata": {
            "tags": []
          },
          "execution_count": 22
        }
      ]
    },
    {
      "cell_type": "code",
      "metadata": {
        "id": "RoGroGNsaoWj",
        "colab_type": "code",
        "colab": {}
      },
      "source": [
        "pred_glove.to_csv('prueba_19.csv', index=False)"
      ],
      "execution_count": null,
      "outputs": []
    }
  ]
}