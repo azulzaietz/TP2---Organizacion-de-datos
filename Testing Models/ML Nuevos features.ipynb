{
  "nbformat": 4,
  "nbformat_minor": 0,
  "metadata": {
    "colab": {
      "name": "ML_Nuevos_features.ipynb",
      "provenance": [],
      "collapsed_sections": [
        "ZvZjErbF2o3N",
        "QDnbt2akcCjX",
        "dQ4oAPbuiZRs",
        "hQmTcW2IoTTa"
      ]
    },
    "kernelspec": {
      "name": "python3",
      "display_name": "Python 3"
    }
  },
  "cells": [
    {
      "cell_type": "code",
      "metadata": {
        "id": "4MabbfEF1lSL",
        "colab_type": "code",
        "colab": {}
      },
      "source": [
        "import pandas as pd\n",
        "import numpy as np\n",
        "\n",
        "from sklearn.neighbors import KNeighborsClassifier\n",
        "from sklearn.naive_bayes import MultinomialNB\n",
        "from sklearn.model_selection import GridSearchCV\n",
        "from sklearn.ensemble import RandomForestClassifier\n",
        "from sklearn.svm import SVC, LinearSVC, NuSVC\n",
        "from sklearn.ensemble import BaggingClassifier\n",
        "from sklearn.tree import DecisionTreeClassifier\n",
        "from xgboost import XGBClassifier\n",
        "\n",
        "from sklearn import metrics\n",
        "from sklearn.metrics import accuracy_score\n",
        "from sklearn.model_selection import train_test_split\n",
        "from sklearn import preprocessing\n",
        "from sklearn import model_selection\n",
        "\n",
        "from sklearn.datasets import fetch_20newsgroups\n",
        "from keras.layers import  Dropout, Dense\n",
        "from keras.models import Sequential"
      ],
      "execution_count": 1,
      "outputs": []
    },
    {
      "cell_type": "code",
      "metadata": {
        "id": "-_dO2NXB1G1P",
        "colab_type": "code",
        "colab": {}
      },
      "source": [
        "from pydrive.auth import GoogleAuth\n",
        "from pydrive.drive import GoogleDrive\n",
        "from google.colab import auth\n",
        "from oauth2client.client import GoogleCredentials\n",
        "\n",
        "# Authenticate and create the PyDrive client\n",
        "auth.authenticate_user()\n",
        "gauth = GoogleAuth()\n",
        "gauth.credentials = GoogleCredentials.get_application_default()\n",
        "drive = GoogleDrive(gauth)"
      ],
      "execution_count": 2,
      "outputs": []
    },
    {
      "cell_type": "code",
      "metadata": {
        "id": "9p3zz8l5Bc3W",
        "colab_type": "code",
        "colab": {}
      },
      "source": [
        "id='1Pk5MK9Hs_kMUT9NotGnOKE0NPra-39YU'\n",
        "downloaded = drive.CreateFile({'id': id})\n",
        "downloaded.GetContentFile('train.csv')"
      ],
      "execution_count": 3,
      "outputs": []
    },
    {
      "cell_type": "code",
      "metadata": {
        "id": "hMIzVuosBfwi",
        "colab_type": "code",
        "colab": {}
      },
      "source": [
        "train = pd.read_csv('train.csv')"
      ],
      "execution_count": 4,
      "outputs": []
    },
    {
      "cell_type": "code",
      "metadata": {
        "id": "Dct00taijaXf",
        "colab_type": "code",
        "colab": {}
      },
      "source": [
        "id='1GsTM9oLtIV8-Da_fDOFWsQYMpgQ8GOYJ'\n",
        "downloaded = drive.CreateFile({'id': id})\n",
        "downloaded.GetContentFile('test.csv')"
      ],
      "execution_count": 5,
      "outputs": []
    },
    {
      "cell_type": "code",
      "metadata": {
        "id": "iHAG-FzajbUn",
        "colab_type": "code",
        "colab": {}
      },
      "source": [
        "test = pd.read_csv('test.csv')"
      ],
      "execution_count": 6,
      "outputs": []
    },
    {
      "cell_type": "code",
      "metadata": {
        "id": "eJP40Ci4Br5i",
        "colab_type": "code",
        "colab": {}
      },
      "source": [
        "id='1TmL2AY_yymiV8zXVvmbqXsIZoexR9sLs'\n",
        "downloaded = drive.CreateFile({'id': id})\n",
        "downloaded.GetContentFile('test_features.csv')"
      ],
      "execution_count": 7,
      "outputs": []
    },
    {
      "cell_type": "code",
      "metadata": {
        "id": "ELz9Rzd4CCOP",
        "colab_type": "code",
        "colab": {}
      },
      "source": [
        "features_test = pd.read_csv('test_features.csv')"
      ],
      "execution_count": 8,
      "outputs": []
    },
    {
      "cell_type": "code",
      "metadata": {
        "id": "KCEL8TaTCPiz",
        "colab_type": "code",
        "colab": {}
      },
      "source": [
        "id='1slJiG-M_oawvkzaqWzZkSmVxxZor6mKQ'\n",
        "downloaded = drive.CreateFile({'id': id})\n",
        "downloaded.GetContentFile('train_features.csv')"
      ],
      "execution_count": 10,
      "outputs": []
    },
    {
      "cell_type": "code",
      "metadata": {
        "id": "ttwzZYD6CQuX",
        "colab_type": "code",
        "colab": {}
      },
      "source": [
        "features_train = pd.read_csv('train_features.csv')"
      ],
      "execution_count": 11,
      "outputs": []
    },
    {
      "cell_type": "code",
      "metadata": {
        "id": "0MkkpfyQOoe8",
        "colab_type": "code",
        "colab": {}
      },
      "source": [
        "features_train.drop(columns=['id', 'keyword', 'location','text', 'target', 'longitud tweets', 'cant_palabras','cant_url', 'cant_hashtag', 'cant_mencion', 'cant_signos_pregunta', 'cant_signos_exclamacion', 'subjetividad', 'cant_oraciones', 'cant_minusculas', 'cant_consonant', 'palabras_unicas'], inplace = True)\n",
        "features_test.drop(columns=['id', 'keyword', 'location','text', 'longitud tweets', 'cant_palabras','cant_url', 'cant_hashtag', 'cant_mencion', 'cant_signos_pregunta', 'cant_signos_exclamacion', 'subjetividad', 'cant_oraciones', 'cant_minusculas', 'cant_consonant', \t'palabras_unicas'], inplace = True)"
      ],
      "execution_count": 12,
      "outputs": []
    },
    {
      "cell_type": "code",
      "metadata": {
        "id": "0wEyJtPQCwV5",
        "colab_type": "code",
        "colab": {}
      },
      "source": [
        "y = train.target\n",
        "x_train, x_validation, y_train, y_validation = train_test_split(features_train, y, test_size=0.3, stratify=y)"
      ],
      "execution_count": 14,
      "outputs": []
    },
    {
      "cell_type": "markdown",
      "metadata": {
        "id": "ZvZjErbF2o3N",
        "colab_type": "text"
      },
      "source": [
        "##KNN"
      ]
    },
    {
      "cell_type": "markdown",
      "metadata": {
        "id": "dxzd-0dAKvYH",
        "colab_type": "text"
      },
      "source": [
        "Buscamos los mejores hiperparametros"
      ]
    },
    {
      "cell_type": "code",
      "metadata": {
        "id": "BTkuwvH9EtSM",
        "colab_type": "code",
        "colab": {
          "base_uri": "https://localhost:8080/",
          "height": 50
        },
        "outputId": "49653155-3ca7-4a35-d964-5ab8de96bed1"
      },
      "source": [
        "#BUSQUEDA DE HIPERPARAMETROS\n",
        "knn = KNeighborsClassifier()\n",
        "params_knn = {'n_neighbors': np.arange(1, 25), 'weights' : ['uniform', 'distance'], 'metric': ['euclidean', 'manhattan', 'minkowski']}\n",
        "knn_gs = GridSearchCV(knn, params_knn, cv=5)\n",
        "knn_gs.fit(x_train, y_train)\n",
        "knn_best = knn_gs.best_estimator_\n",
        "print(knn_gs.best_params_)\n",
        "\n",
        "print('knn score: {}'.format(knn_best.score(x_validation, y_validation)))"
      ],
      "execution_count": 15,
      "outputs": [
        {
          "output_type": "stream",
          "text": [
            "{'metric': 'manhattan', 'n_neighbors': 22, 'weights': 'distance'}\n",
            "knn score: 0.6681260945709282\n"
          ],
          "name": "stdout"
        }
      ]
    },
    {
      "cell_type": "code",
      "metadata": {
        "id": "Bp6N-9lK_kMw",
        "colab_type": "code",
        "colab": {}
      },
      "source": [
        "#params_knn = {'n_neighbors': np.arange(1, 25)}\n",
        "#{'n_neighbors': 22}\n",
        "#knn score: 0.6663747810858144"
      ],
      "execution_count": 16,
      "outputs": []
    },
    {
      "cell_type": "markdown",
      "metadata": {
        "id": "VxJG8avbLoxi",
        "colab_type": "text"
      },
      "source": [
        "Realizamos la prediccion con el modelo"
      ]
    },
    {
      "cell_type": "code",
      "metadata": {
        "id": "RU2nPooS95Da",
        "colab_type": "code",
        "colab": {}
      },
      "source": [
        "prediction_knn = knn_best.predict(features_test)\n",
        "submission_knn = pd.DataFrame(data={'id':test['id'], 'target': prediction_knn})\n",
        "submission_knn.to_csv('features_nuevos_knn.csv', index=False)"
      ],
      "execution_count": null,
      "outputs": []
    },
    {
      "cell_type": "markdown",
      "metadata": {
        "id": "QDnbt2akcCjX",
        "colab_type": "text"
      },
      "source": [
        "#RED NEURONAL PROFUNDA"
      ]
    },
    {
      "cell_type": "code",
      "metadata": {
        "id": "i6VcjQlgcHOn",
        "colab_type": "code",
        "colab": {}
      },
      "source": [
        "def DNN_model(shape, nClasses, dropout=0.5):\n",
        "    model = Sequential()\n",
        "    node = 512\n",
        "    nLayers = 4\n",
        "    model.add(Dense(node,input_dim=shape,activation='relu'))\n",
        "    model.add(Dropout(dropout))\n",
        "    for i in range(0,nLayers):\n",
        "        model.add(Dense(node,input_dim=node,activation='relu'))\n",
        "        model.add(Dropout(dropout))\n",
        "    model.add(Dense(nClasses, activation='softmax'))\n",
        "    model.compile(loss='sparse_categorical_crossentropy', optimizer='adam', metrics=['accuracy'])\n",
        "    return model"
      ],
      "execution_count": null,
      "outputs": []
    },
    {
      "cell_type": "code",
      "metadata": {
        "id": "UdFpzN-Ucc5s",
        "colab_type": "code",
        "colab": {
          "base_uri": "https://localhost:8080/",
          "height": 706
        },
        "outputId": "27ee4a35-2e55-474b-cef0-25a8d410dafe"
      },
      "source": [
        "model_DNN = DNN_model(features_train.shape[1], 2)\n",
        "model_DNN.fit(features_train, train.target, epochs=20, batch_size=128, verbose=2)"
      ],
      "execution_count": null,
      "outputs": [
        {
          "output_type": "stream",
          "text": [
            "Epoch 1/20\n",
            " - 2s - loss: 1.0030 - accuracy: 0.5210\n",
            "Epoch 2/20\n",
            " - 2s - loss: 0.7023 - accuracy: 0.5395\n",
            "Epoch 3/20\n",
            " - 2s - loss: 0.6857 - accuracy: 0.5636\n",
            "Epoch 4/20\n",
            " - 2s - loss: 0.6768 - accuracy: 0.5815\n",
            "Epoch 5/20\n",
            " - 2s - loss: 0.6683 - accuracy: 0.5953\n",
            "Epoch 6/20\n",
            " - 2s - loss: 0.6684 - accuracy: 0.5861\n",
            "Epoch 7/20\n",
            " - 2s - loss: 0.6611 - accuracy: 0.6054\n",
            "Epoch 8/20\n",
            " - 2s - loss: 0.6550 - accuracy: 0.6134\n",
            "Epoch 9/20\n",
            " - 2s - loss: 0.6525 - accuracy: 0.6162\n",
            "Epoch 10/20\n",
            " - 2s - loss: 0.6481 - accuracy: 0.6271\n",
            "Epoch 11/20\n",
            " - 2s - loss: 0.6471 - accuracy: 0.6289\n",
            "Epoch 12/20\n",
            " - 2s - loss: 0.6489 - accuracy: 0.6310\n",
            "Epoch 13/20\n",
            " - 2s - loss: 0.6444 - accuracy: 0.6426\n",
            "Epoch 14/20\n",
            " - 2s - loss: 0.6412 - accuracy: 0.6461\n",
            "Epoch 15/20\n",
            " - 2s - loss: 0.6438 - accuracy: 0.6428\n",
            "Epoch 16/20\n",
            " - 2s - loss: 0.6360 - accuracy: 0.6451\n",
            "Epoch 17/20\n",
            " - 2s - loss: 0.6382 - accuracy: 0.6417\n",
            "Epoch 18/20\n",
            " - 2s - loss: 0.6371 - accuracy: 0.6447\n",
            "Epoch 19/20\n",
            " - 2s - loss: 0.6383 - accuracy: 0.6467\n",
            "Epoch 20/20\n",
            " - 2s - loss: 0.6339 - accuracy: 0.6520\n"
          ],
          "name": "stdout"
        },
        {
          "output_type": "execute_result",
          "data": {
            "text/plain": [
              "<keras.callbacks.callbacks.History at 0x7fcf44d0cc50>"
            ]
          },
          "metadata": {
            "tags": []
          },
          "execution_count": 85
        }
      ]
    },
    {
      "cell_type": "code",
      "metadata": {
        "id": "Wv2wcBTXcgT-",
        "colab_type": "code",
        "colab": {}
      },
      "source": [
        "prediction_dnn = model_DNN.predict_classes(features_test)"
      ],
      "execution_count": null,
      "outputs": []
    },
    {
      "cell_type": "code",
      "metadata": {
        "id": "3AtiWZsDhrTO",
        "colab_type": "code",
        "colab": {}
      },
      "source": [
        "submission_dnn = pd.DataFrame(data={'id':test['id'], 'target': prediction_dnn})\n",
        "submission_dnn.to_csv('features_nuevos_dnn.csv', index=False)"
      ],
      "execution_count": null,
      "outputs": []
    },
    {
      "cell_type": "markdown",
      "metadata": {
        "id": "wyHI9-fPeSe_",
        "colab_type": "text"
      },
      "source": [
        "#RANDOM FOREST"
      ]
    },
    {
      "cell_type": "markdown",
      "metadata": {
        "id": "tn97xVuPkbi6",
        "colab_type": "text"
      },
      "source": [
        "GRID SEARCH"
      ]
    },
    {
      "cell_type": "code",
      "metadata": {
        "id": "AYky__5OeRd6",
        "colab_type": "code",
        "colab": {}
      },
      "source": [
        "rf = RandomForestClassifier()\n",
        "#Numero de arboles a usar\n",
        "#n_estimators = [int(x) for x in np.linspace(start = 200, stop = 2000, num = 10)]\n",
        "#Cantidad de features a considerar en cada split\n",
        "#max_features = ['auto', 'sqrt']\n",
        "#Profundidad de cada arbol\n",
        "#max_depth = [int(x) for x in np.linspace(10, 110, num = 11)]\n",
        "#max_depth.append(None)\n",
        "#Cantidad minima de muestras requeridas para realizar un split\n",
        "#min_samples_split = [2, 5, 10]\n",
        "#Cantidad minima de muestras por cada hoja del arbol\n",
        "#min_samples_leaf = [1, 2, 4]\n",
        "#Método de seleccion de muestras para el entrenamiento de cada árbol\n",
        "#bootstrap = [True, False]\n",
        "\n",
        "params_rf = {'n_estimators': [50, 100, 200]}\n",
        "\n",
        "#params_rf = {'n_estimators': n_estimators,\n",
        "#               'max_features': max_features,\n",
        "#               'max_depth': max_depth,\n",
        "#               'min_samples_split': min_samples_split,\n",
        "#               'min_samples_leaf': min_samples_leaf,\n",
        "#               'bootstrap': bootstrap}\n",
        "\n",
        "rf_gs = GridSearchCV(rf, params_rf, cv=5)\n",
        "rf_gs.fit(x_train, y_train)"
      ],
      "execution_count": null,
      "outputs": []
    },
    {
      "cell_type": "code",
      "metadata": {
        "id": "ZUIR3iv3eiUL",
        "colab_type": "code",
        "colab": {
          "base_uri": "https://localhost:8080/",
          "height": 34
        },
        "outputId": "f42c4e03-4e43-4bdd-f624-5b0e440878be"
      },
      "source": [
        "rf_best = rf_gs.best_estimator_\n",
        "print(rf_gs.best_params_)"
      ],
      "execution_count": null,
      "outputs": [
        {
          "output_type": "stream",
          "text": [
            "{'n_estimators': 200}\n"
          ],
          "name": "stdout"
        }
      ]
    },
    {
      "cell_type": "code",
      "metadata": {
        "id": "kUsTQdvCekor",
        "colab_type": "code",
        "colab": {
          "base_uri": "https://localhost:8080/",
          "height": 34
        },
        "outputId": "ba610bcf-9cfb-4a2e-94db-d74dcf537fa6"
      },
      "source": [
        "print('rf: {}'.format(rf_best.score(x_validation, y_validation)))"
      ],
      "execution_count": null,
      "outputs": [
        {
          "output_type": "stream",
          "text": [
            "rf: 0.6672504378283712\n"
          ],
          "name": "stdout"
        }
      ]
    },
    {
      "cell_type": "code",
      "metadata": {
        "id": "8q_ntXAse9lg",
        "colab_type": "code",
        "colab": {}
      },
      "source": [
        "prediction_rf = rf_best.predict(features_test)"
      ],
      "execution_count": null,
      "outputs": []
    },
    {
      "cell_type": "code",
      "metadata": {
        "id": "ObKpzVDah7wM",
        "colab_type": "code",
        "colab": {}
      },
      "source": [
        "submission_rf = pd.DataFrame(data={'id':test['id'], 'target': prediction_rf})\n",
        "submission_rf.to_csv('doc2vec_rf.csv', index=False)"
      ],
      "execution_count": null,
      "outputs": []
    },
    {
      "cell_type": "markdown",
      "metadata": {
        "id": "dQ4oAPbuiZRs",
        "colab_type": "text"
      },
      "source": [
        "#NuSVC"
      ]
    },
    {
      "cell_type": "markdown",
      "metadata": {
        "id": "cUJccxFqmwwd",
        "colab_type": "text"
      },
      "source": [
        "TARDO NADA pero mala prediccion. MUY BUENA PREDICCION SOLO CON TFIDF SIN MAS FEATURES."
      ]
    },
    {
      "cell_type": "code",
      "metadata": {
        "id": "0JKU2lABmnvJ",
        "colab_type": "code",
        "colab": {
          "base_uri": "https://localhost:8080/",
          "height": 34
        },
        "outputId": "ab2b09e9-f145-41ef-bd6d-0d852479bfbc"
      },
      "source": [
        "nuscv = NuSVC(probability=True)\n",
        "nuscv.fit(x_train, y_train)\n",
        "\n",
        "print('rf: {}'.format(nuscv.score(x_validation, y_validation)))"
      ],
      "execution_count": null,
      "outputs": [
        {
          "output_type": "stream",
          "text": [
            "rf: 0.5954465849387041\n"
          ],
          "name": "stdout"
        }
      ]
    },
    {
      "cell_type": "code",
      "metadata": {
        "id": "IocFdaWlWYge",
        "colab_type": "code",
        "colab": {}
      },
      "source": [
        "prediction_nuscv = nuscv.predict(features_test)\n",
        "\n",
        "submission_nuscv = pd.DataFrame(data={'id':test['id'], 'target': prediction_nuscv})\n",
        "submission_nuscv.to_csv('doc2vec_nuscv.csv', index=False)"
      ],
      "execution_count": null,
      "outputs": []
    },
    {
      "cell_type": "markdown",
      "metadata": {
        "id": "hQmTcW2IoTTa",
        "colab_type": "text"
      },
      "source": [
        "#XGBoost"
      ]
    },
    {
      "cell_type": "code",
      "metadata": {
        "id": "L6IO89ptoXG-",
        "colab_type": "code",
        "colab": {
          "base_uri": "https://localhost:8080/",
          "height": 134
        },
        "outputId": "aa8b1b48-9d89-47c3-bc8f-a77bb2d13c9f"
      },
      "source": [
        "model = XGBClassifier()\n",
        "model.fit(x_train, y_train)"
      ],
      "execution_count": null,
      "outputs": [
        {
          "output_type": "execute_result",
          "data": {
            "text/plain": [
              "XGBClassifier(base_score=0.5, booster='gbtree', colsample_bylevel=1,\n",
              "              colsample_bynode=1, colsample_bytree=1, gamma=0,\n",
              "              learning_rate=0.1, max_delta_step=0, max_depth=3,\n",
              "              min_child_weight=1, missing=None, n_estimators=100, n_jobs=1,\n",
              "              nthread=None, objective='binary:logistic', random_state=0,\n",
              "              reg_alpha=0, reg_lambda=1, scale_pos_weight=1, seed=None,\n",
              "              silent=None, subsample=1, verbosity=1)"
            ]
          },
          "metadata": {
            "tags": []
          },
          "execution_count": 94
        }
      ]
    },
    {
      "cell_type": "code",
      "metadata": {
        "id": "22pYrTrxoUy7",
        "colab_type": "code",
        "colab": {
          "base_uri": "https://localhost:8080/",
          "height": 34
        },
        "outputId": "1395eeaa-aa1f-4439-9998-9e210346e933"
      },
      "source": [
        "y_pred = model.predict(x_validation)\n",
        "predictions = [round(value) for value in y_pred]\n",
        "accuracy = accuracy_score(y_validation, predictions)\n",
        "print(\"Accuracy: %.5f%%\" % (accuracy * 100.0))"
      ],
      "execution_count": null,
      "outputs": [
        {
          "output_type": "stream",
          "text": [
            "Accuracy: 67.60070%\n"
          ],
          "name": "stdout"
        }
      ]
    },
    {
      "cell_type": "code",
      "metadata": {
        "id": "nV3naQTS0rNe",
        "colab_type": "code",
        "colab": {}
      },
      "source": [
        "submission_xgboost = pd.DataFrame(data={'id':test['id'], 'target': prediction_xgboost})\n",
        "submission_xgboost.to_csv('tf_idf_xgboost.csv', index=False)"
      ],
      "execution_count": null,
      "outputs": []
    }
  ]
}