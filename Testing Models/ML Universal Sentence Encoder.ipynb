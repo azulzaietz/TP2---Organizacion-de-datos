{
  "nbformat": 4,
  "nbformat_minor": 0,
  "metadata": {
    "colab": {
      "name": "ML Universal Sentence Encoder.ipynb",
      "provenance": [],
      "collapsed_sections": [
        "2l5aTJ2DxWI6",
        "ZvZjErbF2o3N",
        "QDnbt2akcCjX",
        "wyHI9-fPeSe_",
        "hQmTcW2IoTTa"
      ],
      "toc_visible": true
    },
    "kernelspec": {
      "display_name": "Python 3",
      "name": "python3"
    }
  },
  "cells": [
    {
      "cell_type": "code",
      "metadata": {
        "colab_type": "code",
        "id": "4MabbfEF1lSL",
        "colab": {}
      },
      "source": [
        "import pandas as pd\n",
        "import numpy as np\n",
        "\n",
        "from sklearn.neighbors import KNeighborsClassifier\n",
        "from sklearn.naive_bayes import MultinomialNB\n",
        "from sklearn.model_selection import GridSearchCV, StratifiedKFold\n",
        "from sklearn.ensemble import RandomForestClassifier\n",
        "from sklearn.svm import SVC, LinearSVC, NuSVC\n",
        "from sklearn.ensemble import BaggingClassifier\n",
        "from sklearn.tree import DecisionTreeClassifier\n",
        "from xgboost import XGBClassifier\n",
        "\n",
        "from sklearn import metrics\n",
        "from sklearn.metrics import accuracy_score\n",
        "from sklearn.model_selection import train_test_split\n",
        "from sklearn import preprocessing\n",
        "from sklearn import model_selection\n",
        "\n",
        "from sklearn.datasets import fetch_20newsgroups\n",
        "from keras.layers import  Dropout, Dense\n",
        "from keras.models import Sequential"
      ],
      "execution_count": 1,
      "outputs": []
    },
    {
      "cell_type": "markdown",
      "metadata": {
        "colab_type": "text",
        "id": "MlZEb6_mlt2E"
      },
      "source": [
        "##Importamos las matrices a utilizar"
      ]
    },
    {
      "cell_type": "code",
      "metadata": {
        "colab_type": "code",
        "id": "-_dO2NXB1G1P",
        "colab": {}
      },
      "source": [
        "from pydrive.auth import GoogleAuth\n",
        "from pydrive.drive import GoogleDrive\n",
        "from google.colab import auth\n",
        "from oauth2client.client import GoogleCredentials\n",
        "from google.colab import files\n",
        "\n",
        "# Authenticate and create the PyDrive client\n",
        "auth.authenticate_user()\n",
        "gauth = GoogleAuth()\n",
        "gauth.credentials = GoogleCredentials.get_application_default()\n",
        "drive = GoogleDrive(gauth)"
      ],
      "execution_count": 2,
      "outputs": []
    },
    {
      "cell_type": "code",
      "metadata": {
        "colab_type": "code",
        "id": "ihBuAcOTnamE",
        "colab": {}
      },
      "source": [
        "id='1Pk5MK9Hs_kMUT9NotGnOKE0NPra-39YU'\n",
        "downloaded = drive.CreateFile({'id': id})\n",
        "downloaded.GetContentFile('train.csv')\n",
        "\n",
        "train = pd.read_csv('train.csv')\n",
        "\n",
        "id='1GsTM9oLtIV8-Da_fDOFWsQYMpgQ8GOYJ'\n",
        "downloaded = drive.CreateFile({'id': id})\n",
        "downloaded.GetContentFile('test.csv')\n",
        "\n",
        "train = pd.read_csv('train.csv')\n",
        "test = pd.read_csv('test.csv')"
      ],
      "execution_count": 3,
      "outputs": []
    },
    {
      "cell_type": "code",
      "metadata": {
        "id": "ddOvMMeYPMJK",
        "colab_type": "code",
        "colab": {}
      },
      "source": [
        "id= '14H80mFIAgSeMgh4WyHD91a6IgkJmHpy-'\n",
        "downloaded = drive.CreateFile({'id': id})\n",
        "downloaded.GetContentFile('use_features_numericos_test.csv')\n",
        "\n",
        "id= '18tM8KBYMVj8VrpGEBNGT9m5QOhaMiZp7'\n",
        "downloaded = drive.CreateFile({'id': id})\n",
        "downloaded.GetContentFile('use_features_numericos_train.csv')\n",
        "\n",
        "id= '1yFTqxomrfb9xZmOck780mcr7Fb9Y9R5S'\n",
        "downloaded = drive.CreateFile({'id': id})\n",
        "downloaded.GetContentFile('matriz_test_use_solo_text.csv')\n",
        "\n",
        "id= '1knojPsOX9jd1LewsNBPd9EYbqBPwVyFr'\n",
        "downloaded = drive.CreateFile({'id': id})\n",
        "downloaded.GetContentFile('matriz_train_use_solo_text.csv')"
      ],
      "execution_count": 4,
      "outputs": []
    },
    {
      "cell_type": "code",
      "metadata": {
        "id": "a_XCApD6QRDG",
        "colab_type": "code",
        "colab": {}
      },
      "source": [
        "matriz_test_use_solo_text = pd.read_csv('matriz_test_use_solo_text.csv')\n",
        "matriz_train_use_solo_text = pd.read_csv('matriz_train_use_solo_text.csv')\n",
        "\n",
        "use_features_numericos_test = pd.read_csv('use_features_numericos_test.csv')\n",
        "use_features_numericos_train = pd.read_csv('use_features_numericos_train.csv')"
      ],
      "execution_count": 5,
      "outputs": []
    },
    {
      "cell_type": "markdown",
      "metadata": {
        "colab_type": "text",
        "id": "2l5aTJ2DxWI6"
      },
      "source": [
        "##Split del set de datos\n"
      ]
    },
    {
      "cell_type": "code",
      "metadata": {
        "colab_type": "code",
        "id": "7B2rZ_WOuQEN",
        "colab": {}
      },
      "source": [
        "x_train_text, x_test_text, y_train_text, y_test_text = train_test_split(matriz_train_use_solo_text, train.target, test_size=0.2, random_state = 1)\n",
        "x_train_numeric, x_test_numeric, y_train_numeric, y_test_numeric = train_test_split(use_features_numericos_train, train.target, test_size=0.2, random_state = 1)\n"
      ],
      "execution_count": 6,
      "outputs": []
    },
    {
      "cell_type": "code",
      "metadata": {
        "id": "dZd-YRqxWwhO",
        "colab_type": "code",
        "colab": {}
      },
      "source": [
        "def cross_val(model, x_train, y_train):\n",
        "  score_cross_val = model_selection.cross_val_score(model, x_train, y_train, cv=5)\n",
        "  print(score_cross_val.mean())"
      ],
      "execution_count": 7,
      "outputs": []
    },
    {
      "cell_type": "markdown",
      "metadata": {
        "colab_type": "text",
        "id": "ZvZjErbF2o3N"
      },
      "source": [
        "##KNN"
      ]
    },
    {
      "cell_type": "markdown",
      "metadata": {
        "colab_type": "text",
        "id": "dxzd-0dAKvYH"
      },
      "source": [
        "Funcion que aplica KNN con GridSearch y CV para encontrar los mejores hiperparametros para cada matriz probada."
      ]
    },
    {
      "cell_type": "code",
      "metadata": {
        "colab_type": "code",
        "id": "BTkuwvH9EtSM",
        "colab": {}
      },
      "source": [
        "def knn_con_gridsearch(x_train, y_train, x_test, y_test):\n",
        "\n",
        "  knn = KNeighborsClassifier()\n",
        "  params_knn = {'n_neighbors': np.arange(1, 25), 'weights' : ['uniform', 'distance'], 'metric': ['euclidean', 'manhattan', 'minkowski']}\n",
        "  knn_gs = GridSearchCV(knn, params_knn, cv=5)\n",
        "  knn_gs.fit(x_train, y_train)\n",
        "  knn_best = knn_gs.best_estimator_\n",
        "  \n",
        "  print(knn_gs.best_params_)\n",
        "  print('knn score: {}'.format(knn_best.score(x_test, y_test)))\n",
        "  \n",
        "  return knn_best"
      ],
      "execution_count": 8,
      "outputs": []
    },
    {
      "cell_type": "markdown",
      "metadata": {
        "colab_type": "text",
        "id": "ViQPyKNIuDCP"
      },
      "source": [
        "Corremos el algoritmo con cada matriz y comparamos los resultados."
      ]
    },
    {
      "cell_type": "code",
      "metadata": {
        "colab_type": "code",
        "id": "Tm-p3-QkumGr",
        "colab": {
          "base_uri": "https://localhost:8080/",
          "height": 51
        },
        "outputId": "6b5b65e3-d31f-46ef-c2ff-0fee2ebfb935"
      },
      "source": [
        "knn_text = knn_con_gridsearch(x_train_text, y_train_text, x_test_text, y_test_text)"
      ],
      "execution_count": 9,
      "outputs": [
        {
          "output_type": "stream",
          "text": [
            "{'metric': 'euclidean', 'n_neighbors': 6, 'weights': 'uniform'}\n",
            "knn score: 0.8030203545633617\n"
          ],
          "name": "stdout"
        }
      ]
    },
    {
      "cell_type": "code",
      "metadata": {
        "colab_type": "code",
        "id": "Q63EuZuu3jzE",
        "colab": {
          "base_uri": "https://localhost:8080/",
          "height": 34
        },
        "outputId": "5972c744-c6ad-4273-f60b-5e5baf7cf15a"
      },
      "source": [
        "cross_val(knn_text, x_train_text, y_train_text)"
      ],
      "execution_count": 10,
      "outputs": [
        {
          "output_type": "stream",
          "text": [
            "0.8151067323481117\n"
          ],
          "name": "stdout"
        }
      ]
    },
    {
      "cell_type": "code",
      "metadata": {
        "colab_type": "code",
        "id": "ErE8LdXfQwPc",
        "colab": {
          "base_uri": "https://localhost:8080/",
          "height": 51
        },
        "outputId": "5c502ec2-8194-4250-e862-c9f659bb7426"
      },
      "source": [
        "knn_numeric = knn_con_gridsearch(x_train_numeric, y_train_numeric, x_test_numeric, y_test_numeric)"
      ],
      "execution_count": 11,
      "outputs": [
        {
          "output_type": "stream",
          "text": [
            "{'metric': 'manhattan', 'n_neighbors': 6, 'weights': 'uniform'}\n",
            "knn score: 0.7419566644780039\n"
          ],
          "name": "stdout"
        }
      ]
    },
    {
      "cell_type": "code",
      "metadata": {
        "colab_type": "code",
        "id": "v1A2veu6QwPg",
        "colab": {
          "base_uri": "https://localhost:8080/",
          "height": 34
        },
        "outputId": "edfcc12a-bcfe-4bd2-de74-b02da0286cf4"
      },
      "source": [
        "cross_val(knn_numeric, x_train_numeric, y_train_numeric)"
      ],
      "execution_count": 12,
      "outputs": [
        {
          "output_type": "stream",
          "text": [
            "0.7446633825944171\n"
          ],
          "name": "stdout"
        }
      ]
    },
    {
      "cell_type": "markdown",
      "metadata": {
        "colab_type": "text",
        "id": "VxJG8avbLoxi"
      },
      "source": [
        "Realizamos la prediccion "
      ]
    },
    {
      "cell_type": "code",
      "metadata": {
        "colab_type": "code",
        "id": "RU2nPooS95Da",
        "colab": {}
      },
      "source": [
        "prediction_knn = knn.predict(matriz_test_use_solo_text)\n",
        "submission_knn = pd.DataFrame(data={'id':test['id'], 'target': prediction_knn})\n",
        "submission_knn.to_csv('hub_knn.csv', index=False)"
      ],
      "execution_count": null,
      "outputs": []
    },
    {
      "cell_type": "markdown",
      "metadata": {
        "colab_type": "text",
        "id": "QDnbt2akcCjX"
      },
      "source": [
        "#RED NEURONAL PROFUNDA"
      ]
    },
    {
      "cell_type": "code",
      "metadata": {
        "colab_type": "code",
        "id": "i6VcjQlgcHOn",
        "colab": {}
      },
      "source": [
        "def DNN_model(shape, nClasses, dropout=0.5):\n",
        "    model = Sequential()\n",
        "    node = 512\n",
        "    nLayers = 4\n",
        "    model.add(Dense(node,input_dim=shape,activation='relu'))\n",
        "    model.add(Dropout(dropout))\n",
        "    for i in range(0,nLayers):\n",
        "        model.add(Dense(node,input_dim=node,activation='relu'))\n",
        "        model.add(Dropout(dropout))\n",
        "    model.add(Dense(nClasses, activation='softmax'))\n",
        "    model.compile(loss='sparse_categorical_crossentropy', optimizer='adam', metrics=['accuracy'])\n",
        "    return model"
      ],
      "execution_count": 8,
      "outputs": []
    },
    {
      "cell_type": "markdown",
      "metadata": {
        "colab_type": "text",
        "id": "5WsVnapnzPNT"
      },
      "source": [
        "Corremos el algoritmo "
      ]
    },
    {
      "cell_type": "code",
      "metadata": {
        "colab_type": "code",
        "id": "UdFpzN-Ucc5s",
        "colab": {
          "base_uri": "https://localhost:8080/",
          "height": 714
        },
        "outputId": "a0873d8b-c7a7-42be-d4b8-b5388e4914ec"
      },
      "source": [
        "model_DNN_text = DNN_model(matriz_train_use_solo_text.shape[1], 2)\n",
        "model_DNN_text.fit(matriz_train_use_solo_text , train.target, epochs=20, batch_size=128, verbose=2)"
      ],
      "execution_count": 9,
      "outputs": [
        {
          "output_type": "stream",
          "text": [
            "Epoch 1/20\n",
            "60/60 - 2s - loss: 0.5327 - accuracy: 0.7284\n",
            "Epoch 2/20\n",
            "60/60 - 2s - loss: 0.4072 - accuracy: 0.8285\n",
            "Epoch 3/20\n",
            "60/60 - 2s - loss: 0.3715 - accuracy: 0.8497\n",
            "Epoch 4/20\n",
            "60/60 - 2s - loss: 0.3438 - accuracy: 0.8596\n",
            "Epoch 5/20\n",
            "60/60 - 2s - loss: 0.3170 - accuracy: 0.8746\n",
            "Epoch 6/20\n",
            "60/60 - 2s - loss: 0.2736 - accuracy: 0.8903\n",
            "Epoch 7/20\n",
            "60/60 - 2s - loss: 0.2416 - accuracy: 0.9035\n",
            "Epoch 8/20\n",
            "60/60 - 2s - loss: 0.2128 - accuracy: 0.9207\n",
            "Epoch 9/20\n",
            "60/60 - 2s - loss: 0.1844 - accuracy: 0.9306\n",
            "Epoch 10/20\n",
            "60/60 - 2s - loss: 0.1603 - accuracy: 0.9384\n",
            "Epoch 11/20\n",
            "60/60 - 2s - loss: 0.1508 - accuracy: 0.9429\n",
            "Epoch 12/20\n",
            "60/60 - 2s - loss: 0.1265 - accuracy: 0.9535\n",
            "Epoch 13/20\n",
            "60/60 - 2s - loss: 0.1242 - accuracy: 0.9534\n",
            "Epoch 14/20\n",
            "60/60 - 2s - loss: 0.1150 - accuracy: 0.9576\n",
            "Epoch 15/20\n",
            "60/60 - 2s - loss: 0.1104 - accuracy: 0.9594\n",
            "Epoch 16/20\n",
            "60/60 - 2s - loss: 0.0968 - accuracy: 0.9637\n",
            "Epoch 17/20\n",
            "60/60 - 2s - loss: 0.0977 - accuracy: 0.9665\n",
            "Epoch 18/20\n",
            "60/60 - 2s - loss: 0.0944 - accuracy: 0.9640\n",
            "Epoch 19/20\n",
            "60/60 - 3s - loss: 0.0861 - accuracy: 0.9652\n",
            "Epoch 20/20\n",
            "60/60 - 3s - loss: 0.0868 - accuracy: 0.9672\n"
          ],
          "name": "stdout"
        },
        {
          "output_type": "execute_result",
          "data": {
            "text/plain": [
              "<tensorflow.python.keras.callbacks.History at 0x7f3766e437f0>"
            ]
          },
          "metadata": {
            "tags": []
          },
          "execution_count": 9
        }
      ]
    },
    {
      "cell_type": "code",
      "metadata": {
        "colab_type": "code",
        "id": "ERo48magRN2B",
        "colab": {
          "base_uri": "https://localhost:8080/",
          "height": 714
        },
        "outputId": "cda14ab3-3141-4a4c-c493-0a699b2ea3a6"
      },
      "source": [
        "model_DNN_numeric = DNN_model(use_features_numericos_train.shape[1], 2)\n",
        "model_DNN_numeric.fit(use_features_numericos_train, train.target, epochs=20, batch_size=128, verbose=2)"
      ],
      "execution_count": 10,
      "outputs": [
        {
          "output_type": "stream",
          "text": [
            "Epoch 1/20\n",
            "60/60 - 3s - loss: 0.9020 - accuracy: 0.5236\n",
            "Epoch 2/20\n",
            "60/60 - 2s - loss: 0.6948 - accuracy: 0.5523\n",
            "Epoch 3/20\n",
            "60/60 - 2s - loss: 0.6753 - accuracy: 0.5836\n",
            "Epoch 4/20\n",
            "60/60 - 2s - loss: 0.6481 - accuracy: 0.6137\n",
            "Epoch 5/20\n",
            "60/60 - 2s - loss: 0.5951 - accuracy: 0.6921\n",
            "Epoch 6/20\n",
            "60/60 - 2s - loss: 0.5329 - accuracy: 0.7553\n",
            "Epoch 7/20\n",
            "60/60 - 2s - loss: 0.4928 - accuracy: 0.7809\n",
            "Epoch 8/20\n",
            "60/60 - 2s - loss: 0.4582 - accuracy: 0.8027\n",
            "Epoch 9/20\n",
            "60/60 - 2s - loss: 0.4392 - accuracy: 0.8127\n",
            "Epoch 10/20\n",
            "60/60 - 2s - loss: 0.4302 - accuracy: 0.8183\n",
            "Epoch 11/20\n",
            "60/60 - 2s - loss: 0.4241 - accuracy: 0.8239\n",
            "Epoch 12/20\n",
            "60/60 - 2s - loss: 0.4228 - accuracy: 0.8256\n",
            "Epoch 13/20\n",
            "60/60 - 2s - loss: 0.4171 - accuracy: 0.8233\n",
            "Epoch 14/20\n",
            "60/60 - 2s - loss: 0.4137 - accuracy: 0.8296\n",
            "Epoch 15/20\n",
            "60/60 - 2s - loss: 0.4091 - accuracy: 0.8290\n",
            "Epoch 16/20\n",
            "60/60 - 2s - loss: 0.4023 - accuracy: 0.8342\n",
            "Epoch 17/20\n",
            "60/60 - 2s - loss: 0.4039 - accuracy: 0.8319\n",
            "Epoch 18/20\n",
            "60/60 - 2s - loss: 0.3976 - accuracy: 0.8323\n",
            "Epoch 19/20\n",
            "60/60 - 2s - loss: 0.3921 - accuracy: 0.8341\n",
            "Epoch 20/20\n",
            "60/60 - 2s - loss: 0.3900 - accuracy: 0.8380\n"
          ],
          "name": "stdout"
        },
        {
          "output_type": "execute_result",
          "data": {
            "text/plain": [
              "<tensorflow.python.keras.callbacks.History at 0x7f37646b0ac8>"
            ]
          },
          "metadata": {
            "tags": []
          },
          "execution_count": 10
        }
      ]
    },
    {
      "cell_type": "code",
      "metadata": {
        "colab_type": "code",
        "id": "3AtiWZsDhrTO",
        "colab": {}
      },
      "source": [
        "prediction_dnn = model_DNN_text.predict_classes(matriz_test_use_solo_text)\n",
        "submission_dnn = pd.DataFrame(data={'id':test['id'], 'target': prediction_dnn})\n",
        "submission_dnn.to_csv('hub_dnn_text.csv', index=False)"
      ],
      "execution_count": null,
      "outputs": []
    },
    {
      "cell_type": "code",
      "metadata": {
        "colab_type": "code",
        "id": "88Mo8DQKeuPA",
        "colab": {}
      },
      "source": [
        "prediction_dnn = model_DNN_numeric.predict_classes(use_features_numericos_test)\n",
        "submission_dnn = pd.DataFrame(data={'id':test['id'], 'target': prediction_dnn})\n",
        "submission_dnn.to_csv('hub_dnn_numeric.csv', index=False)"
      ],
      "execution_count": 13,
      "outputs": []
    },
    {
      "cell_type": "code",
      "metadata": {
        "id": "yzMPpk2Rz8td",
        "colab_type": "code",
        "colab": {
          "base_uri": "https://localhost:8080/",
          "height": 17
        },
        "outputId": "3c66532c-2d97-4aa3-85f9-0106ad26dee5"
      },
      "source": [
        "files.download('hub_dnn_text.csv')\n",
        "files.download('hub_dnn_numeric.csv')"
      ],
      "execution_count": 14,
      "outputs": [
        {
          "output_type": "display_data",
          "data": {
            "application/javascript": [
              "\n",
              "    async function download(id, filename, size) {\n",
              "      if (!google.colab.kernel.accessAllowed) {\n",
              "        return;\n",
              "      }\n",
              "      const div = document.createElement('div');\n",
              "      const label = document.createElement('label');\n",
              "      label.textContent = `Downloading \"${filename}\": `;\n",
              "      div.appendChild(label);\n",
              "      const progress = document.createElement('progress');\n",
              "      progress.max = size;\n",
              "      div.appendChild(progress);\n",
              "      document.body.appendChild(div);\n",
              "\n",
              "      const buffers = [];\n",
              "      let downloaded = 0;\n",
              "\n",
              "      const channel = await google.colab.kernel.comms.open(id);\n",
              "      // Send a message to notify the kernel that we're ready.\n",
              "      channel.send({})\n",
              "\n",
              "      for await (const message of channel.messages) {\n",
              "        // Send a message to notify the kernel that we're ready.\n",
              "        channel.send({})\n",
              "        if (message.buffers) {\n",
              "          for (const buffer of message.buffers) {\n",
              "            buffers.push(buffer);\n",
              "            downloaded += buffer.byteLength;\n",
              "            progress.value = downloaded;\n",
              "          }\n",
              "        }\n",
              "      }\n",
              "      const blob = new Blob(buffers, {type: 'application/binary'});\n",
              "      const a = document.createElement('a');\n",
              "      a.href = window.URL.createObjectURL(blob);\n",
              "      a.download = filename;\n",
              "      div.appendChild(a);\n",
              "      a.click();\n",
              "      div.remove();\n",
              "    }\n",
              "  "
            ],
            "text/plain": [
              "<IPython.core.display.Javascript object>"
            ]
          },
          "metadata": {
            "tags": []
          }
        },
        {
          "output_type": "display_data",
          "data": {
            "application/javascript": [
              "download(\"download_6182d744-725f-4806-8d0e-c8e4c85c7044\", \"hub_dnn_text.csv\", 22746)"
            ],
            "text/plain": [
              "<IPython.core.display.Javascript object>"
            ]
          },
          "metadata": {
            "tags": []
          }
        },
        {
          "output_type": "display_data",
          "data": {
            "application/javascript": [
              "\n",
              "    async function download(id, filename, size) {\n",
              "      if (!google.colab.kernel.accessAllowed) {\n",
              "        return;\n",
              "      }\n",
              "      const div = document.createElement('div');\n",
              "      const label = document.createElement('label');\n",
              "      label.textContent = `Downloading \"${filename}\": `;\n",
              "      div.appendChild(label);\n",
              "      const progress = document.createElement('progress');\n",
              "      progress.max = size;\n",
              "      div.appendChild(progress);\n",
              "      document.body.appendChild(div);\n",
              "\n",
              "      const buffers = [];\n",
              "      let downloaded = 0;\n",
              "\n",
              "      const channel = await google.colab.kernel.comms.open(id);\n",
              "      // Send a message to notify the kernel that we're ready.\n",
              "      channel.send({})\n",
              "\n",
              "      for await (const message of channel.messages) {\n",
              "        // Send a message to notify the kernel that we're ready.\n",
              "        channel.send({})\n",
              "        if (message.buffers) {\n",
              "          for (const buffer of message.buffers) {\n",
              "            buffers.push(buffer);\n",
              "            downloaded += buffer.byteLength;\n",
              "            progress.value = downloaded;\n",
              "          }\n",
              "        }\n",
              "      }\n",
              "      const blob = new Blob(buffers, {type: 'application/binary'});\n",
              "      const a = document.createElement('a');\n",
              "      a.href = window.URL.createObjectURL(blob);\n",
              "      a.download = filename;\n",
              "      div.appendChild(a);\n",
              "      a.click();\n",
              "      div.remove();\n",
              "    }\n",
              "  "
            ],
            "text/plain": [
              "<IPython.core.display.Javascript object>"
            ]
          },
          "metadata": {
            "tags": []
          }
        },
        {
          "output_type": "display_data",
          "data": {
            "application/javascript": [
              "download(\"download_92ca08f0-7de3-415d-a418-3ffd7cd8667a\", \"hub_dnn_numeric.csv\", 22746)"
            ],
            "text/plain": [
              "<IPython.core.display.Javascript object>"
            ]
          },
          "metadata": {
            "tags": []
          }
        }
      ]
    },
    {
      "cell_type": "markdown",
      "metadata": {
        "colab_type": "text",
        "id": "wyHI9-fPeSe_"
      },
      "source": [
        "#RANDOM FOREST"
      ]
    },
    {
      "cell_type": "markdown",
      "metadata": {
        "colab_type": "text",
        "id": "tn97xVuPkbi6"
      },
      "source": [
        "Funcion que aplica RANDOM FOREST con GridSearch y CV para encontrar los mejores hiperparametros para cada matriz probada."
      ]
    },
    {
      "cell_type": "code",
      "metadata": {
        "colab_type": "code",
        "id": "7sqFl7FQ7I59",
        "colab": {}
      },
      "source": [
        "\"\"\"#Numero de arboles a usar\n",
        "n_estimators = [int(x) for x in np.linspace(start = 200, stop = 2000, num = 10)]\n",
        "#Cantidad de features a considerar en cada split\n",
        "max_features = ['auto', 'sqrt']\n",
        "#Profundidad de cada arbol\n",
        "max_depth = [int(x) for x in np.linspace(10, 110, num = 11)]\n",
        "max_depth.append(None)\n",
        "#Cantidad minima de muestras requeridas para realizar un split\n",
        "min_samples_split = [2, 5, 10]\n",
        "#Cantidad minima de muestras por cada hoja del arbol\n",
        "min_samples_leaf = [1, 2, 4]\n",
        "#Método de seleccion de muestras para el entrenamiento de cada árbol\n",
        "bootstrap = [True, False]\n",
        "\n",
        "params_rf = {'n_estimators': n_estimators,\n",
        "               'max_features': max_features,\n",
        "               'max_depth': max_depth,\n",
        "               'min_samples_split': min_samples_split,\n",
        "               'min_samples_leaf': min_samples_leaf,\n",
        "               'bootstrap': bootstrap}\"\"\""
      ],
      "execution_count": null,
      "outputs": []
    },
    {
      "cell_type": "code",
      "metadata": {
        "colab_type": "code",
        "id": "AYky__5OeRd6",
        "colab": {}
      },
      "source": [
        "def RandomForest_con_gridsearch(x_train, y_train, x_validation, y_validation):\n",
        "\n",
        "  rf = RandomForestClassifier()\n",
        "  params_rf = {'n_estimators': [50, 100, 200]}\n",
        "  rf_gs = GridSearchCV(rf, params_rf, cv=5)\n",
        "  rf_gs.fit(x_train, y_train)\n",
        "  rf_best = rf_gs.best_estimator_\n",
        "\n",
        "  print(rf_gs.best_params_)\n",
        "  print('rf: {}'.format(rf_best.score(x_validation, y_validation)))\n",
        "\n",
        "  return rf_best"
      ],
      "execution_count": 16,
      "outputs": []
    },
    {
      "cell_type": "markdown",
      "metadata": {
        "colab_type": "text",
        "id": "Zxmilw_0zvE1"
      },
      "source": [
        "Corremos el algoritmo \n"
      ]
    },
    {
      "cell_type": "code",
      "metadata": {
        "colab_type": "code",
        "id": "kGx78s5EzzXj",
        "colab": {
          "base_uri": "https://localhost:8080/",
          "height": 51
        },
        "outputId": "8cd178ad-e5bf-4550-c70f-85bda124e01d"
      },
      "source": [
        "rf_text = RandomForest_con_gridsearch(x_train_text, y_train_text, x_test_text, y_test_text)"
      ],
      "execution_count": 17,
      "outputs": [
        {
          "output_type": "stream",
          "text": [
            "{'n_estimators': 200}\n",
            "rf: 0.8233749179251477\n"
          ],
          "name": "stdout"
        }
      ]
    },
    {
      "cell_type": "code",
      "metadata": {
        "colab_type": "code",
        "id": "PEDeRMPY6ClZ",
        "colab": {
          "base_uri": "https://localhost:8080/",
          "height": 34
        },
        "outputId": "24a43060-8c57-4b07-c0f9-59e56dc9e1d9"
      },
      "source": [
        "cross_val(rf_text, x_train_text, y_train_text)"
      ],
      "execution_count": 18,
      "outputs": [
        {
          "output_type": "stream",
          "text": [
            "0.8152709359605911\n"
          ],
          "name": "stdout"
        }
      ]
    },
    {
      "cell_type": "code",
      "metadata": {
        "colab_type": "code",
        "id": "tvsn-caNR5vO",
        "colab": {
          "base_uri": "https://localhost:8080/",
          "height": 51
        },
        "outputId": "2db90eae-efda-494d-e9c2-8211153dbf3f"
      },
      "source": [
        "rf_numeric = RandomForest_con_gridsearch(x_train_numeric, y_train_numeric, x_test_numeric, y_test_numeric)"
      ],
      "execution_count": 19,
      "outputs": [
        {
          "output_type": "stream",
          "text": [
            "{'n_estimators': 200}\n",
            "rf: 0.8253447143795141\n"
          ],
          "name": "stdout"
        }
      ]
    },
    {
      "cell_type": "code",
      "metadata": {
        "colab_type": "code",
        "id": "dS1JOkKyR5vS",
        "colab": {
          "base_uri": "https://localhost:8080/",
          "height": 34
        },
        "outputId": "8af0a9ff-a386-480f-dd7c-1723ca711896"
      },
      "source": [
        "cross_val(rf_numeric, x_train_numeric, y_train_numeric)"
      ],
      "execution_count": 20,
      "outputs": [
        {
          "output_type": "stream",
          "text": [
            "0.8177339901477833\n"
          ],
          "name": "stdout"
        }
      ]
    },
    {
      "cell_type": "code",
      "metadata": {
        "colab_type": "code",
        "id": "ObKpzVDah7wM",
        "colab": {
          "base_uri": "https://localhost:8080/",
          "height": 17
        },
        "outputId": "24783760-a67b-4663-92bc-49a8b72b641a"
      },
      "source": [
        "prediction_rf = rf.predict(use_features_numericos_test)\n",
        "submission_rf = pd.DataFrame(data={'id':test['id'], 'target': prediction_rf})\n",
        "submission_rf.to_csv('hub_rf.csv', index=False)\n",
        "files.download('hub_rf.csv')"
      ],
      "execution_count": null,
      "outputs": [
        {
          "output_type": "display_data",
          "data": {
            "application/javascript": [
              "\n",
              "    async function download(id, filename, size) {\n",
              "      if (!google.colab.kernel.accessAllowed) {\n",
              "        return;\n",
              "      }\n",
              "      const div = document.createElement('div');\n",
              "      const label = document.createElement('label');\n",
              "      label.textContent = `Downloading \"${filename}\": `;\n",
              "      div.appendChild(label);\n",
              "      const progress = document.createElement('progress');\n",
              "      progress.max = size;\n",
              "      div.appendChild(progress);\n",
              "      document.body.appendChild(div);\n",
              "\n",
              "      const buffers = [];\n",
              "      let downloaded = 0;\n",
              "\n",
              "      const channel = await google.colab.kernel.comms.open(id);\n",
              "      // Send a message to notify the kernel that we're ready.\n",
              "      channel.send({})\n",
              "\n",
              "      for await (const message of channel.messages) {\n",
              "        // Send a message to notify the kernel that we're ready.\n",
              "        channel.send({})\n",
              "        if (message.buffers) {\n",
              "          for (const buffer of message.buffers) {\n",
              "            buffers.push(buffer);\n",
              "            downloaded += buffer.byteLength;\n",
              "            progress.value = downloaded;\n",
              "          }\n",
              "        }\n",
              "      }\n",
              "      const blob = new Blob(buffers, {type: 'application/binary'});\n",
              "      const a = document.createElement('a');\n",
              "      a.href = window.URL.createObjectURL(blob);\n",
              "      a.download = filename;\n",
              "      div.appendChild(a);\n",
              "      a.click();\n",
              "      div.remove();\n",
              "    }\n",
              "  "
            ],
            "text/plain": [
              "<IPython.core.display.Javascript object>"
            ]
          },
          "metadata": {
            "tags": []
          }
        },
        {
          "output_type": "display_data",
          "data": {
            "application/javascript": [
              "download(\"download_2fc04b09-1944-4f99-9343-fae5b8dc927f\", \"hub_rf.csv\", 22746)"
            ],
            "text/plain": [
              "<IPython.core.display.Javascript object>"
            ]
          },
          "metadata": {
            "tags": []
          }
        }
      ]
    },
    {
      "cell_type": "markdown",
      "metadata": {
        "colab_type": "text",
        "id": "dQ4oAPbuiZRs"
      },
      "source": [
        "#NuSVC"
      ]
    },
    {
      "cell_type": "code",
      "metadata": {
        "id": "OCkgIPlNq8s1",
        "colab_type": "code",
        "colab": {}
      },
      "source": [
        "def nusvc(x_train, y_train, x_validation, y_validation):\n",
        "\n",
        "  nusvc = NuSVC(probability=True)\n",
        "  grid_nusvc = GridSearchCV(nusvc, param_grid={'nu': [0.4, 0.5]}, cv=5)\n",
        "  grid_nusvc.fit(x_train, y_train)\n",
        "  grid_best = grid_nusvc.best_estimator_\n",
        "  \n",
        "  print(grid_nusvc.best_params_)\n",
        "  print('nusvc score: {}'.format(grid_best.score(x_validation, y_validation)))\n",
        "\n",
        "  return grid_best"
      ],
      "execution_count": 8,
      "outputs": []
    },
    {
      "cell_type": "code",
      "metadata": {
        "id": "R3pez5-qSoBC",
        "colab_type": "code",
        "colab": {
          "base_uri": "https://localhost:8080/",
          "height": 51
        },
        "outputId": "e4f55cf6-4f05-47dd-a2da-d901076d231a"
      },
      "source": [
        "nusvc_text = nusvc(x_train_text, y_train_text, x_test_text, y_test_text)"
      ],
      "execution_count": 9,
      "outputs": [
        {
          "output_type": "stream",
          "text": [
            "{'nu': 0.4}\n",
            "nusvc score: 0.8397898883782009\n"
          ],
          "name": "stdout"
        }
      ]
    },
    {
      "cell_type": "code",
      "metadata": {
        "id": "ElcnmDuMSoJ7",
        "colab_type": "code",
        "colab": {
          "base_uri": "https://localhost:8080/",
          "height": 51
        },
        "outputId": "ac7cd6bc-3e67-4b07-934c-26daba9f235f"
      },
      "source": [
        "nusvc_numericos = nusvc(x_train_numeric, y_train_numeric, x_test_numeric, y_test_numeric)"
      ],
      "execution_count": 23,
      "outputs": [
        {
          "output_type": "stream",
          "text": [
            "{'nu': 0.4}\n",
            "nusvc score: 0.8240315167432699\n"
          ],
          "name": "stdout"
        }
      ]
    },
    {
      "cell_type": "code",
      "metadata": {
        "colab_type": "code",
        "id": "IocFdaWlWYge",
        "colab": {}
      },
      "source": [
        "prediction_nuscv = nusvc_text.predict(matriz_test_use_solo_text)\n",
        "submission_nuscv = pd.DataFrame(data={'id':test['id'], 'target': prediction_nuscv})\n",
        "submission_nuscv.to_csv('hub_nuscv_text.csv', index=False)"
      ],
      "execution_count": 11,
      "outputs": []
    },
    {
      "cell_type": "markdown",
      "metadata": {
        "colab_type": "text",
        "id": "hQmTcW2IoTTa"
      },
      "source": [
        "#XGBoost"
      ]
    },
    {
      "cell_type": "code",
      "metadata": {
        "colab_type": "code",
        "id": "L6IO89ptoXG-",
        "colab": {}
      },
      "source": [
        "def xgboost(x_train, y_train, x_validation, y_validation):\n",
        "\n",
        "  xgb = XGBClassifier()\n",
        "  params_xgb = {'n_estimators': [50, 100, 200], 'learning_rate': [0.01, 0.05, 0.1], 'gamma': [0, 1, 5]}\n",
        "  xgb_gs = GridSearchCV(xgb, params_xgb, cv=5)\n",
        "  xgb_gs.fit(x_train, y_train)\n",
        "  xgb_best = xgb_gs.best_estimator_\n",
        "\n",
        "  print(xgb_gs.best_params_)\n",
        "  print('xgb: {}'.format(xgb_best.score(x_validation, y_validation)))\n",
        "\n",
        "  return xgb_best\n"
      ],
      "execution_count": 24,
      "outputs": []
    },
    {
      "cell_type": "code",
      "metadata": {
        "colab_type": "code",
        "id": "wQi63waZ4XRm",
        "colab": {
          "base_uri": "https://localhost:8080/",
          "height": 51
        },
        "outputId": "07659863-3eae-4caf-96d4-29b91fcd3ead"
      },
      "source": [
        "xgboost_text = xgboost(x_train_text, y_train_text, x_test_text, y_test_text)"
      ],
      "execution_count": 25,
      "outputs": [
        {
          "output_type": "stream",
          "text": [
            "{'gamma': 5, 'learning_rate': 0.05, 'n_estimators': 200}\n",
            "xgb: 0.8240315167432699\n"
          ],
          "name": "stdout"
        }
      ]
    },
    {
      "cell_type": "code",
      "metadata": {
        "colab_type": "code",
        "id": "zCiMUqzQS_t-",
        "colab": {
          "base_uri": "https://localhost:8080/",
          "height": 34
        },
        "outputId": "f86a96ec-5b3b-4fbc-be73-5e0870fdd92d"
      },
      "source": [
        "cross_val(xgboost_text, x_train_text, y_train_text)"
      ],
      "execution_count": 26,
      "outputs": [
        {
          "output_type": "stream",
          "text": [
            "0.8182266009852217\n"
          ],
          "name": "stdout"
        }
      ]
    },
    {
      "cell_type": "code",
      "metadata": {
        "colab_type": "code",
        "id": "x9_zRCYhS_t6",
        "colab": {
          "base_uri": "https://localhost:8080/",
          "height": 51
        },
        "outputId": "184d0c61-dddb-478c-adaf-6b0effc11ca9"
      },
      "source": [
        "xgboost_numeric = xgboost(x_train_numeric, y_train_numeric, x_test_numeric, y_test_numeric)"
      ],
      "execution_count": 27,
      "outputs": [
        {
          "output_type": "stream",
          "text": [
            "{'gamma': 1, 'learning_rate': 0.1, 'n_estimators': 200}\n",
            "xgb: 0.8240315167432699\n"
          ],
          "name": "stdout"
        }
      ]
    },
    {
      "cell_type": "code",
      "metadata": {
        "colab_type": "code",
        "id": "ZB1_oJ1ZA5Ye",
        "colab": {
          "base_uri": "https://localhost:8080/",
          "height": 34
        },
        "outputId": "c5194630-fa9f-4186-cb36-a3fd786f1e55"
      },
      "source": [
        "cross_val(xgboost_numeric, x_train_numeric, y_train_numeric)"
      ],
      "execution_count": 28,
      "outputs": [
        {
          "output_type": "stream",
          "text": [
            "0.8205254515599343\n"
          ],
          "name": "stdout"
        }
      ]
    },
    {
      "cell_type": "code",
      "metadata": {
        "colab_type": "code",
        "id": "nV3naQTS0rNe",
        "colab": {
          "base_uri": "https://localhost:8080/",
          "height": 17
        },
        "outputId": "335283dd-3d70-4510-93be-7cc4cec30a49"
      },
      "source": [
        "y_pred = xgboost.predict(x_test_numeric)\n",
        "predictions = [round(value) for value in y_pred]\n",
        "submission_xgboost = pd.DataFrame(data={'id':test['id'], 'target': predictions})\n",
        "submission_xgboost.to_csv('hub_xg.csv', index=False)\n",
        "files.download('hub_xg_numeirc.csv')"
      ],
      "execution_count": null,
      "outputs": [
        {
          "output_type": "display_data",
          "data": {
            "application/javascript": [
              "\n",
              "    async function download(id, filename, size) {\n",
              "      if (!google.colab.kernel.accessAllowed) {\n",
              "        return;\n",
              "      }\n",
              "      const div = document.createElement('div');\n",
              "      const label = document.createElement('label');\n",
              "      label.textContent = `Downloading \"${filename}\": `;\n",
              "      div.appendChild(label);\n",
              "      const progress = document.createElement('progress');\n",
              "      progress.max = size;\n",
              "      div.appendChild(progress);\n",
              "      document.body.appendChild(div);\n",
              "\n",
              "      const buffers = [];\n",
              "      let downloaded = 0;\n",
              "\n",
              "      const channel = await google.colab.kernel.comms.open(id);\n",
              "      // Send a message to notify the kernel that we're ready.\n",
              "      channel.send({})\n",
              "\n",
              "      for await (const message of channel.messages) {\n",
              "        // Send a message to notify the kernel that we're ready.\n",
              "        channel.send({})\n",
              "        if (message.buffers) {\n",
              "          for (const buffer of message.buffers) {\n",
              "            buffers.push(buffer);\n",
              "            downloaded += buffer.byteLength;\n",
              "            progress.value = downloaded;\n",
              "          }\n",
              "        }\n",
              "      }\n",
              "      const blob = new Blob(buffers, {type: 'application/binary'});\n",
              "      const a = document.createElement('a');\n",
              "      a.href = window.URL.createObjectURL(blob);\n",
              "      a.download = filename;\n",
              "      div.appendChild(a);\n",
              "      a.click();\n",
              "      div.remove();\n",
              "    }\n",
              "  "
            ],
            "text/plain": [
              "<IPython.core.display.Javascript object>"
            ]
          },
          "metadata": {
            "tags": []
          }
        },
        {
          "output_type": "display_data",
          "data": {
            "application/javascript": [
              "download(\"download_01f98f96-bf83-4f20-9749-d29fd077aed2\", \"hub_xg.csv\", 22746)"
            ],
            "text/plain": [
              "<IPython.core.display.Javascript object>"
            ]
          },
          "metadata": {
            "tags": []
          }
        }
      ]
    },
    {
      "cell_type": "markdown",
      "metadata": {
        "id": "APlswNB5Zm92",
        "colab_type": "text"
      },
      "source": [
        "#SVC"
      ]
    },
    {
      "cell_type": "code",
      "metadata": {
        "id": "KCSEyIwvNPLi",
        "colab_type": "code",
        "colab": {
          "base_uri": "https://localhost:8080/",
          "height": 34
        },
        "outputId": "fcab7fcc-f7ab-4260-a1ca-e5956a56685b"
      },
      "source": [
        "from sklearn.svm import SVC\n",
        "from sklearn.model_selection import RandomizedSearchCV\n",
        "from sklearn.metrics import precision_score, recall_score, f1_score, accuracy_score\n",
        "\n",
        "classifier_text = SVC()\n",
        "\n",
        "parameters = {'C': [0.1, 1, 10, 100, 1000], 'gamma': [1, 0.1, 0.01, 0.0001], 'kernel' : ['linear',\n",
        "                                                                                         'sigmoid', 'poly', 'rbf']}\n",
        "grid_s_p = RandomizedSearchCV(classifier_text, parameters, refit = True) \n",
        "\n",
        "model = grid_s_p.fit(x_train_text, y_train_text)\n",
        "\n",
        "model.best_params_"
      ],
      "execution_count": 15,
      "outputs": [
        {
          "output_type": "execute_result",
          "data": {
            "text/plain": [
              "{'C': 1, 'gamma': 1, 'kernel': 'linear'}"
            ]
          },
          "metadata": {
            "tags": []
          },
          "execution_count": 15
        }
      ]
    },
    {
      "cell_type": "code",
      "metadata": {
        "id": "fKT1dbh9Zp4Z",
        "colab_type": "code",
        "colab": {
          "base_uri": "https://localhost:8080/",
          "height": 85
        },
        "outputId": "f041e7aa-7007-4c83-dce7-3a86f8b0bbd7"
      },
      "source": [
        "preds = model.predict(x_test_text)\n",
        "print(\"Accuracy score: \", accuracy_score(y_test_text, preds))\n",
        "print(\"Precision score: \", precision_score(y_test_text, preds))\n",
        "print(\"Recall score: \", recall_score(y_test_text, preds))\n",
        "print(\"f1 score: \", f1_score(y_test_text, preds))"
      ],
      "execution_count": 16,
      "outputs": [
        {
          "output_type": "stream",
          "text": [
            "Accuracy score:  0.8365068942875903\n",
            "Precision score:  0.85\n",
            "Recall score:  0.7425897035881436\n",
            "f1 score:  0.7926727726894255\n"
          ],
          "name": "stdout"
        }
      ]
    },
    {
      "cell_type": "code",
      "metadata": {
        "colab_type": "code",
        "id": "g5W96CBGUaGg",
        "colab": {}
      },
      "source": [
        "#Tardo dos horas y no termino\n",
        "# classifier_numeric = SVC()\n",
        "\n",
        "# parameters = {'C': [0.1, 1, 10, 100, 1000], 'gamma': [1, 0.1, 0.01, 0.0001], 'kernel' : ['linear',\n",
        "#                                                                                          'sigmoid', 'poly', 'rbf']}\n",
        "# grid_s_p = RandomizedSearchCV(classifier_numeric, parameters, refit = True) \n",
        "\n",
        "# model = grid_s_p.fit(x_train_numeric, y_train_numeric)\n",
        "\n",
        "# model.best_params_"
      ],
      "execution_count": null,
      "outputs": []
    },
    {
      "cell_type": "code",
      "metadata": {
        "colab_type": "code",
        "id": "565TxuQfUaGn",
        "colab": {}
      },
      "source": [
        "# preds = model.predict(x_test_numeric)\n",
        "# print(\"Accuracy score: \", accuracy_score(y_test_numeric, preds))\n",
        "# print(\"Precision score: \", precision_score(y_test_numeric, preds))\n",
        "# print(\"Recall score: \", recall_score(y_test_numeric, preds))\n",
        "# print(\"f1 score: \", f1_score(y_test_numeric, preds))"
      ],
      "execution_count": null,
      "outputs": []
    },
    {
      "cell_type": "code",
      "metadata": {
        "id": "rmEtPHt0Zr8L",
        "colab_type": "code",
        "colab": {}
      },
      "source": [
        "preds = model.predict(matriz_test_use_solo_text)\n",
        "submission_svc = pd.DataFrame(data={'id':test['id'], 'target': preds})\n",
        "submission_svc.to_csv('hub_svc_text.csv', index=False)"
      ],
      "execution_count": 18,
      "outputs": []
    }
  ]
}