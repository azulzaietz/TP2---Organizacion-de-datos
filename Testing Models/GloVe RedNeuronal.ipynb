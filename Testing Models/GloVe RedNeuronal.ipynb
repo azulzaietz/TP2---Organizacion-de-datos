{
  "nbformat": 4,
  "nbformat_minor": 0,
  "metadata": {
    "colab": {
      "name": "GloVe - Red neuronal.ipynb",
      "provenance": []
    },
    "kernelspec": {
      "name": "python3",
      "display_name": "Python 3"
    }
  },
  "cells": [
    {
      "cell_type": "code",
      "metadata": {
        "id": "VPI7GsB9P8u6",
        "colab_type": "code",
        "colab": {}
      },
      "source": [
        "import pandas as pd\n",
        "import numpy as np\n",
        "\n",
        "from numpy import array\n",
        "from keras.preprocessing.text import one_hot\n",
        "from keras.preprocessing.sequence import pad_sequences\n",
        "from keras.models import Sequential\n",
        "from keras.layers import Dense\n",
        "from keras.layers import Flatten\n",
        "from keras.layers.embeddings import Embedding\n",
        "\n",
        "from keras.preprocessing.text import Tokenizer\n",
        "from keras.preprocessing.sequence import pad_sequences\n",
        "\n",
        "import os\n",
        "import string\n",
        "\n",
        "from numpy import array\n",
        "from numpy import asarray\n",
        "from numpy import zeros\n",
        "\n",
        "from sklearn.model_selection import train_test_split"
      ],
      "execution_count": 136,
      "outputs": []
    },
    {
      "cell_type": "code",
      "metadata": {
        "id": "5VdhF7rWR3Ce",
        "colab_type": "code",
        "colab": {
          "base_uri": "https://localhost:8080/",
          "height": 69
        },
        "outputId": "7a375536-1b71-4c8a-e9d5-dcd82169d132"
      },
      "source": [
        "import nltk\n",
        "nltk.download('punkt')"
      ],
      "execution_count": 137,
      "outputs": [
        {
          "output_type": "stream",
          "text": [
            "[nltk_data] Downloading package punkt to /root/nltk_data...\n",
            "[nltk_data]   Package punkt is already up-to-date!\n"
          ],
          "name": "stdout"
        },
        {
          "output_type": "execute_result",
          "data": {
            "text/plain": [
              "True"
            ]
          },
          "metadata": {
            "tags": []
          },
          "execution_count": 137
        }
      ]
    },
    {
      "cell_type": "code",
      "metadata": {
        "id": "w1GzTRlnQWJp",
        "colab_type": "code",
        "colab": {}
      },
      "source": [
        "from pydrive.auth import GoogleAuth\n",
        "from pydrive.drive import GoogleDrive\n",
        "from google.colab import auth\n",
        "from oauth2client.client import GoogleCredentials\n",
        "\n",
        "# Authenticate and create the PyDrive client\n",
        "auth.authenticate_user()\n",
        "gauth = GoogleAuth()\n",
        "gauth.credentials = GoogleCredentials.get_application_default()\n",
        "drive = GoogleDrive(gauth)"
      ],
      "execution_count": 138,
      "outputs": []
    },
    {
      "cell_type": "code",
      "metadata": {
        "id": "boZ-19rlQCxX",
        "colab_type": "code",
        "colab": {}
      },
      "source": [
        "id='1TmL2AY_yymiV8zXVvmbqXsIZoexR9sLs'\n",
        "downloaded = drive.CreateFile({'id': id})\n",
        "downloaded.GetContentFile('test_features.csv')\n",
        "\n",
        "id='1slJiG-M_oawvkzaqWzZkSmVxxZor6mKQ'\n",
        "downloaded = drive.CreateFile({'id': id})\n",
        "downloaded.GetContentFile('train_features.csv')\n",
        "\n",
        "id='1J0GcaPrz3SDrfuRjJiSGapHjCTCy094x'\n",
        "downloaded = drive.CreateFile({'id': id})\n",
        "downloaded.GetContentFile('test_limpio.csv')\n",
        "\n",
        "id='1r9I2BE6oMDpSlQPS9OJIK_d0OW4G6yAG'\n",
        "downloaded = drive.CreateFile({'id': id})\n",
        "downloaded.GetContentFile('train_limpio.csv')\n",
        "\n",
        "train = pd.read_csv('train_features.csv')\n",
        "test = pd.read_csv('test_features.csv')\n",
        "\n",
        "text_train = pd.read_csv('train_limpio.csv')\n",
        "text_test = pd.read_csv('test_limpio.csv')"
      ],
      "execution_count": 141,
      "outputs": []
    },
    {
      "cell_type": "code",
      "metadata": {
        "id": "sRPQHNO3hbxm",
        "colab_type": "code",
        "colab": {}
      },
      "source": [
        "def remove_punct(text):\n",
        "    #filtrado de signos de puntuacion\n",
        "    text = \"\".join([word.lower() for word in text if word not in string.punctuation])\n",
        "    return text"
      ],
      "execution_count": 140,
      "outputs": []
    },
    {
      "cell_type": "code",
      "metadata": {
        "id": "5lu4CPKsQTVm",
        "colab_type": "code",
        "colab": {}
      },
      "source": [
        "train['text'] = text_train['text'].apply(lambda x: remove_punct(x))\n",
        "test['text'] = text_test['text']"
      ],
      "execution_count": 142,
      "outputs": []
    },
    {
      "cell_type": "code",
      "metadata": {
        "id": "os1KUVbcbeDX",
        "colab_type": "code",
        "colab": {}
      },
      "source": [
        "train.text.fillna(' ', inplace=True)\n",
        "test.text.fillna(' ', inplace=True)"
      ],
      "execution_count": 143,
      "outputs": []
    },
    {
      "cell_type": "code",
      "metadata": {
        "id": "oKXEoBJVuqj9",
        "colab_type": "code",
        "colab": {}
      },
      "source": [
        "y = train.target\n",
        "x_corpus, x_validation, y_corpus, y_validation = train_test_split(train.text, y, test_size=0.3, stratify=y)"
      ],
      "execution_count": 144,
      "outputs": []
    },
    {
      "cell_type": "code",
      "metadata": {
        "id": "b7bwroF5Qo0Z",
        "colab_type": "code",
        "colab": {}
      },
      "source": [
        "corpus = list(x_corpus)"
      ],
      "execution_count": 145,
      "outputs": []
    },
    {
      "cell_type": "code",
      "metadata": {
        "id": "2SvrJIoFnD1g",
        "colab_type": "code",
        "colab": {
          "base_uri": "https://localhost:8080/",
          "height": 35
        },
        "outputId": "b01be482-cb67-46e9-a692-58e37c57cb29"
      },
      "source": [
        "len(corpus)"
      ],
      "execution_count": 146,
      "outputs": [
        {
          "output_type": "execute_result",
          "data": {
            "text/plain": [
              "5329"
            ]
          },
          "metadata": {
            "tags": []
          },
          "execution_count": 146
        }
      ]
    },
    {
      "cell_type": "code",
      "metadata": {
        "id": "XjsQaouQQ0Vz",
        "colab_type": "code",
        "colab": {}
      },
      "source": [
        "#DEL TRAIN SPLITEADO\n",
        "\n",
        "#buscamos vocabulary (palabras unicas)\n",
        "word_tokenizer_train = Tokenizer()\n",
        "word_tokenizer_train.fit_on_texts(corpus)\n",
        "\n",
        "#cantidad de palabras unicas\n",
        "vocab_length = len(word_tokenizer_train.word_index) + 1\n",
        "\n",
        "#convertimos los tweets a numeros\n",
        "embedded_sentences_train = word_tokenizer_train.texts_to_sequences(corpus)\n",
        "\n",
        "#completamos con ceros en las oraciones mas cortas para dejar todos los vectores con la misma dimension (la dimension de la oracion mas larga)\n",
        "from nltk.tokenize import word_tokenize\n",
        "\n",
        "word_count_train = lambda sentence: len(word_tokenize(sentence))\n",
        "longest_sentence_train = max(corpus, key=word_count)\n",
        "length_long_sentence_train = len(word_tokenize(longest_sentence_train))\n",
        "padded_sentences_train = pad_sequences(embedded_sentences_train, length_long_sentence_train, padding='post')"
      ],
      "execution_count": null,
      "outputs": []
    },
    {
      "cell_type": "code",
      "metadata": {
        "id": "36icTpQZG9dV",
        "colab_type": "code",
        "colab": {
          "base_uri": "https://localhost:8080/",
          "height": 35
        },
        "outputId": "08d0b14b-8206-4b5d-a8fb-fe79b6d081dd"
      },
      "source": [
        "len(padded_sentences_train)"
      ],
      "execution_count": 149,
      "outputs": [
        {
          "output_type": "execute_result",
          "data": {
            "text/plain": [
              "5329"
            ]
          },
          "metadata": {
            "tags": []
          },
          "execution_count": 149
        }
      ]
    },
    {
      "cell_type": "code",
      "metadata": {
        "id": "89XVHIVgxMnw",
        "colab_type": "code",
        "colab": {}
      },
      "source": [
        "#convertimos los tweets DE VALIDACION a numeros\n",
        "word_tokenizer_val = Tokenizer()\n",
        "word_tokenizer_val.fit_on_texts(list(x_validation))\n",
        "embedded_sentences_val = word_tokenizer_val.texts_to_sequences(list(x_validation))\n",
        "\n",
        "#completamos con ceros en las oraciones mas cortas para dejar todos los vectores con la misma dimension (la dimension de la oracion mas larga)\n",
        "word_count_val = lambda sentence: len(word_tokenize(sentence))\n",
        "longest_sentence_val = max(corpus, key=word_count_val)\n",
        "length_long_sentence_val = len(word_tokenize(longest_sentence_val))\n",
        "padded_sentences_val = pad_sequences(embedded_sentences_val, length_long_sentence_val, padding='post')"
      ],
      "execution_count": null,
      "outputs": []
    },
    {
      "cell_type": "code",
      "metadata": {
        "id": "sfMMDi5WY3JO",
        "colab_type": "code",
        "colab": {}
      },
      "source": [
        "#convertimos los tweets DEL TEST a numeros\n",
        "word_tokenizer_test = Tokenizer()\n",
        "word_tokenizer_test.fit_on_texts(list(test.text))\n",
        "embedded_sentences_test = word_tokenizer_test.texts_to_sequences(list(test.text))\n",
        "\n",
        "#completamos con ceros en las oraciones mas cortas para dejar todos los vectores con la misma dimension (la dimension de la oracion mas larga)\n",
        "word_count_test = lambda sentence: len(word_tokenize(sentence))\n",
        "longest_sentence_test = max(corpus, key=word_count_test)\n",
        "length_long_sentence_test = len(word_tokenize(longest_sentence_test))\n",
        "padded_sentences_test = pad_sequences(embedded_sentences_test, length_long_sentence_test, padding='post')"
      ],
      "execution_count": null,
      "outputs": []
    },
    {
      "cell_type": "code",
      "metadata": {
        "id": "vIvH2lKnblQl",
        "colab_type": "code",
        "colab": {}
      },
      "source": [
        "#convertimos los tweets DEL TRAIN COMPLETO a numeros\n",
        "word_tokenizer = Tokenizer()\n",
        "word_tokenizer.fit_on_texts(list(train.text))\n",
        "embedded_sentences = word_tokenizer.texts_to_sequences(list(train.text))\n",
        "\n",
        "#cantidad de palabras unicas\n",
        "vocab_length = len(word_tokenizer.word_index) + 1\n",
        "\n",
        "#completamos con ceros en las oraciones mas cortas para dejar todos los vectores con la misma dimension (la dimension de la oracion mas larga)\n",
        "word_count = lambda sentence: len(word_tokenize(sentence))\n",
        "longest_sentence = max(corpus, key=word_count)\n",
        "length_long_sentence = len(word_tokenize(longest_sentence))\n",
        "padded_sentences = pad_sequences(embedded_sentences, length_long_sentence, padding='post')"
      ],
      "execution_count": null,
      "outputs": []
    },
    {
      "cell_type": "code",
      "metadata": {
        "id": "lvu5cKqBcmoy",
        "colab_type": "code",
        "colab": {}
      },
      "source": [
        "#vinculamos nuestros valores a los de GloVe\n",
        "import json\n",
        "\n",
        "embeddings_dictionary = {}\n",
        "f = open('glove.6B.100d.txt', encoding=\"utf8\")\n",
        "for line in f:\n",
        "  values = line.split()\n",
        "  word = values[0]\n",
        "  #for val in values[1:]:\n",
        "    #val = float(val.replace('\\U00002013', '-'))\n",
        "  vector_dimension = np.asarray(values[1:])\n",
        "  embeddings_dictionary[word] = vector_dimension\n",
        "f.close()"
      ],
      "execution_count": 151,
      "outputs": []
    },
    {
      "cell_type": "code",
      "metadata": {
        "id": "7oVFoDv7gTcR",
        "colab_type": "code",
        "colab": {}
      },
      "source": [
        "embedding_matrix = zeros((vocab_length, 100))\n",
        "for word, index in word_tokenizer_train.word_index.items():\n",
        "    embedding_vector = embeddings_dictionary.get(word)\n",
        "    if embedding_vector is not None:\n",
        "        embedding_matrix[index] = embedding_vector"
      ],
      "execution_count": 152,
      "outputs": []
    },
    {
      "cell_type": "markdown",
      "metadata": {
        "id": "UR9pzcRKQ2Lf",
        "colab_type": "text"
      },
      "source": [
        "DEEP LEARNING 1"
      ]
    },
    {
      "cell_type": "code",
      "metadata": {
        "id": "SEtXytZTQ4h0",
        "colab_type": "code",
        "colab": {}
      },
      "source": [
        "\"\"\"model = Sequential()\n",
        "embedding_layer = Embedding(vocab_length, 100, weights=[embedding_matrix], input_length=length_long_sentence, trainable=False)\n",
        "model.add(embedding_layer)\n",
        "model.add(Flatten())\n",
        "model.add(Dense(1, activation='sigmoid'))\"\"\""
      ],
      "execution_count": 124,
      "outputs": []
    },
    {
      "cell_type": "markdown",
      "metadata": {
        "id": "7-YTZm1iQ5RC",
        "colab_type": "text"
      },
      "source": [
        "DEEP LEARNING 2"
      ]
    },
    {
      "cell_type": "code",
      "metadata": {
        "id": "tPw6ZAPrjJ5p",
        "colab_type": "code",
        "colab": {}
      },
      "source": [
        "from keras.models import Input, Model\n",
        "from keras.layers import Bidirectional, GlobalAvgPool1D, GlobalAveragePooling1D\n",
        "from keras.layers import LSTM, Dense, Embedding, concatenate, Dropout, concatenate\n",
        "\n",
        "inp1 = Input(shape=(length_long_sentence,))\n",
        "x = Embedding(embedding_matrix.shape[0], 100, weights=[embedding_matrix])(inp1)\n",
        "x = Bidirectional(LSTM(256, return_sequences=True))(x)\n",
        "x = Bidirectional(LSTM(150))(x)\n",
        "x = Dense(128, activation=\"relu\")(x)\n",
        "x = Dropout(0.1)(x)\n",
        "x = Dense(64, activation=\"relu\")(x)\n",
        "x = Dense(1, activation=\"sigmoid\")(x)    \n",
        "model = Model(inputs=inp1, outputs=x)"
      ],
      "execution_count": 154,
      "outputs": []
    },
    {
      "cell_type": "code",
      "metadata": {
        "id": "Jx_4ZCuRjfAE",
        "colab_type": "code",
        "colab": {
          "base_uri": "https://localhost:8080/",
          "height": 451
        },
        "outputId": "23565a59-2416-412b-9550-f8fc87d98aa9"
      },
      "source": [
        "model.compile(optimizer='adam', loss='binary_crossentropy', metrics=['acc'])\n",
        "print(model.summary())"
      ],
      "execution_count": 155,
      "outputs": [
        {
          "output_type": "stream",
          "text": [
            "Model: \"functional_9\"\n",
            "_________________________________________________________________\n",
            "Layer (type)                 Output Shape              Param #   \n",
            "=================================================================\n",
            "input_10 (InputLayer)        [(None, 26)]              0         \n",
            "_________________________________________________________________\n",
            "embedding_15 (Embedding)     (None, 26, 100)           1571900   \n",
            "_________________________________________________________________\n",
            "bidirectional_12 (Bidirectio (None, 26, 512)           731136    \n",
            "_________________________________________________________________\n",
            "bidirectional_13 (Bidirectio (None, 300)               795600    \n",
            "_________________________________________________________________\n",
            "dense_23 (Dense)             (None, 128)               38528     \n",
            "_________________________________________________________________\n",
            "dropout_5 (Dropout)          (None, 128)               0         \n",
            "_________________________________________________________________\n",
            "dense_24 (Dense)             (None, 64)                8256      \n",
            "_________________________________________________________________\n",
            "dense_25 (Dense)             (None, 1)                 65        \n",
            "=================================================================\n",
            "Total params: 3,145,485\n",
            "Trainable params: 3,145,485\n",
            "Non-trainable params: 0\n",
            "_________________________________________________________________\n",
            "None\n"
          ],
          "name": "stdout"
        }
      ]
    },
    {
      "cell_type": "code",
      "metadata": {
        "id": "x72jg82Ijhol",
        "colab_type": "code",
        "colab": {
          "base_uri": "https://localhost:8080/",
          "height": 139
        },
        "outputId": "8ae47df2-b976-40a7-aed7-7472c7b9df78"
      },
      "source": [
        "model.fit(padded_sentences_train, y_corpus, epochs=3, verbose=1)"
      ],
      "execution_count": 157,
      "outputs": [
        {
          "output_type": "stream",
          "text": [
            "Epoch 1/3\n",
            "167/167 [==============================] - 62s 372ms/step - loss: 0.6800 - acc: 0.5806\n",
            "Epoch 2/3\n",
            "167/167 [==============================] - 62s 370ms/step - loss: 0.6347 - acc: 0.6391\n",
            "Epoch 3/3\n",
            "167/167 [==============================] - 64s 384ms/step - loss: 0.5231 - acc: 0.7474\n"
          ],
          "name": "stdout"
        },
        {
          "output_type": "execute_result",
          "data": {
            "text/plain": [
              "<tensorflow.python.keras.callbacks.History at 0x7f136b062d30>"
            ]
          },
          "metadata": {
            "tags": []
          },
          "execution_count": 157
        }
      ]
    },
    {
      "cell_type": "code",
      "metadata": {
        "id": "giEqIY1fYgVq",
        "colab_type": "code",
        "colab": {}
      },
      "source": [
        "prediction = model.predict(padded_sentences_test)"
      ],
      "execution_count": 158,
      "outputs": []
    },
    {
      "cell_type": "code",
      "metadata": {
        "id": "pGGdOA-daFLS",
        "colab_type": "code",
        "colab": {
          "base_uri": "https://localhost:8080/",
          "height": 139
        },
        "outputId": "4260e78c-37fe-4755-deae-03bfb323bf51"
      },
      "source": [
        "prediction = np.round(prediction)\n",
        "prediction"
      ],
      "execution_count": 159,
      "outputs": [
        {
          "output_type": "execute_result",
          "data": {
            "text/plain": [
              "array([[0.],\n",
              "       [0.],\n",
              "       [1.],\n",
              "       ...,\n",
              "       [0.],\n",
              "       [0.],\n",
              "       [0.]], dtype=float32)"
            ]
          },
          "metadata": {
            "tags": []
          },
          "execution_count": 159
        }
      ]
    },
    {
      "cell_type": "code",
      "metadata": {
        "id": "_Kq9gCexZY3U",
        "colab_type": "code",
        "colab": {}
      },
      "source": [
        "prediction_final = pd.DataFrame({'id':test['id']})\n",
        "prediction_final['target'] = prediction\n",
        "prediction_final['target'] = prediction_final['target'].astype(int)\n",
        "prediction_final.to_csv('prueba_glove.csv', index=False)"
      ],
      "execution_count": 160,
      "outputs": []
    },
    {
      "cell_type": "code",
      "metadata": {
        "id": "TuiXU2R6ad67",
        "colab_type": "code",
        "colab": {
          "base_uri": "https://localhost:8080/",
          "height": 415
        },
        "outputId": "306c35b9-cae9-4f1d-eb16-45beb8306922"
      },
      "source": [
        "prediction_final"
      ],
      "execution_count": 161,
      "outputs": [
        {
          "output_type": "execute_result",
          "data": {
            "text/html": [
              "<div>\n",
              "<style scoped>\n",
              "    .dataframe tbody tr th:only-of-type {\n",
              "        vertical-align: middle;\n",
              "    }\n",
              "\n",
              "    .dataframe tbody tr th {\n",
              "        vertical-align: top;\n",
              "    }\n",
              "\n",
              "    .dataframe thead th {\n",
              "        text-align: right;\n",
              "    }\n",
              "</style>\n",
              "<table border=\"1\" class=\"dataframe\">\n",
              "  <thead>\n",
              "    <tr style=\"text-align: right;\">\n",
              "      <th></th>\n",
              "      <th>id</th>\n",
              "      <th>target</th>\n",
              "    </tr>\n",
              "  </thead>\n",
              "  <tbody>\n",
              "    <tr>\n",
              "      <th>0</th>\n",
              "      <td>0</td>\n",
              "      <td>0</td>\n",
              "    </tr>\n",
              "    <tr>\n",
              "      <th>1</th>\n",
              "      <td>2</td>\n",
              "      <td>0</td>\n",
              "    </tr>\n",
              "    <tr>\n",
              "      <th>2</th>\n",
              "      <td>3</td>\n",
              "      <td>1</td>\n",
              "    </tr>\n",
              "    <tr>\n",
              "      <th>3</th>\n",
              "      <td>9</td>\n",
              "      <td>0</td>\n",
              "    </tr>\n",
              "    <tr>\n",
              "      <th>4</th>\n",
              "      <td>11</td>\n",
              "      <td>0</td>\n",
              "    </tr>\n",
              "    <tr>\n",
              "      <th>...</th>\n",
              "      <td>...</td>\n",
              "      <td>...</td>\n",
              "    </tr>\n",
              "    <tr>\n",
              "      <th>3258</th>\n",
              "      <td>10861</td>\n",
              "      <td>0</td>\n",
              "    </tr>\n",
              "    <tr>\n",
              "      <th>3259</th>\n",
              "      <td>10865</td>\n",
              "      <td>0</td>\n",
              "    </tr>\n",
              "    <tr>\n",
              "      <th>3260</th>\n",
              "      <td>10868</td>\n",
              "      <td>0</td>\n",
              "    </tr>\n",
              "    <tr>\n",
              "      <th>3261</th>\n",
              "      <td>10874</td>\n",
              "      <td>0</td>\n",
              "    </tr>\n",
              "    <tr>\n",
              "      <th>3262</th>\n",
              "      <td>10875</td>\n",
              "      <td>0</td>\n",
              "    </tr>\n",
              "  </tbody>\n",
              "</table>\n",
              "<p>3263 rows × 2 columns</p>\n",
              "</div>"
            ],
            "text/plain": [
              "         id  target\n",
              "0         0       0\n",
              "1         2       0\n",
              "2         3       1\n",
              "3         9       0\n",
              "4        11       0\n",
              "...     ...     ...\n",
              "3258  10861       0\n",
              "3259  10865       0\n",
              "3260  10868       0\n",
              "3261  10874       0\n",
              "3262  10875       0\n",
              "\n",
              "[3263 rows x 2 columns]"
            ]
          },
          "metadata": {
            "tags": []
          },
          "execution_count": 161
        }
      ]
    }
  ]
}