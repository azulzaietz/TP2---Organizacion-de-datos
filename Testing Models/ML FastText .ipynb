{
  "nbformat": 4,
  "nbformat_minor": 0,
  "metadata": {
    "colab": {
      "name": "ML FastText.ipynb",
      "provenance": [],
      "collapsed_sections": [
        "ZvZjErbF2o3N",
        "QDnbt2akcCjX",
        "wyHI9-fPeSe_",
        "dQ4oAPbuiZRs",
        "hQmTcW2IoTTa"
      ]
    },
    "kernelspec": {
      "display_name": "Python 3",
      "name": "python3"
    }
  },
  "cells": [
    {
      "cell_type": "code",
      "metadata": {
        "colab_type": "code",
        "id": "4MabbfEF1lSL",
        "colab": {}
      },
      "source": [
        "import pandas as pd\n",
        "import numpy as np\n",
        "\n",
        "from sklearn.neighbors import KNeighborsClassifier\n",
        "from sklearn.naive_bayes import MultinomialNB\n",
        "from sklearn.model_selection import GridSearchCV, StratifiedKFold\n",
        "from sklearn.ensemble import RandomForestClassifier\n",
        "from sklearn.svm import SVC, LinearSVC, NuSVC\n",
        "from sklearn.ensemble import BaggingClassifier\n",
        "from sklearn.tree import DecisionTreeClassifier\n",
        "from xgboost import XGBClassifier\n",
        "\n",
        "from sklearn import metrics\n",
        "from sklearn.metrics import accuracy_score\n",
        "from sklearn.model_selection import train_test_split\n",
        "from sklearn import preprocessing\n",
        "from sklearn import model_selection\n",
        "\n",
        "from sklearn.datasets import fetch_20newsgroups\n",
        "from keras.layers import  Dropout, Dense\n",
        "from keras.models import Sequential"
      ],
      "execution_count": 4,
      "outputs": []
    },
    {
      "cell_type": "markdown",
      "metadata": {
        "colab_type": "text",
        "id": "MlZEb6_mlt2E"
      },
      "source": [
        "##Importamos las matrices a utilizar"
      ]
    },
    {
      "cell_type": "code",
      "metadata": {
        "colab_type": "code",
        "id": "-_dO2NXB1G1P",
        "colab": {}
      },
      "source": [
        "from pydrive.auth import GoogleAuth\n",
        "from pydrive.drive import GoogleDrive\n",
        "from google.colab import auth\n",
        "from oauth2client.client import GoogleCredentials\n",
        "from google.colab import files\n",
        "\n",
        "# Authenticate and create the PyDrive client\n",
        "auth.authenticate_user()\n",
        "gauth = GoogleAuth()\n",
        "gauth.credentials = GoogleCredentials.get_application_default()\n",
        "drive = GoogleDrive(gauth)"
      ],
      "execution_count": 5,
      "outputs": []
    },
    {
      "cell_type": "code",
      "metadata": {
        "colab_type": "code",
        "id": "V3wJsdDluWhU",
        "colab": {}
      },
      "source": [
        "id='15Q0YL820piC66xf3q-8C-El4THe39PFW'\n",
        "downloaded = drive.CreateFile({'id': id})\n",
        "downloaded.GetContentFile('train.csv')\n",
        "\n",
        "train = pd.read_csv('train.csv')\n",
        "\n",
        "id='1jt6Uc69MmmbVY1DJdr38rrnDU--X6sEB'\n",
        "downloaded = drive.CreateFile({'id': id})\n",
        "downloaded.GetContentFile('test.csv')\n",
        "\n",
        "test = pd.read_csv('test.csv')"
      ],
      "execution_count": 6,
      "outputs": []
    },
    {
      "cell_type": "code",
      "metadata": {
        "colab_type": "code",
        "id": "7_PEPby1ltJ8",
        "colab": {}
      },
      "source": [
        "id= '1GhLSiSasF4IIRG98Ulx9xG2V2-CAzHJr'\n",
        "downloaded = drive.CreateFile({'id': id})\n",
        "downloaded.GetContentFile('ft_features_numericos_test.csv')\n",
        "\n",
        "id= '1kgVMHuLTXNNzjdMCX96OBoVfP0Ou4tec'\n",
        "downloaded = drive.CreateFile({'id': id})\n",
        "downloaded.GetContentFile('ft_features_numericos_train.csv')\n",
        "\n",
        "id= '1fqX2OqscRVJfiNDiNHtNnA12C9NgBiIQ'\n",
        "downloaded = drive.CreateFile({'id': id})\n",
        "downloaded.GetContentFile('matriz_test_ft_solo_text.csv')\n",
        "\n",
        "id= '1oBA_jERGip2orWLrFWm5DF3jrq7w5dAL'\n",
        "downloaded = drive.CreateFile({'id': id})\n",
        "downloaded.GetContentFile('matriz_train_ft_solo_text.csv')\n",
        "\n",
        "id= '1krnFYY5tqXKY3Sbqn_VGZiM8S2OUBmJz'\n",
        "downloaded = drive.CreateFile({'id': id})\n",
        "downloaded.GetContentFile('matriz_test_ft_text_keyword.csv')\n",
        "\n",
        "id= '1vFYmS-7cXFH--0rKV-cAi1E35KD7qQbh'\n",
        "downloaded = drive.CreateFile({'id': id})\n",
        "downloaded.GetContentFile('matriz_train_ft_text_keyword.csv')"
      ],
      "execution_count": 7,
      "outputs": []
    },
    {
      "cell_type": "code",
      "metadata": {
        "colab_type": "code",
        "id": "ihBuAcOTnamE",
        "colab": {}
      },
      "source": [
        "matriz_test_ft_solo_text = pd.read_csv('matriz_test_ft_solo_text.csv')\n",
        "matriz_train_ft_solo_text = pd.read_csv('matriz_train_ft_solo_text.csv')\n",
        "\n",
        "matriz_test_ft_text_keyword = pd.read_csv('matriz_test_ft_text_keyword.csv')\n",
        "matriz_train_ft_text_keyword = pd.read_csv('matriz_train_ft_text_keyword.csv')\n",
        "\n",
        "ft_features_numericos_test = pd.read_csv('ft_features_numericos_test.csv')\n",
        "ft_features_numericos_train = pd.read_csv('ft_features_numericos_train.csv')"
      ],
      "execution_count": 8,
      "outputs": []
    },
    {
      "cell_type": "code",
      "metadata": {
        "colab_type": "code",
        "id": "_BTvQz0C2o9N",
        "colab": {}
      },
      "source": [
        "def cross_val(model, x_train, y_train):\n",
        "  score_cross_val = model_selection.cross_val_score(model, x_train, y_train, cv=5)\n",
        "  print(score_cross_val.mean())"
      ],
      "execution_count": 9,
      "outputs": []
    },
    {
      "cell_type": "markdown",
      "metadata": {
        "colab_type": "text",
        "id": "2l5aTJ2DxWI6"
      },
      "source": [
        "##SPLIT DE LAS MATRICES"
      ]
    },
    {
      "cell_type": "code",
      "metadata": {
        "colab_type": "code",
        "id": "7B2rZ_WOuQEN",
        "colab": {}
      },
      "source": [
        "y = train.target"
      ],
      "execution_count": 10,
      "outputs": []
    },
    {
      "cell_type": "code",
      "metadata": {
        "colab_type": "code",
        "id": "0wEyJtPQCwV5",
        "colab": {}
      },
      "source": [
        "x_train_text, x_validation_text, y_train_text, y_validation_text = train_test_split(matriz_train_ft_solo_text, y, test_size=0.3, stratify=y)\n",
        "x_train_text_keyword, x_validation_text_keyword, y_train_text_keyword, y_validation_text_keyword = train_test_split(matriz_train_ft_text_keyword, y, test_size=0.3, stratify=y)\n",
        "x_train_numericos, x_validation_numericos, y_train_numericos, y_validation_numericos = train_test_split(ft_features_numericos_train, y, test_size=0.3, stratify=y)"
      ],
      "execution_count": 11,
      "outputs": []
    },
    {
      "cell_type": "markdown",
      "metadata": {
        "colab_type": "text",
        "id": "ZvZjErbF2o3N"
      },
      "source": [
        "##KNN"
      ]
    },
    {
      "cell_type": "markdown",
      "metadata": {
        "colab_type": "text",
        "id": "dxzd-0dAKvYH"
      },
      "source": [
        "Funcion que aplica KNN con GridSearch y CV para encontrar los mejores hiperparametros para cada matriz probada."
      ]
    },
    {
      "cell_type": "code",
      "metadata": {
        "colab_type": "code",
        "id": "BTkuwvH9EtSM",
        "colab": {}
      },
      "source": [
        "def knn_con_gridsearch(x_train, y_train, x_validation, y_validation):\n",
        "\n",
        "  knn = KNeighborsClassifier()\n",
        "  params_knn = {'n_neighbors': np.arange(1, 25), 'weights' : ['uniform', 'distance'], 'metric': ['euclidean', 'manhattan', 'minkowski']}\n",
        "  knn_gs = GridSearchCV(knn, params_knn, cv=5)\n",
        "  knn_gs.fit(x_train, y_train)\n",
        "  knn_best = knn_gs.best_estimator_\n",
        "  \n",
        "  print(knn_gs.best_params_)\n",
        "  print('knn score: {}'.format(knn_best.score(x_validation, y_validation)))\n",
        "  \n",
        "  return knn_best"
      ],
      "execution_count": null,
      "outputs": []
    },
    {
      "cell_type": "markdown",
      "metadata": {
        "colab_type": "text",
        "id": "ViQPyKNIuDCP"
      },
      "source": [
        "Corremos el algoritmo con cada matriz y comparamos los resultados."
      ]
    },
    {
      "cell_type": "code",
      "metadata": {
        "colab_type": "code",
        "id": "Tm-p3-QkumGr",
        "colab": {
          "base_uri": "https://localhost:8080/",
          "height": 52
        },
        "outputId": "f1cf151c-d6c3-48c4-fc39-33b3d581ae9c"
      },
      "source": [
        "knn_text = knn_con_gridsearch(x_train_text, y_train_text, x_validation_text, y_validation_text)"
      ],
      "execution_count": null,
      "outputs": [
        {
          "output_type": "stream",
          "text": [
            "{'metric': 'manhattan', 'n_neighbors': 21, 'weights': 'distance'}\n",
            "knn score: 0.7473730297723292\n"
          ],
          "name": "stdout"
        }
      ]
    },
    {
      "cell_type": "code",
      "metadata": {
        "colab_type": "code",
        "id": "Q63EuZuu3jzE",
        "colab": {
          "base_uri": "https://localhost:8080/",
          "height": 35
        },
        "outputId": "865c26e5-9e40-4112-91b1-cf0109aaf202"
      },
      "source": [
        "cross_val(knn_text, x_train_text, y_train_text)"
      ],
      "execution_count": null,
      "outputs": [
        {
          "output_type": "stream",
          "text": [
            "0.7310946101877052\n"
          ],
          "name": "stdout"
        }
      ]
    },
    {
      "cell_type": "code",
      "metadata": {
        "colab_type": "code",
        "id": "efnYEi8fvVBy",
        "colab": {
          "base_uri": "https://localhost:8080/",
          "height": 52
        },
        "outputId": "d17c35c8-6e4d-48cf-8856-8d6e8a284169"
      },
      "source": [
        "knn_text_keyword = knn_con_gridsearch(x_train_text_keyword, y_train_text_keyword, x_validation_text_keyword, y_validation_text_keyword)"
      ],
      "execution_count": null,
      "outputs": [
        {
          "output_type": "stream",
          "text": [
            "{'metric': 'manhattan', 'n_neighbors': 22, 'weights': 'distance'}\n",
            "knn score: 0.7342381786339754\n"
          ],
          "name": "stdout"
        }
      ]
    },
    {
      "cell_type": "code",
      "metadata": {
        "colab_type": "code",
        "id": "86VtthHI4T-0",
        "colab": {
          "base_uri": "https://localhost:8080/",
          "height": 35
        },
        "outputId": "e3db994d-66cf-444e-df37-8a9da6f0298b"
      },
      "source": [
        "cross_val(knn_text_keyword, x_train_text_keyword, y_train_text_keyword)"
      ],
      "execution_count": null,
      "outputs": [
        {
          "output_type": "stream",
          "text": [
            "0.7350354534964635\n"
          ],
          "name": "stdout"
        }
      ]
    },
    {
      "cell_type": "code",
      "metadata": {
        "colab_type": "code",
        "id": "t5Ebf8hdvVIt",
        "colab": {
          "base_uri": "https://localhost:8080/",
          "height": 52
        },
        "outputId": "ec8e149b-7ccc-44b7-a31f-2eae794b4fcb"
      },
      "source": [
        "knn_numericos = knn_con_gridsearch(x_train_numericos,y_train_numericos,  x_validation_numericos, y_validation_numericos)"
      ],
      "execution_count": null,
      "outputs": [
        {
          "output_type": "stream",
          "text": [
            "{'metric': 'manhattan', 'n_neighbors': 24, 'weights': 'distance'}\n",
            "knn score: 0.6799474605954466\n"
          ],
          "name": "stdout"
        }
      ]
    },
    {
      "cell_type": "code",
      "metadata": {
        "colab_type": "code",
        "id": "ZXhr6KKM4VJ6",
        "colab": {
          "base_uri": "https://localhost:8080/",
          "height": 35
        },
        "outputId": "62e216bb-3195-4af3-bf4b-ce8afe9c13df"
      },
      "source": [
        "cross_val(knn_numericos, x_train_text, y_train_text)"
      ],
      "execution_count": null,
      "outputs": [
        {
          "output_type": "stream",
          "text": [
            "0.7280925578486555\n"
          ],
          "name": "stdout"
        }
      ]
    },
    {
      "cell_type": "markdown",
      "metadata": {
        "colab_type": "text",
        "id": "VxJG8avbLoxi"
      },
      "source": [
        "Realizamos la prediccion con el modelo que haya dado mayor score"
      ]
    },
    {
      "cell_type": "code",
      "metadata": {
        "colab_type": "code",
        "id": "RU2nPooS95Da",
        "colab": {
          "base_uri": "https://localhost:8080/",
          "height": 17
        },
        "outputId": "f92c3f36-698c-4da4-ea34-44edaf1ddac0"
      },
      "source": [
        "prediction_knn = knn_text.predict(matriz_test_ft_solo_text)\n",
        "submission_knn = pd.DataFrame(data={'id':test['id'], 'target': prediction_knn})\n",
        "submission_knn.to_csv('ft_knn.csv', index=False)\n",
        "files.download('ft_knn.csv')"
      ],
      "execution_count": null,
      "outputs": [
        {
          "output_type": "display_data",
          "data": {
            "application/javascript": [
              "\n",
              "    async function download(id, filename, size) {\n",
              "      if (!google.colab.kernel.accessAllowed) {\n",
              "        return;\n",
              "      }\n",
              "      const div = document.createElement('div');\n",
              "      const label = document.createElement('label');\n",
              "      label.textContent = `Downloading \"${filename}\": `;\n",
              "      div.appendChild(label);\n",
              "      const progress = document.createElement('progress');\n",
              "      progress.max = size;\n",
              "      div.appendChild(progress);\n",
              "      document.body.appendChild(div);\n",
              "\n",
              "      const buffers = [];\n",
              "      let downloaded = 0;\n",
              "\n",
              "      const channel = await google.colab.kernel.comms.open(id);\n",
              "      // Send a message to notify the kernel that we're ready.\n",
              "      channel.send({})\n",
              "\n",
              "      for await (const message of channel.messages) {\n",
              "        // Send a message to notify the kernel that we're ready.\n",
              "        channel.send({})\n",
              "        if (message.buffers) {\n",
              "          for (const buffer of message.buffers) {\n",
              "            buffers.push(buffer);\n",
              "            downloaded += buffer.byteLength;\n",
              "            progress.value = downloaded;\n",
              "          }\n",
              "        }\n",
              "      }\n",
              "      const blob = new Blob(buffers, {type: 'application/binary'});\n",
              "      const a = document.createElement('a');\n",
              "      a.href = window.URL.createObjectURL(blob);\n",
              "      a.download = filename;\n",
              "      div.appendChild(a);\n",
              "      a.click();\n",
              "      div.remove();\n",
              "    }\n",
              "  "
            ],
            "text/plain": [
              "<IPython.core.display.Javascript object>"
            ]
          },
          "metadata": {
            "tags": []
          }
        },
        {
          "output_type": "display_data",
          "data": {
            "application/javascript": [
              "download(\"download_f17290c3-d662-44c1-b983-ca6fcda8e18c\", \"ft_knn.csv\", 22746)"
            ],
            "text/plain": [
              "<IPython.core.display.Javascript object>"
            ]
          },
          "metadata": {
            "tags": []
          }
        }
      ]
    },
    {
      "cell_type": "markdown",
      "metadata": {
        "colab_type": "text",
        "id": "QDnbt2akcCjX"
      },
      "source": [
        "#RED NEURONAL PROFUNDA"
      ]
    },
    {
      "cell_type": "code",
      "metadata": {
        "colab_type": "code",
        "id": "i6VcjQlgcHOn",
        "colab": {}
      },
      "source": [
        "def DNN_model(shape, nClasses, dropout=0.5):\n",
        "    model = Sequential()\n",
        "    node = 512\n",
        "    nLayers = 4\n",
        "    model.add(Dense(node,input_dim=shape,activation='relu'))\n",
        "    model.add(Dropout(dropout))\n",
        "    for i in range(0,nLayers):\n",
        "        model.add(Dense(node,input_dim=node,activation='relu'))\n",
        "        model.add(Dropout(dropout))\n",
        "    model.add(Dense(nClasses, activation='softmax'))\n",
        "    model.compile(loss='sparse_categorical_crossentropy', optimizer='adam', metrics=['accuracy'])\n",
        "    return model"
      ],
      "execution_count": null,
      "outputs": []
    },
    {
      "cell_type": "markdown",
      "metadata": {
        "colab_type": "text",
        "id": "5WsVnapnzPNT"
      },
      "source": [
        "Corremos el algoritmo con cada matriz y comparamos los resultados."
      ]
    },
    {
      "cell_type": "code",
      "metadata": {
        "colab_type": "code",
        "id": "UdFpzN-Ucc5s",
        "colab": {
          "base_uri": "https://localhost:8080/",
          "height": 728
        },
        "outputId": "e5450eaf-6875-465e-eb8b-ad1c1c0d9d6a"
      },
      "source": [
        "model_DNN_text = DNN_model(matriz_train_ft_solo_text.shape[1], 2)\n",
        "model_DNN_text.fit(matriz_train_ft_solo_text, train.target, epochs=20, batch_size=128, verbose=2)"
      ],
      "execution_count": null,
      "outputs": [
        {
          "output_type": "stream",
          "text": [
            "Epoch 1/20\n",
            "60/60 - 1s - loss: 0.6371 - accuracy: 0.6344\n",
            "Epoch 2/20\n",
            "60/60 - 1s - loss: 0.5367 - accuracy: 0.7496\n",
            "Epoch 3/20\n",
            "60/60 - 1s - loss: 0.4984 - accuracy: 0.7655\n",
            "Epoch 4/20\n",
            "60/60 - 1s - loss: 0.4681 - accuracy: 0.7877\n",
            "Epoch 5/20\n",
            "60/60 - 1s - loss: 0.4684 - accuracy: 0.7883\n",
            "Epoch 6/20\n",
            "60/60 - 1s - loss: 0.4537 - accuracy: 0.7988\n",
            "Epoch 7/20\n",
            "60/60 - 1s - loss: 0.4531 - accuracy: 0.8017\n",
            "Epoch 8/20\n",
            "60/60 - 1s - loss: 0.4418 - accuracy: 0.8031\n",
            "Epoch 9/20\n",
            "60/60 - 1s - loss: 0.4355 - accuracy: 0.8084\n",
            "Epoch 10/20\n",
            "60/60 - 1s - loss: 0.4381 - accuracy: 0.8081\n",
            "Epoch 11/20\n",
            "60/60 - 1s - loss: 0.4288 - accuracy: 0.8118\n",
            "Epoch 12/20\n",
            "60/60 - 1s - loss: 0.4278 - accuracy: 0.8130\n",
            "Epoch 13/20\n",
            "60/60 - 1s - loss: 0.4243 - accuracy: 0.8168\n",
            "Epoch 14/20\n",
            "60/60 - 1s - loss: 0.4305 - accuracy: 0.8110\n",
            "Epoch 15/20\n",
            "60/60 - 1s - loss: 0.4113 - accuracy: 0.8210\n",
            "Epoch 16/20\n",
            "60/60 - 1s - loss: 0.4171 - accuracy: 0.8173\n",
            "Epoch 17/20\n",
            "60/60 - 1s - loss: 0.4068 - accuracy: 0.8223\n",
            "Epoch 18/20\n",
            "60/60 - 1s - loss: 0.4051 - accuracy: 0.8267\n",
            "Epoch 19/20\n",
            "60/60 - 1s - loss: 0.4033 - accuracy: 0.8275\n",
            "Epoch 20/20\n",
            "60/60 - 1s - loss: 0.4032 - accuracy: 0.8298\n"
          ],
          "name": "stdout"
        },
        {
          "output_type": "execute_result",
          "data": {
            "text/plain": [
              "<tensorflow.python.keras.callbacks.History at 0x7f816c358550>"
            ]
          },
          "metadata": {
            "tags": []
          },
          "execution_count": 23
        }
      ]
    },
    {
      "cell_type": "code",
      "metadata": {
        "colab_type": "code",
        "id": "Wv2wcBTXcgT-",
        "colab": {
          "base_uri": "https://localhost:8080/",
          "height": 728
        },
        "outputId": "1e6d1832-b269-4449-92ac-e94f9d02adba"
      },
      "source": [
        "model_DNN_text_keyword = DNN_model(matriz_train_ft_text_keyword.shape[1], 2)\n",
        "model_DNN_text_keyword.fit(matriz_train_ft_text_keyword, train.target, epochs=20, batch_size=128, verbose=2)"
      ],
      "execution_count": null,
      "outputs": [
        {
          "output_type": "stream",
          "text": [
            "Epoch 1/20\n",
            "60/60 - 1s - loss: 0.6497 - accuracy: 0.6115\n",
            "Epoch 2/20\n",
            "60/60 - 1s - loss: 0.5670 - accuracy: 0.7205\n",
            "Epoch 3/20\n",
            "60/60 - 1s - loss: 0.5097 - accuracy: 0.7674\n",
            "Epoch 4/20\n",
            "60/60 - 1s - loss: 0.4808 - accuracy: 0.7825\n",
            "Epoch 5/20\n",
            "60/60 - 1s - loss: 0.4698 - accuracy: 0.7927\n",
            "Epoch 6/20\n",
            "60/60 - 1s - loss: 0.4644 - accuracy: 0.7908\n",
            "Epoch 7/20\n",
            "60/60 - 1s - loss: 0.4475 - accuracy: 0.8024\n",
            "Epoch 8/20\n",
            "60/60 - 1s - loss: 0.4457 - accuracy: 0.8034\n",
            "Epoch 9/20\n",
            "60/60 - 1s - loss: 0.4391 - accuracy: 0.8087\n",
            "Epoch 10/20\n",
            "60/60 - 1s - loss: 0.4418 - accuracy: 0.8070\n",
            "Epoch 11/20\n",
            "60/60 - 1s - loss: 0.4414 - accuracy: 0.8089\n",
            "Epoch 12/20\n",
            "60/60 - 1s - loss: 0.4261 - accuracy: 0.8152\n",
            "Epoch 13/20\n",
            "60/60 - 1s - loss: 0.4187 - accuracy: 0.8181\n",
            "Epoch 14/20\n",
            "60/60 - 1s - loss: 0.4145 - accuracy: 0.8187\n",
            "Epoch 15/20\n",
            "60/60 - 1s - loss: 0.4155 - accuracy: 0.8186\n",
            "Epoch 16/20\n",
            "60/60 - 1s - loss: 0.4167 - accuracy: 0.8186\n",
            "Epoch 17/20\n",
            "60/60 - 1s - loss: 0.4112 - accuracy: 0.8252\n",
            "Epoch 18/20\n",
            "60/60 - 1s - loss: 0.4110 - accuracy: 0.8173\n",
            "Epoch 19/20\n",
            "60/60 - 1s - loss: 0.3973 - accuracy: 0.8306\n",
            "Epoch 20/20\n",
            "60/60 - 1s - loss: 0.3941 - accuracy: 0.8344\n"
          ],
          "name": "stdout"
        },
        {
          "output_type": "execute_result",
          "data": {
            "text/plain": [
              "<tensorflow.python.keras.callbacks.History at 0x7f8169c34ac8>"
            ]
          },
          "metadata": {
            "tags": []
          },
          "execution_count": 24
        }
      ]
    },
    {
      "cell_type": "code",
      "metadata": {
        "colab_type": "code",
        "id": "HGletdZCyWgS",
        "colab": {
          "base_uri": "https://localhost:8080/",
          "height": 728
        },
        "outputId": "0e41d6fe-1d46-4b0e-b421-47b1bea3d3ab"
      },
      "source": [
        "model_DNN_text_keyword_numericos = DNN_model(ft_features_numericos_train.shape[1], 2)\n",
        "model_DNN_text_keyword_numericos.fit(ft_features_numericos_train, train.target, epochs=20, batch_size=128, verbose=2)"
      ],
      "execution_count": null,
      "outputs": [
        {
          "output_type": "stream",
          "text": [
            "Epoch 1/20\n",
            "60/60 - 1s - loss: 0.9534 - accuracy: 0.5196\n",
            "Epoch 2/20\n",
            "60/60 - 1s - loss: 0.6989 - accuracy: 0.5509\n",
            "Epoch 3/20\n",
            "60/60 - 1s - loss: 0.6892 - accuracy: 0.5644\n",
            "Epoch 4/20\n",
            "60/60 - 1s - loss: 0.6738 - accuracy: 0.5837\n",
            "Epoch 5/20\n",
            "60/60 - 1s - loss: 0.6583 - accuracy: 0.6049\n",
            "Epoch 6/20\n",
            "60/60 - 1s - loss: 0.6564 - accuracy: 0.6099\n",
            "Epoch 7/20\n",
            "60/60 - 1s - loss: 0.6460 - accuracy: 0.6263\n",
            "Epoch 8/20\n",
            "60/60 - 1s - loss: 0.6501 - accuracy: 0.6242\n",
            "Epoch 9/20\n",
            "60/60 - 1s - loss: 0.6391 - accuracy: 0.6485\n",
            "Epoch 10/20\n",
            "60/60 - 1s - loss: 0.6373 - accuracy: 0.6520\n",
            "Epoch 11/20\n",
            "60/60 - 1s - loss: 0.6291 - accuracy: 0.6523\n",
            "Epoch 12/20\n",
            "60/60 - 1s - loss: 0.6313 - accuracy: 0.6523\n",
            "Epoch 13/20\n",
            "60/60 - 1s - loss: 0.6194 - accuracy: 0.6685\n",
            "Epoch 14/20\n",
            "60/60 - 1s - loss: 0.6179 - accuracy: 0.6737\n",
            "Epoch 15/20\n",
            "60/60 - 1s - loss: 0.6179 - accuracy: 0.6786\n",
            "Epoch 16/20\n",
            "60/60 - 1s - loss: 0.6090 - accuracy: 0.6820\n",
            "Epoch 17/20\n",
            "60/60 - 1s - loss: 0.6098 - accuracy: 0.6803\n",
            "Epoch 18/20\n",
            "60/60 - 1s - loss: 0.6032 - accuracy: 0.6879\n",
            "Epoch 19/20\n",
            "60/60 - 1s - loss: 0.6021 - accuracy: 0.6834\n",
            "Epoch 20/20\n",
            "60/60 - 1s - loss: 0.5913 - accuracy: 0.6943\n"
          ],
          "name": "stdout"
        },
        {
          "output_type": "execute_result",
          "data": {
            "text/plain": [
              "<tensorflow.python.keras.callbacks.History at 0x7f81692a0ba8>"
            ]
          },
          "metadata": {
            "tags": []
          },
          "execution_count": 25
        }
      ]
    },
    {
      "cell_type": "code",
      "metadata": {
        "colab_type": "code",
        "id": "3AtiWZsDhrTO",
        "colab": {}
      },
      "source": [
        "prediction_dnn = model_DNN_text_keyword.predict_classes(matriz_test_ft_text_keyword)\n",
        "submission_dnn = pd.DataFrame(data={'id':test['id'], 'target': prediction_dnn})\n",
        "submission_dnn.to_csv('ft_dnn.csv', index=False)\n",
        "files.download('ft_dnn.csv')"
      ],
      "execution_count": null,
      "outputs": []
    },
    {
      "cell_type": "markdown",
      "metadata": {
        "colab_type": "text",
        "id": "wyHI9-fPeSe_"
      },
      "source": [
        "#RANDOM FOREST"
      ]
    },
    {
      "cell_type": "markdown",
      "metadata": {
        "colab_type": "text",
        "id": "tn97xVuPkbi6"
      },
      "source": [
        "Funcion que aplica RANDOM FOREST con GridSearch y CV para encontrar los mejores hiperparametros para cada matriz probada."
      ]
    },
    {
      "cell_type": "code",
      "metadata": {
        "colab_type": "code",
        "id": "7sqFl7FQ7I59",
        "colab": {}
      },
      "source": [
        "\"\"\"#Numero de arboles a usar\n",
        "n_estimators = [int(x) for x in np.linspace(start = 200, stop = 2000, num = 10)]\n",
        "#Cantidad de features a considerar en cada split\n",
        "max_features = ['auto', 'sqrt']\n",
        "#Profundidad de cada arbol\n",
        "max_depth = [int(x) for x in np.linspace(10, 110, num = 11)]\n",
        "max_depth.append(None)\n",
        "#Cantidad minima de muestras requeridas para realizar un split\n",
        "min_samples_split = [2, 5, 10]\n",
        "#Cantidad minima de muestras por cada hoja del arbol\n",
        "min_samples_leaf = [1, 2, 4]\n",
        "#Método de seleccion de muestras para el entrenamiento de cada árbol\n",
        "bootstrap = [True, False]\n",
        "\n",
        "params_rf = {'n_estimators': n_estimators,\n",
        "               'max_features': max_features,\n",
        "               'max_depth': max_depth,\n",
        "               'min_samples_split': min_samples_split,\n",
        "               'min_samples_leaf': min_samples_leaf,\n",
        "               'bootstrap': bootstrap}\"\"\""
      ],
      "execution_count": null,
      "outputs": []
    },
    {
      "cell_type": "code",
      "metadata": {
        "colab_type": "code",
        "id": "AYky__5OeRd6",
        "colab": {}
      },
      "source": [
        "def RandomForest_con_gridsearch(x_train, y_train, x_validation, y_validation):\n",
        "\n",
        "  rf = RandomForestClassifier()\n",
        "  params_rf = {'n_estimators': [50, 100, 200]}\n",
        "  rf_gs = GridSearchCV(rf, params_rf, cv=5)\n",
        "  rf_gs.fit(x_train, y_train)\n",
        "  rf_best = rf_gs.best_estimator_\n",
        "\n",
        "  print(rf_gs.best_params_)\n",
        "  print('rf: {}'.format(rf_best.score(x_validation, y_validation)))\n",
        "\n",
        "  return rf_best"
      ],
      "execution_count": null,
      "outputs": []
    },
    {
      "cell_type": "markdown",
      "metadata": {
        "colab_type": "text",
        "id": "Zxmilw_0zvE1"
      },
      "source": [
        "Corremos el algoritmo con cada matriz y comparamos los resultados."
      ]
    },
    {
      "cell_type": "code",
      "metadata": {
        "colab_type": "code",
        "id": "kGx78s5EzzXj",
        "colab": {
          "base_uri": "https://localhost:8080/",
          "height": 52
        },
        "outputId": "998d2df8-d0c4-43c7-f30e-004bce44d460"
      },
      "source": [
        "rf_text = RandomForest_con_gridsearch(x_train_text, y_train_text, x_validation_text, y_validation_text)"
      ],
      "execution_count": null,
      "outputs": [
        {
          "output_type": "stream",
          "text": [
            "{'n_estimators': 200}\n",
            "rf: 0.7705779334500875\n"
          ],
          "name": "stdout"
        }
      ]
    },
    {
      "cell_type": "code",
      "metadata": {
        "colab_type": "code",
        "id": "PEDeRMPY6ClZ",
        "colab": {
          "base_uri": "https://localhost:8080/",
          "height": 35
        },
        "outputId": "e1fffc79-5471-402a-e027-5df307b49153"
      },
      "source": [
        "cross_val(rf_text, x_train_text, y_train_text)"
      ],
      "execution_count": null,
      "outputs": [
        {
          "output_type": "stream",
          "text": [
            "0.7607457125492165\n"
          ],
          "name": "stdout"
        }
      ]
    },
    {
      "cell_type": "code",
      "metadata": {
        "colab_type": "code",
        "id": "k8SkP7i9zzX-",
        "colab": {
          "base_uri": "https://localhost:8080/",
          "height": 52
        },
        "outputId": "d92ec1f5-1fed-442f-c86e-e00174d0360e"
      },
      "source": [
        "rf_text_keyword = RandomForest_con_gridsearch(x_train_text_keyword, y_train_text_keyword, x_validation_text_keyword, y_validation_text_keyword)"
      ],
      "execution_count": null,
      "outputs": [
        {
          "output_type": "stream",
          "text": [
            "{'n_estimators': 200}\n",
            "rf: 0.7653239929947461\n"
          ],
          "name": "stdout"
        }
      ]
    },
    {
      "cell_type": "code",
      "metadata": {
        "colab_type": "code",
        "id": "e-6A2EVR6IgP",
        "colab": {
          "base_uri": "https://localhost:8080/",
          "height": 35
        },
        "outputId": "bd8e8658-e789-4c0d-fa80-ce11cbe894a4"
      },
      "source": [
        "cross_val(rf_text_keyword, x_train_text_keyword, y_train_text_keyword)"
      ],
      "execution_count": null,
      "outputs": [
        {
          "output_type": "stream",
          "text": [
            "0.7586782231852653\n"
          ],
          "name": "stdout"
        }
      ]
    },
    {
      "cell_type": "code",
      "metadata": {
        "colab_type": "code",
        "id": "Kj9tNbiYzzYE",
        "colab": {
          "base_uri": "https://localhost:8080/",
          "height": 52
        },
        "outputId": "4054d4f8-f9b5-4821-a0c0-f456f709f860"
      },
      "source": [
        "rf_numericos = RandomForest_con_gridsearch(x_train_numericos,y_train_numericos,  x_validation_numericos, y_validation_numericos)"
      ],
      "execution_count": null,
      "outputs": [
        {
          "output_type": "stream",
          "text": [
            "{'n_estimators': 200}\n",
            "rf: 0.7539404553415061\n"
          ],
          "name": "stdout"
        }
      ]
    },
    {
      "cell_type": "code",
      "metadata": {
        "colab_type": "code",
        "id": "oRja8Rik6NCN",
        "colab": {
          "base_uri": "https://localhost:8080/",
          "height": 35
        },
        "outputId": "e3381b71-1105-455c-cb0a-78035dee04a0"
      },
      "source": [
        "cross_val(rf_numericos, x_train_numericos, y_train_numericos)"
      ],
      "execution_count": null,
      "outputs": [
        {
          "output_type": "stream",
          "text": [
            "0.7682447656545904\n"
          ],
          "name": "stdout"
        }
      ]
    },
    {
      "cell_type": "code",
      "metadata": {
        "colab_type": "code",
        "id": "ObKpzVDah7wM",
        "colab": {
          "base_uri": "https://localhost:8080/",
          "height": 17
        },
        "outputId": "f384cb11-b983-42bb-caac-fbc663db20a9"
      },
      "source": [
        "prediction_rf_numericos = rf_numericos.predict(ft_features_numericos_test)\n",
        "submission_rf = pd.DataFrame(data={'id':test['id'], 'target': prediction_rf_numericos})\n",
        "submission_rf.to_csv('ft_rf.csv', index=False)\n",
        "files.download('ft_rf.csv')"
      ],
      "execution_count": null,
      "outputs": [
        {
          "output_type": "display_data",
          "data": {
            "application/javascript": [
              "\n",
              "    async function download(id, filename, size) {\n",
              "      if (!google.colab.kernel.accessAllowed) {\n",
              "        return;\n",
              "      }\n",
              "      const div = document.createElement('div');\n",
              "      const label = document.createElement('label');\n",
              "      label.textContent = `Downloading \"${filename}\": `;\n",
              "      div.appendChild(label);\n",
              "      const progress = document.createElement('progress');\n",
              "      progress.max = size;\n",
              "      div.appendChild(progress);\n",
              "      document.body.appendChild(div);\n",
              "\n",
              "      const buffers = [];\n",
              "      let downloaded = 0;\n",
              "\n",
              "      const channel = await google.colab.kernel.comms.open(id);\n",
              "      // Send a message to notify the kernel that we're ready.\n",
              "      channel.send({})\n",
              "\n",
              "      for await (const message of channel.messages) {\n",
              "        // Send a message to notify the kernel that we're ready.\n",
              "        channel.send({})\n",
              "        if (message.buffers) {\n",
              "          for (const buffer of message.buffers) {\n",
              "            buffers.push(buffer);\n",
              "            downloaded += buffer.byteLength;\n",
              "            progress.value = downloaded;\n",
              "          }\n",
              "        }\n",
              "      }\n",
              "      const blob = new Blob(buffers, {type: 'application/binary'});\n",
              "      const a = document.createElement('a');\n",
              "      a.href = window.URL.createObjectURL(blob);\n",
              "      a.download = filename;\n",
              "      div.appendChild(a);\n",
              "      a.click();\n",
              "      div.remove();\n",
              "    }\n",
              "  "
            ],
            "text/plain": [
              "<IPython.core.display.Javascript object>"
            ]
          },
          "metadata": {
            "tags": []
          }
        },
        {
          "output_type": "display_data",
          "data": {
            "application/javascript": [
              "download(\"download_22d797a5-96fd-4cd4-a668-d3a4b0eec145\", \"ft_rf.csv\", 22746)"
            ],
            "text/plain": [
              "<IPython.core.display.Javascript object>"
            ]
          },
          "metadata": {
            "tags": []
          }
        }
      ]
    },
    {
      "cell_type": "markdown",
      "metadata": {
        "colab_type": "text",
        "id": "dQ4oAPbuiZRs"
      },
      "source": [
        "#NuSVC"
      ]
    },
    {
      "cell_type": "code",
      "metadata": {
        "colab_type": "code",
        "id": "0JKU2lABmnvJ",
        "colab": {}
      },
      "source": [
        "def nusvc(x_train, y_train, x_validation, y_validation):\n",
        "\n",
        "  nusvc = NuSVC(probability=True)\n",
        "  grid_nusvc = GridSearchCV(nusvc, param_grid={'nu': [0.4, 0.5]}, cv=5)\n",
        "  grid_nusvc.fit(x_train, y_train)\n",
        "  grid_best = grid_nusvc.best_estimator_\n",
        "  \n",
        "  print(grid_nusvc.best_params_)\n",
        "  print('nusvc score: {}'.format(grid_best.score(x_validation, y_validation)))\n",
        "\n",
        "  return grid_best"
      ],
      "execution_count": null,
      "outputs": []
    },
    {
      "cell_type": "code",
      "metadata": {
        "colab_type": "code",
        "id": "KaZFmmGX3wrs",
        "colab": {
          "base_uri": "https://localhost:8080/",
          "height": 51
        },
        "outputId": "a65e27e4-953e-47a6-d961-6f1abb26cbb9"
      },
      "source": [
        "nusvc_text = nusvc(x_train_text, y_train_text, x_validation_text, y_validation_text)"
      ],
      "execution_count": null,
      "outputs": [
        {
          "output_type": "stream",
          "text": [
            "{'nu': 0.5}\n",
            "nusvc score: 0.7985989492119089\n"
          ],
          "name": "stdout"
        }
      ]
    },
    {
      "cell_type": "code",
      "metadata": {
        "colab_type": "code",
        "id": "1kx0B6jJ3wsF",
        "colab": {
          "base_uri": "https://localhost:8080/",
          "height": 51
        },
        "outputId": "519d47fc-863b-4127-d6d9-3443bbd58bd5"
      },
      "source": [
        "nusvc_text_keyword = nusvc(x_train_text_keyword, y_train_text_keyword, x_validation_text_keyword, y_validation_text_keyword)"
      ],
      "execution_count": null,
      "outputs": [
        {
          "output_type": "stream",
          "text": [
            "{'nu': 0.5}\n",
            "nusvc score: 0.8042907180385289\n"
          ],
          "name": "stdout"
        }
      ]
    },
    {
      "cell_type": "code",
      "metadata": {
        "colab_type": "code",
        "id": "916klxJW3wsV",
        "colab": {
          "base_uri": "https://localhost:8080/",
          "height": 51
        },
        "outputId": "6d1d7a6a-7aad-4c3d-8f4f-711cc32b229f"
      },
      "source": [
        "nusvc_numericos = nusvc(x_train_numericos, y_train_numericos, x_validation_numericos, y_validation_numericos)"
      ],
      "execution_count": null,
      "outputs": [
        {
          "output_type": "stream",
          "text": [
            "{'nu': 0.5}\n",
            "nusvc score: 0.7237302977232924\n"
          ],
          "name": "stdout"
        }
      ]
    },
    {
      "cell_type": "code",
      "metadata": {
        "colab_type": "code",
        "id": "IocFdaWlWYge",
        "colab": {
          "base_uri": "https://localhost:8080/",
          "height": 17
        },
        "outputId": "9a0b8cca-ab78-43f2-afc2-ce534b10c454"
      },
      "source": [
        "prediction_nuscv = nusvc_text_keyword.predict(matriz_test_ft_text_keyword)\n",
        "submission_nuscv = pd.DataFrame(data={'id':test['id'], 'target': prediction_nuscv})\n",
        "submission_nuscv.to_csv('ft_nuscv.csv', index=False)\n",
        "files.download('ft_nuscv.csv')"
      ],
      "execution_count": null,
      "outputs": [
        {
          "output_type": "display_data",
          "data": {
            "application/javascript": [
              "\n",
              "    async function download(id, filename, size) {\n",
              "      if (!google.colab.kernel.accessAllowed) {\n",
              "        return;\n",
              "      }\n",
              "      const div = document.createElement('div');\n",
              "      const label = document.createElement('label');\n",
              "      label.textContent = `Downloading \"${filename}\": `;\n",
              "      div.appendChild(label);\n",
              "      const progress = document.createElement('progress');\n",
              "      progress.max = size;\n",
              "      div.appendChild(progress);\n",
              "      document.body.appendChild(div);\n",
              "\n",
              "      const buffers = [];\n",
              "      let downloaded = 0;\n",
              "\n",
              "      const channel = await google.colab.kernel.comms.open(id);\n",
              "      // Send a message to notify the kernel that we're ready.\n",
              "      channel.send({})\n",
              "\n",
              "      for await (const message of channel.messages) {\n",
              "        // Send a message to notify the kernel that we're ready.\n",
              "        channel.send({})\n",
              "        if (message.buffers) {\n",
              "          for (const buffer of message.buffers) {\n",
              "            buffers.push(buffer);\n",
              "            downloaded += buffer.byteLength;\n",
              "            progress.value = downloaded;\n",
              "          }\n",
              "        }\n",
              "      }\n",
              "      const blob = new Blob(buffers, {type: 'application/binary'});\n",
              "      const a = document.createElement('a');\n",
              "      a.href = window.URL.createObjectURL(blob);\n",
              "      a.download = filename;\n",
              "      div.appendChild(a);\n",
              "      a.click();\n",
              "      div.remove();\n",
              "    }\n",
              "  "
            ],
            "text/plain": [
              "<IPython.core.display.Javascript object>"
            ]
          },
          "metadata": {
            "tags": []
          }
        },
        {
          "output_type": "display_data",
          "data": {
            "application/javascript": [
              "download(\"download_c0135859-0f19-4e86-8cd4-74e3a76ec6d3\", \"ft_nuscv.csv\", 22746)"
            ],
            "text/plain": [
              "<IPython.core.display.Javascript object>"
            ]
          },
          "metadata": {
            "tags": []
          }
        }
      ]
    },
    {
      "cell_type": "markdown",
      "metadata": {
        "colab_type": "text",
        "id": "hQmTcW2IoTTa"
      },
      "source": [
        "#XGBoost"
      ]
    },
    {
      "cell_type": "code",
      "metadata": {
        "colab_type": "code",
        "id": "L6IO89ptoXG-",
        "colab": {}
      },
      "source": [
        "def xgboost(x_train, y_train, x_validation, y_validation):\n",
        "\n",
        "  xgb = XGBClassifier()\n",
        "  params_xgb = {'n_estimators': [50, 100, 200], 'learning_rate': [0.01, 0.05, 0.1], 'gamma': [0, 1, 5]}\n",
        "  xgb_gs = GridSearchCV(xgb, params_xgb, cv=5)\n",
        "  xgb_gs.fit(x_train, y_train)\n",
        "  xgb_best = xgb_gs.best_estimator_\n",
        "\n",
        "  print(xgb_gs.best_params_)\n",
        "  print('xgb: {}'.format(xgb_best.score(x_validation, y_validation)))\n",
        "\n",
        "  return xgb_best\n"
      ],
      "execution_count": null,
      "outputs": []
    },
    {
      "cell_type": "code",
      "metadata": {
        "colab_type": "code",
        "id": "wQi63waZ4XRm",
        "colab": {
          "base_uri": "https://localhost:8080/",
          "height": 52
        },
        "outputId": "1e42892d-666b-4662-dd0d-2325cf019d07"
      },
      "source": [
        "xgboost_text = xgboost(x_train_text, y_train_text, x_validation_text, y_validation_text)"
      ],
      "execution_count": null,
      "outputs": [
        {
          "output_type": "stream",
          "text": [
            "{'gamma': 1, 'learning_rate': 0.1, 'n_estimators': 200}\n",
            "xgb: 0.7911558669001751\n"
          ],
          "name": "stdout"
        }
      ]
    },
    {
      "cell_type": "code",
      "metadata": {
        "colab_type": "code",
        "id": "ZB1_oJ1ZA5Ye",
        "colab": {
          "base_uri": "https://localhost:8080/",
          "height": 35
        },
        "outputId": "264be934-8769-4875-e88d-3ec21c3ab224"
      },
      "source": [
        "cross_val(xgboost_text, x_train_text, y_train_text)"
      ],
      "execution_count": null,
      "outputs": [
        {
          "output_type": "stream",
          "text": [
            "0.7883280923816822\n"
          ],
          "name": "stdout"
        }
      ]
    },
    {
      "cell_type": "code",
      "metadata": {
        "colab_type": "code",
        "id": "x-KFVv-j4XRu",
        "colab": {
          "base_uri": "https://localhost:8080/",
          "height": 52
        },
        "outputId": "8f1a4b26-26c8-49cf-bbdf-e5fd61e242ec"
      },
      "source": [
        "xgboost_text_keyword = xgboost(x_train_text_keyword, y_train_text_keyword, x_validation_text_keyword, y_validation_text_keyword)"
      ],
      "execution_count": null,
      "outputs": [
        {
          "output_type": "stream",
          "text": [
            "{'gamma': 5, 'learning_rate': 0.1, 'n_estimators': 200}\n",
            "xgb: 0.7964098073555166\n"
          ],
          "name": "stdout"
        }
      ]
    },
    {
      "cell_type": "code",
      "metadata": {
        "colab_type": "code",
        "id": "DFyJtDrzA-mJ",
        "colab": {
          "base_uri": "https://localhost:8080/",
          "height": 35
        },
        "outputId": "6873dcbd-7bba-4ed8-acad-dd4d862bfc23"
      },
      "source": [
        "cross_val(xgboost_text_keyword, x_train_text_keyword, y_train_text_keyword)"
      ],
      "execution_count": null,
      "outputs": [
        {
          "output_type": "stream",
          "text": [
            "0.7892647693540857\n"
          ],
          "name": "stdout"
        }
      ]
    },
    {
      "cell_type": "code",
      "metadata": {
        "colab_type": "code",
        "id": "BvbaBOuP4XR0",
        "colab": {
          "base_uri": "https://localhost:8080/",
          "height": 52
        },
        "outputId": "56283d4f-8a36-43f6-8d27-2bef9cf203b2"
      },
      "source": [
        "xgboost_numericos = xgboost(x_train_numericos,y_train_numericos,  x_validation_numericos, y_validation_numericos)"
      ],
      "execution_count": null,
      "outputs": [
        {
          "output_type": "stream",
          "text": [
            "{'gamma': 1, 'learning_rate': 0.1, 'n_estimators': 200}\n",
            "xgb: 0.7837127845884413\n"
          ],
          "name": "stdout"
        }
      ]
    },
    {
      "cell_type": "code",
      "metadata": {
        "colab_type": "code",
        "id": "VEcLYk5NBH84",
        "colab": {
          "base_uri": "https://localhost:8080/",
          "height": 35
        },
        "outputId": "f64990a3-5826-421b-9de5-e31969af36d4"
      },
      "source": [
        "cross_val(xgboost_numericos, x_train_numericos,y_train_numericos)"
      ],
      "execution_count": null,
      "outputs": [
        {
          "output_type": "stream",
          "text": [
            "0.7962046701723788\n"
          ],
          "name": "stdout"
        }
      ]
    },
    {
      "cell_type": "code",
      "metadata": {
        "colab_type": "code",
        "id": "nV3naQTS0rNe",
        "colab": {}
      },
      "source": [
        "y_pred = xgboost_numericos.predict(ft_features_numericos_test)\n",
        "predictions = [round(value) for value in y_pred]\n",
        "submission_xgboost = pd.DataFrame(data={'id':test['id'], 'target': predictions})\n",
        "submission_xgboost.to_csv('ft_xgboost.csv', index=False)"
      ],
      "execution_count": null,
      "outputs": []
    },
    {
      "cell_type": "markdown",
      "metadata": {
        "id": "APlswNB5Zm92",
        "colab_type": "text"
      },
      "source": [
        "#SVC"
      ]
    },
    {
      "cell_type": "code",
      "metadata": {
        "colab_type": "code",
        "id": "kI0MmkBJU8L8",
        "colab": {}
      },
      "source": [
        "from sklearn.svm import SVC\n",
        "from sklearn.model_selection import RandomizedSearchCV\n",
        "from sklearn.metrics import precision_score, recall_score, f1_score, accuracy_score\n",
        "\n",
        "def svc(x_train, y_train, x_test, y_test):\n",
        "  classifier = SVC()\n",
        "\n",
        "  parameters = {'C': [0.1, 1, 10, 100, 1000], 'gamma': [1, 0.1, 0.01, 0.0001], 'kernel' : ['linear',\n",
        "                                                                                         'sigmoid', 'poly', 'rbf']}\n",
        "  grid_s_p = RandomizedSearchCV(classifier, parameters, refit = True) \n",
        "\n",
        "  model = grid_s_p.fit(x_train, y_train)\n",
        "\n",
        "  model.best_params_\n",
        "\n",
        "  svc_best = grid_s_p.best_estimator_\n",
        "\n",
        "  print(model.best_params_)\n",
        "\n",
        "  print('svc: {}'.format(svc_best.score(x_test, y_test)))\n",
        "  preds = model.predict(x_train)\n",
        "  print(\"Accuracy score: \", accuracy_score(y_train, preds))\n",
        "  print(\"Precision score: \", precision_score(y_train, preds))\n",
        "  print(\"Recall score: \", recall_score(y_train, preds))\n",
        "  print(\"f1 score: \", f1_score(y_train, preds))\n",
        "  \n",
        "  return model"
      ],
      "execution_count": 12,
      "outputs": []
    },
    {
      "cell_type": "code",
      "metadata": {
        "colab_type": "code",
        "id": "nJRqqQN3sZzQ",
        "colab": {
          "base_uri": "https://localhost:8080/",
          "height": 119
        },
        "outputId": "468bf669-926b-4a68-8479-ab5b867632db"
      },
      "source": [
        "svc_text = svc(x_train_text, y_train_text, x_validation_text, y_validation_text)"
      ],
      "execution_count": null,
      "outputs": [
        {
          "output_type": "stream",
          "text": [
            "{'kernel': 'linear', 'gamma': 0.0001, 'C': 1000}\n",
            "svc: 0.7859019264448336\n",
            "Accuracy score:  0.8269844248451867\n",
            "Precision score:  0.8330087633885103\n",
            "Recall score:  0.7471615720524017\n",
            "f1 score:  0.7877532228360958\n"
          ],
          "name": "stdout"
        }
      ]
    },
    {
      "cell_type": "code",
      "metadata": {
        "colab_type": "code",
        "id": "TJJkcit_sZzT",
        "colab": {
          "base_uri": "https://localhost:8080/",
          "height": 34
        },
        "outputId": "ecb74683-7bf5-4e46-cdbb-1c22caa014e5"
      },
      "source": [
        "cross_val(svc_text, x_train_text, y_train_text)"
      ],
      "execution_count": null,
      "outputs": [
        {
          "output_type": "stream",
          "text": [
            "0.7911425274599442\n"
          ],
          "name": "stdout"
        }
      ]
    },
    {
      "cell_type": "code",
      "metadata": {
        "colab_type": "code",
        "id": "bgyshBlpsZzV",
        "colab": {
          "base_uri": "https://localhost:8080/",
          "height": 119
        },
        "outputId": "d2dd1ff1-e11e-4cd8-e819-aa8ce5099c04"
      },
      "source": [
        "svc_text_keyword = svc(x_train_text_keyword, y_train_text_keyword, x_validation_text_keyword, y_validation_text_keyword)"
      ],
      "execution_count": 13,
      "outputs": [
        {
          "output_type": "stream",
          "text": [
            "{'kernel': 'rbf', 'gamma': 1, 'C': 10}\n",
            "svc: 0.8073555166374781\n",
            "Accuracy score:  0.8187277162694689\n",
            "Precision score:  0.8384458077709611\n",
            "Recall score:  0.7161572052401747\n",
            "f1 score:  0.7724917569477155\n"
          ],
          "name": "stdout"
        }
      ]
    },
    {
      "cell_type": "code",
      "metadata": {
        "colab_type": "code",
        "id": "8QgHAh-DsZzY",
        "colab": {
          "base_uri": "https://localhost:8080/",
          "height": 34
        },
        "outputId": "6f50a88e-357b-412a-ddd4-22c0399a64ce"
      },
      "source": [
        "cross_val(svc_text_keyword, x_train_text_keyword, y_train_text_keyword)"
      ],
      "execution_count": 14,
      "outputs": [
        {
          "output_type": "stream",
          "text": [
            "0.7922736921843758\n"
          ],
          "name": "stdout"
        }
      ]
    },
    {
      "cell_type": "code",
      "metadata": {
        "colab_type": "code",
        "id": "wK6wizLcsZza",
        "colab": {}
      },
      "source": [
        "#Tardo 5 horas\n",
        "# svc_numericos = svc(x_train_numericos,y_train_numericos, x_validation_numericos, y_validation_numericos)"
      ],
      "execution_count": null,
      "outputs": []
    },
    {
      "cell_type": "code",
      "metadata": {
        "colab_type": "code",
        "id": "PfilRHdYsZzc",
        "colab": {}
      },
      "source": [
        "# cross_val(svc_numericos, x_train_numericos,y_train_numericos)"
      ],
      "execution_count": null,
      "outputs": []
    },
    {
      "cell_type": "code",
      "metadata": {
        "id": "rmEtPHt0Zr8L",
        "colab_type": "code",
        "colab": {
          "base_uri": "https://localhost:8080/",
          "height": 17
        },
        "outputId": "4e068b77-1e18-48d3-827a-1c599d8e6aad"
      },
      "source": [
        "preds = svc_text_keyword.predict(matriz_test_ft_text_keyword)\n",
        "submission = pd.DataFrame(data={'id':test['id'], 'target': preds})\n",
        "submission.to_csv('fastext_svc.csv', index=False)\n",
        "files.download('fastext_svc.csv')"
      ],
      "execution_count": 15,
      "outputs": [
        {
          "output_type": "display_data",
          "data": {
            "application/javascript": [
              "\n",
              "    async function download(id, filename, size) {\n",
              "      if (!google.colab.kernel.accessAllowed) {\n",
              "        return;\n",
              "      }\n",
              "      const div = document.createElement('div');\n",
              "      const label = document.createElement('label');\n",
              "      label.textContent = `Downloading \"${filename}\": `;\n",
              "      div.appendChild(label);\n",
              "      const progress = document.createElement('progress');\n",
              "      progress.max = size;\n",
              "      div.appendChild(progress);\n",
              "      document.body.appendChild(div);\n",
              "\n",
              "      const buffers = [];\n",
              "      let downloaded = 0;\n",
              "\n",
              "      const channel = await google.colab.kernel.comms.open(id);\n",
              "      // Send a message to notify the kernel that we're ready.\n",
              "      channel.send({})\n",
              "\n",
              "      for await (const message of channel.messages) {\n",
              "        // Send a message to notify the kernel that we're ready.\n",
              "        channel.send({})\n",
              "        if (message.buffers) {\n",
              "          for (const buffer of message.buffers) {\n",
              "            buffers.push(buffer);\n",
              "            downloaded += buffer.byteLength;\n",
              "            progress.value = downloaded;\n",
              "          }\n",
              "        }\n",
              "      }\n",
              "      const blob = new Blob(buffers, {type: 'application/binary'});\n",
              "      const a = document.createElement('a');\n",
              "      a.href = window.URL.createObjectURL(blob);\n",
              "      a.download = filename;\n",
              "      div.appendChild(a);\n",
              "      a.click();\n",
              "      div.remove();\n",
              "    }\n",
              "  "
            ],
            "text/plain": [
              "<IPython.core.display.Javascript object>"
            ]
          },
          "metadata": {
            "tags": []
          }
        },
        {
          "output_type": "display_data",
          "data": {
            "application/javascript": [
              "download(\"download_d959282e-4841-4fd6-926d-084b5c805f65\", \"fastext_svc.csv\", 22746)"
            ],
            "text/plain": [
              "<IPython.core.display.Javascript object>"
            ]
          },
          "metadata": {
            "tags": []
          }
        }
      ]
    }
  ]
}