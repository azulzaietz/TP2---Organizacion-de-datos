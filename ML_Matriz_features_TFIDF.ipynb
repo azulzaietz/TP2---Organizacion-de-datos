{
  "nbformat": 4,
  "nbformat_minor": 0,
  "metadata": {
    "colab": {
      "name": "ML - Matriz features TFIDF.ipynb",
      "provenance": [],
      "collapsed_sections": []
    },
    "kernelspec": {
      "name": "python3",
      "display_name": "Python 3"
    }
  },
  "cells": [
    {
      "cell_type": "code",
      "metadata": {
        "id": "uFeJEwjf9KoW",
        "colab_type": "code",
        "colab": {}
      },
      "source": [
        "import pandas as pd\n",
        "import numpy as np\n",
        "\n",
        "from sklearn.neighbors import KNeighborsClassifier\n",
        "from sklearn.naive_bayes import MultinomialNB\n",
        "from sklearn.model_selection import GridSearchCV\n",
        "from sklearn.ensemble import RandomForestClassifier\n",
        "from sklearn.svm import SVC, LinearSVC, NuSVC\n",
        "from sklearn.ensemble import BaggingClassifier\n",
        "from sklearn.tree import DecisionTreeClassifier\n",
        "from xgboost import XGBClassifier\n",
        "\n",
        "from sklearn import metrics\n",
        "from sklearn.model_selection import train_test_split\n",
        "from sklearn import preprocessing\n",
        "from sklearn import model_selection\n",
        "\n",
        "from sklearn.datasets import fetch_20newsgroups\n",
        "from keras.layers import  Dropout, Dense\n",
        "from keras.models import Sequential"
      ],
      "execution_count": 21,
      "outputs": []
    },
    {
      "cell_type": "code",
      "metadata": {
        "id": "g7cs63g0BVdE",
        "colab_type": "code",
        "colab": {}
      },
      "source": [
        "from pydrive.auth import GoogleAuth\n",
        "from pydrive.drive import GoogleDrive\n",
        "from google.colab import auth\n",
        "from oauth2client.client import GoogleCredentials\n",
        "\n",
        "# Authenticate and create the PyDrive client\n",
        "auth.authenticate_user()\n",
        "gauth = GoogleAuth()\n",
        "gauth.credentials = GoogleCredentials.get_application_default()\n",
        "drive = GoogleDrive(gauth)"
      ],
      "execution_count": 2,
      "outputs": []
    },
    {
      "cell_type": "code",
      "metadata": {
        "id": "9p3zz8l5Bc3W",
        "colab_type": "code",
        "colab": {}
      },
      "source": [
        "id='1Pk5MK9Hs_kMUT9NotGnOKE0NPra-39YU'\n",
        "downloaded = drive.CreateFile({'id': id})\n",
        "downloaded.GetContentFile('train.csv')"
      ],
      "execution_count": 3,
      "outputs": []
    },
    {
      "cell_type": "code",
      "metadata": {
        "id": "hMIzVuosBfwi",
        "colab_type": "code",
        "colab": {}
      },
      "source": [
        "train = pd.read_csv('train.csv')"
      ],
      "execution_count": 4,
      "outputs": []
    },
    {
      "cell_type": "code",
      "metadata": {
        "id": "Dct00taijaXf",
        "colab_type": "code",
        "colab": {}
      },
      "source": [
        "id='1GsTM9oLtIV8-Da_fDOFWsQYMpgQ8GOYJ'\n",
        "downloaded = drive.CreateFile({'id': id})\n",
        "downloaded.GetContentFile('test.csv')"
      ],
      "execution_count": 5,
      "outputs": []
    },
    {
      "cell_type": "code",
      "metadata": {
        "id": "iHAG-FzajbUn",
        "colab_type": "code",
        "colab": {}
      },
      "source": [
        "test = pd.read_csv('test.csv')"
      ],
      "execution_count": 6,
      "outputs": []
    },
    {
      "cell_type": "code",
      "metadata": {
        "id": "eJP40Ci4Br5i",
        "colab_type": "code",
        "colab": {}
      },
      "source": [
        "id='1Zwujaf2YpTLz30dx_seMDcdIfpJ26Jwi'\n",
        "downloaded = drive.CreateFile({'id': id})\n",
        "downloaded.GetContentFile('features_test_tf_idf.csv')"
      ],
      "execution_count": 7,
      "outputs": []
    },
    {
      "cell_type": "code",
      "metadata": {
        "id": "ELz9Rzd4CCOP",
        "colab_type": "code",
        "colab": {}
      },
      "source": [
        "features_test = pd.read_csv('features_test_tf_idf.csv')"
      ],
      "execution_count": 8,
      "outputs": []
    },
    {
      "cell_type": "code",
      "metadata": {
        "id": "NmhrFFH7f4VH",
        "colab_type": "code",
        "colab": {
          "base_uri": "https://localhost:8080/",
          "height": 35
        },
        "outputId": "4230db08-f9d5-4b89-dd89-a0b6473f28ae"
      },
      "source": [
        "features_test.shape"
      ],
      "execution_count": 9,
      "outputs": [
        {
          "output_type": "execute_result",
          "data": {
            "text/plain": [
              "(3263, 10437)"
            ]
          },
          "metadata": {
            "tags": []
          },
          "execution_count": 9
        }
      ]
    },
    {
      "cell_type": "code",
      "metadata": {
        "id": "KCEL8TaTCPiz",
        "colab_type": "code",
        "colab": {}
      },
      "source": [
        "id='1rOewUmTVGHSU6juiNj5bpBgQBA7PvcGc'\n",
        "downloaded = drive.CreateFile({'id': id})\n",
        "downloaded.GetContentFile('features_train_tf_idf.csv')"
      ],
      "execution_count": 10,
      "outputs": []
    },
    {
      "cell_type": "code",
      "metadata": {
        "id": "ttwzZYD6CQuX",
        "colab_type": "code",
        "colab": {}
      },
      "source": [
        "features_train = pd.read_csv('features_train_tf_idf.csv')"
      ],
      "execution_count": 11,
      "outputs": []
    },
    {
      "cell_type": "code",
      "metadata": {
        "id": "0MkkpfyQOoe8",
        "colab_type": "code",
        "colab": {
          "base_uri": "https://localhost:8080/",
          "height": 35
        },
        "outputId": "14d988a8-8d63-44fe-f193-c3aee6033638"
      },
      "source": [
        "features_train.shape"
      ],
      "execution_count": 12,
      "outputs": [
        {
          "output_type": "execute_result",
          "data": {
            "text/plain": [
              "(7613, 10437)"
            ]
          },
          "metadata": {
            "tags": []
          },
          "execution_count": 12
        }
      ]
    },
    {
      "cell_type": "code",
      "metadata": {
        "id": "0wEyJtPQCwV5",
        "colab_type": "code",
        "colab": {}
      },
      "source": [
        "y = train.target\n",
        "x_train, x_validation, y_train, y_validation = train_test_split(features_train, y, test_size=0.3, stratify=y)"
      ],
      "execution_count": 14,
      "outputs": []
    },
    {
      "cell_type": "markdown",
      "metadata": {
        "id": "Obg4aHrN9FXz",
        "colab_type": "text"
      },
      "source": [
        "#KNN"
      ]
    },
    {
      "cell_type": "markdown",
      "metadata": {
        "id": "dxzd-0dAKvYH",
        "colab_type": "text"
      },
      "source": [
        "Buscamos los mejores hiperparametros"
      ]
    },
    {
      "cell_type": "code",
      "metadata": {
        "id": "iEeOTy4TR-yt",
        "colab_type": "code",
        "colab": {
          "base_uri": "https://localhost:8080/",
          "height": 69
        },
        "outputId": "5fb01f41-6510-400a-9bd1-40fbe68b46f5"
      },
      "source": [
        "knn = KNeighborsClassifier(10)\n",
        "knn.fit(x_train, y_train)"
      ],
      "execution_count": 15,
      "outputs": [
        {
          "output_type": "execute_result",
          "data": {
            "text/plain": [
              "KNeighborsClassifier(algorithm='auto', leaf_size=30, metric='minkowski',\n",
              "                     metric_params=None, n_jobs=None, n_neighbors=10, p=2,\n",
              "                     weights='uniform')"
            ]
          },
          "metadata": {
            "tags": []
          },
          "execution_count": 15
        }
      ]
    },
    {
      "cell_type": "code",
      "metadata": {
        "id": "BTkuwvH9EtSM",
        "colab_type": "code",
        "colab": {}
      },
      "source": [
        "#BUSQUEDA DE HIPERPARAMETROS\n",
        "\n",
        "#params_knn = {'n_neighbors': np.arange(1, 25)}\n",
        "#knn_gs = GridSearchCV(knn, params_knn, cv=5)\n",
        "#knn_gs.fit(x_train, y_train)\n",
        "\n",
        "#knn_best = knn_gs.best_estimator_\n",
        "#print(knn_gs.best_params_)\n",
        "\n",
        "#print('knn score: {}'.format(knn_best.score(x_validation, y_validation)))\n",
        "#print('knn accuracy_score: {}'.format(knn_best.accuracy_score(x_validation, y_validation)))"
      ],
      "execution_count": null,
      "outputs": []
    },
    {
      "cell_type": "code",
      "metadata": {
        "id": "eAlzOjKuE0LW",
        "colab_type": "code",
        "colab": {
          "base_uri": "https://localhost:8080/",
          "height": 35
        },
        "outputId": "eaec52cd-0112-4900-df2c-e85cdb428921"
      },
      "source": [
        "print('knn score: {}'.format(knn.score(x_validation, y_validation)))"
      ],
      "execution_count": null,
      "outputs": [
        {
          "output_type": "stream",
          "text": [
            "knn score: 0.6654991243432574\n"
          ],
          "name": "stdout"
        }
      ]
    },
    {
      "cell_type": "markdown",
      "metadata": {
        "id": "VxJG8avbLoxi",
        "colab_type": "text"
      },
      "source": [
        "Realizamos la prediccion con el modelo"
      ]
    },
    {
      "cell_type": "code",
      "metadata": {
        "id": "RU2nPooS95Da",
        "colab_type": "code",
        "colab": {}
      },
      "source": [
        "#prediction_knn = knn_best.predict(features_test)\n",
        "#submission_knn = pd.DataFrame(data={'id':test['id'], 'target': prediction_knn})\n",
        "#submission_knn.to_csv('tf_idf_knn.csv', index=False)"
      ],
      "execution_count": null,
      "outputs": []
    },
    {
      "cell_type": "code",
      "metadata": {
        "id": "ek-6Zu_kTKBv",
        "colab_type": "code",
        "colab": {}
      },
      "source": [
        "prediction_knn = knn.predict(features_test)\n",
        "submission_knn = pd.DataFrame(data={'id':test['id'], 'target': prediction_knn})\n",
        "submission_knn.to_csv('tf_idf_knn.csv', index=False)"
      ],
      "execution_count": null,
      "outputs": []
    },
    {
      "cell_type": "markdown",
      "metadata": {
        "id": "hzTH-lYFLrfB",
        "colab_type": "text"
      },
      "source": [
        "#NAIVE BAYES CLASSIFICATION"
      ]
    },
    {
      "cell_type": "code",
      "metadata": {
        "id": "vuRrJZacLuE0",
        "colab_type": "code",
        "colab": {
          "base_uri": "https://localhost:8080/",
          "height": 104
        },
        "outputId": "cae9f93b-613d-44c5-f21b-1dd755f0dddb"
      },
      "source": [
        "from sklearn.model_selection import GridSearchCV\n",
        "\n",
        "parameters = {'alpha': (1, 0.1, 0.01, 0.001, 0.0001, 0.00001)} \n",
        "model = MultinomialNB()\n",
        "nb = GridSearchCV(model, parameters, n_jobs=-1, verbose=2)\n",
        "\n",
        "nb.fit(x_train, y_train)\n",
        "nb_best = nb.best_estimator_\n",
        "print(nb.best_params_)\n",
        "\n",
        "print('naive bayes score: {}'.format(nb_best.score(x_validation, y_validation)))"
      ],
      "execution_count": null,
      "outputs": [
        {
          "output_type": "stream",
          "text": [
            "Fitting 5 folds for each of 6 candidates, totalling 30 fits\n"
          ],
          "name": "stdout"
        },
        {
          "output_type": "stream",
          "text": [
            "[Parallel(n_jobs=-1)]: Using backend LokyBackend with 2 concurrent workers.\n",
            "[Parallel(n_jobs=-1)]: Done  30 out of  30 | elapsed:    7.1s finished\n"
          ],
          "name": "stderr"
        },
        {
          "output_type": "stream",
          "text": [
            "{'alpha': 0.1}\n",
            "naive bayes score: 0.6247810858143608\n"
          ],
          "name": "stdout"
        }
      ]
    },
    {
      "cell_type": "code",
      "metadata": {
        "id": "CIUwyP1GO22i",
        "colab_type": "code",
        "colab": {}
      },
      "source": [
        "prediction_nb = nb_best.predict(features_test)"
      ],
      "execution_count": null,
      "outputs": []
    },
    {
      "cell_type": "code",
      "metadata": {
        "id": "F9a275eDVre8",
        "colab_type": "code",
        "colab": {}
      },
      "source": [
        "submission_nb = pd.DataFrame(data={'id':test['id'], 'target': prediction_nb})\n",
        "submission_nb.to_csv('tf_idf_nb.csv', index=False)"
      ],
      "execution_count": null,
      "outputs": []
    },
    {
      "cell_type": "markdown",
      "metadata": {
        "id": "QDnbt2akcCjX",
        "colab_type": "text"
      },
      "source": [
        "#RED NEURONAL PROFUNDA"
      ]
    },
    {
      "cell_type": "code",
      "metadata": {
        "id": "i6VcjQlgcHOn",
        "colab_type": "code",
        "colab": {}
      },
      "source": [
        "def DNN_model(shape, nClasses, dropout=0.5):\n",
        "    model = Sequential()\n",
        "    node = 512\n",
        "    nLayers = 4\n",
        "    model.add(Dense(node,input_dim=shape,activation='relu'))\n",
        "    model.add(Dropout(dropout))\n",
        "    for i in range(0,nLayers):\n",
        "        model.add(Dense(node,input_dim=node,activation='relu'))\n",
        "        model.add(Dropout(dropout))\n",
        "    model.add(Dense(nClasses, activation='softmax'))\n",
        "    model.compile(loss='sparse_categorical_crossentropy', optimizer='adam', metrics=['accuracy'])\n",
        "    return model"
      ],
      "execution_count": null,
      "outputs": []
    },
    {
      "cell_type": "code",
      "metadata": {
        "id": "UdFpzN-Ucc5s",
        "colab_type": "code",
        "colab": {
          "base_uri": "https://localhost:8080/",
          "height": 381
        },
        "outputId": "e917c6f7-79ad-4296-b913-2b768a14aeb5"
      },
      "source": [
        "model_DNN = DNN_model(features_train.shape[1], 2)\n",
        "model_DNN.fit(features_train, train.target, epochs=10, batch_size=128, verbose=2)"
      ],
      "execution_count": null,
      "outputs": [
        {
          "output_type": "stream",
          "text": [
            "Epoch 1/10\n",
            " - 6s - loss: 0.7159 - accuracy: 0.5405\n",
            "Epoch 2/10\n",
            " - 6s - loss: 0.6632 - accuracy: 0.5958\n",
            "Epoch 3/10\n",
            " - 6s - loss: 0.6450 - accuracy: 0.6246\n",
            "Epoch 4/10\n",
            " - 6s - loss: 0.6356 - accuracy: 0.6343\n",
            "Epoch 5/10\n",
            " - 6s - loss: 0.6250 - accuracy: 0.6594\n",
            "Epoch 6/10\n",
            " - 6s - loss: 0.6086 - accuracy: 0.6719\n",
            "Epoch 7/10\n",
            " - 6s - loss: 0.5906 - accuracy: 0.6901\n",
            "Epoch 8/10\n",
            " - 6s - loss: 0.5571 - accuracy: 0.7202\n",
            "Epoch 9/10\n",
            " - 6s - loss: 0.5164 - accuracy: 0.7477\n",
            "Epoch 10/10\n",
            " - 6s - loss: 0.4950 - accuracy: 0.7607\n"
          ],
          "name": "stdout"
        },
        {
          "output_type": "execute_result",
          "data": {
            "text/plain": [
              "<keras.callbacks.callbacks.History at 0x7f4901a25eb8>"
            ]
          },
          "metadata": {
            "tags": []
          },
          "execution_count": 26
        }
      ]
    },
    {
      "cell_type": "code",
      "metadata": {
        "id": "Wv2wcBTXcgT-",
        "colab_type": "code",
        "colab": {}
      },
      "source": [
        "prediction_dnn = model_DNN.predict_classes(features_test)"
      ],
      "execution_count": null,
      "outputs": []
    },
    {
      "cell_type": "code",
      "metadata": {
        "id": "3AtiWZsDhrTO",
        "colab_type": "code",
        "colab": {}
      },
      "source": [
        "submission_dnn = pd.DataFrame(data={'id':test['id'], 'target': prediction_dnn})\n",
        "submission_dnn.to_csv('tf_idf_dnn.csv', index=False)"
      ],
      "execution_count": null,
      "outputs": []
    },
    {
      "cell_type": "markdown",
      "metadata": {
        "id": "wyHI9-fPeSe_",
        "colab_type": "text"
      },
      "source": [
        "#RANDOM FOREST"
      ]
    },
    {
      "cell_type": "markdown",
      "metadata": {
        "id": "tn97xVuPkbi6",
        "colab_type": "text"
      },
      "source": [
        "GRID SEARCH"
      ]
    },
    {
      "cell_type": "code",
      "metadata": {
        "id": "AYky__5OeRd6",
        "colab_type": "code",
        "colab": {
          "base_uri": "https://localhost:8080/",
          "height": 364
        },
        "outputId": "3625437e-b703-4f05-e64b-17d80c467082"
      },
      "source": [
        "rf = RandomForestClassifier()\n",
        "params_rf = {'n_estimators': [50, 100, 200]}\n",
        "rf_gs = GridSearchCV(rf, params_rf, cv=5)\n",
        "rf_gs.fit(x_train, y_train)"
      ],
      "execution_count": null,
      "outputs": [
        {
          "output_type": "execute_result",
          "data": {
            "text/plain": [
              "GridSearchCV(cv=5, error_score=nan,\n",
              "             estimator=RandomForestClassifier(bootstrap=True, ccp_alpha=0.0,\n",
              "                                              class_weight=None,\n",
              "                                              criterion='gini', max_depth=None,\n",
              "                                              max_features='auto',\n",
              "                                              max_leaf_nodes=None,\n",
              "                                              max_samples=None,\n",
              "                                              min_impurity_decrease=0.0,\n",
              "                                              min_impurity_split=None,\n",
              "                                              min_samples_leaf=1,\n",
              "                                              min_samples_split=2,\n",
              "                                              min_weight_fraction_leaf=0.0,\n",
              "                                              n_estimators=100, n_jobs=None,\n",
              "                                              oob_score=False,\n",
              "                                              random_state=None, verbose=0,\n",
              "                                              warm_start=False),\n",
              "             iid='deprecated', n_jobs=None,\n",
              "             param_grid={'n_estimators': [50, 100, 200]},\n",
              "             pre_dispatch='2*n_jobs', refit=True, return_train_score=False,\n",
              "             scoring=None, verbose=0)"
            ]
          },
          "metadata": {
            "tags": []
          },
          "execution_count": 27
        }
      ]
    },
    {
      "cell_type": "code",
      "metadata": {
        "id": "ZUIR3iv3eiUL",
        "colab_type": "code",
        "colab": {
          "base_uri": "https://localhost:8080/",
          "height": 35
        },
        "outputId": "a26a7c92-8724-4aa7-fe5f-3acce22abf66"
      },
      "source": [
        "rf_best = rf_gs.best_estimator_\n",
        "print(rf_gs.best_params_)"
      ],
      "execution_count": null,
      "outputs": [
        {
          "output_type": "stream",
          "text": [
            "{'n_estimators': 200}\n"
          ],
          "name": "stdout"
        }
      ]
    },
    {
      "cell_type": "code",
      "metadata": {
        "id": "kUsTQdvCekor",
        "colab_type": "code",
        "colab": {
          "base_uri": "https://localhost:8080/",
          "height": 35
        },
        "outputId": "5c93c3c9-e946-4d0e-bdab-7ecb36e94e09"
      },
      "source": [
        "print('rf: {}'.format(rf_best.score(x_validation, y_validation)))"
      ],
      "execution_count": null,
      "outputs": [
        {
          "output_type": "stream",
          "text": [
            "rf: 0.6865148861646234\n"
          ],
          "name": "stdout"
        }
      ]
    },
    {
      "cell_type": "code",
      "metadata": {
        "id": "8q_ntXAse9lg",
        "colab_type": "code",
        "colab": {}
      },
      "source": [
        "prediction_rf = rf_best.predict(features_test)"
      ],
      "execution_count": null,
      "outputs": []
    },
    {
      "cell_type": "code",
      "metadata": {
        "id": "ObKpzVDah7wM",
        "colab_type": "code",
        "colab": {}
      },
      "source": [
        "submission_rf = pd.DataFrame(data={'id':test['id'], 'target': prediction_rf})\n",
        "submission_rf.to_csv('tf_idf_rf.csv', index=False)"
      ],
      "execution_count": null,
      "outputs": []
    },
    {
      "cell_type": "markdown",
      "metadata": {
        "id": "J1gw99OwkeT2",
        "colab_type": "text"
      },
      "source": [
        "BAGGING"
      ]
    },
    {
      "cell_type": "code",
      "metadata": {
        "id": "9ByiSL9KmYfx",
        "colab_type": "code",
        "colab": {}
      },
      "source": [
        "seed = 7\n",
        "num_trees = 100"
      ],
      "execution_count": 16,
      "outputs": []
    },
    {
      "cell_type": "markdown",
      "metadata": {
        "id": "5Cm7I2ONl0Dg",
        "colab_type": "text"
      },
      "source": [
        "BAGGING CLASSIFIER"
      ]
    },
    {
      "cell_type": "code",
      "metadata": {
        "id": "WpE8Jl160UF9",
        "colab_type": "code",
        "colab": {}
      },
      "source": [
        "#TARDO 48 MIN Y NO TERMINO"
      ],
      "execution_count": null,
      "outputs": []
    },
    {
      "cell_type": "code",
      "metadata": {
        "id": "vesQ1n6bkf4D",
        "colab_type": "code",
        "colab": {}
      },
      "source": [
        "#kfold = model_selection.KFold(n_splits=10)\n",
        "#cart = DecisionTreeClassifier()\n",
        "#model = BaggingClassifier(base_estimator=cart, n_estimators=num_trees, random_state=seed)\n",
        "#results = model_selection.cross_val_score(model, features_train, train.target, cv=kfold)\n",
        "#print(results.mean())"
      ],
      "execution_count": null,
      "outputs": []
    },
    {
      "cell_type": "code",
      "metadata": {
        "id": "3jozCUu-kw5j",
        "colab_type": "code",
        "colab": {}
      },
      "source": [
        "#prediction_bagg = model.predict(features_test)"
      ],
      "execution_count": null,
      "outputs": []
    },
    {
      "cell_type": "code",
      "metadata": {
        "id": "tXug4FjUk8W2",
        "colab_type": "code",
        "colab": {}
      },
      "source": [
        "#submission_bagg = pd.DataFrame(data={'id':test['id'], 'target': prediction_bagg})\n",
        "#submission_bagg.to_csv('tf_idf_bagg.csv', index=False)"
      ],
      "execution_count": null,
      "outputs": []
    },
    {
      "cell_type": "markdown",
      "metadata": {
        "id": "zwxaOcm5l2ow",
        "colab_type": "text"
      },
      "source": [
        "BAGGING CON RANDOM FOREST"
      ]
    },
    {
      "cell_type": "code",
      "metadata": {
        "id": "zsDPfnoIl45R",
        "colab_type": "code",
        "colab": {
          "base_uri": "https://localhost:8080/",
          "height": 35
        },
        "outputId": "cdf9fc8c-8464-416e-f017-dffd3e73d96c"
      },
      "source": [
        "max_features = 3\n",
        "kfold = model_selection.KFold(n_splits=10)\n",
        "model = RandomForestClassifier(n_estimators=num_trees, max_features=max_features)\n",
        "results = model_selection.cross_val_score(model, features_train, train.target, cv=kfold)\n",
        "print(results.mean())"
      ],
      "execution_count": 18,
      "outputs": [
        {
          "output_type": "stream",
          "text": [
            "0.6038221569215806\n"
          ],
          "name": "stdout"
        }
      ]
    },
    {
      "cell_type": "code",
      "metadata": {
        "id": "e_mwFwxamAJk",
        "colab_type": "code",
        "colab": {}
      },
      "source": [
        "prediction_rf_bagg = model.predict(features_test)"
      ],
      "execution_count": null,
      "outputs": []
    },
    {
      "cell_type": "code",
      "metadata": {
        "id": "axfhzGFBmBgk",
        "colab_type": "code",
        "colab": {}
      },
      "source": [
        "submission_rf_bagg = pd.DataFrame(data={'id':test['id'], 'target': prediction_rf_bagg})\n",
        "submission_rf_bagg.to_csv('tf_idf_rf_bagg.csv', index=False)"
      ],
      "execution_count": null,
      "outputs": []
    },
    {
      "cell_type": "markdown",
      "metadata": {
        "id": "dQ4oAPbuiZRs",
        "colab_type": "text"
      },
      "source": [
        "#NuSCV"
      ]
    },
    {
      "cell_type": "markdown",
      "metadata": {
        "id": "cUJccxFqmwwd",
        "colab_type": "text"
      },
      "source": [
        "TARDO MUCHO. MUY BUENA PREDICCION SOLO CON TFIDF SIN MAS FEATURES."
      ]
    },
    {
      "cell_type": "code",
      "metadata": {
        "id": "0JKU2lABmnvJ",
        "colab_type": "code",
        "colab": {}
      },
      "source": [
        "#nuscv = NuSVC(probability=True)\n",
        "#nuscv.fit(x_train, y_train)\n",
        "\n",
        "#print('rf: {}'.format(nuscv.score(x_validation, y_validation)))\n",
        "\n",
        "#prediction_nuscv = nuscv.predict(features_test)\n",
        "\n",
        "#submission_nuscv = pd.DataFrame(data={'id':test['id'], 'target': prediction_nuscv})\n",
        "#submission_nuscv.to_csv('tf_idf_nuscv.csv', index=False)"
      ],
      "execution_count": null,
      "outputs": []
    },
    {
      "cell_type": "markdown",
      "metadata": {
        "id": "hQmTcW2IoTTa",
        "colab_type": "text"
      },
      "source": [
        "#XGBoost"
      ]
    },
    {
      "cell_type": "code",
      "metadata": {
        "id": "Q8LoAAfbpk3E",
        "colab_type": "code",
        "colab": {}
      },
      "source": [
        "from sklearn.metrics import accuracy_score"
      ],
      "execution_count": 19,
      "outputs": []
    },
    {
      "cell_type": "code",
      "metadata": {
        "id": "L6IO89ptoXG-",
        "colab_type": "code",
        "colab": {
          "base_uri": "https://localhost:8080/",
          "height": 139
        },
        "outputId": "eb3fb2d4-f4a2-4454-8f78-b45cc26e765f"
      },
      "source": [
        "model = XGBClassifier()\n",
        "model.fit(x_train, y_train)"
      ],
      "execution_count": 22,
      "outputs": [
        {
          "output_type": "execute_result",
          "data": {
            "text/plain": [
              "XGBClassifier(base_score=0.5, booster='gbtree', colsample_bylevel=1,\n",
              "              colsample_bynode=1, colsample_bytree=1, gamma=0,\n",
              "              learning_rate=0.1, max_delta_step=0, max_depth=3,\n",
              "              min_child_weight=1, missing=None, n_estimators=100, n_jobs=1,\n",
              "              nthread=None, objective='binary:logistic', random_state=0,\n",
              "              reg_alpha=0, reg_lambda=1, scale_pos_weight=1, seed=None,\n",
              "              silent=None, subsample=1, verbosity=1)"
            ]
          },
          "metadata": {
            "tags": []
          },
          "execution_count": 22
        }
      ]
    },
    {
      "cell_type": "code",
      "metadata": {
        "id": "22pYrTrxoUy7",
        "colab_type": "code",
        "colab": {
          "base_uri": "https://localhost:8080/",
          "height": 35
        },
        "outputId": "9530cde9-46a8-4084-a9e9-3ffd442b338b"
      },
      "source": [
        "y_pred = model.predict(x_validation)\n",
        "predictions = [round(value) for value in y_pred]\n",
        "accuracy = accuracy_score(y_validation, predictions)\n",
        "print(\"Accuracy: %.5f%%\" % (accuracy * 100.0))"
      ],
      "execution_count": 23,
      "outputs": [
        {
          "output_type": "stream",
          "text": [
            "Accuracy: 69.70228%\n"
          ],
          "name": "stdout"
        }
      ]
    },
    {
      "cell_type": "code",
      "metadata": {
        "id": "nV3naQTS0rNe",
        "colab_type": "code",
        "colab": {}
      },
      "source": [
        "submission_xgboost = pd.DataFrame(data={'id':test['id'], 'target': prediction_xgboost})\n",
        "submission_xgboost.to_csv('tf_idf_xgboost.csv', index=False)"
      ],
      "execution_count": null,
      "outputs": []
    }
  ]
}