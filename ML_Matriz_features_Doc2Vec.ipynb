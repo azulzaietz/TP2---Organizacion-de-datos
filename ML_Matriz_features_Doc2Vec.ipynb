{
  "nbformat": 4,
  "nbformat_minor": 0,
  "metadata": {
    "colab": {
      "name": "ML - Matriz features Doc2Vec.ipynb",
      "provenance": [],
      "collapsed_sections": []
    },
    "kernelspec": {
      "name": "python3",
      "display_name": "Python 3"
    }
  },
  "cells": [
    {
      "cell_type": "code",
      "metadata": {
        "id": "4MabbfEF1lSL",
        "colab_type": "code",
        "colab": {
          "base_uri": "https://localhost:8080/",
          "height": 34
        },
        "outputId": "b8e3ade4-19b4-4ae4-fe38-0b6e5f8af34c"
      },
      "source": [
        "import pandas as pd\n",
        "import numpy as np\n",
        "\n",
        "from sklearn.neighbors import KNeighborsClassifier\n",
        "from sklearn.naive_bayes import MultinomialNB\n",
        "from sklearn.model_selection import GridSearchCV\n",
        "from sklearn.ensemble import RandomForestClassifier\n",
        "from sklearn.svm import SVC, LinearSVC, NuSVC\n",
        "from sklearn.ensemble import BaggingClassifier\n",
        "from sklearn.tree import DecisionTreeClassifier\n",
        "from xgboost import XGBClassifier\n",
        "\n",
        "from sklearn import metrics\n",
        "from sklearn.metrics import accuracy_score\n",
        "from sklearn.model_selection import train_test_split\n",
        "from sklearn import preprocessing\n",
        "from sklearn import model_selection\n",
        "\n",
        "from sklearn.datasets import fetch_20newsgroups\n",
        "from keras.layers import  Dropout, Dense\n",
        "from keras.models import Sequential"
      ],
      "execution_count": 1,
      "outputs": [
        {
          "output_type": "stream",
          "text": [
            "Using TensorFlow backend.\n"
          ],
          "name": "stderr"
        }
      ]
    },
    {
      "cell_type": "code",
      "metadata": {
        "id": "-_dO2NXB1G1P",
        "colab_type": "code",
        "colab": {}
      },
      "source": [
        "from pydrive.auth import GoogleAuth\n",
        "from pydrive.drive import GoogleDrive\n",
        "from google.colab import auth\n",
        "from oauth2client.client import GoogleCredentials\n",
        "\n",
        "# Authenticate and create the PyDrive client\n",
        "auth.authenticate_user()\n",
        "gauth = GoogleAuth()\n",
        "gauth.credentials = GoogleCredentials.get_application_default()\n",
        "drive = GoogleDrive(gauth)"
      ],
      "execution_count": 2,
      "outputs": []
    },
    {
      "cell_type": "code",
      "metadata": {
        "id": "9p3zz8l5Bc3W",
        "colab_type": "code",
        "colab": {}
      },
      "source": [
        "id='1Pk5MK9Hs_kMUT9NotGnOKE0NPra-39YU'\n",
        "downloaded = drive.CreateFile({'id': id})\n",
        "downloaded.GetContentFile('train.csv')"
      ],
      "execution_count": 3,
      "outputs": []
    },
    {
      "cell_type": "code",
      "metadata": {
        "id": "hMIzVuosBfwi",
        "colab_type": "code",
        "colab": {}
      },
      "source": [
        "train = pd.read_csv('train.csv')"
      ],
      "execution_count": 4,
      "outputs": []
    },
    {
      "cell_type": "code",
      "metadata": {
        "id": "Dct00taijaXf",
        "colab_type": "code",
        "colab": {}
      },
      "source": [
        "id='1GsTM9oLtIV8-Da_fDOFWsQYMpgQ8GOYJ'\n",
        "downloaded = drive.CreateFile({'id': id})\n",
        "downloaded.GetContentFile('test.csv')"
      ],
      "execution_count": 5,
      "outputs": []
    },
    {
      "cell_type": "code",
      "metadata": {
        "id": "iHAG-FzajbUn",
        "colab_type": "code",
        "colab": {}
      },
      "source": [
        "test = pd.read_csv('test.csv')"
      ],
      "execution_count": 6,
      "outputs": []
    },
    {
      "cell_type": "code",
      "metadata": {
        "id": "eJP40Ci4Br5i",
        "colab_type": "code",
        "colab": {}
      },
      "source": [
        "id='1ttcOEkPasTJe2OHU-NtcJa9IrGZT7hVM'\n",
        "downloaded = drive.CreateFile({'id': id})\n",
        "downloaded.GetContentFile('features_test_doc2vec.csv')"
      ],
      "execution_count": 7,
      "outputs": []
    },
    {
      "cell_type": "code",
      "metadata": {
        "id": "ELz9Rzd4CCOP",
        "colab_type": "code",
        "colab": {}
      },
      "source": [
        "features_test = pd.read_csv('features_test_doc2vec.csv')"
      ],
      "execution_count": 8,
      "outputs": []
    },
    {
      "cell_type": "code",
      "metadata": {
        "id": "NmhrFFH7f4VH",
        "colab_type": "code",
        "colab": {
          "base_uri": "https://localhost:8080/",
          "height": 34
        },
        "outputId": "b3909ed3-c7ee-40a3-cb4b-63bd51723c0a"
      },
      "source": [
        "features_test.shape"
      ],
      "execution_count": 9,
      "outputs": [
        {
          "output_type": "execute_result",
          "data": {
            "text/plain": [
              "(3263, 108)"
            ]
          },
          "metadata": {
            "tags": []
          },
          "execution_count": 9
        }
      ]
    },
    {
      "cell_type": "code",
      "metadata": {
        "id": "KCEL8TaTCPiz",
        "colab_type": "code",
        "colab": {}
      },
      "source": [
        "id='16bCZV4op8UrlgwJEc2KS4cQEaLEYMMTv'\n",
        "downloaded = drive.CreateFile({'id': id})\n",
        "downloaded.GetContentFile('features_train_doc2vec.csv')"
      ],
      "execution_count": 10,
      "outputs": []
    },
    {
      "cell_type": "code",
      "metadata": {
        "id": "ttwzZYD6CQuX",
        "colab_type": "code",
        "colab": {}
      },
      "source": [
        "features_train = pd.read_csv('features_train_doc2vec.csv')"
      ],
      "execution_count": 11,
      "outputs": []
    },
    {
      "cell_type": "code",
      "metadata": {
        "id": "0MkkpfyQOoe8",
        "colab_type": "code",
        "colab": {
          "base_uri": "https://localhost:8080/",
          "height": 34
        },
        "outputId": "4027f7a4-c859-41a5-dd95-59954409e63c"
      },
      "source": [
        "features_train.shape"
      ],
      "execution_count": 12,
      "outputs": [
        {
          "output_type": "execute_result",
          "data": {
            "text/plain": [
              "(7613, 108)"
            ]
          },
          "metadata": {
            "tags": []
          },
          "execution_count": 12
        }
      ]
    },
    {
      "cell_type": "code",
      "metadata": {
        "id": "0wEyJtPQCwV5",
        "colab_type": "code",
        "colab": {}
      },
      "source": [
        "y = train.target\n",
        "x_train, x_validation, y_train, y_validation = train_test_split(features_train, y, test_size=0.3, stratify=y)"
      ],
      "execution_count": 13,
      "outputs": []
    },
    {
      "cell_type": "markdown",
      "metadata": {
        "id": "ZvZjErbF2o3N",
        "colab_type": "text"
      },
      "source": [
        "##KNN"
      ]
    },
    {
      "cell_type": "markdown",
      "metadata": {
        "id": "dxzd-0dAKvYH",
        "colab_type": "text"
      },
      "source": [
        "Buscamos los mejores hiperparametros"
      ]
    },
    {
      "cell_type": "code",
      "metadata": {
        "id": "BTkuwvH9EtSM",
        "colab_type": "code",
        "colab": {
          "base_uri": "https://localhost:8080/",
          "height": 50
        },
        "outputId": "b24f52c7-df0a-473a-9ba0-dbed4f0bb53a"
      },
      "source": [
        "#BUSQUEDA DE HIPERPARAMETROS\n",
        "knn = KNeighborsClassifier()\n",
        "params_knn = {'n_neighbors': np.arange(1, 25)}\n",
        "knn_gs = GridSearchCV(knn, params_knn, cv=5)\n",
        "knn_gs.fit(x_train, y_train)\n",
        "\n",
        "knn_best = knn_gs.best_estimator_\n",
        "print(knn_gs.best_params_)\n",
        "\n",
        "print('knn score: {}'.format(knn_best.score(x_validation, y_validation)))"
      ],
      "execution_count": 16,
      "outputs": [
        {
          "output_type": "stream",
          "text": [
            "{'n_neighbors': 8}\n",
            "knn score: 0.6711908931698775\n"
          ],
          "name": "stdout"
        }
      ]
    },
    {
      "cell_type": "markdown",
      "metadata": {
        "id": "VxJG8avbLoxi",
        "colab_type": "text"
      },
      "source": [
        "Realizamos la prediccion con el modelo"
      ]
    },
    {
      "cell_type": "code",
      "metadata": {
        "id": "RU2nPooS95Da",
        "colab_type": "code",
        "colab": {}
      },
      "source": [
        "prediction_knn = knn_best.predict(features_test)\n",
        "submission_knn = pd.DataFrame(data={'id':test['id'], 'target': prediction_knn})\n",
        "submission_knn.to_csv('doc2vec_knn.csv', index=False)"
      ],
      "execution_count": null,
      "outputs": []
    },
    {
      "cell_type": "markdown",
      "metadata": {
        "id": "QDnbt2akcCjX",
        "colab_type": "text"
      },
      "source": [
        "#RED NEURONAL PROFUNDA"
      ]
    },
    {
      "cell_type": "code",
      "metadata": {
        "id": "i6VcjQlgcHOn",
        "colab_type": "code",
        "colab": {}
      },
      "source": [
        "def DNN_model(shape, nClasses, dropout=0.5):\n",
        "    model = Sequential()\n",
        "    node = 512\n",
        "    nLayers = 4\n",
        "    model.add(Dense(node,input_dim=shape,activation='relu'))\n",
        "    model.add(Dropout(dropout))\n",
        "    for i in range(0,nLayers):\n",
        "        model.add(Dense(node,input_dim=node,activation='relu'))\n",
        "        model.add(Dropout(dropout))\n",
        "    model.add(Dense(nClasses, activation='softmax'))\n",
        "    model.compile(loss='sparse_categorical_crossentropy', optimizer='adam', metrics=['accuracy'])\n",
        "    return model"
      ],
      "execution_count": 19,
      "outputs": []
    },
    {
      "cell_type": "code",
      "metadata": {
        "id": "UdFpzN-Ucc5s",
        "colab_type": "code",
        "colab": {
          "base_uri": "https://localhost:8080/",
          "height": 706
        },
        "outputId": "07665560-7f9b-47b6-cfbd-fdb06e3d83f2"
      },
      "source": [
        "model_DNN = DNN_model(features_train.shape[1], 2)\n",
        "model_DNN.fit(features_train, train.target, epochs=20, batch_size=128, verbose=2)"
      ],
      "execution_count": 21,
      "outputs": [
        {
          "output_type": "stream",
          "text": [
            "Epoch 1/20\n",
            " - 2s - loss: 1.8808 - accuracy: 0.5136\n",
            "Epoch 2/20\n",
            " - 2s - loss: 0.7776 - accuracy: 0.5292\n",
            "Epoch 3/20\n",
            " - 2s - loss: 0.7242 - accuracy: 0.5328\n",
            "Epoch 4/20\n",
            " - 2s - loss: 0.7075 - accuracy: 0.5431\n",
            "Epoch 5/20\n",
            " - 2s - loss: 0.6998 - accuracy: 0.5455\n",
            "Epoch 6/20\n",
            " - 2s - loss: 0.6954 - accuracy: 0.5479\n",
            "Epoch 7/20\n",
            " - 2s - loss: 0.6894 - accuracy: 0.5635\n",
            "Epoch 8/20\n",
            " - 2s - loss: 0.6930 - accuracy: 0.5589\n",
            "Epoch 9/20\n",
            " - 2s - loss: 0.6887 - accuracy: 0.5622\n",
            "Epoch 10/20\n",
            " - 2s - loss: 0.6880 - accuracy: 0.5623\n",
            "Epoch 11/20\n",
            " - 2s - loss: 0.6876 - accuracy: 0.5605\n",
            "Epoch 12/20\n",
            " - 2s - loss: 0.6850 - accuracy: 0.5638\n",
            "Epoch 13/20\n",
            " - 2s - loss: 0.6846 - accuracy: 0.5636\n",
            "Epoch 14/20\n",
            " - 2s - loss: 0.6826 - accuracy: 0.5652\n",
            "Epoch 15/20\n",
            " - 2s - loss: 0.6830 - accuracy: 0.5657\n",
            "Epoch 16/20\n",
            " - 2s - loss: 0.6783 - accuracy: 0.5689\n",
            "Epoch 17/20\n",
            " - 2s - loss: 0.6715 - accuracy: 0.5749\n",
            "Epoch 18/20\n",
            " - 2s - loss: 0.6650 - accuracy: 0.5843\n",
            "Epoch 19/20\n",
            " - 2s - loss: 0.6616 - accuracy: 0.5870\n",
            "Epoch 20/20\n",
            " - 2s - loss: 0.6593 - accuracy: 0.5970\n"
          ],
          "name": "stdout"
        },
        {
          "output_type": "execute_result",
          "data": {
            "text/plain": [
              "<keras.callbacks.callbacks.History at 0x7f511b9efac8>"
            ]
          },
          "metadata": {
            "tags": []
          },
          "execution_count": 21
        }
      ]
    },
    {
      "cell_type": "code",
      "metadata": {
        "id": "Wv2wcBTXcgT-",
        "colab_type": "code",
        "colab": {}
      },
      "source": [
        "prediction_dnn = model_DNN.predict_classes(features_test)"
      ],
      "execution_count": 32,
      "outputs": []
    },
    {
      "cell_type": "code",
      "metadata": {
        "id": "3AtiWZsDhrTO",
        "colab_type": "code",
        "colab": {}
      },
      "source": [
        "submission_dnn = pd.DataFrame(data={'id':test['id'], 'target': prediction_dnn})\n",
        "submission_dnn.to_csv('doc2vec_dnn.csv', index=False)"
      ],
      "execution_count": null,
      "outputs": []
    },
    {
      "cell_type": "markdown",
      "metadata": {
        "id": "wyHI9-fPeSe_",
        "colab_type": "text"
      },
      "source": [
        "#RANDOM FOREST"
      ]
    },
    {
      "cell_type": "markdown",
      "metadata": {
        "id": "tn97xVuPkbi6",
        "colab_type": "text"
      },
      "source": [
        "GRID SEARCH"
      ]
    },
    {
      "cell_type": "code",
      "metadata": {
        "id": "AYky__5OeRd6",
        "colab_type": "code",
        "colab": {
          "base_uri": "https://localhost:8080/",
          "height": 353
        },
        "outputId": "daa97501-27c2-4b81-cad7-772340acc3fc"
      },
      "source": [
        "rf = RandomForestClassifier()\n",
        "params_rf = {'n_estimators': [50, 100, 200]}\n",
        "rf_gs = GridSearchCV(rf, params_rf, cv=5)\n",
        "rf_gs.fit(x_train, y_train)"
      ],
      "execution_count": 22,
      "outputs": [
        {
          "output_type": "execute_result",
          "data": {
            "text/plain": [
              "GridSearchCV(cv=5, error_score=nan,\n",
              "             estimator=RandomForestClassifier(bootstrap=True, ccp_alpha=0.0,\n",
              "                                              class_weight=None,\n",
              "                                              criterion='gini', max_depth=None,\n",
              "                                              max_features='auto',\n",
              "                                              max_leaf_nodes=None,\n",
              "                                              max_samples=None,\n",
              "                                              min_impurity_decrease=0.0,\n",
              "                                              min_impurity_split=None,\n",
              "                                              min_samples_leaf=1,\n",
              "                                              min_samples_split=2,\n",
              "                                              min_weight_fraction_leaf=0.0,\n",
              "                                              n_estimators=100, n_jobs=None,\n",
              "                                              oob_score=False,\n",
              "                                              random_state=None, verbose=0,\n",
              "                                              warm_start=False),\n",
              "             iid='deprecated', n_jobs=None,\n",
              "             param_grid={'n_estimators': [50, 100, 200]},\n",
              "             pre_dispatch='2*n_jobs', refit=True, return_train_score=False,\n",
              "             scoring=None, verbose=0)"
            ]
          },
          "metadata": {
            "tags": []
          },
          "execution_count": 22
        }
      ]
    },
    {
      "cell_type": "code",
      "metadata": {
        "id": "ZUIR3iv3eiUL",
        "colab_type": "code",
        "colab": {
          "base_uri": "https://localhost:8080/",
          "height": 34
        },
        "outputId": "191392a3-7514-4acb-b4d1-1a71370d0306"
      },
      "source": [
        "rf_best = rf_gs.best_estimator_\n",
        "print(rf_gs.best_params_)"
      ],
      "execution_count": 23,
      "outputs": [
        {
          "output_type": "stream",
          "text": [
            "{'n_estimators': 200}\n"
          ],
          "name": "stdout"
        }
      ]
    },
    {
      "cell_type": "code",
      "metadata": {
        "id": "kUsTQdvCekor",
        "colab_type": "code",
        "colab": {
          "base_uri": "https://localhost:8080/",
          "height": 34
        },
        "outputId": "2c8bb864-5a1e-4db9-fdc4-e8bb48991768"
      },
      "source": [
        "print('rf: {}'.format(rf_best.score(x_validation, y_validation)))"
      ],
      "execution_count": 24,
      "outputs": [
        {
          "output_type": "stream",
          "text": [
            "rf: 0.6637478108581436\n"
          ],
          "name": "stdout"
        }
      ]
    },
    {
      "cell_type": "code",
      "metadata": {
        "id": "8q_ntXAse9lg",
        "colab_type": "code",
        "colab": {}
      },
      "source": [
        "prediction_rf = rf_best.predict(features_test)"
      ],
      "execution_count": null,
      "outputs": []
    },
    {
      "cell_type": "code",
      "metadata": {
        "id": "ObKpzVDah7wM",
        "colab_type": "code",
        "colab": {}
      },
      "source": [
        "submission_rf = pd.DataFrame(data={'id':test['id'], 'target': prediction_rf})\n",
        "submission_rf.to_csv('doc2vec_rf.csv', index=False)"
      ],
      "execution_count": null,
      "outputs": []
    },
    {
      "cell_type": "markdown",
      "metadata": {
        "id": "q7DA1QKS5dKh",
        "colab_type": "text"
      },
      "source": [
        "BAGGING"
      ]
    },
    {
      "cell_type": "code",
      "metadata": {
        "colab_type": "code",
        "id": "t82eCIB95Q8S",
        "colab": {}
      },
      "source": [
        "seed = 7\n",
        "num_trees = 100"
      ],
      "execution_count": 25,
      "outputs": []
    },
    {
      "cell_type": "markdown",
      "metadata": {
        "colab_type": "text",
        "id": "BSn5i5nh5Q8t"
      },
      "source": [
        "BAGGING CLASSIFIER"
      ]
    },
    {
      "cell_type": "code",
      "metadata": {
        "colab_type": "code",
        "id": "DDquxz5K5Q86",
        "colab": {
          "base_uri": "https://localhost:8080/",
          "height": 34
        },
        "outputId": "38fb8889-8c71-4344-cbc9-bf01fb47bd2e"
      },
      "source": [
        "kfold = model_selection.KFold(n_splits=10)\n",
        "cart = DecisionTreeClassifier()\n",
        "model = BaggingClassifier(base_estimator=cart, n_estimators=num_trees, random_state=seed)\n",
        "results = model_selection.cross_val_score(model, features_train, train.target, cv=kfold)\n",
        "print(results.mean())"
      ],
      "execution_count": 26,
      "outputs": [
        {
          "output_type": "stream",
          "text": [
            "0.6308928368185251\n"
          ],
          "name": "stdout"
        }
      ]
    },
    {
      "cell_type": "code",
      "metadata": {
        "colab_type": "code",
        "id": "BD5m8X9u5Q8_",
        "colab": {}
      },
      "source": [
        "prediction_bagg = model.predict(features_test)"
      ],
      "execution_count": null,
      "outputs": []
    },
    {
      "cell_type": "code",
      "metadata": {
        "colab_type": "code",
        "id": "2pwJw22y5Q9D",
        "colab": {}
      },
      "source": [
        "#submission_bagg = pd.DataFrame(data={'id':test['id'], 'target': prediction_bagg})\n",
        "#submission_bagg.to_csv('doc2vec_bagg.csv', index=False)"
      ],
      "execution_count": null,
      "outputs": []
    },
    {
      "cell_type": "markdown",
      "metadata": {
        "colab_type": "text",
        "id": "EJn6ybBk5Q9K"
      },
      "source": [
        "BAGGING CON RANDOM FOREST"
      ]
    },
    {
      "cell_type": "code",
      "metadata": {
        "colab_type": "code",
        "id": "4cE64W1g5Q9L",
        "colab": {
          "base_uri": "https://localhost:8080/",
          "height": 34
        },
        "outputId": "9de9a21d-bb33-4576-b6e7-1bf0e63e8273"
      },
      "source": [
        "max_features = 3\n",
        "kfold = model_selection.KFold(n_splits=10)\n",
        "model = RandomForestClassifier(n_estimators=num_trees, max_features=max_features)\n",
        "results = model_selection.cross_val_score(model, features_train, train.target, cv=kfold)\n",
        "print(results.mean())"
      ],
      "execution_count": 27,
      "outputs": [
        {
          "output_type": "stream",
          "text": [
            "0.6152563797462242\n"
          ],
          "name": "stdout"
        }
      ]
    },
    {
      "cell_type": "code",
      "metadata": {
        "colab_type": "code",
        "id": "aEGiHQ3T5Q9U",
        "colab": {}
      },
      "source": [
        "prediction_rf_bagg = model.predict(features_test)"
      ],
      "execution_count": null,
      "outputs": []
    },
    {
      "cell_type": "code",
      "metadata": {
        "colab_type": "code",
        "id": "m3MICW1o5Q9X",
        "colab": {}
      },
      "source": [
        "submission_rf_bagg = pd.DataFrame(data={'id':test['id'], 'target': prediction_rf_bagg})\n",
        "submission_rf_bagg.to_csv('doc2vec_rf_bagg.csv', index=False)"
      ],
      "execution_count": null,
      "outputs": []
    },
    {
      "cell_type": "markdown",
      "metadata": {
        "id": "dQ4oAPbuiZRs",
        "colab_type": "text"
      },
      "source": [
        "#NuSCV"
      ]
    },
    {
      "cell_type": "markdown",
      "metadata": {
        "id": "cUJccxFqmwwd",
        "colab_type": "text"
      },
      "source": [
        "TARDO NADA pero mala prediccion. MUY BUENA PREDICCION SOLO CON TFIDF SIN MAS FEATURES."
      ]
    },
    {
      "cell_type": "code",
      "metadata": {
        "id": "0JKU2lABmnvJ",
        "colab_type": "code",
        "colab": {
          "base_uri": "https://localhost:8080/",
          "height": 34
        },
        "outputId": "3b107480-e64f-427d-fe56-6f42c0c4f909"
      },
      "source": [
        "nuscv = NuSVC(probability=True)\n",
        "nuscv.fit(x_train, y_train)\n",
        "\n",
        "print('rf: {}'.format(nuscv.score(x_validation, y_validation)))"
      ],
      "execution_count": 28,
      "outputs": [
        {
          "output_type": "stream",
          "text": [
            "rf: 0.5901926444833625\n"
          ],
          "name": "stdout"
        }
      ]
    },
    {
      "cell_type": "code",
      "metadata": {
        "id": "IocFdaWlWYge",
        "colab_type": "code",
        "colab": {}
      },
      "source": [
        "prediction_nuscv = nuscv.predict(features_test)\n",
        "\n",
        "submission_nuscv = pd.DataFrame(data={'id':test['id'], 'target': prediction_nuscv})\n",
        "submission_nuscv.to_csv('doc2vec_nuscv.csv', index=False)"
      ],
      "execution_count": null,
      "outputs": []
    },
    {
      "cell_type": "markdown",
      "metadata": {
        "id": "hQmTcW2IoTTa",
        "colab_type": "text"
      },
      "source": [
        "#XGBoost"
      ]
    },
    {
      "cell_type": "code",
      "metadata": {
        "id": "L6IO89ptoXG-",
        "colab_type": "code",
        "colab": {
          "base_uri": "https://localhost:8080/",
          "height": 134
        },
        "outputId": "d26c9a7b-a741-4cf6-c91e-8838c2e3de5d"
      },
      "source": [
        "model = XGBClassifier()\n",
        "model.fit(x_train, y_train)"
      ],
      "execution_count": 30,
      "outputs": [
        {
          "output_type": "execute_result",
          "data": {
            "text/plain": [
              "XGBClassifier(base_score=0.5, booster='gbtree', colsample_bylevel=1,\n",
              "              colsample_bynode=1, colsample_bytree=1, gamma=0,\n",
              "              learning_rate=0.1, max_delta_step=0, max_depth=3,\n",
              "              min_child_weight=1, missing=None, n_estimators=100, n_jobs=1,\n",
              "              nthread=None, objective='binary:logistic', random_state=0,\n",
              "              reg_alpha=0, reg_lambda=1, scale_pos_weight=1, seed=None,\n",
              "              silent=None, subsample=1, verbosity=1)"
            ]
          },
          "metadata": {
            "tags": []
          },
          "execution_count": 30
        }
      ]
    },
    {
      "cell_type": "code",
      "metadata": {
        "id": "22pYrTrxoUy7",
        "colab_type": "code",
        "colab": {
          "base_uri": "https://localhost:8080/",
          "height": 34
        },
        "outputId": "8a2c8373-2e6b-488c-b330-3470cb04e2c0"
      },
      "source": [
        "y_pred = model.predict(x_validation)\n",
        "predictions = [round(value) for value in y_pred]\n",
        "accuracy = accuracy_score(y_validation, predictions)\n",
        "print(\"Accuracy: %.5f%%\" % (accuracy * 100.0))"
      ],
      "execution_count": 31,
      "outputs": [
        {
          "output_type": "stream",
          "text": [
            "Accuracy: 67.77583%\n"
          ],
          "name": "stdout"
        }
      ]
    },
    {
      "cell_type": "code",
      "metadata": {
        "id": "nV3naQTS0rNe",
        "colab_type": "code",
        "colab": {}
      },
      "source": [
        "submission_xgboost = pd.DataFrame(data={'id':test['id'], 'target': prediction_xgboost})\n",
        "submission_xgboost.to_csv('tf_idf_xgboost.csv', index=False)"
      ],
      "execution_count": null,
      "outputs": []
    }
  ]
}