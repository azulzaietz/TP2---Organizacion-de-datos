{
  "nbformat": 4,
  "nbformat_minor": 0,
  "metadata": {
    "colab": {
      "name": "Features.ipynb",
      "provenance": [],
      "collapsed_sections": []
    },
    "kernelspec": {
      "name": "python3",
      "display_name": "Python 3"
    }
  },
  "cells": [
    {
      "cell_type": "markdown",
      "metadata": {
        "id": "MK0y4Mii1InM",
        "colab_type": "text"
      },
      "source": [
        "##Features a agregar"
      ]
    },
    {
      "cell_type": "code",
      "metadata": {
        "id": "ywCkZrz-0zB3",
        "colab_type": "code",
        "colab": {}
      },
      "source": [
        "features = [\n",
        "  'text' #OK\n",
        "  'Keyword' #OK \n",
        "  'localidad' #OK #limpiar las feas. \n",
        "  'longitud tweets' #OK\n",
        "  'cantidad_apariciones_keyword'#OK #contar cantidad de apariciones de las keywords y asignarle ese numero al tweet que contenga esa keyword\n",
        "  'cantidad de signos de puntuacion' #OK\n",
        "  'cantidad de stop-words' #OK\n",
        "  'signo de pregunta' #OK\n",
        "  'signo de exclamacion' #OK\n",
        "  'etiqueta (@)' #OK\n",
        "  'spelling good_bad' #OK TARDA MUCHO\n",
        "  'subjetividad' #OK\n",
        "  'Cantidad de frases en un tweet' #OK\n",
        "  'Cantidad de hashtags' #OK\n",
        "  'cantidad de url'#OK\n",
        "  'cantidad de palabras unicas en el texto' #OK\n",
        "  'promedio del largo de las palabras en el tweet' #OK\n",
        "  'cantidad de palabras en el tweet' #OK\n",
        "]"
      ],
      "execution_count": null,
      "outputs": []
    },
    {
      "cell_type": "code",
      "metadata": {
        "id": "eZdSI2I4IEgR",
        "colab_type": "code",
        "colab": {
          "base_uri": "https://localhost:8080/",
          "height": 108
        },
        "outputId": "f49f547e-24d7-46b4-e3ba-6d1d2be3e95d"
      },
      "source": [
        "import pandas as pd\n",
        "!pip install nltk \n",
        "import nltk\n",
        "nltk.download('stopwords')"
      ],
      "execution_count": null,
      "outputs": [
        {
          "output_type": "stream",
          "text": [
            "Requirement already satisfied: nltk in /usr/local/lib/python3.6/dist-packages (3.2.5)\n",
            "Requirement already satisfied: six in /usr/local/lib/python3.6/dist-packages (from nltk) (1.15.0)\n",
            "[nltk_data] Downloading package stopwords to /root/nltk_data...\n",
            "[nltk_data]   Package stopwords is already up-to-date!\n"
          ],
          "name": "stdout"
        },
        {
          "output_type": "execute_result",
          "data": {
            "text/plain": [
              "True"
            ]
          },
          "metadata": {
            "tags": []
          },
          "execution_count": 39
        }
      ]
    },
    {
      "cell_type": "code",
      "metadata": {
        "id": "5d3aDZNnaajg",
        "colab_type": "code",
        "colab": {
          "base_uri": "https://localhost:8080/",
          "height": 54
        },
        "outputId": "a3d77c76-6d78-4547-8c55-1c3880455306"
      },
      "source": [
        "nltk.download('punkt')\n",
        "from nltk.tokenize import sent_tokenize"
      ],
      "execution_count": null,
      "outputs": [
        {
          "output_type": "stream",
          "text": [
            "[nltk_data] Downloading package punkt to /root/nltk_data...\n",
            "[nltk_data]   Package punkt is already up-to-date!\n"
          ],
          "name": "stdout"
        }
      ]
    },
    {
      "cell_type": "code",
      "metadata": {
        "id": "aKfZaOyMQy7s",
        "colab_type": "code",
        "colab": {}
      },
      "source": [
        "import numpy as np\n",
        "import string\n",
        "from textblob import TextBlob\n",
        "from textblob import Word\n",
        "import statistics"
      ],
      "execution_count": null,
      "outputs": []
    },
    {
      "cell_type": "code",
      "metadata": {
        "id": "hiq3kHKn1L4R",
        "colab_type": "code",
        "colab": {}
      },
      "source": [
        "from pydrive.auth import GoogleAuth\n",
        "from pydrive.drive import GoogleDrive\n",
        "from google.colab import auth\n",
        "from oauth2client.client import GoogleCredentials\n",
        "\n",
        "# Authenticate and create the PyDrive client\n",
        "auth.authenticate_user()\n",
        "gauth = GoogleAuth()\n",
        "gauth.credentials = GoogleCredentials.get_application_default()\n",
        "drive = GoogleDrive(gauth)"
      ],
      "execution_count": null,
      "outputs": []
    },
    {
      "cell_type": "code",
      "metadata": {
        "id": "Qy9J7vdKH2aX",
        "colab_type": "code",
        "colab": {}
      },
      "source": [
        "id='1Pk5MK9Hs_kMUT9NotGnOKE0NPra-39YU'\n",
        "downloaded = drive.CreateFile({'id': id})\n",
        "downloaded.GetContentFile('train.csv')"
      ],
      "execution_count": null,
      "outputs": []
    },
    {
      "cell_type": "code",
      "metadata": {
        "id": "6nH7IAQMH_nv",
        "colab_type": "code",
        "colab": {}
      },
      "source": [
        "id='1GsTM9oLtIV8-Da_fDOFWsQYMpgQ8GOYJ'\n",
        "downloaded = drive.CreateFile({'id': id})\n",
        "downloaded.GetContentFile('test.csv')"
      ],
      "execution_count": null,
      "outputs": []
    },
    {
      "cell_type": "code",
      "metadata": {
        "id": "QXbOnEMpIBKX",
        "colab_type": "code",
        "colab": {
          "base_uri": "https://localhost:8080/",
          "height": 198
        },
        "outputId": "4906dd57-8983-471a-fa3e-474b4b01e905"
      },
      "source": [
        "train = pd.read_csv('train.csv')\n",
        "test = pd.read_csv('test.csv')\n",
        "train.head()"
      ],
      "execution_count": null,
      "outputs": [
        {
          "output_type": "execute_result",
          "data": {
            "text/html": [
              "<div>\n",
              "<style scoped>\n",
              "    .dataframe tbody tr th:only-of-type {\n",
              "        vertical-align: middle;\n",
              "    }\n",
              "\n",
              "    .dataframe tbody tr th {\n",
              "        vertical-align: top;\n",
              "    }\n",
              "\n",
              "    .dataframe thead th {\n",
              "        text-align: right;\n",
              "    }\n",
              "</style>\n",
              "<table border=\"1\" class=\"dataframe\">\n",
              "  <thead>\n",
              "    <tr style=\"text-align: right;\">\n",
              "      <th></th>\n",
              "      <th>id</th>\n",
              "      <th>keyword</th>\n",
              "      <th>location</th>\n",
              "      <th>text</th>\n",
              "      <th>target</th>\n",
              "    </tr>\n",
              "  </thead>\n",
              "  <tbody>\n",
              "    <tr>\n",
              "      <th>0</th>\n",
              "      <td>1</td>\n",
              "      <td>NaN</td>\n",
              "      <td>NaN</td>\n",
              "      <td>Our Deeds are the Reason of this #earthquake M...</td>\n",
              "      <td>1</td>\n",
              "    </tr>\n",
              "    <tr>\n",
              "      <th>1</th>\n",
              "      <td>4</td>\n",
              "      <td>NaN</td>\n",
              "      <td>NaN</td>\n",
              "      <td>Forest fire near La Ronge Sask. Canada</td>\n",
              "      <td>1</td>\n",
              "    </tr>\n",
              "    <tr>\n",
              "      <th>2</th>\n",
              "      <td>5</td>\n",
              "      <td>NaN</td>\n",
              "      <td>NaN</td>\n",
              "      <td>All residents asked to 'shelter in place' are ...</td>\n",
              "      <td>1</td>\n",
              "    </tr>\n",
              "    <tr>\n",
              "      <th>3</th>\n",
              "      <td>6</td>\n",
              "      <td>NaN</td>\n",
              "      <td>NaN</td>\n",
              "      <td>13,000 people receive #wildfires evacuation or...</td>\n",
              "      <td>1</td>\n",
              "    </tr>\n",
              "    <tr>\n",
              "      <th>4</th>\n",
              "      <td>7</td>\n",
              "      <td>NaN</td>\n",
              "      <td>NaN</td>\n",
              "      <td>Just got sent this photo from Ruby #Alaska as ...</td>\n",
              "      <td>1</td>\n",
              "    </tr>\n",
              "  </tbody>\n",
              "</table>\n",
              "</div>"
            ],
            "text/plain": [
              "   id keyword  ...                                               text target\n",
              "0   1     NaN  ...  Our Deeds are the Reason of this #earthquake M...      1\n",
              "1   4     NaN  ...             Forest fire near La Ronge Sask. Canada      1\n",
              "2   5     NaN  ...  All residents asked to 'shelter in place' are ...      1\n",
              "3   6     NaN  ...  13,000 people receive #wildfires evacuation or...      1\n",
              "4   7     NaN  ...  Just got sent this photo from Ruby #Alaska as ...      1\n",
              "\n",
              "[5 rows x 5 columns]"
            ]
          },
          "metadata": {
            "tags": []
          },
          "execution_count": 45
        }
      ]
    },
    {
      "cell_type": "markdown",
      "metadata": {
        "id": "5ZpRBe9DKJQH",
        "colab_type": "text"
      },
      "source": [
        "1) Agregamos feature 'longitud de tweets'"
      ]
    },
    {
      "cell_type": "code",
      "metadata": {
        "id": "DXmWj543IC-k",
        "colab_type": "code",
        "colab": {}
      },
      "source": [
        "train['longitud tweets'] = train['text'].apply(lambda x: len(x))\n",
        "test['longitud tweets'] = test['text'].apply(lambda x: len(x))"
      ],
      "execution_count": null,
      "outputs": []
    },
    {
      "cell_type": "markdown",
      "metadata": {
        "id": "VbSmoDJNKPkh",
        "colab_type": "text"
      },
      "source": [
        "2) Limpiamos las localidades que aparecen en los set de datos, aquellas que no correspondan a una localidad se la reeemplza por 'no_location'"
      ]
    },
    {
      "cell_type": "code",
      "metadata": {
        "id": "I9pLG2mWIlMk",
        "colab_type": "code",
        "colab": {}
      },
      "source": [
        "def limpieza_localidades(location):\n",
        "\n",
        "  if (location.find('www.') != -1 or location.find('WWW.') != -1):\n",
        "    return 'no_location'\n",
        "  if (location.find(',') != -1 or location.find('.') != -1):\n",
        "    loc = location.replace(',', '')\n",
        "    loc = location.replace('.', '')\n",
        "    if loc.isalpha() and (len(loc) < 100): #valuación del estado del csv a analizar\n",
        "     return location.upper()\n",
        "  if location.isalpha() and (len(location) < 100):\n",
        "    return location.upper()\n",
        "  return 'no_location'"
      ],
      "execution_count": null,
      "outputs": []
    },
    {
      "cell_type": "code",
      "metadata": {
        "id": "I-YAcbGXMoiq",
        "colab_type": "code",
        "colab": {}
      },
      "source": [
        "def union_usa(df):\n",
        "  df['location'] = df['location'].replace(\"U.S.A\", \"USA\")\n",
        "  df['location'] = df['location'].replace(\"UNITED STATES\", \"USA\")\n",
        "  df['location'] = df['location'].replace(\"U.S\", \"USA\")\n",
        "  df['location'] = df['location'].replace(\"US\", \"USA\")\n",
        "  return "
      ],
      "execution_count": null,
      "outputs": []
    },
    {
      "cell_type": "markdown",
      "metadata": {
        "id": "ML7w-gVNMKvk",
        "colab_type": "text"
      },
      "source": [
        "train:"
      ]
    },
    {
      "cell_type": "code",
      "metadata": {
        "id": "-TZ5BkyULTX2",
        "colab_type": "code",
        "colab": {}
      },
      "source": [
        "train['location'] = train['location'].fillna('no_location')\n",
        "train['location'] = train['location'].apply(lambda x: limpieza_localidades(x))\n",
        "union_usa(train)"
      ],
      "execution_count": null,
      "outputs": []
    },
    {
      "cell_type": "markdown",
      "metadata": {
        "id": "j-lY9zdvMSD3",
        "colab_type": "text"
      },
      "source": [
        "Test:"
      ]
    },
    {
      "cell_type": "code",
      "metadata": {
        "id": "_nZ_PmGQMPT3",
        "colab_type": "code",
        "colab": {}
      },
      "source": [
        "test['location'] = test['location'].fillna('no_location')\n",
        "test['location'] = test['location'].apply(lambda x: limpieza_localidades(x))\n",
        "union_usa(test)"
      ],
      "execution_count": null,
      "outputs": []
    },
    {
      "cell_type": "markdown",
      "metadata": {
        "id": "G9QZk3i4NzDd",
        "colab_type": "text"
      },
      "source": [
        "3) Reemplazamos Nan de Keyword por 'no_keyword'"
      ]
    },
    {
      "cell_type": "code",
      "metadata": {
        "id": "u_5mNp0sMYpp",
        "colab_type": "code",
        "colab": {}
      },
      "source": [
        "train['keyword'] = train['keyword'].fillna('no_keyword')\n",
        "test['keyword'] = test['keyword'].fillna('no_keyword')"
      ],
      "execution_count": null,
      "outputs": []
    },
    {
      "cell_type": "markdown",
      "metadata": {
        "id": "a6_0uX3ROLX6",
        "colab_type": "text"
      },
      "source": [
        "4) Contamos palabras en cada tweet."
      ]
    },
    {
      "cell_type": "code",
      "metadata": {
        "id": "BH7XHooGOAJz",
        "colab_type": "code",
        "colab": {}
      },
      "source": [
        "train['cant_palabras'] = train['text'].apply(lambda x: len(str(x).split()))\n",
        "test['cant_palabras'] = test['text'].apply(lambda x: len(str(x).split()))"
      ],
      "execution_count": null,
      "outputs": []
    },
    {
      "cell_type": "markdown",
      "metadata": {
        "id": "ZxBgN8GSOnK1",
        "colab_type": "text"
      },
      "source": [
        "5) Contamos palabras unicas en cada tweet"
      ]
    },
    {
      "cell_type": "code",
      "metadata": {
        "id": "3k0F5lVBOCWN",
        "colab_type": "code",
        "colab": {}
      },
      "source": [
        "train['palabras_unicas'] = train['text'].apply(lambda x: len(set(str(x).split())))\n",
        "test['palabras_unicas'] = test['text'].apply(lambda x: len(set(str(x).split())))"
      ],
      "execution_count": null,
      "outputs": []
    },
    {
      "cell_type": "markdown",
      "metadata": {
        "id": "EdE6sdtQO9SN",
        "colab_type": "text"
      },
      "source": [
        "6) Contamos Stop-Words por tweet."
      ]
    },
    {
      "cell_type": "code",
      "metadata": {
        "id": "a9EK8y_dPQYk",
        "colab_type": "code",
        "colab": {}
      },
      "source": [
        "stopwords = nltk.corpus.stopwords.words('english')"
      ],
      "execution_count": null,
      "outputs": []
    },
    {
      "cell_type": "code",
      "metadata": {
        "id": "KuQUp4DbOcav",
        "colab_type": "code",
        "colab": {}
      },
      "source": [
        "train['cant_stop_words'] = train['text'].apply(lambda x: len([w for w in str(x).lower().split() if w in stopwords]))\n",
        "test['cant_stop_words'] = test['text'].apply(lambda x: len([w for w in str(x).lower().split() if w in stopwords]))"
      ],
      "execution_count": null,
      "outputs": []
    },
    {
      "cell_type": "markdown",
      "metadata": {
        "id": "zG_lzQQyP0zV",
        "colab_type": "text"
      },
      "source": [
        "7) Contamos cantidad de URLs en cada tweet"
      ]
    },
    {
      "cell_type": "code",
      "metadata": {
        "id": "UkBKQcJDPkVc",
        "colab_type": "code",
        "colab": {}
      },
      "source": [
        "train['cant_url'] = train['text'].apply(lambda x: len([w for w in str(x).lower().split() if 'http' in w or 'https' in w or 'www.' in w]))\n",
        "test['cant_url'] = test['text'].apply(lambda x: len([w for w in str(x).lower().split() if 'http' in w or 'https' in w or 'www.' in w]))"
      ],
      "execution_count": null,
      "outputs": []
    },
    {
      "cell_type": "markdown",
      "metadata": {
        "id": "Kxq0ChD_QZum",
        "colab_type": "text"
      },
      "source": [
        "8) Promedio de longitud de las palabras del tweet."
      ]
    },
    {
      "cell_type": "code",
      "metadata": {
        "id": "3UunmK8IQKaN",
        "colab_type": "code",
        "colab": {}
      },
      "source": [
        "train['prom_long_palabra'] = train['text'].apply(lambda x: np.mean([len(w) for w in str(x).split()]))\n",
        "test['prom_long_palabra'] = test['text'].apply(lambda x: np.mean([len(w) for w in str(x).split()]))"
      ],
      "execution_count": null,
      "outputs": []
    },
    {
      "cell_type": "markdown",
      "metadata": {
        "id": "XxLphAUpRDGH",
        "colab_type": "text"
      },
      "source": [
        "9) Contamos puntuacion en cada tweet"
      ]
    },
    {
      "cell_type": "code",
      "metadata": {
        "id": "LU8Vtz-CQNuh",
        "colab_type": "code",
        "colab": {}
      },
      "source": [
        "train['cant_puntuacion'] = train['text'].apply(lambda x: len([c for c in str(x) if c in string.punctuation]))\n",
        "test['cant_puntuacion'] = test['text'].apply(lambda x: len([c for c in str(x) if c in string.punctuation]))"
      ],
      "execution_count": null,
      "outputs": []
    },
    {
      "cell_type": "markdown",
      "metadata": {
        "id": "cHd95-r2RdlZ",
        "colab_type": "text"
      },
      "source": [
        "10) Contamos hashtags que aparecen en cada tweet."
      ]
    },
    {
      "cell_type": "code",
      "metadata": {
        "id": "ixcUqzFuRTqQ",
        "colab_type": "code",
        "colab": {}
      },
      "source": [
        "train['cant_hashtag'] = train['text'].apply(lambda x: len([c for c in str(x) if c == '#']))\n",
        "test['cant_hashtag'] = test['text'].apply(lambda x: len([c for c in str(x) if c == '#']))"
      ],
      "execution_count": null,
      "outputs": []
    },
    {
      "cell_type": "markdown",
      "metadata": {
        "id": "mXqauZ1OR1ze",
        "colab_type": "text"
      },
      "source": [
        "11) Contamos menciones en cada tweet"
      ]
    },
    {
      "cell_type": "code",
      "metadata": {
        "id": "z2GMYFTsRoJk",
        "colab_type": "code",
        "colab": {}
      },
      "source": [
        "train['cant_mencion'] = train['text'].apply(lambda x: len([c for c in str(x) if c == '@']))\n",
        "test['cant_mencion'] = test['text'].apply(lambda x: len([c for c in str(x) if c == '@']))"
      ],
      "execution_count": null,
      "outputs": []
    },
    {
      "cell_type": "markdown",
      "metadata": {
        "id": "ywtWSf1LSeWv",
        "colab_type": "text"
      },
      "source": [
        "12) Contamos cantidad de signos de pregunta en los tweets."
      ]
    },
    {
      "cell_type": "code",
      "metadata": {
        "id": "96a8RSoMSIEg",
        "colab_type": "code",
        "colab": {}
      },
      "source": [
        "train['cant_signos_pregunta'] = train['text'].apply(lambda x: len([c for c in str(x) if c == '?']))\n",
        "test['cant_signos_pregunta'] = test['text'].apply(lambda x: len([c for c in str(x) if c == '?']))"
      ],
      "execution_count": null,
      "outputs": []
    },
    {
      "cell_type": "markdown",
      "metadata": {
        "id": "C508nTZASrMH",
        "colab_type": "text"
      },
      "source": [
        "13) Contamos cantidad de signos de exclamacion"
      ]
    },
    {
      "cell_type": "code",
      "metadata": {
        "id": "doMbwrMFSjUQ",
        "colab_type": "code",
        "colab": {}
      },
      "source": [
        "train['cant_signos_exclamacion'] = train['text'].apply(lambda x: len([c for c in str(x) if c == '!']))\n",
        "test['cant_signos_exclamacion'] = test['text'].apply(lambda x: len([c for c in str(x) if c == '!']))"
      ],
      "execution_count": null,
      "outputs": []
    },
    {
      "cell_type": "markdown",
      "metadata": {
        "id": "HOkwqHNyUS5_",
        "colab_type": "text"
      },
      "source": [
        "14) Nos fijamos la subjetividad que tiene cada tweet."
      ]
    },
    {
      "cell_type": "code",
      "metadata": {
        "id": "YuQPCl_ES0AF",
        "colab_type": "code",
        "colab": {}
      },
      "source": [
        "train['subjetividad'] = train['text'].apply(lambda x: TextBlob(x).sentiment.subjectivity)\n",
        "test['subjetividad'] = test['text'].apply(lambda x: TextBlob(x).sentiment.subjectivity)"
      ],
      "execution_count": null,
      "outputs": []
    },
    {
      "cell_type": "markdown",
      "metadata": {
        "id": "zvCu3VfbWJuH",
        "colab_type": "text"
      },
      "source": [
        "15) Obtenemos un tag si la frase esta bien escrita o no. SpellCheck"
      ]
    },
    {
      "cell_type": "code",
      "metadata": {
        "id": "_GY5p40AT82B",
        "colab_type": "code",
        "colab": {}
      },
      "source": [
        "def spell_check(text):\n",
        "  text_lista = text.split(' ')\n",
        "  for w in text_lista:\n",
        "    if Word(w).spellcheck()[0][1] != 1:\n",
        "      return 0\n",
        "  return 1"
      ],
      "execution_count": null,
      "outputs": []
    },
    {
      "cell_type": "code",
      "metadata": {
        "id": "7MtIrqYNUFlY",
        "colab_type": "code",
        "colab": {}
      },
      "source": [
        "#train['spellcheck'] = train['text'].apply(lambda x: spell_check(x))\n",
        "#test['spellcheck'] = test['text'].apply(lambda x: spell_check(x))"
      ],
      "execution_count": null,
      "outputs": []
    },
    {
      "cell_type": "markdown",
      "metadata": {
        "id": "3tL3Gq6hahMc",
        "colab_type": "text"
      },
      "source": [
        "16) Contamos cantidad de oraciones en cada tweet."
      ]
    },
    {
      "cell_type": "code",
      "metadata": {
        "id": "SKgyuTrnVxLB",
        "colab_type": "code",
        "colab": {}
      },
      "source": [
        "train['cant_oraciones'] = train['text'].apply(lambda x: len(sent_tokenize(x)))\n",
        "test['cant_oraciones'] = test['text'].apply(lambda x: len(sent_tokenize(x)))"
      ],
      "execution_count": null,
      "outputs": []
    },
    {
      "cell_type": "markdown",
      "metadata": {
        "id": "94lXOqdNbSGN",
        "colab_type": "text"
      },
      "source": [
        "17) Contar cantidad de apariciones de las keywords y asignarle ese numero al tweet que contenga esa keyword"
      ]
    },
    {
      "cell_type": "code",
      "metadata": {
        "id": "zAQuAxV1bIg-",
        "colab_type": "code",
        "colab": {}
      },
      "source": [
        "train['cant_apariciones_keyword'] = train.loc[:,['keyword', 'id']].groupby('keyword').transform('count')\n",
        "test['cant_apariciones_keyword'] = test.loc[:,['keyword', 'id']].groupby('keyword').transform('count')"
      ],
      "execution_count": null,
      "outputs": []
    },
    {
      "cell_type": "markdown",
      "metadata": {
        "id": "LejmSvfsNd2Z",
        "colab_type": "text"
      },
      "source": [
        "18) Contamos cantidad de numeros que aparecen en el tweet"
      ]
    },
    {
      "cell_type": "code",
      "metadata": {
        "id": "FFrmoE9eOD-H",
        "colab_type": "code",
        "colab": {}
      },
      "source": [
        "def count_number(text):\n",
        "    count = 0\n",
        "    for char in text:\n",
        "        if char.isdigit():\n",
        "            count += 1\n",
        "    return count\n",
        "\n",
        "train['cant_numeros'] = train['text'].apply(lambda x: count_number(x))\n",
        "test['cant_numeros'] = test['text'].apply(lambda x: count_number(x))"
      ],
      "execution_count": null,
      "outputs": []
    },
    {
      "cell_type": "markdown",
      "metadata": {
        "id": "CJSg-x1pOTiu",
        "colab_type": "text"
      },
      "source": [
        "19) Contamos cantidad de letras minusculas en el tweet"
      ]
    },
    {
      "cell_type": "code",
      "metadata": {
        "id": "cmGqWng0OS7F",
        "colab_type": "code",
        "colab": {}
      },
      "source": [
        "def count_lower(text): \n",
        "    lower = 0\n",
        "    for i in range(len(text)): \n",
        "        if (ord(text[i]) >= 97 and ord(text[i]) <= 122): \n",
        "            lower += 1\n",
        "    return lower\n",
        "\n",
        "train['cant_minusculas'] = train['text'].apply(lambda x: count_lower(x))\n",
        "test['cant_minusculas'] = test['text'].apply(lambda x: count_lower(x))"
      ],
      "execution_count": null,
      "outputs": []
    },
    {
      "cell_type": "markdown",
      "metadata": {
        "id": "sif5caSxOixH",
        "colab_type": "text"
      },
      "source": [
        "20) Contamos cantidad de letras mayusculas en el tweet"
      ]
    },
    {
      "cell_type": "code",
      "metadata": {
        "id": "h-BbAO_JOnQA",
        "colab_type": "code",
        "colab": {}
      },
      "source": [
        "def count_upper(text):\n",
        "    upper = 0\n",
        "    for i in range(len(text)):\n",
        "        if (ord(text[i]) >= 65 and ord(text[i]) <= 90): \n",
        "            upper += 1\n",
        "    return upper\n",
        "\n",
        "train['cant_mayusculas'] = train['text'].apply(lambda x: count_upper(x))\n",
        "test['cant_mayusculas'] = test['text'].apply(lambda x: count_upper(x))"
      ],
      "execution_count": null,
      "outputs": []
    },
    {
      "cell_type": "markdown",
      "metadata": {
        "id": "KtUL-RfbOwDf",
        "colab_type": "text"
      },
      "source": [
        "21) Contamos cantidad de vocales en el tweet"
      ]
    },
    {
      "cell_type": "code",
      "metadata": {
        "id": "DngYLh2eNe3H",
        "colab_type": "code",
        "colab": {}
      },
      "source": [
        "def count_vowel(text):    \n",
        "    count = 0\n",
        "    vowel = set(\"aeiouAEIOU\") \n",
        "    for char in text: \n",
        "        if char in vowel: \n",
        "            count = count + 1\n",
        "    return count\n",
        "\n",
        "train['cant_vocales'] = train['text'].apply(lambda x: count_vowel(x))\n",
        "test['cant_vocales'] = test['text'].apply(lambda x: count_vowel(x))"
      ],
      "execution_count": null,
      "outputs": []
    },
    {
      "cell_type": "markdown",
      "metadata": {
        "id": "AFaTnbERPDkP",
        "colab_type": "text"
      },
      "source": [
        "22) Contamos cantidad de consonantes"
      ]
    },
    {
      "cell_type": "code",
      "metadata": {
        "id": "INPTmMAaPC0c",
        "colab_type": "code",
        "colab": {}
      },
      "source": [
        "def count_consonant(str):    \n",
        "    count = 0\n",
        "    consonant = set(\"bcdfghjklmnpqrstvwxyzBCDFGHJKLMNPQRSTVWXYZ\") \n",
        "    for alphabet in str: \n",
        "        if alphabet in consonant: \n",
        "            count = count + 1\n",
        "    return count\n",
        "\n",
        "train['cant_consonant'] = train['text'].apply(lambda x: count_consonant(x))\n",
        "test['cant_consonant'] = test['text'].apply(lambda x: count_consonant(x))"
      ],
      "execution_count": null,
      "outputs": []
    },
    {
      "cell_type": "markdown",
      "metadata": {
        "id": "lRnDa09OozR7",
        "colab_type": "text"
      },
      "source": [
        "Descargamos ambos DF para que persistan."
      ]
    },
    {
      "cell_type": "code",
      "metadata": {
        "id": "gT99ayvOowx-",
        "colab_type": "code",
        "colab": {}
      },
      "source": [
        "from google.colab import files"
      ],
      "execution_count": null,
      "outputs": []
    },
    {
      "cell_type": "code",
      "metadata": {
        "id": "qirbfURueXg8",
        "colab_type": "code",
        "colab": {
          "base_uri": "https://localhost:8080/",
          "height": 17
        },
        "outputId": "fe8e10e8-3ab1-4094-9364-afaffddeafb5"
      },
      "source": [
        "train.to_csv('train_features.csv', index=False)\n",
        "files.download('train_features.csv')"
      ],
      "execution_count": null,
      "outputs": [
        {
          "output_type": "display_data",
          "data": {
            "application/javascript": [
              "\n",
              "    async function download(id, filename, size) {\n",
              "      if (!google.colab.kernel.accessAllowed) {\n",
              "        return;\n",
              "      }\n",
              "      const div = document.createElement('div');\n",
              "      const label = document.createElement('label');\n",
              "      label.textContent = `Downloading \"${filename}\": `;\n",
              "      div.appendChild(label);\n",
              "      const progress = document.createElement('progress');\n",
              "      progress.max = size;\n",
              "      div.appendChild(progress);\n",
              "      document.body.appendChild(div);\n",
              "\n",
              "      const buffers = [];\n",
              "      let downloaded = 0;\n",
              "\n",
              "      const channel = await google.colab.kernel.comms.open(id);\n",
              "      // Send a message to notify the kernel that we're ready.\n",
              "      channel.send({})\n",
              "\n",
              "      for await (const message of channel.messages) {\n",
              "        // Send a message to notify the kernel that we're ready.\n",
              "        channel.send({})\n",
              "        if (message.buffers) {\n",
              "          for (const buffer of message.buffers) {\n",
              "            buffers.push(buffer);\n",
              "            downloaded += buffer.byteLength;\n",
              "            progress.value = downloaded;\n",
              "          }\n",
              "        }\n",
              "      }\n",
              "      const blob = new Blob(buffers, {type: 'application/binary'});\n",
              "      const a = document.createElement('a');\n",
              "      a.href = window.URL.createObjectURL(blob);\n",
              "      a.download = filename;\n",
              "      div.appendChild(a);\n",
              "      a.click();\n",
              "      div.remove();\n",
              "    }\n",
              "  "
            ],
            "text/plain": [
              "<IPython.core.display.Javascript object>"
            ]
          },
          "metadata": {
            "tags": []
          }
        },
        {
          "output_type": "display_data",
          "data": {
            "application/javascript": [
              "download(\"download_11a3bd45-3954-416e-916b-1eb3b0a07a12\", \"train_features.csv\", 1450783)"
            ],
            "text/plain": [
              "<IPython.core.display.Javascript object>"
            ]
          },
          "metadata": {
            "tags": []
          }
        }
      ]
    },
    {
      "cell_type": "code",
      "metadata": {
        "id": "lW0ePZOHebyJ",
        "colab_type": "code",
        "colab": {
          "base_uri": "https://localhost:8080/",
          "height": 17
        },
        "outputId": "0c1939e6-d680-4550-cb47-70c47ac5e1aa"
      },
      "source": [
        "test.to_csv('test_features.csv', index=False)\n",
        "files.download('test_features.csv')"
      ],
      "execution_count": null,
      "outputs": [
        {
          "output_type": "display_data",
          "data": {
            "application/javascript": [
              "\n",
              "    async function download(id, filename, size) {\n",
              "      if (!google.colab.kernel.accessAllowed) {\n",
              "        return;\n",
              "      }\n",
              "      const div = document.createElement('div');\n",
              "      const label = document.createElement('label');\n",
              "      label.textContent = `Downloading \"${filename}\": `;\n",
              "      div.appendChild(label);\n",
              "      const progress = document.createElement('progress');\n",
              "      progress.max = size;\n",
              "      div.appendChild(progress);\n",
              "      document.body.appendChild(div);\n",
              "\n",
              "      const buffers = [];\n",
              "      let downloaded = 0;\n",
              "\n",
              "      const channel = await google.colab.kernel.comms.open(id);\n",
              "      // Send a message to notify the kernel that we're ready.\n",
              "      channel.send({})\n",
              "\n",
              "      for await (const message of channel.messages) {\n",
              "        // Send a message to notify the kernel that we're ready.\n",
              "        channel.send({})\n",
              "        if (message.buffers) {\n",
              "          for (const buffer of message.buffers) {\n",
              "            buffers.push(buffer);\n",
              "            downloaded += buffer.byteLength;\n",
              "            progress.value = downloaded;\n",
              "          }\n",
              "        }\n",
              "      }\n",
              "      const blob = new Blob(buffers, {type: 'application/binary'});\n",
              "      const a = document.createElement('a');\n",
              "      a.href = window.URL.createObjectURL(blob);\n",
              "      a.download = filename;\n",
              "      div.appendChild(a);\n",
              "      a.click();\n",
              "      div.remove();\n",
              "    }\n",
              "  "
            ],
            "text/plain": [
              "<IPython.core.display.Javascript object>"
            ]
          },
          "metadata": {
            "tags": []
          }
        },
        {
          "output_type": "display_data",
          "data": {
            "application/javascript": [
              "download(\"download_2862dbfb-7322-4209-a922-118b1a71c144\", \"test_features.csv\", 619648)"
            ],
            "text/plain": [
              "<IPython.core.display.Javascript object>"
            ]
          },
          "metadata": {
            "tags": []
          }
        }
      ]
    },
    {
      "cell_type": "code",
      "metadata": {
        "id": "gne5W1d_o2my",
        "colab_type": "code",
        "colab": {}
      },
      "source": [
        ""
      ],
      "execution_count": null,
      "outputs": []
    }
  ]
}
