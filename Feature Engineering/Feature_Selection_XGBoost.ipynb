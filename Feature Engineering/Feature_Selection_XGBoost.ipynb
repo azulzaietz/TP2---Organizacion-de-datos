{
  "nbformat": 4,
  "nbformat_minor": 0,
  "metadata": {
    "colab": {
      "name": "Feature Selection XGBoost.ipynb",
      "provenance": []
    },
    "kernelspec": {
      "name": "python3",
      "display_name": "Python 3"
    }
  },
  "cells": [
    {
      "cell_type": "code",
      "metadata": {
        "id": "Fd2WIoWrcUxe",
        "colab_type": "code",
        "colab": {}
      },
      "source": [
        "import pandas as pd\n",
        "import numpy as np\n",
        "from xgboost import XGBClassifier\n",
        "from sklearn import preprocessing\n",
        "\n",
        "from numpy import sort\n",
        "import xgboost as xgb\n",
        "from sklearn.model_selection import train_test_split\n",
        "from sklearn.metrics import accuracy_score\n",
        "from sklearn.feature_selection import SelectFromModel\n",
        "import matplotlib.pyplot as plt"
      ],
      "execution_count": 25,
      "outputs": []
    },
    {
      "cell_type": "code",
      "metadata": {
        "id": "MfOITTftYmwL",
        "colab_type": "code",
        "colab": {}
      },
      "source": [
        "from pydrive.auth import GoogleAuth\n",
        "from pydrive.drive import GoogleDrive\n",
        "from google.colab import auth\n",
        "from oauth2client.client import GoogleCredentials\n",
        "\n",
        "# Authenticate and create the PyDrive client\n",
        "auth.authenticate_user()\n",
        "gauth = GoogleAuth()\n",
        "gauth.credentials = GoogleCredentials.get_application_default()\n",
        "drive = GoogleDrive(gauth)\n",
        "\n",
        "id='1TmL2AY_yymiV8zXVvmbqXsIZoexR9sLs'\n",
        "downloaded = drive.CreateFile({'id': id})\n",
        "downloaded.GetContentFile('test_features.csv')\n",
        "\n",
        "id='1slJiG-M_oawvkzaqWzZkSmVxxZor6mKQ'\n",
        "downloaded = drive.CreateFile({'id': id})\n",
        "downloaded.GetContentFile('train_features.csv')\n",
        "\n",
        "train = pd.read_csv('train_features.csv')\n",
        "test = pd.read_csv('test_features.csv')"
      ],
      "execution_count": 6,
      "outputs": []
    },
    {
      "cell_type": "code",
      "metadata": {
        "id": "6y6n4dIha4j-",
        "colab_type": "code",
        "colab": {}
      },
      "source": [
        "X_train = train.copy()\n",
        "X_train = X_train.drop(['target', 'id', 'text'], axis=1)"
      ],
      "execution_count": null,
      "outputs": []
    },
    {
      "cell_type": "code",
      "metadata": {
        "id": "G9GFQKgBa6sk",
        "colab_type": "code",
        "colab": {}
      },
      "source": [
        "keyword = list(train['keyword'])\n",
        "le = preprocessing.LabelEncoder()\n",
        "keyword_codificada = le.fit_transform(keyword)\n",
        "X_train['keyword'] = keyword_codificada\n",
        "\n",
        "location = list(train['location'])\n",
        "le = preprocessing.LabelEncoder()\n",
        "location_codificada = le.fit_transform(location)\n",
        "X_train['location'] = location_codificada"
      ],
      "execution_count": null,
      "outputs": []
    },
    {
      "cell_type": "code",
      "metadata": {
        "id": "gJju6gl0anVR",
        "colab_type": "code",
        "colab": {
          "base_uri": "https://localhost:8080/",
          "height": 399
        },
        "outputId": "12b572e1-5402-4ab6-bb53-0d6796636abe"
      },
      "source": [
        "x_train, x_test, y_train, y_test = train_test_split(X_train, train.target, test_size=0.33, random_state=7)\n",
        "\n",
        "model = XGBClassifier()\n",
        "model.fit(x_train, y_train)\n",
        "y_pred = model.predict(x_test)\n",
        "predictions = [round(value) for value in y_pred]\n",
        "accuracy = accuracy_score(y_test, predictions)\n",
        "print(\"Accuracy: %.2f%%\" % (accuracy * 100.0))\n",
        "\n",
        "thresholds = sort(model.feature_importances_)\n",
        "for thresh in thresholds:\n",
        "\tselection = SelectFromModel(model, threshold=thresh, prefit=True)\n",
        "\tselect_X_train = selection.transform(x_train)\n",
        " \n",
        "\tselection_model = XGBClassifier()\n",
        "\tselection_model.fit(select_X_train, y_train)\n",
        "\t\n",
        "\tselect_X_test = selection.transform(x_test)\n",
        "\ty_pred = selection_model.predict(select_X_test)\n",
        "\tpredictions = [round(value) for value in y_pred]\n",
        "\taccuracy = accuracy_score(y_test, predictions)\n",
        "\tprint(\"Thresh=%.3f, n=%d, Accuracy: %.2f%%\" % (thresh, select_X_train.shape[1], accuracy*100.0))"
      ],
      "execution_count": 14,
      "outputs": [
        {
          "output_type": "stream",
          "text": [
            "Accuracy: 70.75%\n",
            "Thresh=0.006, n=21, Accuracy: 70.75%\n",
            "Thresh=0.011, n=20, Accuracy: 71.63%\n",
            "Thresh=0.016, n=19, Accuracy: 71.39%\n",
            "Thresh=0.018, n=18, Accuracy: 71.43%\n",
            "Thresh=0.023, n=17, Accuracy: 71.31%\n",
            "Thresh=0.027, n=16, Accuracy: 71.59%\n",
            "Thresh=0.028, n=15, Accuracy: 71.71%\n",
            "Thresh=0.031, n=14, Accuracy: 71.51%\n",
            "Thresh=0.033, n=13, Accuracy: 71.35%\n",
            "Thresh=0.034, n=12, Accuracy: 71.03%\n",
            "Thresh=0.038, n=11, Accuracy: 71.03%\n",
            "Thresh=0.038, n=10, Accuracy: 70.51%\n",
            "Thresh=0.040, n=9, Accuracy: 70.79%\n",
            "Thresh=0.043, n=8, Accuracy: 71.19%\n",
            "Thresh=0.045, n=7, Accuracy: 68.36%\n",
            "Thresh=0.046, n=6, Accuracy: 68.21%\n",
            "Thresh=0.048, n=5, Accuracy: 67.45%\n",
            "Thresh=0.058, n=4, Accuracy: 66.53%\n",
            "Thresh=0.084, n=3, Accuracy: 65.38%\n",
            "Thresh=0.098, n=2, Accuracy: 63.43%\n",
            "Thresh=0.234, n=1, Accuracy: 63.19%\n"
          ],
          "name": "stdout"
        }
      ]
    },
    {
      "cell_type": "code",
      "metadata": {
        "id": "bEWnyGJWf5Nc",
        "colab_type": "code",
        "colab": {
          "base_uri": "https://localhost:8080/",
          "height": 295
        },
        "outputId": "ea6a2afc-3074-42e8-d47f-182d170d7939"
      },
      "source": [
        "selection = SelectFromModel(model, threshold=0.040, prefit=True)\n",
        "selected_dataset = selection.transform(x_train)\n",
        "xgb.plot_importance(booster=model)\n",
        "plt.show()"
      ],
      "execution_count": 26,
      "outputs": [
        {
          "output_type": "display_data",
          "data": {
            "image/png": "[encoded data removed]",
            "text/plain": [
              "<Figure size 432x288 with 1 Axes>"
            ]
          },
          "metadata": {
            "tags": [],
            "needs_background": "light"
          }
        }
      ]
    },
    {
      "cell_type": "markdown",
      "metadata": {
        "id": "A_shoppGhFWn",
        "colab_type": "text"
      },
      "source": [
        "Elegimos: 'keyword', 'prom_long_palabra', 'cant_puntuacion', 'cant_apariciones_keyword', 'cant_minusculas', 'cant_vocales'"
      ]
    }
  ]
}