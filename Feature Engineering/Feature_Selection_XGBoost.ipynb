{
  "nbformat": 4,
  "nbformat_minor": 0,
  "metadata": {
    "colab": {
      "name": "Feature Selection XGBoost.ipynb",
      "provenance": []
    },
    "kernelspec": {
      "name": "python3",
      "display_name": "Python 3"
    }
  },
  "cells": [
    {
      "cell_type": "code",
      "metadata": {
        "id": "Fd2WIoWrcUxe",
        "colab_type": "code",
        "colab": {}
      },
      "source": [
        "import pandas as pd\n",
        "import numpy as np\n",
        "from xgboost import XGBClassifier\n",
        "from sklearn.feature_selection import SelectFromModel\n",
        "\n",
        "features_names = ['keyword', 'location', 'cant_palabras', 'palabras_unicas', 'cant_stop_words', 'cant_url', 'prom_long_palabra', 'cant_puntuacion', 'cant_hashtag', 'cant_mencion',\n",
        "'cant_signos_pregunta', 'cant_signos_exclamacion', 'subjetividad', 'cant_oraciones', 'cant_apariciones_keyword', 'cant_numeros', 'cant_minusculas', 'cant_mayusculas', 'cant_vocales', 'cant_consonant']\n",
        "\n",
        "train = pd.read_csv('train_features.csv')\n",
        "test = pd.read_csv('test_features.csv')\n",
        "\n",
        "X_train = train.copy()\n",
        "\n",
        "keyword = list(train['keyword'])\n",
        "le = preprocessing.LabelEncoder()\n",
        "keyword_codificada = le.fit_transform(keyword)\n",
        "X_train['keyword'] = keyword_codificada\n",
        "\n",
        "location = list(train['location'])\n",
        "le = preprocessing.LabelEncoder()\n",
        "location_codificada = le.fit_transform(location)\n",
        "X_train['location'] = location_codificada\n",
        "\n",
        "X_train = X_train.drop(['target', 'id', 'text'], axis=1)"
      ],
      "execution_count": 35,
      "outputs": []
    },
    {
      "cell_type": "code",
      "metadata": {
        "id": "XUodbOukc_S1",
        "colab_type": "code",
        "colab": {}
      },
      "source": [
        "model = XGBClassifier()\n",
        "model.fit(X_train, train.target)\n",
        "\n",
        "thresholds = model.feature_importances_\n",
        "for thresh in thresholds:\n",
        "\tselection = SelectFromModel(model, threshold=thresh, prefit=True)\n",
        "\tselect_X_train = selection.transform(X_train)"
      ],
      "execution_count": 36,
      "outputs": []
    },
    {
      "cell_type": "code",
      "metadata": {
        "id": "z37UDhcNiNPy",
        "colab_type": "code",
        "colab": {
          "base_uri": "https://localhost:8080/",
          "height": 372
        },
        "outputId": "83e837ed-54d0-4534-d417-754c6bf6e740"
      },
      "source": [
        "for features in zip(features_names, thresholds):\n",
        "  print(features)"
      ],
      "execution_count": 37,
      "outputs": [
        {
          "output_type": "stream",
          "text": [
            "('keyword', 0.04617176)\n",
            "('location', 0.02940135)\n",
            "('cant_palabras', 0.031083787)\n",
            "('palabras_unicas', 0.016288623)\n",
            "('cant_stop_words', 0.0017762581)\n",
            "('cant_url', 0.019211877)\n",
            "('prom_long_palabra', 0.23900564)\n",
            "('cant_puntuacion', 0.06783052)\n",
            "('cant_hashtag', 0.023148706)\n",
            "('cant_mencion', 0.015206396)\n",
            "('cant_signos_pregunta', 0.05404374)\n",
            "('cant_signos_exclamacion', 0.02217784)\n",
            "('subjetividad', 0.03980465)\n",
            "('cant_oraciones', 0.035365842)\n",
            "('cant_apariciones_keyword', 0.098420925)\n",
            "('cant_numeros', 0.033310015)\n",
            "('cant_minusculas', 0.057847843)\n",
            "('cant_mayusculas', 0.03490728)\n",
            "('cant_vocales', 0.048646104)\n",
            "('cant_consonant', 0.046943203)\n"
          ],
          "name": "stdout"
        }
      ]
    },
    {
      "cell_type": "markdown",
      "metadata": {
        "id": "KlIesCGrlebV",
        "colab_type": "text"
      },
      "source": [
        "Elegimos: 'keyword', 'prom_long_palabra', 'cant_puntuacion', 'cant_signos_pregunta', 'cant_apariciones_keyword', 'cant_minusculas', 'cant_vocales'\n",
        "\n"
      ]
    }
  ]
}
