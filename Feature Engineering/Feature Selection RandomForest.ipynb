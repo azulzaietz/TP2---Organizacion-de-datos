{
  "nbformat": 4,
  "nbformat_minor": 0,
  "metadata": {
    "colab": {
      "name": "Feature Selecting - RandomForest.ipynb",
      "provenance": [],
      "collapsed_sections": []
    },
    "kernelspec": {
      "name": "python3",
      "display_name": "Python 3"
    }
  },
  "cells": [
    {
      "cell_type": "code",
      "metadata": {
        "id": "UzrtTcSwjtHd",
        "colab_type": "code",
        "colab": {}
      },
      "source": [
        "import pandas as pd\n",
        "import numpy as np\n",
        "from sklearn.ensemble import RandomForestClassifier\n",
        "from sklearn.feature_selection import SelectFromModel"
      ],
      "execution_count": 1,
      "outputs": []
    },
    {
      "cell_type": "code",
      "metadata": {
        "id": "hwH2N0Icktxe",
        "colab_type": "code",
        "colab": {}
      },
      "source": [
        "train = pd.read_csv('train_features.csv')"
      ],
      "execution_count": 6,
      "outputs": []
    },
    {
      "cell_type": "code",
      "metadata": {
        "id": "zUP1CzK5jxSn",
        "colab_type": "code",
        "colab": {}
      },
      "source": [
        "features_names = ['keyword', 'location', 'cant_palabras', 'palabras_unicas', 'cant_stop_words', 'cant_url', 'prom_long_palabra', 'cant_puntuacion', 'cant_hashtag', 'cant_mencion',\n",
        "'cant_signos_pregunta', 'cant_signos_exclamacion', 'subjetividad', 'cant_oraciones', 'cant_apariciones_keyword', 'cant_numeros', 'cant_minusculas', 'cant_mayusculas', 'cant_vocales', 'cant_consonant']"
      ],
      "execution_count": 15,
      "outputs": []
    },
    {
      "cell_type": "code",
      "metadata": {
        "id": "0GPHxGLcj7dh",
        "colab_type": "code",
        "colab": {}
      },
      "source": [
        "keyword = list(train['keyword'])\n",
        "le = preprocessing.LabelEncoder()\n",
        "keyword_codificada = le.fit_transform(keyword)"
      ],
      "execution_count": 16,
      "outputs": []
    },
    {
      "cell_type": "code",
      "metadata": {
        "id": "ILtqbHnCj9b8",
        "colab_type": "code",
        "colab": {}
      },
      "source": [
        "location = list(train['location'])\n",
        "le = preprocessing.LabelEncoder()\n",
        "location_codificada = le.fit_transform(location)"
      ],
      "execution_count": 17,
      "outputs": []
    },
    {
      "cell_type": "code",
      "metadata": {
        "id": "lKItq5DCldc2",
        "colab_type": "code",
        "colab": {}
      },
      "source": [
        "cant_palabras = train['cant_palabras']\n",
        "palabras_unicas = train['palabras_unicas']\n",
        "cant_stop_words = train['cant_stop_words']\n",
        "cant_url = train['cant_url']\n",
        "prom_long_palabra = train['prom_long_palabra']\n",
        "cant_puntuacion = train['cant_puntuacion']\n",
        "cant_hashtag = train['cant_hashtag']\n",
        "cant_mencion = train['cant_mencion']\n",
        "cant_signos_pregunta = train['cant_signos_pregunta']\n",
        "cant_signos_exclamacion = train['cant_signos_exclamacion']\n",
        "subjetividad = train['subjetividad']\n",
        "cant_oraciones = train['cant_oraciones']\n",
        "cant_apariciones_keyword = train['cant_apariciones_keyword']\n",
        "cant_numeros = train['cant_numeros']\n",
        "cant_minusculas = train['cant_minusculas']\n",
        "cant_mayusculas = train['cant_mayusculas']\n",
        "cant_vocales = train['cant_vocales']\n",
        "cant_consonant = train['cant_consonant']"
      ],
      "execution_count": 18,
      "outputs": []
    },
    {
      "cell_type": "code",
      "metadata": {
        "id": "TpeGusTalhkt",
        "colab_type": "code",
        "colab": {}
      },
      "source": [
        "features = list(zip(keyword_codificada,location_codificada, cant_palabras,palabras_unicas,cant_stop_words,cant_url,prom_long_palabra,cant_puntuacion,cant_hashtag,cant_mencion,cant_signos_pregunta,cant_signos_exclamacion,subjetividad,cant_oraciones,cant_apariciones_keyword, cant_numeros, cant_minusculas, cant_mayusculas, cant_vocales, cant_consonant))"
      ],
      "execution_count": 19,
      "outputs": []
    },
    {
      "cell_type": "markdown",
      "metadata": {
        "id": "i6j42mhpn5jJ",
        "colab_type": "text"
      },
      "source": [
        "Creamos un modelo de Random forest para seleccionar los features mas relevantes de los encontrados."
      ]
    },
    {
      "cell_type": "code",
      "metadata": {
        "id": "MPL3ZIj2llMk",
        "colab_type": "code",
        "colab": {}
      },
      "source": [
        "RF_clf = RandomForestClassifier(n_estimators=10000,random_state=42,n_jobs=-1)"
      ],
      "execution_count": 20,
      "outputs": []
    },
    {
      "cell_type": "code",
      "metadata": {
        "id": "CueCCMLAloFO",
        "colab_type": "code",
        "colab": {
          "base_uri": "https://localhost:8080/",
          "height": 156
        },
        "outputId": "9c21eb9a-7c40-40f5-87ef-a3035469176e"
      },
      "source": [
        "RF_clf.fit(features, train.target)"
      ],
      "execution_count": 21,
      "outputs": [
        {
          "output_type": "execute_result",
          "data": {
            "text/plain": [
              "RandomForestClassifier(bootstrap=True, ccp_alpha=0.0, class_weight=None,\n",
              "                       criterion='gini', max_depth=None, max_features='auto',\n",
              "                       max_leaf_nodes=None, max_samples=None,\n",
              "                       min_impurity_decrease=0.0, min_impurity_split=None,\n",
              "                       min_samples_leaf=1, min_samples_split=2,\n",
              "                       min_weight_fraction_leaf=0.0, n_estimators=10000,\n",
              "                       n_jobs=-1, oob_score=False, random_state=42, verbose=0,\n",
              "                       warm_start=False)"
            ]
          },
          "metadata": {
            "tags": []
          },
          "execution_count": 21
        }
      ]
    },
    {
      "cell_type": "markdown",
      "metadata": {
        "id": "-z8-wXuQn9un",
        "colab_type": "text"
      },
      "source": [
        "Observamos los grados de importancia de cada feature dado por Random Forest"
      ]
    },
    {
      "cell_type": "code",
      "metadata": {
        "id": "klUl1HpilrZ5",
        "colab_type": "code",
        "colab": {
          "base_uri": "https://localhost:8080/",
          "height": 364
        },
        "outputId": "415ab673-55be-4623-f936-5d6abf097a1d"
      },
      "source": [
        "for features in zip(features_names, RF_clf.feature_importances_):\n",
        "  print(features)"
      ],
      "execution_count": 22,
      "outputs": [
        {
          "output_type": "stream",
          "text": [
            "('keyword', 0.09703142771173821)\n",
            "('location', 0.023709232180226553)\n",
            "('cant_palabras', 0.04317175117186687)\n",
            "('palabras_unicas', 0.04300456214365635)\n",
            "('cant_stop_words', 0.04929810547929478)\n",
            "('cant_url', 0.026920675784403627)\n",
            "('prom_long_palabra', 0.10111285076206843)\n",
            "('cant_puntuacion', 0.05604069068414528)\n",
            "('cant_hashtag', 0.019834174648507088)\n",
            "('cant_mencion', 0.023028162654466423)\n",
            "('cant_signos_pregunta', 0.013816524395499226)\n",
            "('cant_signos_exclamacion', 0.013458275644653217)\n",
            "('subjetividad', 0.053988764217504745)\n",
            "('cant_oraciones', 0.02527412973906704)\n",
            "('cant_apariciones_keyword', 0.06723528557167738)\n",
            "('cant_numeros', 0.053091944263044505)\n",
            "('cant_minusculas', 0.07790711809759898)\n",
            "('cant_mayusculas', 0.06961924278839665)\n",
            "('cant_vocales', 0.0685006861693321)\n",
            "('cant_consonant', 0.07395639589285267)\n"
          ],
          "name": "stdout"
        }
      ]
    },
    {
      "cell_type": "markdown",
      "metadata": {
        "id": "ApujOmQsp6jB",
        "colab_type": "text"
      },
      "source": [
        "Elegimos: keyword, cant_stop_words, prom_long_palabra, cant_puntuacion, subjetividad, cant_apariciones_keyword, cant_numeros, cant_minusculas, cant_mayusculas, cant_vocales, cant_consonant"
      ]
    },
    {
      "cell_type": "code",
      "metadata": {
        "id": "L4G9rjC8qcEq",
        "colab_type": "code",
        "colab": {}
      },
      "source": [
        ""
      ],
      "execution_count": null,
      "outputs": []
    }
  ]
}
